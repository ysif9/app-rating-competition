{
 "cells": [
  {
   "metadata": {},
   "cell_type": "markdown",
   "source": [
    "# App Rating\n",
    "* Important note:\n",
    "* Any transformation we do should be contained in a function so we can reuse it later"
   ],
   "id": "4c37948e7ff5c080"
  },
  {
   "metadata": {},
   "cell_type": "markdown",
   "source": "## Download data from kaggle",
   "id": "999f4805d51e0973"
  },
  {
   "metadata": {},
   "cell_type": "code",
   "outputs": [],
   "execution_count": null,
   "source": [
    "import pandas as pd\n",
    "\n",
    "train_df = pd.read_csv(\"app-rating-competition/train.csv\")\n",
    "test_df = pd.read_csv(\"app-rating-competition/test.csv\")\n",
    "sample_submission_df = pd.read_csv(\"app-rating-competition/SampleSubmission.csv\")"
   ],
   "id": "ed88247801a4338f"
  },
  {
   "metadata": {},
   "cell_type": "markdown",
   "source": "## Data Exploration",
   "id": "cff1789c773ef59a"
  },
  {
   "metadata": {},
   "cell_type": "code",
   "outputs": [],
   "execution_count": null,
   "source": "train_df.head()",
   "id": "54f2320b45843c94"
  },
  {
   "metadata": {},
   "cell_type": "code",
   "outputs": [],
   "execution_count": null,
   "source": "train_df",
   "id": "a4fe56f119486ba1"
  },
  {
   "metadata": {},
   "cell_type": "markdown",
   "source": [
    "### Column Observation\n",
    "* X0 → App Name (Names)\n",
    "    * Has duplicates\n",
    "* X1 → App Category (Categorical)\n",
    "    * Most frequent is FAMILY (1605)\n",
    "    * 34 distinct categories\n",
    "* X2 → Size in bytes probably (Numerical)\n",
    "    * Could be used for weighted rating or normalization\n",
    "* X3 → Downloads in millions (Numerical)\n",
    "    * Has 1359 entries \"Varies with device\"\n",
    "    * We might have to edit this with the app name duplicates\n",
    "* X4 → Number of reviews (Categorical)\n",
    "* X5 → Free/Paid (Categorical)\n",
    "    * Has one null we should explore before handling\n",
    "* X6 → Price if paid (Numerical)\n",
    "    * Check for any free with price or any paid with 0\n",
    "* X7 → Age Rating (Categorical)\n",
    "    * 6 categories\n",
    "    * Has a null value we should check before handling\n",
    "    * Top is Everyone (7222)\n",
    "* X8 → App Tags (Categorical) (Should be enhanced)\n",
    "    * Most frequent is Tools (705)\n",
    "* X9 → Release Date (Will be heavily feature extracted)\n",
    "    * Month/Day/Year\n",
    "    * Maybe convert to days (released on weekend etc.)\n",
    "    * Could find if released on specific holidays (Christmas, etc.)\n",
    "* X10 → App Version (I think) (Numerical or Categorical)\n",
    "    * 7 null values\n",
    "    * Top is \"Varies with device\" 1173\n",
    "* X11 → Compatible OS version (I think) (Categorical)\n",
    "    * 3 Null values\n",
    "    * Top is \"4.1 and up\" (2072)\n",
    "* Y → App Rating\n",
    "    * 1474 Null values (should be cleaned)\n",
    "    * Has outliers heavily"
   ],
   "id": "de764b7b313f4de5"
  },
  {
   "metadata": {},
   "cell_type": "markdown",
   "source": "### Rename Columns",
   "id": "8f72ebf172516009"
  },
  {
   "metadata": {},
   "cell_type": "code",
   "outputs": [],
   "execution_count": null,
   "source": [
    "def rename_columns(dataframe):\n",
    "    reformated_df = dataframe.rename(\n",
    "        columns={\"X0\": \"app_name\", \"X1\": \"app_category\", \"X2\": \"size_unknown_unit\", \"X3\": \"downloads_unstandardized\",\n",
    "                 \"X4\": \"reviews_count\", \"X5\": \"free_paid\", \"X6\": \"price_if_paid\", \"X7\": \"age_rating\",\n",
    "                 \"X8\": \"app_tags\", \"X9\": \"release_date\", \"X10\": \"app_version\",\n",
    "                 \"X11\": \"compatible_os_version\"})\n",
    "    return reformated_df"
   ],
   "id": "2929a17932ce83e6"
  },
  {
   "metadata": {},
   "cell_type": "code",
   "outputs": [],
   "execution_count": null,
   "source": [
    "train_df1 = rename_columns(train_df)\n",
    "train_df1"
   ],
   "id": "2181bf360a887d94"
  },
  {
   "metadata": {},
   "cell_type": "code",
   "outputs": [],
   "execution_count": null,
   "source": "train_df_copy = train_df1.copy()",
   "id": "7f668ae74c2b85b9"
  },
  {
   "metadata": {},
   "cell_type": "markdown",
   "source": "### Explore Null Values",
   "id": "d75773105c8c4c59"
  },
  {
   "metadata": {},
   "cell_type": "markdown",
   "source": "#### Free/Paid nulls",
   "id": "a6157dbb69a1f01d"
  },
  {
   "metadata": {},
   "cell_type": "code",
   "outputs": [],
   "execution_count": null,
   "source": "train_df_copy[train_df_copy.free_paid.isnull()]",
   "id": "e61dc2a4249871c0"
  },
  {
   "metadata": {},
   "cell_type": "markdown",
   "source": [
    "* This has size 0, non-specific downloads, zero reviews, and null Y, so it sounds safe to drop\n",
    "* Out of curiosity let's check if any other apps exist with the same name"
   ],
   "id": "3fd4e610c3b87386"
  },
  {
   "metadata": {},
   "cell_type": "code",
   "outputs": [],
   "execution_count": null,
   "source": "train_df_copy[train_df_copy['app_name'].str.contains(\"conquer\", case=False, na=False)]",
   "id": "dba9d727e6003b1"
  },
  {
   "metadata": {},
   "cell_type": "markdown",
   "source": "* So we will drop this",
   "id": "11959668d039494b"
  },
  {
   "metadata": {},
   "cell_type": "code",
   "outputs": [],
   "execution_count": null,
   "source": "train_df_copy.dropna(subset=['free_paid'], inplace=True)  # drops column 7533",
   "id": "d08dede4cd90d3a5"
  },
  {
   "metadata": {},
   "cell_type": "markdown",
   "source": "#### Age Rating Nulls",
   "id": "e7e2f4769ee5feae"
  },
  {
   "metadata": {},
   "cell_type": "code",
   "outputs": [],
   "execution_count": null,
   "source": "train_df_copy[train_df_copy.age_rating.isnull()]",
   "id": "3658e29ec40dbf61"
  },
  {
   "metadata": {},
   "cell_type": "markdown",
   "source": [
    "* It looks like this is perfectly ok, but the values of columns are switched around\n",
    "* We can check for all distinct values from now to find any similar cases"
   ],
   "id": "bec415b0ac6046c6"
  },
  {
   "metadata": {},
   "cell_type": "code",
   "outputs": [],
   "execution_count": null,
   "source": "train_df_copy.loc[8653]",
   "id": "1bc21d34178b77f"
  },
  {
   "metadata": {},
   "cell_type": "markdown",
   "source": [
    "##### Real Values\n",
    "* app_category: compatible_os_version\n",
    "* size_bytes: Y\n",
    "* downloads_millions: size_bytes\n",
    "* reviews_count: downloads_millions\n",
    "* free_paid: reviews_count\n",
    "* price_if_paid: free_paid\n",
    "* age_rating: price_if_paid\n",
    "* app_tags: age_rating\n",
    "* release_date: app_tags\n",
    "* app_version: release_date\n",
    "* compatible_os_version: app_version\n",
    "* Y: app_category"
   ],
   "id": "492e80d94da4c334"
  },
  {
   "metadata": {},
   "cell_type": "code",
   "outputs": [],
   "execution_count": null,
   "source": [
    "swap_pairs = [\n",
    "    (\"app_category\", \"compatible_os_version\"),\n",
    "    (\"size_bytes\", \"Y\"),\n",
    "    (\"downloads_millions\", \"size_bytes\"),\n",
    "    (\"reviews_count\", \"downloads_millions\"),\n",
    "    (\"free_paid\", \"reviews_count\"),\n",
    "    (\"price_if_paid\", \"free_paid\"),\n",
    "    (\"age_rating\", \"price_if_paid\"),\n",
    "    (\"app_tags\", \"age_rating\"),\n",
    "    (\"release_date\", \"app_tags\"),\n",
    "    (\"app_version\", \"release_date\"),\n",
    "    (\"compatible_os_version\", \"app_version\"),\n",
    "    (\"Y\", \"app_category\"),\n",
    "]\n",
    "\n",
    "# First read all col2 values\n",
    "values_to_copy = {\n",
    "    col1: train_df_copy.at[8653, col2]\n",
    "    for col1, col2 in swap_pairs\n",
    "}\n",
    "\n",
    "# Then write them all at once\n",
    "for col1, value in values_to_copy.items():\n",
    "    train_df_copy.at[8653, col1] = value\n",
    "\n"
   ],
   "id": "11418b7ba6645548"
  },
  {
   "metadata": {},
   "cell_type": "code",
   "outputs": [],
   "execution_count": null,
   "source": "train_df_copy.loc[8653]",
   "id": "7a461171d925ea8b"
  },
  {
   "metadata": {},
   "cell_type": "markdown",
   "source": [
    "* The row is still not fully clean\n",
    "* Also I'm not sure 19.0 is possible in size as other sizes aren't in float\n",
    "* And not sure rating is real\n",
    "* Category and tags are null but they can be easily found online\n",
    "* We will drop this for now but save it"
   ],
   "id": "8d537fdf6b391a01"
  },
  {
   "metadata": {},
   "cell_type": "code",
   "outputs": [],
   "execution_count": null,
   "source": [
    "dropped_row_8653 = train_df_copy.loc[[8653]]\n",
    "\n",
    "train_df_copy.drop(8653, inplace=True)\n",
    "dropped_row_8653"
   ],
   "id": "807b0497e128fde"
  },
  {
   "metadata": {},
   "cell_type": "markdown",
   "source": "#### App Version Nulls",
   "id": "97ba18715d66b13c"
  },
  {
   "metadata": {},
   "cell_type": "code",
   "outputs": [],
   "execution_count": null,
   "source": "train_df_copy[train_df_copy.app_version.isnull()]",
   "id": "c7af3487d4f964be"
  },
  {
   "metadata": {},
   "cell_type": "markdown",
   "source": [
    "* Turns out downloads are not only in millions, so let's edit the name, and we will solve this later\n",
    "* I don't know what the size is in; it wouldn't make sense for it to be bytes, so let's check later\n",
    "* Also notice the last four rows have null ratings as well\n",
    "* But the rest have valid columns, so we could drop the last 4 for now and come up with app_version values for the rest"
   ],
   "id": "239a60c4e3def9df"
  },
  {
   "metadata": {},
   "cell_type": "code",
   "outputs": [],
   "execution_count": null,
   "source": [
    "dropped_rows_null_version_rating = train_df_copy[\n",
    "    train_df_copy[['app_version', 'Y']].isnull().all(axis=1)\n",
    "]\n",
    "dropped_rows_null_version_rating"
   ],
   "id": "d939e7d0cf039191"
  },
  {
   "metadata": {},
   "cell_type": "code",
   "outputs": [],
   "execution_count": null,
   "source": [
    "train_df_copy.drop(dropped_rows_null_version_rating.index, inplace=True)\n",
    "train_df_copy[train_df_copy.app_version.isnull()]"
   ],
   "id": "9b92d842f35b5ec8"
  },
  {
   "metadata": {},
   "cell_type": "markdown",
   "source": "* Now rename columns as stated",
   "id": "df713607909b1c0f"
  },
  {
   "metadata": {},
   "cell_type": "code",
   "outputs": [],
   "execution_count": null,
   "source": [
    "train_df_copy.rename(columns={\n",
    "    'size_bytes': 'size_unknown_unit',\n",
    "    'downloads_millions': 'downloads_unstandardized'\n",
    "}, inplace=True)\n",
    "train_df_copy.head()\n"
   ],
   "id": "ee561e250281d25c"
  },
  {
   "metadata": {},
   "cell_type": "markdown",
   "source": "#### Compatible OS Nulls",
   "id": "adac8ea285ce1974"
  },
  {
   "metadata": {},
   "cell_type": "code",
   "outputs": [],
   "execution_count": null,
   "source": "train_df_copy[train_df_copy.compatible_os_version.isnull()]",
   "id": "4d4de2160c8a37bf"
  },
  {
   "metadata": {},
   "cell_type": "markdown",
   "source": [
    "* substratum is a theme engine for android to allow users to set themes to their phone\n",
    "* Pi Dark is 2MB in the play store, so the unit we have still doesn't make sense\n",
    "* I'm not sure if we should drop these, so we'll leave them for now\n",
    "* Let's look at any other substratum"
   ],
   "id": "46d38abb6e5bf252"
  },
  {
   "metadata": {},
   "cell_type": "code",
   "outputs": [],
   "execution_count": null,
   "source": "train_df_copy[train_df_copy['app_name'].str.contains(\"substratum\", case=False, na=False)]",
   "id": "b6150dab63850f58"
  },
  {
   "metadata": {},
   "cell_type": "markdown",
   "source": [
    "* All substratum themes have almost the same compatible_os_version as either 6.0 and up or 7.0 and up\n",
    "* So we can fill our null values using this\n",
    "* I will set both as 7.0 and up since it is most common"
   ],
   "id": "893484fbd44d9e38"
  },
  {
   "metadata": {},
   "cell_type": "code",
   "outputs": [],
   "execution_count": null,
   "source": [
    "train_df_copy.fillna(value={\"compatible_os_version\": \"7.0 and up\"}, inplace=True)\n",
    "train_df_copy[train_df_copy['app_name'].str.contains(\"substratum\", case=False, na=False)]"
   ],
   "id": "3759581d05784767"
  },
  {
   "metadata": {},
   "cell_type": "markdown",
   "source": "#### App Rating nulls",
   "id": "288df77cf3a576c7"
  },
  {
   "metadata": {},
   "cell_type": "code",
   "outputs": [],
   "execution_count": null,
   "source": "train_df_copy[train_df_copy.Y.isnull()]",
   "id": "8d78161a60a8b29c"
  },
  {
   "metadata": {},
   "cell_type": "code",
   "outputs": [],
   "execution_count": null,
   "source": "train_df_copy.Y.isnull().sum()",
   "id": "9dc4b5c5ace11683"
  },
  {
   "metadata": {},
   "cell_type": "markdown",
   "source": "* We have 1469 nulls which is too much to handle, so we can return to this later after more cleaning",
   "id": "a9df525781240df3"
  },
  {
   "metadata": {},
   "cell_type": "markdown",
   "source": [
    "### Explore Data Types\n",
    "* Data types for a column should be consistent, so we should look for inconsistent rows and clean them"
   ],
   "id": "2b636ca9d5aa2ff5"
  },
  {
   "metadata": {},
   "cell_type": "code",
   "outputs": [],
   "execution_count": null,
   "source": "train_df_copy.dtypes",
   "id": "2c1a49c69e96b1b5"
  },
  {
   "metadata": {},
   "cell_type": "markdown",
   "source": "* Let's check for individual columns types as well as all unique values where possible",
   "id": "cd51b581502e7232"
  },
  {
   "metadata": {},
   "cell_type": "markdown",
   "source": "#### App Name",
   "id": "6abcc413123722ac"
  },
  {
   "metadata": {},
   "cell_type": "code",
   "outputs": [],
   "execution_count": null,
   "source": "train_df_copy['app_name'].map(type).value_counts()\n",
   "id": "a351fa35a8ccc29a"
  },
  {
   "metadata": {},
   "cell_type": "code",
   "outputs": [],
   "execution_count": null,
   "source": "train_df_copy['app_name'].value_counts()",
   "id": "24aa481c096e5b30"
  },
  {
   "metadata": {},
   "cell_type": "markdown",
   "source": "* Duplicated Names could cause a problem, we'll check later",
   "id": "eec0b8f6d1855500"
  },
  {
   "metadata": {},
   "cell_type": "markdown",
   "source": "#### App Category",
   "id": "678388df84af9229"
  },
  {
   "metadata": {},
   "cell_type": "code",
   "outputs": [],
   "execution_count": null,
   "source": "train_df_copy['app_category'].map(type).value_counts()",
   "id": "bf78a1bfb01ac230"
  },
  {
   "metadata": {},
   "cell_type": "code",
   "outputs": [],
   "execution_count": null,
   "source": "train_df_copy['app_category'].value_counts()",
   "id": "e4cc23582d60ded4"
  },
  {
   "metadata": {},
   "cell_type": "markdown",
   "source": "#### Size",
   "id": "b394e36aed343178"
  },
  {
   "metadata": {},
   "cell_type": "code",
   "outputs": [],
   "execution_count": null,
   "source": "train_df_copy['size_unknown_unit'].map(type).value_counts()",
   "id": "76cf7e57a0e978ea"
  },
  {
   "metadata": {},
   "cell_type": "code",
   "outputs": [],
   "execution_count": null,
   "source": "train_df_copy['size_unknown_unit'].value_counts()",
   "id": "b2a35852b4230909"
  },
  {
   "metadata": {},
   "cell_type": "markdown",
   "source": [
    "* Apps with size 0 could cause a problem, so check later\n",
    "* Also, size shouldn't be string unless we turn it categorical (<100, <10, etc.)"
   ],
   "id": "3f86bad38a63d24c"
  },
  {
   "metadata": {},
   "cell_type": "markdown",
   "source": "#### Downloads",
   "id": "9637dae11fb1bca2"
  },
  {
   "metadata": {},
   "cell_type": "code",
   "outputs": [],
   "execution_count": null,
   "source": "train_df_copy['downloads_unstandardized'].map(type).value_counts()",
   "id": "3f870bd80cea5d77"
  },
  {
   "metadata": {},
   "cell_type": "code",
   "outputs": [],
   "execution_count": null,
   "source": "train_df_copy['downloads_unstandardized'].value_counts()",
   "id": "56c9b6940380f157"
  },
  {
   "metadata": {},
   "cell_type": "markdown",
   "source": [
    "* Varies with device could cause a problem, but we should turn this numerical.\n",
    "* We only have numbers in millions (M) and thousands (K), so we should standardize"
   ],
   "id": "4b58b7462c71d276"
  },
  {
   "metadata": {},
   "cell_type": "markdown",
   "source": "#### Reviews Number",
   "id": "5d8999a721ec62c3"
  },
  {
   "metadata": {},
   "cell_type": "code",
   "outputs": [],
   "execution_count": null,
   "source": "train_df_copy['reviews_count'].map(type).value_counts()",
   "id": "5d2c74b475bb2d05"
  },
  {
   "metadata": {},
   "cell_type": "code",
   "outputs": [],
   "execution_count": null,
   "source": "train_df_copy['reviews_count'].value_counts()",
   "id": "9d22246fa7d836dc"
  },
  {
   "metadata": {},
   "cell_type": "markdown",
   "source": "* Looks fine but we should try it as categorical and numerical",
   "id": "b97e3cf80e7df450"
  },
  {
   "metadata": {},
   "cell_type": "markdown",
   "source": "#### Free/Paid",
   "id": "a945a4cb840bb439"
  },
  {
   "metadata": {},
   "cell_type": "code",
   "outputs": [],
   "execution_count": null,
   "source": "train_df_copy['free_paid'].map(type).value_counts()",
   "id": "66f24a2177061d88"
  },
  {
   "metadata": {},
   "cell_type": "code",
   "outputs": [],
   "execution_count": null,
   "source": "train_df_copy['free_paid'].value_counts()",
   "id": "3fce703cfcac1c46"
  },
  {
   "metadata": {},
   "cell_type": "markdown",
   "source": [
    "* Looks fine and will be categorical\n",
    "* Let's look at any incorrect mappings (free but has price, paid but price 0"
   ],
   "id": "cc8d65425c672e80"
  },
  {
   "metadata": {},
   "cell_type": "markdown",
   "source": "#### Price if paid",
   "id": "6352ea1a495ee622"
  },
  {
   "metadata": {},
   "cell_type": "code",
   "outputs": [],
   "execution_count": null,
   "source": "train_df_copy['price_if_paid'].map(type).value_counts()",
   "id": "89b30e3bdf9faf10"
  },
  {
   "metadata": {},
   "cell_type": "code",
   "outputs": [],
   "execution_count": null,
   "source": "train_df_copy['price_if_paid'].value_counts()",
   "id": "856cba5be2ded40c"
  },
  {
   "metadata": {},
   "cell_type": "code",
   "outputs": [],
   "execution_count": null,
   "source": [
    "inconsistent_price_rows = train_df_copy[\n",
    "    ((train_df_copy['free_paid'] == \"Free\") & (train_df_copy['price_if_paid'] != \"0\")) |\n",
    "    ((train_df_copy['free_paid'] == \"Paid\") & (\n",
    "            (train_df_copy['price_if_paid'] == \"0\") | (train_df_copy['price_if_paid'].isnull())))\n",
    "    ]\n",
    "inconsistent_price_rows"
   ],
   "id": "ef61ccd54f080a61"
  },
  {
   "metadata": {},
   "cell_type": "markdown",
   "source": [
    "* Looks fine, we should remove the dollar sign to make it numerical\n",
    "* Maybe try price tiers categories\n",
    "* We also have no inconsistent prices"
   ],
   "id": "832bde2a4c619e30"
  },
  {
   "metadata": {},
   "cell_type": "markdown",
   "source": "#### Age Rating",
   "id": "e2e126f4dec061e"
  },
  {
   "metadata": {},
   "cell_type": "code",
   "outputs": [],
   "execution_count": null,
   "source": "train_df_copy['age_rating'].map(type).value_counts()",
   "id": "abd8e13414e71311"
  },
  {
   "metadata": {},
   "cell_type": "code",
   "outputs": [],
   "execution_count": null,
   "source": "train_df_copy['age_rating'].value_counts()",
   "id": "6bef7fe690951d84"
  },
  {
   "metadata": {},
   "cell_type": "markdown",
   "source": "* Looks fine maybe clean up the string",
   "id": "1516f3f0f96685a2"
  },
  {
   "metadata": {},
   "cell_type": "markdown",
   "source": "#### App Tags",
   "id": "3b7772d515c7043"
  },
  {
   "metadata": {},
   "cell_type": "code",
   "outputs": [],
   "execution_count": null,
   "source": "train_df_copy['app_tags'].map(type).value_counts()",
   "id": "cd9a21d298e7ad88"
  },
  {
   "metadata": {},
   "cell_type": "code",
   "outputs": [],
   "execution_count": null,
   "source": "train_df_copy['app_tags'].value_counts()",
   "id": "830a72fd76c2eb55"
  },
  {
   "metadata": {},
   "cell_type": "markdown",
   "source": "* This is currently too much and will need cleaning",
   "id": "b29fa26f5ef73055"
  },
  {
   "metadata": {},
   "cell_type": "markdown",
   "source": "#### Release Date",
   "id": "490352389f9f51c8"
  },
  {
   "metadata": {},
   "cell_type": "code",
   "outputs": [],
   "execution_count": null,
   "source": "train_df_copy['release_date'].map(type).value_counts()",
   "id": "b9900a74230e26a3"
  },
  {
   "metadata": {},
   "cell_type": "code",
   "outputs": [],
   "execution_count": null,
   "source": "train_df_copy['release_date'].value_counts()",
   "id": "785792c9e1b87f93"
  },
  {
   "metadata": {},
   "cell_type": "code",
   "outputs": [],
   "execution_count": null,
   "source": [
    "expected_format = \"%B %d, %Y\"\n",
    "\n",
    "invalid_dates = pd.to_datetime(\n",
    "    train_df_copy['release_date'],\n",
    "    format=expected_format,\n",
    "    errors='coerce'  # Converts invalid formats to NaT (null)\n",
    ").isna()\n",
    "\n",
    "invalid_date_rows = train_df_copy[invalid_dates]\n",
    "invalid_date_rows"
   ],
   "id": "3d7c1f8c43a178da"
  },
  {
   "metadata": {},
   "cell_type": "markdown",
   "source": [
    "* All date rows are consistent in format\n",
    "* However, this current release date will not help and will need to be extracted to more useful features"
   ],
   "id": "16ef3da3563cd1a6"
  },
  {
   "metadata": {},
   "cell_type": "markdown",
   "source": "#### App Version",
   "id": "6dd23764055c841a"
  },
  {
   "metadata": {},
   "cell_type": "code",
   "outputs": [],
   "execution_count": null,
   "source": "train_df_copy['app_version'].map(type).value_counts()",
   "id": "bd3460dfb3e0ee42"
  },
  {
   "metadata": {},
   "cell_type": "code",
   "outputs": [],
   "execution_count": null,
   "source": "train_df_copy['app_version'].value_counts()",
   "id": "da36da0c5d0298f7"
  },
  {
   "metadata": {},
   "cell_type": "markdown",
   "source": [
    "* Again varies with device is causing a problem here\n",
    "* And we want to standardize the type here"
   ],
   "id": "777c24fdbe22c127"
  },
  {
   "metadata": {},
   "cell_type": "code",
   "outputs": [],
   "execution_count": null,
   "source": "train_df_copy[train_df_copy['app_version'].map(type) == float]",
   "id": "21c01df5cdfb5ebd"
  },
  {
   "metadata": {},
   "cell_type": "code",
   "outputs": [],
   "execution_count": null,
   "source": [
    "dropped_rows_null_version = train_df_copy[\n",
    "    train_df_copy[['app_version']].isnull().all(axis=1)\n",
    "]\n",
    "dropped_rows_null_version"
   ],
   "id": "1ad8a495f2ff4029"
  },
  {
   "metadata": {},
   "cell_type": "code",
   "outputs": [],
   "execution_count": null,
   "source": "train_df_copy.dropna(subset=['app_version'], inplace=True)",
   "id": "56778ab34bbe1ef5"
  },
  {
   "metadata": {},
   "cell_type": "markdown",
   "source": "* We'll drop these rows for now",
   "id": "917e01beb90c65de"
  },
  {
   "metadata": {},
   "cell_type": "markdown",
   "source": "#### Compatible OS",
   "id": "bfdb8da931467b00"
  },
  {
   "metadata": {},
   "cell_type": "code",
   "outputs": [],
   "execution_count": null,
   "source": "train_df_copy['compatible_os_version'].map(type).value_counts()",
   "id": "c246dda7360d6d30"
  },
  {
   "metadata": {},
   "cell_type": "code",
   "outputs": [],
   "execution_count": null,
   "source": "train_df_copy['compatible_os_version'].value_counts()",
   "id": "f1a4eece251a5101"
  },
  {
   "metadata": {},
   "cell_type": "markdown",
   "source": [
    "* Again varies with device\n",
    "* Also some fields have \"5.0 and up\" format and others have \"5.0 - 7.1.1\" format, we should explore these formats"
   ],
   "id": "b3a63b0a66f148f2"
  },
  {
   "metadata": {},
   "cell_type": "markdown",
   "source": "#### App Rating",
   "id": "916328fc04c1e7f2"
  },
  {
   "metadata": {},
   "cell_type": "code",
   "outputs": [],
   "execution_count": null,
   "source": "train_df_copy['Y'].map(type).value_counts()",
   "id": "42c7cc06c7e9ea7"
  },
  {
   "metadata": {},
   "cell_type": "code",
   "outputs": [],
   "execution_count": null,
   "source": "train_df_copy['Y'].value_counts()",
   "id": "625dd06c5e14a80f"
  },
  {
   "metadata": {},
   "cell_type": "markdown",
   "source": "### Handling Duplicates",
   "id": "f7477603d7059d5a"
  },
  {
   "metadata": {},
   "cell_type": "markdown",
   "source": "#### Duplicate Names",
   "id": "1b6c7ed2f3705e27"
  },
  {
   "metadata": {},
   "cell_type": "code",
   "outputs": [],
   "execution_count": null,
   "source": "train_df_copy['app_name'].value_counts()",
   "id": "39f841dc128fd8fd"
  },
  {
   "metadata": {},
   "cell_type": "code",
   "outputs": [],
   "execution_count": null,
   "source": [
    "roblox_rows = train_df_copy[train_df_copy['app_name'] == \"ROBLOX\"]\n",
    "roblox_rows"
   ],
   "id": "5e96bff827f4676f"
  },
  {
   "metadata": {},
   "cell_type": "markdown",
   "source": [
    "* These are duplicates, we will turn them to 1 and use the GAME tag as its the median\n",
    "* We will get the mean size as it's different"
   ],
   "id": "af6dfbd0c98c3ebb"
  },
  {
   "metadata": {},
   "cell_type": "code",
   "outputs": [],
   "execution_count": null,
   "source": [
    "app_category_median = roblox_rows['app_category'].mode()[0]\n",
    "\n",
    "app_category_median"
   ],
   "id": "e3595bc2dfc16c00"
  },
  {
   "metadata": {},
   "cell_type": "code",
   "outputs": [],
   "execution_count": null,
   "source": [
    "size_mean = pd.to_numeric(roblox_rows['size_unknown_unit'], errors='coerce').mean()\n",
    "\n",
    "size_mean"
   ],
   "id": "d1d9f208cd9b1db6"
  },
  {
   "metadata": {},
   "cell_type": "code",
   "outputs": [],
   "execution_count": null,
   "source": [
    "def drop_duplicates_specific_value(dataframe, column_name, value_name):\n",
    "    is_column = dataframe[column_name] == value_name\n",
    "    column_deduped = dataframe[is_column].drop_duplicates(subset=column_name, keep='first')\n",
    "\n",
    "    non_column = dataframe[~is_column]\n",
    "\n",
    "    return pd.concat([non_column, column_deduped], ignore_index=True)\n"
   ],
   "id": "fe5079b2f873e4e7"
  },
  {
   "metadata": {},
   "cell_type": "code",
   "outputs": [],
   "execution_count": null,
   "source": [
    "train_df_copy = drop_duplicates_specific_value(train_df_copy, 'app_name', 'ROBLOX')\n",
    "train_df_copy[train_df_copy['app_name'] == \"ROBLOX\"]"
   ],
   "id": "5e0af4d08e2028f4"
  },
  {
   "metadata": {},
   "cell_type": "code",
   "outputs": [],
   "execution_count": null,
   "source": [
    "import math\n",
    "\n",
    "roblox_size_floored_str = str(math.floor(size_mean))\n",
    "roblox_size_floored_str"
   ],
   "id": "b3be8caa9fb5a0ce"
  },
  {
   "metadata": {},
   "cell_type": "code",
   "outputs": [],
   "execution_count": null,
   "source": [
    "train_df_copy.loc[train_df_copy['app_name'] == \"ROBLOX\", 'size_unknown_unit'] = roblox_size_floored_str\n",
    "train_df_copy[train_df_copy['app_name'] == \"ROBLOX\"]"
   ],
   "id": "ff2b798fac492447"
  },
  {
   "metadata": {},
   "cell_type": "markdown",
   "source": "* Let's now handle other duplicates",
   "id": "b92414752ef98232"
  },
  {
   "metadata": {},
   "cell_type": "code",
   "outputs": [],
   "execution_count": null,
   "source": "train_df_copy['app_name'].value_counts()",
   "id": "85376a30e0ccab41"
  },
  {
   "metadata": {},
   "cell_type": "markdown",
   "source": [
    "#### Drop perfect duplicates\n",
    "* Let's drop perfect duplicates first (all columns equal)"
   ],
   "id": "d4128b17b7ff5a0"
  },
  {
   "metadata": {},
   "cell_type": "code",
   "outputs": [],
   "execution_count": null,
   "source": "train_df_copy_checkpoint = train_df_copy.copy()",
   "id": "e6d3f438d5d8a2f4"
  },
  {
   "metadata": {},
   "cell_type": "code",
   "outputs": [],
   "execution_count": null,
   "source": [
    "train_df_copy.drop_duplicates(inplace=True)\n",
    "train_df_copy['app_name'].value_counts()"
   ],
   "id": "76024d87076d4dfb"
  },
  {
   "metadata": {},
   "cell_type": "markdown",
   "source": [
    "#### Duplicates w/ different sizes\n",
    "* We still have duplicates, so we will handle them in different ways\n",
    "* Let's first check for duplicates with different sizes only"
   ],
   "id": "7565430aa5652407"
  },
  {
   "metadata": {},
   "cell_type": "code",
   "outputs": [],
   "execution_count": null,
   "source": [
    "def find_near_duplicates(df, except_col):\n",
    "    columns_except = df.columns.difference([except_col])\n",
    "    near_duplicates = df[df.duplicated(subset=columns_except, keep=False)]\n",
    "    return near_duplicates\n",
    "\n",
    "\n",
    "# Define columns to check for duplicates (exclude 'size_unknown_unit')\n",
    "columns_except_size = train_df_copy.columns.difference(['size_unknown_unit'])\n",
    "\n",
    "# Find duplicates based on all columns except size\n",
    "near_duplicates = find_near_duplicates(train_df_copy, except_col='size_unknown_unit')\n",
    "near_duplicates"
   ],
   "id": "a2439ceff88da0ff"
  },
  {
   "metadata": {},
   "cell_type": "markdown",
   "source": [
    "* We will now take the mean size and drop duplicates and use the floored mean\n",
    "* This is a helper function that we can use later"
   ],
   "id": "d08f9272c57aa193"
  },
  {
   "metadata": {},
   "cell_type": "code",
   "outputs": [],
   "execution_count": null,
   "source": [
    "def deduplicate_with_aggregation(dataframe, group_by_except_col, target_col, strategy, key_col):\n",
    "    \"\"\"\n",
    "    Deduplicates rows that are equal in all columns except one,\n",
    "    aggregates the target column using a given strategy, and\n",
    "    keeps only one row per duplicate group with the updated value.\n",
    "\n",
    "    Parameters:\n",
    "    - dataframe: pd.DataFrame\n",
    "    - group_by_except_col: str → the column to ignore when checking for duplicates\n",
    "    - target_col: str → the column to aggregate and update (usually same as group_by_except_col)\n",
    "    - strategy: str → 'mean', 'median', or 'mode'\n",
    "    - key_col: str → the column to identify duplicate groups (default 'app_name')\n",
    "\n",
    "    Returns:\n",
    "    - Cleaned DataFrame with duplicates dropped and target_col updated.\n",
    "    \"\"\"\n",
    "\n",
    "    group_cols = dataframe.columns.difference([group_by_except_col])\n",
    "    duplicate_rows = dataframe[dataframe.duplicated(subset=group_cols, keep=False)]\n",
    "    grouped = duplicate_rows.groupby(list(group_cols))\n",
    "\n",
    "    for _, group_df in grouped:\n",
    "        # Aggregate value based on strategy\n",
    "        values = group_df[target_col].dropna()\n",
    "\n",
    "        if strategy == 'mean':\n",
    "            result = pd.to_numeric(values, errors='coerce').mean()\n",
    "            aggregated_value = str(math.floor(result)) if pd.notna(result) else None\n",
    "\n",
    "        elif strategy == 'median':\n",
    "            result = pd.to_numeric(values, errors='coerce').median()\n",
    "            aggregated_value = str(math.floor(result)) if pd.notna(result) else None\n",
    "\n",
    "        elif strategy == 'mode':\n",
    "            mode_vals = values.mode()\n",
    "            aggregated_value = str(mode_vals[0]) if not mode_vals.empty else None\n",
    "\n",
    "        else:\n",
    "            raise ValueError(f\"Unsupported strategy: {strategy}\")\n",
    "\n",
    "        # Representative key value for filtering\n",
    "        key_value = group_df[key_col].iloc[0]\n",
    "\n",
    "        # Drop duplicates of this key\n",
    "        dataframe = drop_duplicates_specific_value(dataframe, key_col, key_value)\n",
    "\n",
    "        # Assign new value if available\n",
    "        if aggregated_value is not None:\n",
    "            dataframe.loc[dataframe[key_col] == key_value, target_col] = aggregated_value\n",
    "\n",
    "    return dataframe\n"
   ],
   "id": "96903e663eef14bf"
  },
  {
   "metadata": {},
   "cell_type": "code",
   "outputs": [],
   "execution_count": null,
   "source": [
    "train_df_copy = deduplicate_with_aggregation(\n",
    "    train_df_copy,\n",
    "    group_by_except_col='size_unknown_unit',\n",
    "    target_col='size_unknown_unit',\n",
    "    strategy='mean',\n",
    "    key_col='app_name'\n",
    ")\n",
    "\n",
    "find_near_duplicates(train_df_copy, except_col='size_unknown_unit')"
   ],
   "id": "90f5217fe90ed676"
  },
  {
   "metadata": {},
   "cell_type": "markdown",
   "source": "#### Duplicates w/ different categories",
   "id": "9d3e742def137394"
  },
  {
   "metadata": {},
   "cell_type": "markdown",
   "source": "* Let's first check if this has helped any of our other cases",
   "id": "6a8caec896cb9eaf"
  },
  {
   "metadata": {},
   "cell_type": "code",
   "outputs": [],
   "execution_count": null,
   "source": "train_df_copy.Y.isnull().sum()",
   "id": "e43314f60054cfe3"
  },
  {
   "metadata": {},
   "cell_type": "code",
   "outputs": [],
   "execution_count": null,
   "source": "(train_df_copy['compatible_os_version'] == \"Varies with device\").sum()",
   "id": "b81250706c46e541"
  },
  {
   "metadata": {},
   "cell_type": "code",
   "outputs": [],
   "execution_count": null,
   "source": "(train_df_copy['app_version'] == \"Varies with device\").sum()",
   "id": "50a735e4e0abffcc"
  },
  {
   "metadata": {},
   "cell_type": "code",
   "outputs": [],
   "execution_count": null,
   "source": "(train_df_copy['downloads_unstandardized'] == \"Varies with device\").sum()",
   "id": "7498e525ed7c999b"
  },
  {
   "metadata": {},
   "cell_type": "markdown",
   "source": [
    "* Null Y: 1469 -> 1460\n",
    "* OS varies: 1087 -> 859\n",
    "* App version varies: 1172 -> 920\n",
    "* downloads varies: 1358 -> 1062\n",
    "* Let's now find duplicates with different category"
   ],
   "id": "2a08e33e76f66e6d"
  },
  {
   "metadata": {},
   "cell_type": "code",
   "outputs": [],
   "execution_count": null,
   "source": "find_near_duplicates(train_df_copy, except_col='app_category')",
   "id": "e21b8301b0fe3372"
  },
  {
   "metadata": {},
   "cell_type": "markdown",
   "source": [
    "* Using a median wouldn't apply here as we only have two values for each\n",
    "* However, looking at the tags and name we can decide which category is most suitable\n",
    "* Learn C++: EDUCATION\n",
    "* Fuzzy Numbers: EDUCATION\n",
    "* Candy Bomb: GAME"
   ],
   "id": "19cf42e1decac9c3"
  },
  {
   "metadata": {},
   "cell_type": "code",
   "outputs": [],
   "execution_count": null,
   "source": [
    "train_df_copy.loc[train_df_copy['app_name'] == \"Learn C++\", 'app_category'] = \"EDUCATION\"\n",
    "train_df_copy.loc[train_df_copy['app_name'] == \"Fuzzy Numbers: Pre-K Number Foundation\", 'app_category'] = \"EDUCATION\"\n",
    "train_df_copy.loc[train_df_copy['app_name'] == \"Candy Bomb\", 'app_category'] = \"GAME\"\n",
    "train_df_copy.drop_duplicates(inplace=True)\n",
    "find_near_duplicates(train_df_copy, except_col='app_category')"
   ],
   "id": "6add5315f14f4c28"
  },
  {
   "metadata": {},
   "cell_type": "markdown",
   "source": [
    "#### Duplicates w/ different release date\n",
    "* Only other near duplicates are release date"
   ],
   "id": "368db8d94ef4ff99"
  },
  {
   "metadata": {},
   "cell_type": "code",
   "outputs": [],
   "execution_count": null,
   "source": "find_near_duplicates(train_df_copy, except_col='release_date')",
   "id": "37030d3693b9c7b3"
  },
  {
   "metadata": {},
   "cell_type": "markdown",
   "source": [
    "* Again we will set this manually\n",
    "* osmino Wi-Fi: free WiFi: August 6, 2018\n",
    "* Target - now with Cartwheel:  July 25, 2018"
   ],
   "id": "e03c164bf0c99285"
  },
  {
   "metadata": {},
   "cell_type": "code",
   "outputs": [],
   "execution_count": null,
   "source": [
    "train_df_copy.loc[train_df_copy['app_name'] == \"Target - now with Cartwheel\", 'release_date'] = \"July 25, 2018\"\n",
    "train_df_copy.loc[train_df_copy['app_name'] == \"osmino Wi-Fi: free WiFi\", 'release_date'] = \"August 6, 2018\"\n",
    "train_df_copy.drop_duplicates(inplace=True)\n",
    "find_near_duplicates(train_df_copy, except_col='release_date')"
   ],
   "id": "e60a65fdce9ce675"
  },
  {
   "metadata": {},
   "cell_type": "markdown",
   "source": "#### Duplicate Names Check",
   "id": "cdadec04291c3ab"
  },
  {
   "metadata": {},
   "cell_type": "code",
   "outputs": [],
   "execution_count": null,
   "source": "train_df_copy['app_name'].value_counts()",
   "id": "af045cf24b1b9e8e"
  },
  {
   "metadata": {},
   "cell_type": "code",
   "outputs": [],
   "execution_count": null,
   "source": [
    "app_names_with_3 = train_df_copy['app_name'].value_counts()\n",
    "app_names_with_3 = app_names_with_3[app_names_with_3 == 3].index\n",
    "rows_with_3_duplicates = train_df_copy[train_df_copy['app_name'].isin(app_names_with_3)]\n",
    "rows_with_3_duplicates"
   ],
   "id": "4356d07f04baf6c3"
  },
  {
   "metadata": {},
   "cell_type": "markdown",
   "source": "* Most of these make sense other than the video editor which has 2 duplicates from the 3",
   "id": "f3e70c9a7741aff9"
  },
  {
   "metadata": {},
   "cell_type": "code",
   "outputs": [],
   "execution_count": null,
   "source": [
    "train_df_copy.loc[\n",
    "    (train_df_copy['app_name'] == \"Video Editor\") &\n",
    "    (train_df_copy['reviews_count'] == \"5,000,000+\"),\n",
    "    'app_category'\n",
    "] = \"VIDEO_PLAYERS\"\n",
    "\n",
    "rows_with_3_duplicates = train_df_copy[train_df_copy['app_name'].isin(app_names_with_3)]\n",
    "rows_with_3_duplicates"
   ],
   "id": "7ed1dec428abf30d"
  },
  {
   "metadata": {},
   "cell_type": "code",
   "outputs": [],
   "execution_count": null,
   "source": [
    "train_df_copy.loc[\n",
    "    (train_df_copy['app_name'] == \"Video Editor\") &\n",
    "    (train_df_copy['reviews_count'] == \"5,000,000+\"),\n",
    "    'size_unknown_unit'\n",
    "] = \"159620\""
   ],
   "id": "c28731448f87a986"
  },
  {
   "metadata": {},
   "cell_type": "code",
   "outputs": [],
   "execution_count": null,
   "source": [
    "train_df_copy.drop_duplicates(inplace=True)\n",
    "rows_with_3_duplicates = train_df_copy[train_df_copy['app_name'].isin(app_names_with_3)]\n",
    "rows_with_3_duplicates"
   ],
   "id": "2c3d29fb534abe39"
  },
  {
   "metadata": {},
   "cell_type": "markdown",
   "source": "* Duplicated names with 2 are too much so we will have to use other ways",
   "id": "8b81dceb95b71018"
  },
  {
   "metadata": {},
   "cell_type": "markdown",
   "source": "#### Duplicates w/ different sizes & categories",
   "id": "80b32add331c0d1e"
  },
  {
   "metadata": {},
   "cell_type": "code",
   "outputs": [],
   "execution_count": null,
   "source": [
    "def find_almost_near_duplicates(df, except_cols):\n",
    "    \"\"\"\n",
    "    Finds near-duplicate rows in a DataFrame, ignoring specified columns.\n",
    "\n",
    "    Parameters:\n",
    "    - df: pd.DataFrame\n",
    "    - except_cols: list of str → columns to exclude when checking for duplicates\n",
    "\n",
    "    Returns:\n",
    "    - DataFrame containing near-duplicate rows\n",
    "    \"\"\"\n",
    "    columns_except = df.columns.difference(except_cols)\n",
    "    near_duplicates = df[df.duplicated(subset=columns_except, keep=False)]\n",
    "    return near_duplicates\n"
   ],
   "id": "f5e411c5bf1d2e47"
  },
  {
   "metadata": {},
   "cell_type": "code",
   "outputs": [],
   "execution_count": null,
   "source": [
    "near_duplicates = find_almost_near_duplicates(train_df_copy, except_cols=['size_unknown_unit', 'app_category'])\n",
    "near_duplicates"
   ],
   "id": "c8490bfe2c9bcdd"
  },
  {
   "metadata": {},
   "cell_type": "markdown",
   "source": [
    "* We have 64 of them, however we can notice that some fields have no download data\n",
    "* We can drop these for now and think how we can use them later"
   ],
   "id": "c7774d7a33bc82a0"
  },
  {
   "metadata": {},
   "cell_type": "markdown",
   "source": "##### Drop rows with all varies",
   "id": "4688e100d073d3cf"
  },
  {
   "metadata": {},
   "cell_type": "code",
   "outputs": [],
   "execution_count": null,
   "source": [
    "dropped_rows_varies_downloads_version_os = near_duplicates[\n",
    "    (near_duplicates['downloads_unstandardized'] == \"Varies with device\") &\n",
    "    (near_duplicates['app_version'] == \"Varies with device\") &\n",
    "    (near_duplicates['compatible_os_version'] == \"Varies with device\")\n",
    "    ]"
   ],
   "id": "8c8038f8e073383c"
  },
  {
   "metadata": {},
   "cell_type": "code",
   "outputs": [],
   "execution_count": null,
   "source": "train_df_copy = train_df_copy.drop(index=dropped_rows_varies_downloads_version_os.index)",
   "id": "e69fbb4a6d873455"
  },
  {
   "metadata": {},
   "cell_type": "code",
   "outputs": [],
   "execution_count": null,
   "source": [
    "near_duplicates = find_almost_near_duplicates(train_df_copy, except_cols=['size_unknown_unit', 'app_category'])\n",
    "near_duplicates"
   ],
   "id": "ceda4290053b20b0"
  },
  {
   "metadata": {},
   "cell_type": "code",
   "outputs": [],
   "execution_count": null,
   "source": [
    "def deduplicate_with_mean_and_tag_based_category(df, key_col='app_name'):\n",
    "    \"\"\"\n",
    "    Deduplicates rows that are identical in all columns except for\n",
    "    'size_unknown_unit' and 'app_category'. Uses:\n",
    "\n",
    "    - Floored mean for size\n",
    "    - Original logic: if exactly one category is found in app_tags → keep that\n",
    "    - If not, use category_tag_map to infer from tags\n",
    "    - If still ambiguous or no match, keep all rows\n",
    "\n",
    "    Parameters:\n",
    "    - df: DataFrame to clean\n",
    "    - key_col: Column to identify unique groups (e.g., 'app_name')\n",
    "\n",
    "    Returns:\n",
    "    - Cleaned DataFrame with resolved duplicates\n",
    "    \"\"\"\n",
    "\n",
    "    # Category-to-tag mapping\n",
    "    category_tag_map = {\n",
    "        \"ART_AND_DESIGN\": [\"art & design\"],\n",
    "        \"GAME\": [\"simulation\", \"action\", \"role playing\", \"puzzle\"],\n",
    "        \"FAMILY\": [\"casual\"]\n",
    "    }\n",
    "\n",
    "    except_cols = ['size_unknown_unit', 'app_category']\n",
    "    group_cols = df.columns.difference(except_cols)\n",
    "    duplicate_rows = df[df.duplicated(subset=group_cols, keep=False)]\n",
    "    grouped = duplicate_rows.groupby(list(group_cols))\n",
    "\n",
    "    resolved_rows = []\n",
    "    skipped_indexes = []\n",
    "\n",
    "    for _, group_df in grouped:\n",
    "        size_values = pd.to_numeric(group_df['size_unknown_unit'], errors='coerce')\n",
    "        size_mean = str(math.floor(size_values.mean())) if not size_values.isna().all() else None\n",
    "\n",
    "        category_values = group_df['app_category'].dropna().unique()\n",
    "        app_tags = str(group_df['app_tags'].iloc[0]) if 'app_tags' in group_df else \"\"\n",
    "        app_tags_lower = app_tags.lower()\n",
    "\n",
    "        ### Step 1: Try original logic — exact category in tags\n",
    "        matched_direct = [cat for cat in category_values if cat.lower().replace('_', ' ') in app_tags_lower]\n",
    "\n",
    "        if len(matched_direct) == 1:\n",
    "            chosen_category = matched_direct[0]\n",
    "        else:\n",
    "            ### Step 2: Try using custom tag map\n",
    "            matched_from_map = []\n",
    "            for cat in category_values:\n",
    "                if cat in category_tag_map:\n",
    "                    for keyword in category_tag_map[cat]:\n",
    "                        if keyword.lower() in app_tags_lower:\n",
    "                            matched_from_map.append(cat)\n",
    "                            break\n",
    "            matched_from_map = list(set(matched_from_map))\n",
    "\n",
    "            chosen_category = matched_from_map[0] if len(matched_from_map) == 1 else None\n",
    "\n",
    "        if chosen_category:\n",
    "            resolved_row = group_df.iloc[0].copy()\n",
    "            resolved_row['size_unknown_unit'] = size_mean\n",
    "            resolved_row['app_category'] = chosen_category\n",
    "            resolved_rows.append(resolved_row)\n",
    "        else:\n",
    "            skipped_indexes.extend(group_df.index.tolist())\n",
    "\n",
    "    # Drop only those that were resolved\n",
    "    cleaned_df = df.drop(index=duplicate_rows.index.difference(skipped_indexes))\n",
    "    cleaned_df = pd.concat([cleaned_df, pd.DataFrame(resolved_rows)], ignore_index=True)\n",
    "\n",
    "    return cleaned_df\n"
   ],
   "id": "2a7bf0e534b59c56"
  },
  {
   "metadata": {},
   "cell_type": "markdown",
   "source": [
    "* This function will take the mean for the size\n",
    "* For the category it will look if one of the categories match the tags, if so it will use that; if neither or both match it will not drop the column\n",
    "* We also add custom mappings for vague tags"
   ],
   "id": "299684fdd01c0908"
  },
  {
   "metadata": {},
   "cell_type": "code",
   "outputs": [],
   "execution_count": null,
   "source": [
    "train_df_copy = deduplicate_with_mean_and_tag_based_category(train_df_copy)\n",
    "near_duplicates = find_almost_near_duplicates(train_df_copy, except_cols=['size_unknown_unit', 'app_category'])\n",
    "near_duplicates"
   ],
   "id": "81ec8898576258"
  },
  {
   "metadata": {},
   "cell_type": "code",
   "outputs": [],
   "execution_count": null,
   "source": "train_df_copy.to_csv(\"cleaned_train_df.csv\", index=False)",
   "id": "bac736b047e8d4ac"
  },
  {
   "metadata": {},
   "cell_type": "markdown",
   "source": "### Handle Varies with device",
   "id": "a6e7fd1554d5c102"
  },
  {
   "metadata": {},
   "cell_type": "code",
   "outputs": [],
   "execution_count": null,
   "source": [
    "import pandas as pd\n",
    "\n",
    "train_df_copy = pd.read_csv(\"submissions/cleaned_train_df.csv\")"
   ],
   "id": "6c1bfd30a9bdf039"
  },
  {
   "metadata": {},
   "cell_type": "code",
   "outputs": [],
   "execution_count": null,
   "source": "train_df_copy.Y.isnull().sum()",
   "id": "76de192abdb70b5f"
  },
  {
   "metadata": {},
   "cell_type": "code",
   "outputs": [],
   "execution_count": null,
   "source": "(train_df_copy['compatible_os_version'] == \"Varies with device\").sum()",
   "id": "f7478cc69c863888"
  },
  {
   "metadata": {},
   "cell_type": "code",
   "outputs": [],
   "execution_count": null,
   "source": "(train_df_copy['app_version'] == \"Varies with device\").sum()",
   "id": "bdc490512e78140e"
  },
  {
   "metadata": {},
   "cell_type": "code",
   "outputs": [],
   "execution_count": null,
   "source": "(train_df_copy['downloads_unstandardized'] == \"Varies with device\").sum()",
   "id": "fe1fc508cdc2838f"
  },
  {
   "metadata": {},
   "cell_type": "markdown",
   "source": [
    "* Null Y: 1469 -> 1458\n",
    "* OS varies: 1087 -> 845\n",
    "* App version varies: 1172 -> 906\n",
    "* downloads varies: 1358 -> 1047"
   ],
   "id": "f0cfc89700d23289"
  },
  {
   "metadata": {},
   "cell_type": "markdown",
   "source": [
    "* For now we can remove any varies with device in download and with a null Y\n",
    "* Also remove any that has varies in all 3"
   ],
   "id": "d94cfb24c99c907"
  },
  {
   "metadata": {},
   "cell_type": "code",
   "outputs": [],
   "execution_count": null,
   "source": [
    "dropped_rows_varies_downloads_null_y = train_df_copy[\n",
    "    (train_df_copy['downloads_unstandardized'] == \"Varies with device\") &\n",
    "    (train_df_copy['Y'].isnull())\n",
    "    ]\n",
    "dropped_rows_varies_downloads_null_y"
   ],
   "id": "b08f5c4e667d0d9a"
  },
  {
   "metadata": {},
   "cell_type": "code",
   "outputs": [],
   "execution_count": null,
   "source": "train_df_copy = train_df_copy.drop(index=dropped_rows_varies_downloads_null_y.index)",
   "id": "b3915f13bd78034e"
  },
  {
   "metadata": {},
   "cell_type": "code",
   "outputs": [],
   "execution_count": null,
   "source": [
    "dropped_rows_varies_all = train_df_copy[\n",
    "    (train_df_copy['downloads_unstandardized'] == \"Varies with device\") &\n",
    "    (train_df_copy['app_version'] == \"Varies with device\") &\n",
    "    (train_df_copy['compatible_os_version'] == \"Varies with device\")\n",
    "    ]\n",
    "dropped_rows_varies_all"
   ],
   "id": "61e83b8b6dc18cd1"
  },
  {
   "metadata": {},
   "cell_type": "code",
   "outputs": [],
   "execution_count": null,
   "source": "train_df_copy = train_df_copy.drop(index=dropped_rows_varies_all.index)",
   "id": "1086cf35891ce0dc"
  },
  {
   "metadata": {},
   "cell_type": "code",
   "outputs": [],
   "execution_count": null,
   "source": "train_df_copy.Y.isnull().sum()",
   "id": "17120f7eb7329ac0"
  },
  {
   "metadata": {},
   "cell_type": "code",
   "outputs": [],
   "execution_count": null,
   "source": "train_df_copy.to_csv(\"cleaned_train_df2.csv\", index=False)",
   "id": "1a1dceecd051b6fd"
  },
  {
   "metadata": {},
   "cell_type": "code",
   "outputs": [],
   "execution_count": null,
   "source": [
    "import pandas as pd\n",
    "\n",
    "train_df_copy = pd.read_csv(\"submissions/cleaned_train_df2.csv\")"
   ],
   "id": "a56f7e129656870"
  },
  {
   "metadata": {},
   "cell_type": "markdown",
   "source": "### Final Cleanup for now",
   "id": "9f982f5f04c94404"
  },
  {
   "metadata": {},
   "cell_type": "code",
   "outputs": [],
   "execution_count": null,
   "source": "train_df_copy.dropna(subset=['Y'], inplace=True)",
   "id": "8b9fd150204c8456"
  },
  {
   "metadata": {},
   "cell_type": "code",
   "outputs": [],
   "execution_count": null,
   "source": "train_df_copy.to_csv(\"cleaned_train_only_dropped_y.csv\", index=False)",
   "id": "e4415d3ad5d4ffc9"
  },
  {
   "metadata": {},
   "cell_type": "code",
   "outputs": [],
   "execution_count": null,
   "source": "train_df_copy",
   "id": "4e6ece817693e650"
  },
  {
   "metadata": {},
   "cell_type": "code",
   "outputs": [],
   "execution_count": null,
   "source": [
    "dropped_rows_varies_downloads = train_df_copy[train_df_copy['downloads_unstandardized'] == \"Varies with device\"]\n",
    "dropped_rows_varies_downloads"
   ],
   "id": "aa7fa71c4542d05f"
  },
  {
   "metadata": {},
   "cell_type": "code",
   "outputs": [],
   "execution_count": null,
   "source": [
    "train_df_copy.drop(index=dropped_rows_varies_downloads.index, inplace=True)\n",
    "train_df_copy"
   ],
   "id": "72394efced131787"
  },
  {
   "metadata": {},
   "cell_type": "code",
   "outputs": [],
   "execution_count": null,
   "source": [
    "dropped_rows_varies_os = train_df_copy[train_df_copy['compatible_os_version'] == \"Varies with device\"]\n",
    "train_df_copy.drop(index=dropped_rows_varies_os.index, inplace=True)\n",
    "\n",
    "# Leave this for now as we will drop the column in this iteration\n",
    "# dropped_rows_varies_version = train_df_copy[train_df_copy['app_version'] == \"Varies with device\"]\n",
    "# train_df_copy.drop(index=dropped_rows_varies_version.index, inplace=True)\n",
    "\n",
    "train_df_copy\n"
   ],
   "id": "922bcc54f68dc39b"
  },
  {
   "metadata": {},
   "cell_type": "markdown",
   "source": [
    "#### Cleanup columns\n",
    "* We will convert downloads to a numeric column\n",
    "* Convert reviews count to numeric and categorical columns"
   ],
   "id": "e280d742f50d24b8"
  },
  {
   "metadata": {},
   "cell_type": "code",
   "outputs": [],
   "execution_count": null,
   "source": "train_df_copy['downloads_unstandardized'].value_counts()",
   "id": "d903602f829e105c"
  },
  {
   "metadata": {},
   "cell_type": "code",
   "outputs": [],
   "execution_count": null,
   "source": [
    "def parse_number(value):\n",
    "    \"\"\"\n",
    "    Convert strings like '$1.5M', '$600K', '$100,000+' into integers.\n",
    "    Strips '$', ',', and '+' before processing.\n",
    "    \"\"\"\n",
    "    if isinstance(value, str):\n",
    "        value = value.strip().upper().replace(\"$\", \"\").replace(\",\", \"\").replace(\"+\", \"\")\n",
    "        try:\n",
    "            if value.endswith(\"M\"):\n",
    "                return int(float(value[:-1]) * 1_000_000)\n",
    "            elif value.endswith(\"K\"):\n",
    "                return int(float(value[:-1]) * 1_000)\n",
    "            elif value.replace('.', '', 1).isdigit():\n",
    "                return int(float(value))\n",
    "        except ValueError:\n",
    "            return None\n",
    "    elif isinstance(value, (int, float)):\n",
    "        return int(value)\n",
    "    return None\n"
   ],
   "id": "a8b6a250d1185beb"
  },
  {
   "metadata": {},
   "cell_type": "code",
   "outputs": [],
   "execution_count": null,
   "source": [
    "train_df_copy['downloads_unstandardized'] = train_df_copy['downloads_unstandardized'].apply(parse_number)\n",
    "train_df_copy.rename(columns={\n",
    "    'downloads_unstandardized': 'downloads'\n",
    "}, inplace=True)\n",
    "train_df_copy"
   ],
   "id": "2c04e7b1353364f0"
  },
  {
   "metadata": {},
   "cell_type": "code",
   "outputs": [],
   "execution_count": null,
   "source": [
    "train_df_copy['reviews_count_numerical'] = train_df_copy['reviews_count'].apply(parse_number)\n",
    "train_df_copy.rename(columns={\n",
    "    'reviews_count': 'reviews_count_categorical'\n",
    "})"
   ],
   "id": "7d464c5538cf5db"
  },
  {
   "metadata": {},
   "cell_type": "code",
   "outputs": [],
   "execution_count": null,
   "source": [
    "train_df_copy['price_if_paid'] = train_df_copy['price_if_paid'].apply(parse_number)\n",
    "train_df_copy"
   ],
   "id": "a2be3d2e45d5274f"
  },
  {
   "metadata": {},
   "cell_type": "markdown",
   "source": "* Note that if sorted by descending price we have many apps for \"I am rich\"",
   "id": "5dcfa502687ac30d"
  },
  {
   "metadata": {},
   "cell_type": "markdown",
   "source": [
    "#### Dropping app tags\n",
    "* We will drop the app tags for now, but we will return to them later and turn them into categories using dimensionality reduction"
   ],
   "id": "1e64ebe958f4e455"
  },
  {
   "metadata": {},
   "cell_type": "code",
   "outputs": [],
   "execution_count": null,
   "source": "train_df_copy.drop(columns=['app_tags'], inplace=True)",
   "id": "5ec9d7ac02014b40"
  },
  {
   "metadata": {},
   "cell_type": "markdown",
   "source": [
    "#### Handling Release date\n",
    "* We will extract a couple of features from the release date\n",
    "* Such as year, month, isWeekend, isHoliday, etc."
   ],
   "id": "5087699a1b419a53"
  },
  {
   "metadata": {},
   "cell_type": "code",
   "outputs": [],
   "execution_count": null,
   "source": [
    "train_df_copy['release_date'] = pd.to_datetime(train_df_copy['release_date'])\n",
    "\n",
    "train_df_copy['year'] = train_df_copy['release_date'].dt.year\n",
    "train_df_copy['month'] = train_df_copy['release_date'].dt.month\n",
    "train_df_copy['day'] = train_df_copy['release_date'].dt.day\n",
    "train_df_copy['weekday'] = train_df_copy['release_date'].dt.weekday\n",
    "train_df_copy['quarter'] = train_df_copy['release_date'].dt.quarter\n",
    "train_df_copy['is_weekend'] = train_df_copy['release_date'].dt.weekday >= 5\n",
    "train_df_copy['is_month_start'] = train_df_copy['release_date'].dt.is_month_start\n",
    "train_df_copy['is_month_end'] = train_df_copy['release_date'].dt.is_month_end\n",
    "train_df_copy['week_of_year'] = train_df_copy['release_date'].dt.isocalendar().week\n",
    "# Defined holiday season: November and December\n",
    "train_df_copy['is_holiday_season'] = train_df_copy['release_date'].dt.month.isin([11, 12])\n",
    "train_df_copy"
   ],
   "id": "ad67b65c52d1f00"
  },
  {
   "metadata": {},
   "cell_type": "code",
   "outputs": [],
   "execution_count": null,
   "source": [
    "import holidays\n",
    "\n",
    "us_holidays = holidays.US(years=range(2010, 2019))\n",
    "for date, name in sorted(us_holidays.items()):\n",
    "    print(f\"{date}: {name}\")\n"
   ],
   "id": "4d509801c39180af"
  },
  {
   "metadata": {},
   "cell_type": "code",
   "outputs": [],
   "execution_count": null,
   "source": [
    "train_df_copy['is_holiday'] = train_df_copy['release_date'].isin(us_holidays)\n",
    "train_df_copy['holiday_name'] = train_df_copy['release_date'].map(us_holidays).fillna('Not Holiday')\n",
    "\n",
    "train_df_copy"
   ],
   "id": "d87ad7bba2fd22b5"
  },
  {
   "metadata": {},
   "cell_type": "markdown",
   "source": [
    "#### Handling App version & os version\n",
    "* Let's first check how many of these fields are not in the expected format"
   ],
   "id": "dba3fab80d907c9b"
  },
  {
   "metadata": {},
   "cell_type": "code",
   "outputs": [],
   "execution_count": null,
   "source": [
    "import re\n",
    "\n",
    "invalid_versions = train_df_copy[~train_df_copy['app_version'].astype(str).str.match(r'^\\d+(\\.\\d+)*$')]\n",
    "invalid_versions"
   ],
   "id": "eae6af28a9c8d472"
  },
  {
   "metadata": {},
   "cell_type": "markdown",
   "source": [
    "* 264 rows are in different format, so we will leave this for now\n",
    "* However, this is a very important field as we can extract information from it such as\n",
    "* if app is in bets, alpha, release\n",
    "* How many iterations the app had\n",
    "* How active is the app in development and updates"
   ],
   "id": "a798f98935759790"
  },
  {
   "metadata": {},
   "cell_type": "code",
   "outputs": [],
   "execution_count": null,
   "source": [
    "# drop app versions for now\n",
    "train_df_copy.drop(columns=['app_version'], inplace=True)"
   ],
   "id": "82e1e8a9d51832c8"
  },
  {
   "metadata": {},
   "cell_type": "code",
   "outputs": [],
   "execution_count": null,
   "source": [
    "invalid_os_versions = train_df_copy[~train_df_copy['compatible_os_version']\n",
    ".astype(str)\n",
    ".str.match(r'^\\d+(\\.\\d+)* and up$')]\n",
    "invalid_os_versions"
   ],
   "id": "f5097b7b865f64a6"
  },
  {
   "metadata": {},
   "cell_type": "markdown",
   "source": [
    "* We can notice some versions have an upper limit for the version\n",
    "* Some others have 4.4W which means android wear (watch)\n",
    "* We can extract min os version, is android wear,"
   ],
   "id": "ec0de5164e4661cc"
  },
  {
   "metadata": {},
   "cell_type": "code",
   "outputs": [],
   "execution_count": null,
   "source": [
    "def extract_min_base_os(value):\n",
    "    value = str(value).upper().strip()\n",
    "\n",
    "    # Match standard version patterns: '5.0 and up', '5.0', '5.0 - 6.0', etc.\n",
    "    match = re.search(r'(\\d+\\.\\d+)', value)\n",
    "    if match:\n",
    "        return match.group(1)\n",
    "\n",
    "    # Special case: Wear OS like '4.4W and up'\n",
    "    match_wear = re.search(r'(\\d+\\.\\d+)W', value)\n",
    "    if match_wear:\n",
    "        return match_wear.group(1)\n",
    "\n",
    "    return None  # if format doesn't match\n",
    "\n",
    "\n",
    "def is_wear_os(cleaned_value):\n",
    "    return 'W' in cleaned_value\n",
    "\n",
    "\n",
    "def is_version_range(cleaned_value):\n",
    "    return '-' in cleaned_value"
   ],
   "id": "d520ef724cfd522e"
  },
  {
   "metadata": {},
   "cell_type": "code",
   "outputs": [],
   "execution_count": null,
   "source": [
    "train_df_copy['min_base_os_version'] = train_df_copy['compatible_os_version'].apply(extract_min_base_os)\n",
    "train_df_copy['is_wear_os'] = train_df_copy['compatible_os_version'].apply(is_wear_os)\n",
    "train_df_copy['is_version_range'] = train_df_copy['compatible_os_version'].apply(is_version_range)\n",
    "train_df_copy"
   ],
   "id": "a3e02ac93aac4786"
  },
  {
   "metadata": {},
   "cell_type": "markdown",
   "source": "* Let's now drop cleaned columns",
   "id": "cfab9b14a08283d8"
  },
  {
   "metadata": {},
   "cell_type": "code",
   "outputs": [],
   "execution_count": null,
   "source": [
    "train_df_copy.drop(columns=['compatible_os_version', 'release_date'], inplace=True)\n",
    "train_df_copy"
   ],
   "id": "5490f3dd0347ba0c"
  },
  {
   "metadata": {},
   "cell_type": "markdown",
   "source": "## Split into Categorical & Numerical",
   "id": "6f6427f382f1b8de"
  },
  {
   "metadata": {},
   "cell_type": "code",
   "outputs": [],
   "execution_count": null,
   "source": "train_df_copy",
   "id": "68ac057f0a93b98f"
  },
  {
   "metadata": {},
   "cell_type": "code",
   "outputs": [],
   "execution_count": null,
   "source": [
    "def manually_split_columns(df, categorical_list, numerical_list):\n",
    "    categorical_list = [col for col in categorical_list if col in df.columns]\n",
    "    numerical_list = [col for col in numerical_list if col in df.columns]\n",
    "\n",
    "    categorical_df = df[categorical_list].copy()\n",
    "    numerical_df = df[numerical_list].copy()\n",
    "\n",
    "    return categorical_df, numerical_df"
   ],
   "id": "2a6aed3226e4526d"
  },
  {
   "metadata": {},
   "cell_type": "code",
   "outputs": [],
   "execution_count": null,
   "source": [
    "categorical_cols = ['app_category', 'reviews_count', 'free_paid', 'age_rating', 'year', 'month', 'day', 'weekday',\n",
    "                    'quarter', 'is_weekend', 'is_month_start', 'is_month_end', 'week_of_year', 'is_holiday_season',\n",
    "                    'is_holiday', 'holiday_name', 'min_base_os_version', 'is_wear_os', 'is_version_range']\n",
    "numerical_cols = ['size_unknown_unit', 'downloads', 'price_if_paid', 'reviews_count_numerical', 'month', 'day',\n",
    "                  'weekday',\n",
    "                  'quarter', 'min_base_os_version', 'Y']\n",
    "\n",
    "cat_df, num_df = manually_split_columns(train_df_copy, categorical_cols, numerical_cols)"
   ],
   "id": "31e80adf74ae3b0"
  },
  {
   "metadata": {},
   "cell_type": "code",
   "outputs": [],
   "execution_count": null,
   "source": [
    "numeric_cols = cat_df.select_dtypes(include=['int32', 'UInt32', 'object']).columns\n",
    "\n",
    "cat_df[numeric_cols] = cat_df[numeric_cols].astype('category')\n",
    "cat_df"
   ],
   "id": "72c3286fb60a7719"
  },
  {
   "metadata": {},
   "cell_type": "code",
   "outputs": [],
   "execution_count": null,
   "source": [
    "cat_cols = num_df.select_dtypes(include=['object']).columns\n",
    "\n",
    "num_df[cat_cols] = num_df[cat_cols].astype('float64')\n",
    "num_df"
   ],
   "id": "2371fb96df2de27d"
  },
  {
   "metadata": {},
   "cell_type": "code",
   "outputs": [],
   "execution_count": null,
   "source": [
    "cat_df['app_name'] = train_df_copy['app_name']\n",
    "num_df['app_name'] = train_df_copy['app_name']"
   ],
   "id": "85c6a21d40e78a67"
  },
  {
   "metadata": {},
   "cell_type": "code",
   "outputs": [],
   "execution_count": null,
   "source": [
    "num_df.to_csv('cleaned_num_df2.csv', index=False)\n",
    "cat_df.to_csv('cleaned_cat_df2.csv', index=False)"
   ],
   "id": "24c2d93c657d03ca"
  },
  {
   "metadata": {},
   "cell_type": "markdown",
   "source": "## Data Analysis",
   "id": "342760a16920e779"
  },
  {
   "metadata": {},
   "cell_type": "code",
   "outputs": [],
   "execution_count": null,
   "source": [
    "import pandas as pd\n",
    "import numpy as np\n",
    "\n",
    "train_df_copy = pd.read_csv(\"submissions/cleaned_train_df2.csv\")\n",
    "num_df = pd.read_csv(\"submissions/cleaned_num_df2.csv\")\n",
    "cat_df = pd.read_csv(\"submissions/cleaned_cat_df2.csv\")"
   ],
   "id": "44e20eea53499485"
  },
  {
   "metadata": {},
   "cell_type": "code",
   "outputs": [],
   "execution_count": null,
   "source": "num_df",
   "id": "4978b5387edce90b"
  },
  {
   "metadata": {},
   "cell_type": "code",
   "outputs": [],
   "execution_count": null,
   "source": [
    "import matplotlib.pyplot as plt\n",
    "\n",
    "\n",
    "def plot_numeric_distribution(df, column_name, bins=50, color='skyblue'):\n",
    "    import numpy as np\n",
    "\n",
    "    plt.figure(figsize=(12, 6))\n",
    "    plt.hist(df[column_name].dropna(), bins=bins, color=color, edgecolor='black')\n",
    "    plt.title(f'Distribution of {column_name}', fontsize=14, pad=15)\n",
    "    plt.xlabel(column_name, fontsize=12)\n",
    "    plt.ylabel('Frequency', fontsize=12)\n",
    "    plt.grid(True, alpha=0.3)\n",
    "    plt.tight_layout()\n",
    "    plt.show()\n"
   ],
   "id": "cc02345e595a16ab"
  },
  {
   "metadata": {},
   "cell_type": "markdown",
   "source": [
    "### Size\n",
    "* I have no idea what size is in, but we know it's heavily skewed"
   ],
   "id": "9586d9a7c7c60959"
  },
  {
   "metadata": {},
   "cell_type": "code",
   "outputs": [],
   "execution_count": null,
   "source": "plot_numeric_distribution(num_df, 'size_unknown_unit', 5)",
   "id": "84c680d4bbb76102"
  },
  {
   "metadata": {},
   "cell_type": "code",
   "outputs": [],
   "execution_count": null,
   "source": [
    "from scipy.stats import zscore\n",
    "\n",
    "z = zscore(num_df['size_unknown_unit'])\n",
    "outliers = num_df[abs(z) > 3]  # Threshold of 3 is commo\n",
    "outliers"
   ],
   "id": "d2dc48f681521ab1"
  },
  {
   "metadata": {},
   "cell_type": "code",
   "outputs": [],
   "execution_count": null,
   "source": [
    "Q1 = num_df['size_unknown_unit'].quantile(0.25)\n",
    "Q3 = num_df['size_unknown_unit'].quantile(0.75)\n",
    "IQR = Q3 - Q1\n",
    "lower_bound = Q1 - 1.5 * IQR\n",
    "upper_bound = Q3 + 1.5 * IQR\n",
    "\n",
    "outliers = num_df[(num_df['size_unknown_unit'] < lower_bound) | (num_df['size_unknown_unit'] > upper_bound)]\n",
    "outliers"
   ],
   "id": "8b9df022d44d2f4e"
  },
  {
   "metadata": {},
   "cell_type": "code",
   "outputs": [],
   "execution_count": null,
   "source": [
    "import seaborn as sns\n",
    "\n",
    "sns.boxplot(x=num_df['size_unknown_unit'])"
   ],
   "id": "9464301f9c1ed0b0"
  },
  {
   "metadata": {},
   "cell_type": "code",
   "outputs": [],
   "execution_count": null,
   "source": [
    "from sklearn.ensemble import IsolationForest, RandomForestRegressor\n",
    "\n",
    "model = IsolationForest(contamination=0.01)\n",
    "num_df['outlier'] = model.fit_predict(num_df[['size_unknown_unit']])  # -1 = outlier, 1 = inlier\n",
    "num_df[num_df['outlier'] == -1]"
   ],
   "id": "6dd2c6bcde56ae15"
  },
  {
   "metadata": {},
   "cell_type": "markdown",
   "source": [
    "* We will try setting to log\n",
    "* And try removing them"
   ],
   "id": "18153962d5074442"
  },
  {
   "metadata": {},
   "cell_type": "code",
   "outputs": [],
   "execution_count": null,
   "source": [
    "num_df['log_size'] = np.log1p(num_df['size_unknown_unit'])\n",
    "num_df_test = num_df[num_df['outlier'] != -1]"
   ],
   "id": "e4ff69a6bb80ba2d"
  },
  {
   "metadata": {},
   "cell_type": "code",
   "outputs": [],
   "execution_count": null,
   "source": "plot_numeric_distribution(num_df, 'log_size')",
   "id": "6c094e019999aba"
  },
  {
   "metadata": {},
   "cell_type": "markdown",
   "source": "* Stick with this for now",
   "id": "93650b42b4cb7109"
  },
  {
   "metadata": {},
   "cell_type": "code",
   "outputs": [],
   "execution_count": null,
   "source": "sns.boxplot(x=num_df['log_size'])",
   "id": "c3b09c0e90a1c49c"
  },
  {
   "metadata": {},
   "cell_type": "markdown",
   "source": "### Downloads",
   "id": "8ec612b3ae96ab94"
  },
  {
   "metadata": {},
   "cell_type": "code",
   "outputs": [],
   "execution_count": null,
   "source": "plot_numeric_distribution(num_df, 'downloads')",
   "id": "e42fa3ef1f919e2"
  },
  {
   "metadata": {},
   "cell_type": "code",
   "outputs": [],
   "execution_count": null,
   "source": "sns.boxplot(x=num_df['downloads'])",
   "id": "e120b3176645d276"
  },
  {
   "metadata": {},
   "cell_type": "code",
   "outputs": [],
   "execution_count": null,
   "source": [
    "num_df['log_downloads'] = np.log1p(num_df['downloads'])\n",
    "plot_numeric_distribution(num_df, 'log_downloads')\n",
    "sns.boxplot(x=num_df['log_downloads'])"
   ],
   "id": "f4b7386c5ac013e8"
  },
  {
   "metadata": {},
   "cell_type": "code",
   "outputs": [],
   "execution_count": null,
   "source": [
    "from scipy.stats import skew\n",
    "\n",
    "skew(num_df['downloads'])"
   ],
   "id": "50bbb82675df0e1"
  },
  {
   "metadata": {},
   "cell_type": "code",
   "outputs": [],
   "execution_count": null,
   "source": "skew(num_df['log_downloads'])",
   "id": "a7fd757f067b079d"
  },
  {
   "metadata": {},
   "cell_type": "code",
   "outputs": [],
   "execution_count": null,
   "source": [
    "from scipy.stats import boxcox\n",
    "\n",
    "num_df['sqrt_downloads'] = np.sqrt(num_df['downloads'])\n",
    "num_df['downloads_boxcox'], lam = boxcox(num_df['downloads'])\n",
    "print(\"Skew after Box-Cox:\", skew(num_df['downloads_boxcox']))\n",
    "print(\"Skew after sqrt:\", skew(num_df['sqrt_downloads']))"
   ],
   "id": "f02161124abcf549"
  },
  {
   "metadata": {},
   "cell_type": "code",
   "outputs": [],
   "execution_count": null,
   "source": [
    "plot_numeric_distribution(num_df, 'downloads_boxcox')\n",
    "plot_numeric_distribution(num_df, 'sqrt_downloads')"
   ],
   "id": "923f8cb7a6a73ee0"
  },
  {
   "metadata": {},
   "cell_type": "code",
   "outputs": [],
   "execution_count": null,
   "source": "sns.boxplot(x=num_df.downloads_boxcox)",
   "id": "fa35eeb8bb5a8f4d"
  },
  {
   "metadata": {},
   "cell_type": "code",
   "outputs": [],
   "execution_count": null,
   "source": "sns.boxplot(x=num_df.sqrt_downloads)",
   "id": "6e10789762d91035"
  },
  {
   "metadata": {},
   "cell_type": "markdown",
   "source": "### price, reviews count",
   "id": "4249148cbac71994"
  },
  {
   "metadata": {},
   "cell_type": "code",
   "outputs": [],
   "execution_count": null,
   "source": [
    "plot_numeric_distribution(num_df, 'price_if_paid')\n",
    "plot_numeric_distribution(num_df, 'reviews_count_numerical')"
   ],
   "id": "eb220d2bcfd1b7f9"
  },
  {
   "metadata": {},
   "cell_type": "code",
   "outputs": [],
   "execution_count": null,
   "source": "skew(num_df['price_if_paid'])",
   "id": "67644111327e2c49"
  },
  {
   "metadata": {},
   "cell_type": "code",
   "outputs": [],
   "execution_count": null,
   "source": "skew(num_df.reviews_count_numerical)",
   "id": "daaa603bec3dafe0"
  },
  {
   "metadata": {},
   "cell_type": "code",
   "outputs": [],
   "execution_count": null,
   "source": [
    "num_df['log_price_paid_only'] = num_df['price_if_paid'].where(cat_df['free_paid'] == 'Paid', 0)\n",
    "num_df['log_price_paid_only'] = np.log1p(num_df['log_price_paid_only'])"
   ],
   "id": "ff191d6faefbc8e3"
  },
  {
   "metadata": {},
   "cell_type": "code",
   "outputs": [],
   "execution_count": null,
   "source": "skew(num_df['log_price_paid_only'])",
   "id": "9b5937b6281a0b54"
  },
  {
   "metadata": {},
   "cell_type": "code",
   "outputs": [],
   "execution_count": null,
   "source": [
    "num_df['log_reviews_count'] = np.log1p(num_df['reviews_count_numerical'])\n",
    "skew(num_df['log_reviews_count'])"
   ],
   "id": "23f6561054ea0fa6"
  },
  {
   "metadata": {},
   "cell_type": "markdown",
   "source": "### month, day, weekday, quarter",
   "id": "6b7f56779a90047a"
  },
  {
   "metadata": {},
   "cell_type": "code",
   "outputs": [],
   "execution_count": null,
   "source": [
    "print(skew(num_df.month))\n",
    "print(skew(num_df.day))\n",
    "print(skew(num_df.weekday))\n",
    "print(skew(num_df.quarter))"
   ],
   "id": "5b55f34a39f28743"
  },
  {
   "metadata": {},
   "cell_type": "markdown",
   "source": "### Os min version",
   "id": "c78c5e2dfb388907"
  },
  {
   "metadata": {},
   "cell_type": "code",
   "outputs": [],
   "execution_count": null,
   "source": "skew(num_df['min_base_os_version'])",
   "id": "2d67f70be979d264"
  },
  {
   "metadata": {},
   "cell_type": "code",
   "outputs": [],
   "execution_count": null,
   "source": "plot_numeric_distribution(num_df, 'min_base_os_version')",
   "id": "af3f29b839f9f1b0"
  },
  {
   "metadata": {},
   "cell_type": "code",
   "outputs": [],
   "execution_count": null,
   "source": "sns.boxplot(num_df['min_base_os_version'])",
   "id": "8bae0e5458060d0f"
  },
  {
   "metadata": {},
   "cell_type": "code",
   "outputs": [],
   "execution_count": null,
   "source": "num_df.drop(columns=['outlier', 'app_name'], inplace=True)",
   "id": "701a4ff9cf6e3722"
  },
  {
   "metadata": {},
   "cell_type": "code",
   "outputs": [],
   "execution_count": null,
   "source": "num_df.corr(numeric_only=True)['Y'].sort_values(ascending=False)",
   "id": "1e2197a92c786c"
  },
  {
   "metadata": {},
   "cell_type": "code",
   "outputs": [],
   "execution_count": null,
   "source": [
    "num_df_new = num_df.drop(columns=[\n",
    "    'app_name', 'size_unknown_unit', 'downloads', 'price_if_paid', 'reviews_count_numerical', 'month', 'day', 'outlier',\n",
    "    'downloads_boxcox', 'sqrt_downloads',\n",
    "])"
   ],
   "id": "16fa9a0013afc0df"
  },
  {
   "metadata": {},
   "cell_type": "code",
   "outputs": [],
   "execution_count": null,
   "source": "num_df_new",
   "id": "a4a19d453cb92fe8"
  },
  {
   "metadata": {},
   "cell_type": "markdown",
   "source": "## Categorical",
   "id": "ba4e3c66847f8907"
  },
  {
   "metadata": {},
   "cell_type": "code",
   "outputs": [],
   "execution_count": null,
   "source": "cat_df.nunique()\n",
   "id": "9645d4529e104771"
  },
  {
   "metadata": {},
   "cell_type": "code",
   "outputs": [],
   "execution_count": null,
   "source": [
    "threshold = 0.01  # 1% of total\n",
    "for col in cat_df.columns:\n",
    "    freqs = cat_df[col].value_counts(normalize=True)\n",
    "    rare = freqs[freqs < threshold]\n",
    "    if not rare.empty:\n",
    "        print(f\"{col} has rare values:\\n{rare}\\n\")\n"
   ],
   "id": "a9e703a2913f068d"
  },
  {
   "metadata": {},
   "cell_type": "markdown",
   "source": [
    "* We should drop week_of_year\n",
    "* app_category can have less categories by grouping rare occurences into other"
   ],
   "id": "4fed39b3ace2cc69"
  },
  {
   "metadata": {},
   "cell_type": "code",
   "outputs": [],
   "execution_count": null,
   "source": "cat_df.drop(columns=['week_of_year'], inplace=True)",
   "id": "a0039ffb252274e0"
  },
  {
   "metadata": {},
   "cell_type": "code",
   "outputs": [],
   "execution_count": null,
   "source": [
    "def check_variation(category_col):\n",
    "    combined = pd.concat([cat_df[category_col], num_df['Y']], axis=1)\n",
    "    return combined.groupby(category_col)['Y'].mean().sort_values()\n"
   ],
   "id": "a35d0232e446c718"
  },
  {
   "metadata": {},
   "cell_type": "code",
   "outputs": [],
   "execution_count": null,
   "source": "check_variation(\"is_month_end\")",
   "id": "b7c0db12af3f3086"
  },
  {
   "metadata": {},
   "cell_type": "markdown",
   "source": [
    "* We can see is_month_end, is_month_start  has little variation between categories\n",
    "* So we will drop it"
   ],
   "id": "df87ccff5817ec19"
  },
  {
   "metadata": {},
   "cell_type": "code",
   "outputs": [],
   "execution_count": null,
   "source": "cat_df.drop(columns=['is_month_end', 'is_month_start'], inplace=True)",
   "id": "f0a7b8a4bc01debc"
  },
  {
   "metadata": {},
   "cell_type": "code",
   "outputs": [],
   "execution_count": null,
   "source": "check_variation(\"is_weekend\")",
   "id": "e58c7a612be3f6fb"
  },
  {
   "metadata": {},
   "cell_type": "code",
   "outputs": [],
   "execution_count": null,
   "source": "check_variation(\"is_holiday\")",
   "id": "11932b82cbfb8704"
  },
  {
   "metadata": {},
   "cell_type": "code",
   "outputs": [],
   "execution_count": null,
   "source": "check_variation('age_rating')",
   "id": "9809e20cacc290a5"
  },
  {
   "metadata": {},
   "cell_type": "code",
   "outputs": [],
   "execution_count": null,
   "source": "check_variation('weekday')",
   "id": "cf316b882564ca31"
  },
  {
   "metadata": {},
   "cell_type": "code",
   "outputs": [],
   "execution_count": null,
   "source": "check_variation('year')",
   "id": "fc14d6573d05db73"
  },
  {
   "metadata": {},
   "cell_type": "code",
   "outputs": [],
   "execution_count": null,
   "source": [
    "def group_years(year):\n",
    "    if year <= 2012:\n",
    "        return 'Old'\n",
    "    elif 2013 <= year <= 2016:\n",
    "        return 'Middle'\n",
    "    else:\n",
    "        return 'Recent'\n",
    "\n",
    "\n",
    "cat_df['year_group'] = cat_df['year'].apply(group_years)\n",
    "check_variation('year_group')"
   ],
   "id": "595440ad7ea713fe"
  },
  {
   "metadata": {},
   "cell_type": "code",
   "outputs": [],
   "execution_count": null,
   "source": "check_variation('month')",
   "id": "3dbf5df91d23d7d3"
  },
  {
   "metadata": {},
   "cell_type": "code",
   "outputs": [],
   "execution_count": null,
   "source": "check_variation('quarter')",
   "id": "2cdaeb0d82964a05"
  },
  {
   "metadata": {},
   "cell_type": "code",
   "outputs": [],
   "execution_count": null,
   "source": "check_variation('holiday_name')",
   "id": "7c01bb5055bb1f38"
  },
  {
   "metadata": {},
   "cell_type": "code",
   "outputs": [],
   "execution_count": null,
   "source": [
    "def group_holidays(holiday):\n",
    "    high = [\n",
    "        \"Independence Day\", \"Veterans Day\", \"Thanksgiving Day\",\n",
    "        \"Memorial Day\", \"Christmas Day (observed)\"\n",
    "    ]\n",
    "    mid = [\n",
    "        \"Not Holiday\", \"Columbus Day\", \"Martin Luther King Jr. Day\",\n",
    "        \"Veterans Day (observed)\", \"New Year's Day\", \"Labor Day\"\n",
    "    ]\n",
    "    low = [\n",
    "        \"Christmas Day\", \"Washington's Birthday\"\n",
    "    ]\n",
    "\n",
    "    if holiday in high:\n",
    "        return \"High Rating Holiday\"\n",
    "    elif holiday in mid:\n",
    "        return \"Mid Rating Holiday\"\n",
    "    elif holiday in low:\n",
    "        return \"Low Rating Holiday\"\n",
    "    else:\n",
    "        return \"Other\"\n",
    "\n",
    "\n",
    "cat_df['holiday_group'] = cat_df['holiday_name'].apply(group_holidays)\n",
    "check_variation('holiday_group')"
   ],
   "id": "af43ffcceb35aa9d"
  },
  {
   "metadata": {},
   "cell_type": "code",
   "outputs": [],
   "execution_count": null,
   "source": "check_variation('reviews_count')",
   "id": "4b502dc89d171a8c"
  },
  {
   "metadata": {},
   "cell_type": "code",
   "outputs": [],
   "execution_count": null,
   "source": [
    "def group_reviews_count(val):\n",
    "    very_low = [\"1+\", \"5+\", \"10+\", \"50+\", \"100+\"]\n",
    "    low_mid = [\"500+\", \"1,000+\", \"5,000+\", \"10,000+\", \"50,000+\"]\n",
    "    mid = [\"100,000+\", \"500,000+\"]\n",
    "    high = [\"1,000,000+\", \"5,000,000+\", \"10,000,000+\"]\n",
    "    top = [\"50,000,000+\", \"100,000,000+\", \"500,000,000+\", \"1,000,000,000+\"]\n",
    "\n",
    "    if val in very_low:\n",
    "        return \"Very Low\"\n",
    "    elif val in low_mid:\n",
    "        return \"Low-Mid\"\n",
    "    elif val in mid:\n",
    "        return \"Mid\"\n",
    "    elif val in high:\n",
    "        return \"High\"\n",
    "    elif val in top:\n",
    "        return \"Top Tier\"\n",
    "    else:\n",
    "        return \"Other\"\n",
    "\n",
    "\n",
    "cat_df['reviews_group'] = cat_df['reviews_count'].apply(group_reviews_count)\n",
    "check_variation('reviews_group')"
   ],
   "id": "5324cfe7eea68103"
  },
  {
   "metadata": {},
   "cell_type": "code",
   "outputs": [],
   "execution_count": null,
   "source": "check_variation('min_base_os_version')",
   "id": "10c4276f34af77ad"
  },
  {
   "metadata": {},
   "cell_type": "code",
   "outputs": [],
   "execution_count": null,
   "source": "check_variation('app_category')",
   "id": "954ba0369cd5f9be"
  },
  {
   "metadata": {},
   "cell_type": "code",
   "outputs": [],
   "execution_count": null,
   "source": "",
   "id": "aeab578ce26074b4"
  },
  {
   "metadata": {},
   "cell_type": "code",
   "outputs": [],
   "execution_count": null,
   "source": "cat_df.nunique()",
   "id": "ec4424c9bffa4feb"
  },
  {
   "metadata": {},
   "cell_type": "markdown",
   "source": "* drop is weekend is holiday, weekday, month",
   "id": "243956a07f81dcf8"
  },
  {
   "metadata": {},
   "cell_type": "code",
   "outputs": [],
   "execution_count": null,
   "source": "cat_df.drop(columns=['is_weekend', 'is_holiday', 'weekday', 'month'], inplace=True)",
   "id": "a7171f88f0c10703"
  },
  {
   "metadata": {},
   "cell_type": "code",
   "outputs": [],
   "execution_count": null,
   "source": "cat_df.nunique()",
   "id": "5f6d8e1a776a5629"
  },
  {
   "metadata": {},
   "cell_type": "markdown",
   "source": "* drop day, min_base_os_version, reviews_count, holiday_name",
   "id": "6cb16cc78dc54319"
  },
  {
   "metadata": {},
   "cell_type": "code",
   "outputs": [],
   "execution_count": null,
   "source": "cat_df.drop(columns=['day', 'min_base_os_version', 'reviews_count', 'holiday_name'], inplace=True)",
   "id": "9b3443214c82a5d6"
  },
  {
   "metadata": {},
   "cell_type": "code",
   "outputs": [],
   "execution_count": null,
   "source": "cat_df.nunique()",
   "id": "e6288dc7caef3dda"
  },
  {
   "metadata": {},
   "cell_type": "code",
   "outputs": [],
   "execution_count": null,
   "source": "check_variation('is_wear_os')",
   "id": "658981d108d9e09"
  },
  {
   "metadata": {},
   "cell_type": "code",
   "outputs": [],
   "execution_count": null,
   "source": "check_variation('is_version_range')",
   "id": "7f99e9a21cb3bc5f"
  },
  {
   "metadata": {},
   "cell_type": "code",
   "outputs": [],
   "execution_count": null,
   "source": "check_variation('free_paid')",
   "id": "bdbbff8cbbcbd98a"
  },
  {
   "metadata": {},
   "cell_type": "markdown",
   "source": "* drop year, is_holiday_season, app_category_grouped",
   "id": "54a3465002fd1d1"
  },
  {
   "metadata": {},
   "cell_type": "code",
   "outputs": [],
   "execution_count": null,
   "source": "cat_df.drop(columns=['year', 'is_holiday_season', 'app_category_grouped'], inplace=True)",
   "id": "b427d624b3191080"
  },
  {
   "metadata": {},
   "cell_type": "code",
   "outputs": [],
   "execution_count": null,
   "source": "cat_df.nunique()",
   "id": "296f69fc8b7df397"
  },
  {
   "metadata": {},
   "cell_type": "code",
   "outputs": [],
   "execution_count": null,
   "source": "num_df_new.nunique()",
   "id": "1e5c527b29d45be4"
  },
  {
   "metadata": {},
   "cell_type": "code",
   "outputs": [],
   "execution_count": null,
   "source": "num_df_new.drop(columns=['quarter'], inplace=True)",
   "id": "9fcc8f6e50253f86"
  },
  {
   "metadata": {},
   "cell_type": "code",
   "outputs": [],
   "execution_count": null,
   "source": [
    "\n",
    "combined_df = cat_df.join(num_df_new)\n",
    "combined_df"
   ],
   "id": "293ab22f2d1e3836"
  },
  {
   "metadata": {},
   "cell_type": "code",
   "outputs": [],
   "execution_count": null,
   "source": "combined_df.to_csv('first_combined_df.csv', index=False)",
   "id": "c24f964c48a2cd0d"
  },
  {
   "metadata": {},
   "cell_type": "code",
   "outputs": [],
   "execution_count": null,
   "source": "combined_df.drop(columns=['app_name'], inplace=True)",
   "id": "572f318b5efd8d60"
  },
  {
   "metadata": {},
   "cell_type": "code",
   "outputs": [],
   "execution_count": null,
   "source": "combined_df.dtypes",
   "id": "4273260fae452862"
  },
  {
   "metadata": {},
   "cell_type": "code",
   "outputs": [],
   "execution_count": null,
   "source": "combined_df",
   "id": "4b7a9bc659cc8e6e"
  },
  {
   "metadata": {},
   "cell_type": "markdown",
   "source": [
    "* LinearRegression()\n",
    "* RandomForestRegressor()\n",
    "* XGBRegressor()\n",
    "* GradientBoostingRegressor()"
   ],
   "id": "2123c1d4be4e1cb4"
  },
  {
   "metadata": {},
   "cell_type": "code",
   "outputs": [],
   "execution_count": null,
   "source": [
    "y = combined_df[['Y']]\n",
    "X = combined_df.drop(columns=['Y'])"
   ],
   "id": "5a79e8cbf9e58fbc"
  },
  {
   "metadata": {},
   "cell_type": "code",
   "outputs": [],
   "execution_count": null,
   "source": [
    "from sklearn.pipeline import make_pipeline\n",
    "from sklearn.impute import SimpleImputer\n",
    "from sklearn.compose import make_column_selector, make_column_transformer\n",
    "from sklearn.preprocessing import OneHotEncoder\n",
    "\n",
    "cat_pipeline = make_pipeline(\n",
    "    OneHotEncoder(handle_unknown=\"ignore\"))\n",
    "\n",
    "preprocessing = make_column_transformer(\n",
    "    (cat_pipeline, make_column_selector(dtype_include=['object', 'int64'])),\n",
    ")"
   ],
   "id": "b492d56374a66e5c"
  },
  {
   "metadata": {},
   "cell_type": "code",
   "outputs": [],
   "execution_count": null,
   "source": "\n",
   "id": "7eb4d7cd0ae47d28"
  },
  {
   "metadata": {},
   "cell_type": "code",
   "outputs": [],
   "execution_count": null,
   "source": [
    "from sklearn.pipeline import Pipeline\n",
    "from sklearn.linear_model import LinearRegression\n",
    "from xgboost import XGBRegressor\n",
    "from sklearn.ensemble import RandomForestRegressor\n",
    "from sklearn.tree import DecisionTreeRegressor\n",
    "\n",
    "model_pipeline = Pipeline(steps=[\n",
    "    ('preprocessing', preprocessing),\n",
    "    ('model', RandomForestRegressor())  # Or XGBRegressor(), etc.\n",
    "])\n",
    "model_pipeline.fit(X, y.values.ravel())\n"
   ],
   "id": "7af1ad2d856e42dc"
  },
  {
   "metadata": {},
   "cell_type": "code",
   "outputs": [],
   "execution_count": null,
   "source": [
    "from sklearn.model_selection import KFold, cross_val_score\n",
    "\n",
    "rmses = -cross_val_score(model_pipeline, X, y.values.ravel(),\n",
    "                         scoring=\"neg_mean_squared_error\", cv=10)\n",
    "\n",
    "pd.Series(rmses).describe()"
   ],
   "id": "8a19cd82c6c15994"
  },
  {
   "metadata": {},
   "cell_type": "code",
   "outputs": [],
   "execution_count": null,
   "source": [
    "from sklearn.model_selection import RandomizedSearchCV\n",
    "from scipy.stats import randint\n",
    "\n",
    "param_distribs = {\n",
    "    'model__max_features': randint(low=2, high=20)}\n",
    "rnd_search = RandomizedSearchCV(\n",
    "    model_pipeline, param_distributions=param_distribs, n_iter=10, cv=3,\n",
    "    scoring='neg_mean_squared_error', random_state=42)\n",
    "rnd_search.fit(X, y.values.ravel())"
   ],
   "id": "3de24fcb56b56371"
  },
  {
   "metadata": {},
   "cell_type": "code",
   "outputs": [],
   "execution_count": null,
   "source": [
    "final_model = rnd_search.best_estimator_  # includes preprocessing\n",
    "feature_importances = final_model[\"model\"].feature_importances_\n",
    "sorted(zip(feature_importances, final_model[\"preprocessing\"].get_feature_names_out()), reverse=True)"
   ],
   "id": "a84860e70ea29a59"
  },
  {
   "metadata": {},
   "cell_type": "code",
   "outputs": [],
   "execution_count": null,
   "source": "test_df = pd.read_csv(\"app-rating-competition/test.csv\")",
   "id": "5359c7445fbbf715"
  },
  {
   "metadata": {},
   "cell_type": "code",
   "outputs": [],
   "execution_count": null,
   "source": "test_df",
   "id": "8517c8d35b2e51f"
  },
  {
   "metadata": {},
   "cell_type": "code",
   "outputs": [],
   "execution_count": null,
   "source": "",
   "id": "181017d4cd320e5e"
  }
 ],
 "metadata": {
  "kernelspec": {
   "display_name": "Python 3",
   "language": "python",
   "name": "python3"
  },
  "language_info": {
   "codemirror_mode": {
    "name": "ipython",
    "version": 2
   },
   "file_extension": ".py",
   "mimetype": "text/x-python",
   "name": "python",
   "nbconvert_exporter": "python",
   "pygments_lexer": "ipython2",
   "version": "2.7.6"
  }
 },
 "nbformat": 4,
 "nbformat_minor": 5
}
