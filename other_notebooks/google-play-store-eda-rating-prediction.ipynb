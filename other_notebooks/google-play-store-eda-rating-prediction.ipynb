{
 "cells": [
  {
   "cell_type": "code",
   "id": "82432f47",
   "metadata": {
    "execution": {
     "iopub.execute_input": "2022-11-18T10:39:05.466682Z",
     "iopub.status.busy": "2022-11-18T10:39:05.465615Z",
     "iopub.status.idle": "2022-11-18T10:39:08.017678Z",
     "shell.execute_reply": "2022-11-18T10:39:08.016792Z",
     "shell.execute_reply.started": "2022-11-18T10:34:04.228852Z"
    },
    "papermill": {
     "duration": 2.659906,
     "end_time": "2022-11-18T10:39:08.017891",
     "exception": false,
     "start_time": "2022-11-18T10:39:05.357985",
     "status": "completed"
    },
    "tags": []
   },
   "source": [
    "import pandas as pd\n",
    "import numpy as np\n",
    "import matplotlib.pyplot as plt\n",
    "import seaborn as sns\n",
    "import plotly.express as px\n",
    "import plotly.graph_objects as go\n",
    "from plotly.offline import init_notebook_mode, iplot\n",
    "init_notebook_mode(connected=True)\n",
    "from wordcloud import WordCloud\n",
    "from sklearn import metrics\n",
    "import warnings\n",
    "warnings.filterwarnings(\"ignore\")\n",
    "plt.style.use('fivethirtyeight')"
   ],
   "outputs": [],
   "execution_count": null
  },
  {
   "cell_type": "markdown",
   "id": "497e123e",
   "metadata": {
    "papermill": {
     "duration": 0.098004,
     "end_time": "2022-11-18T10:39:08.216597",
     "exception": false,
     "start_time": "2022-11-18T10:39:08.118593",
     "status": "completed"
    },
    "tags": []
   },
   "source": [
    "<a id = '2.0'></a>\n",
    "<p style = \"font-size : 35px; color : #E0FFFF ; font-family : 'Comic Sans MS'; text-align : center; background-color : #4682B4; border-radius: 5px 5px;\"><strong>Importing dataset </strong></p>"
   ]
  },
  {
   "cell_type": "code",
   "id": "9bc897d5",
   "metadata": {
    "execution": {
     "iopub.execute_input": "2022-11-18T10:39:08.419832Z",
     "iopub.status.busy": "2022-11-18T10:39:08.419081Z",
     "iopub.status.idle": "2022-11-18T10:39:08.498424Z",
     "shell.execute_reply": "2022-11-18T10:39:08.497775Z",
     "shell.execute_reply.started": "2022-11-18T10:34:06.943832Z"
    },
    "papermill": {
     "duration": 0.182946,
     "end_time": "2022-11-18T10:39:08.498577",
     "exception": false,
     "start_time": "2022-11-18T10:39:08.315631",
     "status": "completed"
    },
    "tags": []
   },
   "source": [
    "import pandas as pd\n",
    "import numpy as np\n",
    "import matplotlib.pyplot as plt\n",
    "import seaborn as sns\n",
    "import plotly.express as px\n",
    "import plotly.graph_objects as go\n",
    "from sklearn import metrics\n",
    "\n",
    "data=pd.read_csv('../app-rating-competition/train.csv')\n",
    "\n",
    "def rename_columns(dataframe):\n",
    "    reformated_df = dataframe.rename(\n",
    "        columns={\"X0\": \"App\", \"X1\": \"Category\", \"X2\": \"Reviews\", \"X3\": \"Size\",\n",
    "                 \"X4\": \"Installs\", \"X5\": \"Type\", \"X6\": \"Price\", \"X7\": \"Content Rating\",\n",
    "                 \"X8\": \"Genres\", \"X9\": \"Last Updated\", \"X10\": \"Current Ver\",\n",
    "                 \"X11\": \"Android Ver\", \"Y\": \"Rating\"})\n",
    "    return reformated_df\n",
    "\n",
    "data = rename_columns(data)"
   ],
   "outputs": [],
   "execution_count": null
  },
  {
   "cell_type": "code",
   "id": "6fe56076",
   "metadata": {
    "execution": {
     "iopub.execute_input": "2022-11-18T10:39:09.292908Z",
     "iopub.status.busy": "2022-11-18T10:39:09.292251Z",
     "iopub.status.idle": "2022-11-18T10:39:09.320579Z",
     "shell.execute_reply": "2022-11-18T10:39:09.321210Z",
     "shell.execute_reply.started": "2022-11-18T10:34:07.025000Z"
    },
    "papermill": {
     "duration": 0.131761,
     "end_time": "2022-11-18T10:39:09.321401",
     "exception": false,
     "start_time": "2022-11-18T10:39:09.189640",
     "status": "completed"
    },
    "tags": []
   },
   "source": [
    "data.head()"
   ],
   "outputs": [],
   "execution_count": null
  },
  {
   "cell_type": "code",
   "id": "f547cd0b",
   "metadata": {
    "execution": {
     "iopub.execute_input": "2022-11-18T10:39:09.526776Z",
     "iopub.status.busy": "2022-11-18T10:39:09.526035Z",
     "iopub.status.idle": "2022-11-18T10:39:09.552875Z",
     "shell.execute_reply": "2022-11-18T10:39:09.552134Z",
     "shell.execute_reply.started": "2022-11-18T10:34:07.056482Z"
    },
    "papermill": {
     "duration": 0.131691,
     "end_time": "2022-11-18T10:39:09.553026",
     "exception": false,
     "start_time": "2022-11-18T10:39:09.421335",
     "status": "completed"
    },
    "tags": []
   },
   "source": [
    "# Take a sample of 5\n",
    "data.sample(5)"
   ],
   "outputs": [],
   "execution_count": null
  },
  {
   "cell_type": "code",
   "id": "26f0786d",
   "metadata": {
    "execution": {
     "iopub.execute_input": "2022-11-18T10:39:09.763157Z",
     "iopub.status.busy": "2022-11-18T10:39:09.762471Z",
     "iopub.status.idle": "2022-11-18T10:39:09.766775Z",
     "shell.execute_reply": "2022-11-18T10:39:09.766236Z",
     "shell.execute_reply.started": "2022-11-18T10:34:07.080269Z"
    },
    "papermill": {
     "duration": 0.111815,
     "end_time": "2022-11-18T10:39:09.766936",
     "exception": false,
     "start_time": "2022-11-18T10:39:09.655121",
     "status": "completed"
    },
    "tags": []
   },
   "source": [
    "data.shape"
   ],
   "outputs": [],
   "execution_count": null
  },
  {
   "cell_type": "code",
   "id": "00aebd5d",
   "metadata": {
    "execution": {
     "iopub.execute_input": "2022-11-18T10:39:09.976627Z",
     "iopub.status.busy": "2022-11-18T10:39:09.975878Z",
     "iopub.status.idle": "2022-11-18T10:39:09.980148Z",
     "shell.execute_reply": "2022-11-18T10:39:09.979578Z",
     "shell.execute_reply.started": "2022-11-18T10:34:07.092116Z"
    },
    "papermill": {
     "duration": 0.111828,
     "end_time": "2022-11-18T10:39:09.980306",
     "exception": false,
     "start_time": "2022-11-18T10:39:09.868478",
     "status": "completed"
    },
    "tags": []
   },
   "source": [
    "data.columns"
   ],
   "outputs": [],
   "execution_count": null
  },
  {
   "cell_type": "code",
   "id": "b71c224f",
   "metadata": {
    "execution": {
     "iopub.execute_input": "2022-11-18T10:39:10.186754Z",
     "iopub.status.busy": "2022-11-18T10:39:10.186028Z",
     "iopub.status.idle": "2022-11-18T10:39:10.253124Z",
     "shell.execute_reply": "2022-11-18T10:39:10.252456Z",
     "shell.execute_reply.started": "2022-11-18T10:34:07.103132Z"
    },
    "papermill": {
     "duration": 0.171127,
     "end_time": "2022-11-18T10:39:10.253303",
     "exception": false,
     "start_time": "2022-11-18T10:39:10.082176",
     "status": "completed"
    },
    "tags": []
   },
   "source": [
    "#The described method will help to see how data has been spread for numerical values.\n",
    "# We can clearly see the minimum value, mean values, different percentile values, and maximum values.\n",
    "data.describe(include='all').T"
   ],
   "outputs": [],
   "execution_count": null
  },
  {
   "cell_type": "code",
   "id": "428cb0a0",
   "metadata": {
    "execution": {
     "iopub.execute_input": "2022-11-18T10:39:10.472990Z",
     "iopub.status.busy": "2022-11-18T10:39:10.471982Z",
     "iopub.status.idle": "2022-11-18T10:39:10.485042Z",
     "shell.execute_reply": "2022-11-18T10:39:10.485616Z",
     "shell.execute_reply.started": "2022-11-18T10:34:07.176520Z"
    },
    "papermill": {
     "duration": 0.128214,
     "end_time": "2022-11-18T10:39:10.485828",
     "exception": false,
     "start_time": "2022-11-18T10:39:10.357614",
     "status": "completed"
    },
    "tags": []
   },
   "source": [
    "#info() is used to check the Information about the data and the datatypes of each respective attribute.\n",
    "data.info()"
   ],
   "outputs": [],
   "execution_count": null
  },
  {
   "cell_type": "code",
   "id": "c94bcaae",
   "metadata": {
    "execution": {
     "iopub.execute_input": "2022-11-18T10:39:11.785394Z",
     "iopub.status.busy": "2022-11-18T10:39:11.784349Z",
     "iopub.status.idle": "2022-11-18T10:39:11.799792Z",
     "shell.execute_reply": "2022-11-18T10:39:11.800290Z",
     "shell.execute_reply.started": "2022-11-18T10:34:07.199659Z"
    },
    "papermill": {
     "duration": 0.129504,
     "end_time": "2022-11-18T10:39:11.800481",
     "exception": false,
     "start_time": "2022-11-18T10:39:11.670977",
     "status": "completed"
    },
    "tags": []
   },
   "source": [
    "data[~data.Reviews.str.isnumeric()]"
   ],
   "outputs": [],
   "execution_count": null
  },
  {
   "cell_type": "markdown",
   "id": "bc3e9284",
   "metadata": {
    "papermill": {
     "duration": 0.103593,
     "end_time": "2022-11-18T10:39:12.007611",
     "exception": false,
     "start_time": "2022-11-18T10:39:11.904018",
     "status": "completed"
    },
    "tags": []
   },
   "source": [
    "* We could have converted it into interger like we did for Size but the data for this App looks different. It can be noticed that the entries are entered wrong  We could fix it by setting Category as nan and shifting all the values, but deleting the sample for now."
   ]
  },
  {
   "cell_type": "code",
   "id": "706ecbc3",
   "metadata": {
    "execution": {
     "iopub.execute_input": "2022-11-18T10:39:12.221746Z",
     "iopub.status.busy": "2022-11-18T10:39:12.220774Z",
     "iopub.status.idle": "2022-11-18T10:39:12.225425Z",
     "shell.execute_reply": "2022-11-18T10:39:12.225918Z",
     "shell.execute_reply.started": "2022-11-18T10:34:07.226679Z"
    },
    "papermill": {
     "duration": 0.113775,
     "end_time": "2022-11-18T10:39:12.226110",
     "exception": false,
     "start_time": "2022-11-18T10:39:12.112335",
     "status": "completed"
    },
    "tags": []
   },
   "source": "data=data.drop(data.index[8653])",
   "outputs": [],
   "execution_count": null
  },
  {
   "cell_type": "code",
   "id": "912014b8",
   "metadata": {
    "execution": {
     "iopub.execute_input": "2022-11-18T10:39:12.439208Z",
     "iopub.status.busy": "2022-11-18T10:39:12.438472Z",
     "iopub.status.idle": "2022-11-18T10:39:12.445941Z",
     "shell.execute_reply": "2022-11-18T10:39:12.446481Z",
     "shell.execute_reply.started": "2022-11-18T10:34:07.234943Z"
    },
    "papermill": {
     "duration": 0.116123,
     "end_time": "2022-11-18T10:39:12.446666",
     "exception": false,
     "start_time": "2022-11-18T10:39:12.330543",
     "status": "completed"
    },
    "tags": []
   },
   "source": [
    "data[\"Reviews\"] = data[\"Reviews\"].astype(int)"
   ],
   "outputs": [],
   "execution_count": null
  },
  {
   "cell_type": "code",
   "id": "0f9498a5",
   "metadata": {
    "execution": {
     "iopub.execute_input": "2022-11-18T10:39:12.664021Z",
     "iopub.status.busy": "2022-11-18T10:39:12.663316Z",
     "iopub.status.idle": "2022-11-18T10:39:12.684975Z",
     "shell.execute_reply": "2022-11-18T10:39:12.684112Z",
     "shell.execute_reply.started": "2022-11-18T10:34:07.247827Z"
    },
    "papermill": {
     "duration": 0.133183,
     "end_time": "2022-11-18T10:39:12.685207",
     "exception": false,
     "start_time": "2022-11-18T10:39:12.552024",
     "status": "completed"
    },
    "tags": []
   },
   "source": [
    "data.info()  "
   ],
   "outputs": [],
   "execution_count": null
  },
  {
   "cell_type": "markdown",
   "id": "82dcfb2f",
   "metadata": {
    "papermill": {
     "duration": 0.106693,
     "end_time": "2022-11-18T10:39:12.898992",
     "exception": false,
     "start_time": "2022-11-18T10:39:12.792299",
     "status": "completed"
    },
    "tags": []
   },
   "source": [
    "* [Size](#12.0)"
   ]
  },
  {
   "cell_type": "markdown",
   "id": "b5244cdf",
   "metadata": {
    "papermill": {
     "duration": 0.105603,
     "end_time": "2022-11-18T10:39:13.109846",
     "exception": false,
     "start_time": "2022-11-18T10:39:13.004243",
     "status": "completed"
    },
    "tags": []
   },
   "source": [
    "* It can be seen that data has metric prefixes (Kilo and Mega) along with another string. Replacing k and M with their values to convert values to numeric."
   ]
  },
  {
   "cell_type": "code",
   "id": "b2d399c7",
   "metadata": {
    "execution": {
     "iopub.execute_input": "2022-11-18T10:39:13.325532Z",
     "iopub.status.busy": "2022-11-18T10:39:13.324794Z",
     "iopub.status.idle": "2022-11-18T10:39:13.330272Z",
     "shell.execute_reply": "2022-11-18T10:39:13.330806Z",
     "shell.execute_reply.started": "2022-11-18T10:34:07.278600Z"
    },
    "papermill": {
     "duration": 0.116602,
     "end_time": "2022-11-18T10:39:13.330992",
     "exception": false,
     "start_time": "2022-11-18T10:39:13.214390",
     "status": "completed"
    },
    "tags": []
   },
   "source": [
    "data['Size'].unique()"
   ],
   "outputs": [],
   "execution_count": null
  },
  {
   "cell_type": "markdown",
   "id": "8bcc8239",
   "metadata": {
    "papermill": {
     "duration": 0.104479,
     "end_time": "2022-11-18T10:39:13.542068",
     "exception": false,
     "start_time": "2022-11-18T10:39:13.437589",
     "status": "completed"
    },
    "tags": []
   },
   "source": [
    "* Remove all characters from size and convert it to float"
   ]
  },
  {
   "cell_type": "code",
   "id": "d5d58da8",
   "metadata": {
    "execution": {
     "iopub.execute_input": "2022-11-18T10:39:13.755511Z",
     "iopub.status.busy": "2022-11-18T10:39:13.754811Z",
     "iopub.status.idle": "2022-11-18T10:39:13.780518Z",
     "shell.execute_reply": "2022-11-18T10:39:13.781076Z",
     "shell.execute_reply.started": "2022-11-18T10:34:07.288885Z"
    },
    "papermill": {
     "duration": 0.134304,
     "end_time": "2022-11-18T10:39:13.781273",
     "exception": false,
     "start_time": "2022-11-18T10:39:13.646969",
     "status": "completed"
    },
    "tags": []
   },
   "source": [
    "data['Size']=data['Size'].str.replace('M','000')\n",
    "data['Size']=data['Size'].str.replace('k','')\n",
    "#apps['size']=apps['size'].str.replace('.','')\n",
    "data['Size']=data['Size'].replace(\"Varies with device\",np.nan)\n",
    "data['Size']=data['Size'].astype('float')\n",
    "data['Size']"
   ],
   "outputs": [],
   "execution_count": null
  },
  {
   "cell_type": "markdown",
   "id": "52261300",
   "metadata": {
    "papermill": {
     "duration": 0.104954,
     "end_time": "2022-11-18T10:39:13.992050",
     "exception": false,
     "start_time": "2022-11-18T10:39:13.887096",
     "status": "completed"
    },
    "tags": []
   },
   "source": [
    "* There is a problem!! There are some applications size in megabyte and some in kilobyte\n"
   ]
  },
  {
   "cell_type": "code",
   "id": "9233f53d",
   "metadata": {
    "execution": {
     "iopub.execute_input": "2022-11-18T10:39:14.208103Z",
     "iopub.status.busy": "2022-11-18T10:39:14.207364Z",
     "iopub.status.idle": "2022-11-18T10:39:14.260906Z",
     "shell.execute_reply": "2022-11-18T10:39:14.261509Z",
     "shell.execute_reply.started": "2022-11-18T10:34:07.318191Z"
    },
    "papermill": {
     "duration": 0.165133,
     "end_time": "2022-11-18T10:39:14.261686",
     "exception": false,
     "start_time": "2022-11-18T10:39:14.096553",
     "status": "completed"
    },
    "tags": []
   },
   "source": [
    "###### Convert mega to kilo then convert all to mega\n",
    "for i in data['Size']:\n",
    "    if i < 10:\n",
    "        data['Size']=data['Size'].replace(i,i*1000)\n",
    "data['Size']=data['Size']/1000\n",
    "data['Size']"
   ],
   "outputs": [],
   "execution_count": null
  },
  {
   "cell_type": "code",
   "id": "820ab9d7",
   "metadata": {
    "execution": {
     "iopub.execute_input": "2022-11-18T10:39:14.474552Z",
     "iopub.status.busy": "2022-11-18T10:39:14.473849Z",
     "iopub.status.idle": "2022-11-18T10:39:14.492631Z",
     "shell.execute_reply": "2022-11-18T10:39:14.493180Z",
     "shell.execute_reply.started": "2022-11-18T10:34:07.379945Z"
    },
    "papermill": {
     "duration": 0.127655,
     "end_time": "2022-11-18T10:39:14.493391",
     "exception": false,
     "start_time": "2022-11-18T10:39:14.365736",
     "status": "completed"
    },
    "tags": []
   },
   "source": [
    "data.info()"
   ],
   "outputs": [],
   "execution_count": null
  },
  {
   "cell_type": "markdown",
   "id": "26f6d9a2",
   "metadata": {
    "papermill": {
     "duration": 0.107817,
     "end_time": "2022-11-18T10:39:14.709294",
     "exception": false,
     "start_time": "2022-11-18T10:39:14.601477",
     "status": "completed"
    },
    "tags": []
   },
   "source": [
    "* [Installs](#13.0) &  [Price](#13.0)\n"
   ]
  },
  {
   "cell_type": "code",
   "id": "7eda678d",
   "metadata": {
    "execution": {
     "iopub.execute_input": "2022-11-18T10:39:14.948987Z",
     "iopub.status.busy": "2022-11-18T10:39:14.948324Z",
     "iopub.status.idle": "2022-11-18T10:39:14.956689Z",
     "shell.execute_reply": "2022-11-18T10:39:14.957400Z",
     "shell.execute_reply.started": "2022-11-18T10:34:07.399531Z"
    },
    "papermill": {
     "duration": 0.124342,
     "end_time": "2022-11-18T10:39:14.957584",
     "exception": false,
     "start_time": "2022-11-18T10:39:14.833242",
     "status": "completed"
    },
    "tags": []
   },
   "source": [
    "data['Installs'].unique()"
   ],
   "outputs": [],
   "execution_count": null
  },
  {
   "cell_type": "code",
   "id": "06918db5",
   "metadata": {
    "execution": {
     "iopub.execute_input": "2022-11-18T10:39:15.188480Z",
     "iopub.status.busy": "2022-11-18T10:39:15.187827Z",
     "iopub.status.idle": "2022-11-18T10:39:15.195890Z",
     "shell.execute_reply": "2022-11-18T10:39:15.196472Z",
     "shell.execute_reply.started": "2022-11-18T10:34:07.409846Z"
    },
    "papermill": {
     "duration": 0.1229,
     "end_time": "2022-11-18T10:39:15.196703",
     "exception": false,
     "start_time": "2022-11-18T10:39:15.073803",
     "status": "completed"
    },
    "tags": []
   },
   "source": [
    "data['Price'].unique()"
   ],
   "outputs": [],
   "execution_count": null
  },
  {
   "cell_type": "code",
   "id": "def882d5",
   "metadata": {
    "execution": {
     "iopub.execute_input": "2022-11-18T10:39:15.415887Z",
     "iopub.status.busy": "2022-11-18T10:39:15.415055Z",
     "iopub.status.idle": "2022-11-18T10:39:15.475664Z",
     "shell.execute_reply": "2022-11-18T10:39:15.476400Z",
     "shell.execute_reply.started": "2022-11-18T10:34:07.422059Z"
    },
    "papermill": {
     "duration": 0.171873,
     "end_time": "2022-11-18T10:39:15.476627",
     "exception": false,
     "start_time": "2022-11-18T10:39:15.304754",
     "status": "completed"
    },
    "tags": []
   },
   "source": [
    "items_to_remove=['+',',','$']\n",
    "cols_to_clean=['Installs','Price']\n",
    "for item in items_to_remove:\n",
    "    for col in cols_to_clean:\n",
    "        data[col]=data[col].str.replace(item,'')\n",
    "data.head()"
   ],
   "outputs": [],
   "execution_count": null
  },
  {
   "cell_type": "code",
   "id": "dcafb1d9",
   "metadata": {
    "execution": {
     "iopub.execute_input": "2022-11-18T10:39:15.732838Z",
     "iopub.status.busy": "2022-11-18T10:39:15.732156Z",
     "iopub.status.idle": "2022-11-18T10:39:15.739632Z",
     "shell.execute_reply": "2022-11-18T10:39:15.740249Z",
     "shell.execute_reply.started": "2022-11-18T10:34:07.480596Z"
    },
    "papermill": {
     "duration": 0.149931,
     "end_time": "2022-11-18T10:39:15.740423",
     "exception": false,
     "start_time": "2022-11-18T10:39:15.590492",
     "status": "completed"
    },
    "tags": []
   },
   "source": [
    "data.Installs.unique()"
   ],
   "outputs": [],
   "execution_count": null
  },
  {
   "cell_type": "code",
   "id": "ed0f1a54",
   "metadata": {
    "execution": {
     "iopub.execute_input": "2022-11-18T10:39:15.957584Z",
     "iopub.status.busy": "2022-11-18T10:39:15.956865Z",
     "iopub.status.idle": "2022-11-18T10:39:15.962875Z",
     "shell.execute_reply": "2022-11-18T10:39:15.963345Z",
     "shell.execute_reply.started": "2022-11-18T10:34:07.488943Z"
    },
    "papermill": {
     "duration": 0.114771,
     "end_time": "2022-11-18T10:39:15.963531",
     "exception": false,
     "start_time": "2022-11-18T10:39:15.848760",
     "status": "completed"
    },
    "tags": []
   },
   "source": [
    "data['Price'].unique()"
   ],
   "outputs": [],
   "execution_count": null
  },
  {
   "cell_type": "code",
   "id": "78d0fbe8",
   "metadata": {
    "execution": {
     "iopub.execute_input": "2022-11-18T10:39:16.188188Z",
     "iopub.status.busy": "2022-11-18T10:39:16.181292Z",
     "iopub.status.idle": "2022-11-18T10:39:16.190895Z",
     "shell.execute_reply": "2022-11-18T10:39:16.191481Z",
     "shell.execute_reply.started": "2022-11-18T10:34:07.504722Z"
    },
    "papermill": {
     "duration": 0.122452,
     "end_time": "2022-11-18T10:39:16.191701",
     "exception": false,
     "start_time": "2022-11-18T10:39:16.069249",
     "status": "completed"
    },
    "tags": []
   },
   "source": [
    "data[data['Price']=='Everyone']"
   ],
   "outputs": [],
   "execution_count": null
  },
  {
   "cell_type": "code",
   "id": "08f6ac68",
   "metadata": {
    "execution": {
     "iopub.execute_input": "2022-11-18T10:39:16.416388Z",
     "iopub.status.busy": "2022-11-18T10:39:16.415649Z",
     "iopub.status.idle": "2022-11-18T10:39:16.432501Z",
     "shell.execute_reply": "2022-11-18T10:39:16.433231Z",
     "shell.execute_reply.started": "2022-11-18T10:34:07.524036Z"
    },
    "papermill": {
     "duration": 0.134886,
     "end_time": "2022-11-18T10:39:16.433500",
     "exception": false,
     "start_time": "2022-11-18T10:39:16.298614",
     "status": "completed"
    },
    "tags": []
   },
   "source": [
    "data['Installs']=data['Installs'].astype('int')\n",
    "data['Price']=data['Price'].astype('float')\n",
    "data.info()"
   ],
   "outputs": [],
   "execution_count": null
  },
  {
   "cell_type": "markdown",
   "id": "cba3191b",
   "metadata": {
    "papermill": {
     "duration": 0.111017,
     "end_time": "2022-11-18T10:39:16.659936",
     "exception": false,
     "start_time": "2022-11-18T10:39:16.548919",
     "status": "completed"
    },
    "tags": []
   },
   "source": [
    "* [last updated](#12.0)"
   ]
  },
  {
   "cell_type": "code",
   "id": "dffcdbca",
   "metadata": {
    "execution": {
     "iopub.execute_input": "2022-11-18T10:39:16.887876Z",
     "iopub.status.busy": "2022-11-18T10:39:16.887164Z",
     "iopub.status.idle": "2022-11-18T10:39:17.055152Z",
     "shell.execute_reply": "2022-11-18T10:39:17.055632Z",
     "shell.execute_reply.started": "2022-11-18T10:34:07.555832Z"
    },
    "papermill": {
     "duration": 0.282428,
     "end_time": "2022-11-18T10:39:17.055841",
     "exception": false,
     "start_time": "2022-11-18T10:39:16.773413",
     "status": "completed"
    },
    "tags": []
   },
   "source": [
    "#### Change Last update into a datetime column\n",
    "data['Last Updated'] = pd.to_datetime(data['Last Updated'])\n",
    "data['Last Updated']"
   ],
   "outputs": [],
   "execution_count": null
  },
  {
   "cell_type": "code",
   "id": "b1b51edd",
   "metadata": {
    "execution": {
     "iopub.execute_input": "2022-11-18T10:39:17.279531Z",
     "iopub.status.busy": "2022-11-18T10:39:17.278555Z",
     "iopub.status.idle": "2022-11-18T10:39:17.291450Z",
     "shell.execute_reply": "2022-11-18T10:39:17.290896Z",
     "shell.execute_reply.started": "2022-11-18T10:34:07.756053Z"
    },
    "papermill": {
     "duration": 0.125221,
     "end_time": "2022-11-18T10:39:17.291607",
     "exception": false,
     "start_time": "2022-11-18T10:39:17.166386",
     "status": "completed"
    },
    "tags": []
   },
   "source": [
    "data['Updated_Day']=data['Last Updated'].dt.day\n",
    "data['Updated_Month']=data['Last Updated'].dt.month\n",
    "data['Updated_Year']=data['Last Updated'].dt.year"
   ],
   "outputs": [],
   "execution_count": null
  },
  {
   "cell_type": "code",
   "id": "d5cc7344",
   "metadata": {
    "execution": {
     "iopub.execute_input": "2022-11-18T10:39:17.519025Z",
     "iopub.status.busy": "2022-11-18T10:39:17.517819Z",
     "iopub.status.idle": "2022-11-18T10:39:17.525043Z",
     "shell.execute_reply": "2022-11-18T10:39:17.524334Z",
     "shell.execute_reply.started": "2022-11-18T10:34:07.768824Z"
    },
    "papermill": {
     "duration": 0.122826,
     "end_time": "2022-11-18T10:39:17.525197",
     "exception": false,
     "start_time": "2022-11-18T10:39:17.402371",
     "status": "completed"
    },
    "tags": []
   },
   "source": [
    "data.drop('Last Updated', axis=1, inplace=True)"
   ],
   "outputs": [],
   "execution_count": null
  },
  {
   "cell_type": "code",
   "id": "80d88ee4",
   "metadata": {
    "execution": {
     "iopub.execute_input": "2022-11-18T10:39:17.760538Z",
     "iopub.status.busy": "2022-11-18T10:39:17.759542Z",
     "iopub.status.idle": "2022-11-18T10:39:17.763628Z",
     "shell.execute_reply": "2022-11-18T10:39:17.764302Z",
     "shell.execute_reply.started": "2022-11-18T10:34:07.778495Z"
    },
    "papermill": {
     "duration": 0.131544,
     "end_time": "2022-11-18T10:39:17.764492",
     "exception": false,
     "start_time": "2022-11-18T10:39:17.632948",
     "status": "completed"
    },
    "tags": []
   },
   "source": [
    "data.head()"
   ],
   "outputs": [],
   "execution_count": null
  },
  {
   "cell_type": "code",
   "id": "499f1fbd",
   "metadata": {
    "execution": {
     "iopub.execute_input": "2022-11-18T10:39:17.995195Z",
     "iopub.status.busy": "2022-11-18T10:39:17.994473Z",
     "iopub.status.idle": "2022-11-18T10:39:18.006396Z",
     "shell.execute_reply": "2022-11-18T10:39:18.006897Z",
     "shell.execute_reply.started": "2022-11-18T10:34:07.808120Z"
    },
    "papermill": {
     "duration": 0.131603,
     "end_time": "2022-11-18T10:39:18.007133",
     "exception": false,
     "start_time": "2022-11-18T10:39:17.875530",
     "status": "completed"
    },
    "tags": []
   },
   "source": [
    "data.info()"
   ],
   "outputs": [],
   "execution_count": null
  },
  {
   "cell_type": "code",
   "id": "405c3163",
   "metadata": {
    "execution": {
     "iopub.execute_input": "2022-11-18T10:39:18.893577Z",
     "iopub.status.busy": "2022-11-18T10:39:18.892512Z",
     "iopub.status.idle": "2022-11-18T10:39:18.909335Z",
     "shell.execute_reply": "2022-11-18T10:39:18.909906Z",
     "shell.execute_reply.started": "2022-11-18T10:34:07.828819Z"
    },
    "papermill": {
     "duration": 0.138395,
     "end_time": "2022-11-18T10:39:18.910098",
     "exception": false,
     "start_time": "2022-11-18T10:39:18.771703",
     "status": "completed"
    },
    "tags": []
   },
   "source": [
    "null = pd.DataFrame({'Null Values' : data.isna().sum().sort_values(ascending=False), 'Percentage Null Values' : (data.isna().sum().sort_values(ascending=False)) / (data.shape[0]) * (100)})\n",
    "null"
   ],
   "outputs": [],
   "execution_count": null
  },
  {
   "cell_type": "code",
   "id": "220c598b",
   "metadata": {
    "execution": {
     "iopub.execute_input": "2022-11-18T10:39:19.130460Z",
     "iopub.status.busy": "2022-11-18T10:39:19.129788Z",
     "iopub.status.idle": "2022-11-18T10:39:19.552640Z",
     "shell.execute_reply": "2022-11-18T10:39:19.553171Z",
     "shell.execute_reply.started": "2022-11-18T10:34:07.854501Z"
    },
    "papermill": {
     "duration": 0.534635,
     "end_time": "2022-11-18T10:39:19.553384",
     "exception": false,
     "start_time": "2022-11-18T10:39:19.018749",
     "status": "completed"
    },
    "tags": []
   },
   "source": [
    "null_counts = data.isna().sum().sort_values(ascending=False)/len(data)\n",
    "plt.figure(figsize=(16,8))\n",
    "plt.xticks(np.arange(len(null_counts))+0.5,null_counts.index,rotation='vertical')\n",
    "plt.ylabel('fraction of rows with missing data')\n",
    "plt.bar(np.arange(len(null_counts)),null_counts)"
   ],
   "outputs": [],
   "execution_count": null
  },
  {
   "cell_type": "markdown",
   "id": "346b4525",
   "metadata": {
    "papermill": {
     "duration": 0.120357,
     "end_time": "2022-11-18T10:39:19.784627",
     "exception": false,
     "start_time": "2022-11-18T10:39:19.664270",
     "status": "completed"
    },
    "tags": []
   },
   "source": [
    "* I Clean missing values using Random Value Imputation Because This the best way to To maintain distrbuation For each feature."
   ]
  },
  {
   "cell_type": "code",
   "id": "91cf6f63",
   "metadata": {
    "execution": {
     "iopub.execute_input": "2022-11-18T10:39:20.014171Z",
     "iopub.status.busy": "2022-11-18T10:39:20.013479Z",
     "iopub.status.idle": "2022-11-18T10:39:20.016637Z",
     "shell.execute_reply": "2022-11-18T10:39:20.016121Z",
     "shell.execute_reply.started": "2022-11-18T10:34:08.286927Z"
    },
    "papermill": {
     "duration": 0.120332,
     "end_time": "2022-11-18T10:39:20.016804",
     "exception": false,
     "start_time": "2022-11-18T10:39:19.896472",
     "status": "completed"
    },
    "tags": []
   },
   "source": [
    "### lets create a function so that I can easily do it for all features\n",
    "def Random_value_imputation(feature):\n",
    "    random_sample=data[feature].dropna().sample(data[feature].isnull().sum())               \n",
    "    random_sample.index=data[data[feature].isnull()].index\n",
    "    data.loc[data[feature].isnull(),feature]=random_sample"
   ],
   "outputs": [],
   "execution_count": null
  },
  {
   "cell_type": "code",
   "id": "fa8c756e",
   "metadata": {
    "execution": {
     "iopub.execute_input": "2022-11-18T10:39:20.259944Z",
     "iopub.status.busy": "2022-11-18T10:39:20.254737Z",
     "iopub.status.idle": "2022-11-18T10:39:20.297356Z",
     "shell.execute_reply": "2022-11-18T10:39:20.296667Z",
     "shell.execute_reply.started": "2022-11-18T10:34:08.293163Z"
    },
    "papermill": {
     "duration": 0.170594,
     "end_time": "2022-11-18T10:39:20.297509",
     "exception": false,
     "start_time": "2022-11-18T10:39:20.126915",
     "status": "completed"
    },
    "tags": []
   },
   "source": [
    "for col in data:\n",
    "    Random_value_imputation(col)"
   ],
   "outputs": [],
   "execution_count": null
  },
  {
   "cell_type": "code",
   "id": "8cd66608",
   "metadata": {
    "execution": {
     "iopub.execute_input": "2022-11-18T10:39:20.531101Z",
     "iopub.status.busy": "2022-11-18T10:39:20.530418Z",
     "iopub.status.idle": "2022-11-18T10:39:20.548388Z",
     "shell.execute_reply": "2022-11-18T10:39:20.548923Z",
     "shell.execute_reply.started": "2022-11-18T10:34:08.353953Z"
    },
    "papermill": {
     "duration": 0.140569,
     "end_time": "2022-11-18T10:39:20.549105",
     "exception": false,
     "start_time": "2022-11-18T10:39:20.408536",
     "status": "completed"
    },
    "tags": []
   },
   "source": [
    "null = pd.DataFrame({'Null Values' : data.isna().sum().sort_values(ascending=False), 'Percentage Null Values' : (data.isna().sum().sort_values(ascending=False)) / (data.shape[0]) * (100)})\n",
    "null"
   ],
   "outputs": [],
   "execution_count": null
  },
  {
   "cell_type": "code",
   "id": "62e39be0",
   "metadata": {
    "execution": {
     "iopub.execute_input": "2022-11-18T10:39:20.775647Z",
     "iopub.status.busy": "2022-11-18T10:39:20.774985Z",
     "iopub.status.idle": "2022-11-18T10:39:21.140668Z",
     "shell.execute_reply": "2022-11-18T10:39:21.139992Z",
     "shell.execute_reply.started": "2022-11-18T10:34:08.379734Z"
    },
    "papermill": {
     "duration": 0.480287,
     "end_time": "2022-11-18T10:39:21.140845",
     "exception": false,
     "start_time": "2022-11-18T10:39:20.660558",
     "status": "completed"
    },
    "tags": []
   },
   "source": [
    "null_counts = data.isna().sum().sort_values(ascending=False)/len(data)\n",
    "plt.figure(figsize=(16,8))\n",
    "plt.xticks(np.arange(len(null_counts))+0.5,null_counts.index,rotation='vertical')\n",
    "plt.ylabel('fraction of rows with missing data')\n",
    "plt.bar(np.arange(len(null_counts)),null_counts)"
   ],
   "outputs": [],
   "execution_count": null
  },
  {
   "cell_type": "markdown",
   "id": "49503215",
   "metadata": {
    "papermill": {
     "duration": 0.115424,
     "end_time": "2022-11-18T10:39:21.369632",
     "exception": false,
     "start_time": "2022-11-18T10:39:21.254208",
     "status": "completed"
    },
    "tags": []
   },
   "source": [
    "<a id = '6.0'></a>\n",
    "<p style = \"font-size : 35px; color : #E0FFFF ; font-family : 'Comic Sans MS'; text-align : center; background-color : #4682B4; border-radius: 5px 5px;\"><strong>delete data duplicated</strong></p>"
   ]
  },
  {
   "cell_type": "code",
   "id": "96186985",
   "metadata": {
    "execution": {
     "iopub.execute_input": "2022-11-18T10:39:21.605430Z",
     "iopub.status.busy": "2022-11-18T10:39:21.604728Z",
     "iopub.status.idle": "2022-11-18T10:39:21.625388Z",
     "shell.execute_reply": "2022-11-18T10:39:21.625952Z",
     "shell.execute_reply.started": "2022-11-18T10:34:08.745373Z"
    },
    "papermill": {
     "duration": 0.142892,
     "end_time": "2022-11-18T10:39:21.626169",
     "exception": false,
     "start_time": "2022-11-18T10:39:21.483277",
     "status": "completed"
    },
    "tags": []
   },
   "source": [
    "duplicate = data.duplicated()\n",
    "print(duplicate.sum())"
   ],
   "outputs": [],
   "execution_count": null
  },
  {
   "cell_type": "code",
   "id": "8a18dc43",
   "metadata": {
    "execution": {
     "iopub.execute_input": "2022-11-18T10:39:21.864837Z",
     "iopub.status.busy": "2022-11-18T10:39:21.864148Z",
     "iopub.status.idle": "2022-11-18T10:39:21.881404Z",
     "shell.execute_reply": "2022-11-18T10:39:21.880644Z",
     "shell.execute_reply.started": "2022-11-18T10:34:08.770845Z"
    },
    "papermill": {
     "duration": 0.13911,
     "end_time": "2022-11-18T10:39:21.881557",
     "exception": false,
     "start_time": "2022-11-18T10:39:21.742447",
     "status": "completed"
    },
    "tags": []
   },
   "source": [
    "data.drop_duplicates(inplace=True)"
   ],
   "outputs": [],
   "execution_count": null
  },
  {
   "cell_type": "code",
   "id": "9d3c5c54",
   "metadata": {
    "execution": {
     "iopub.execute_input": "2022-11-18T10:39:22.118682Z",
     "iopub.status.busy": "2022-11-18T10:39:22.118015Z",
     "iopub.status.idle": "2022-11-18T10:39:22.135305Z",
     "shell.execute_reply": "2022-11-18T10:39:22.134579Z",
     "shell.execute_reply.started": "2022-11-18T10:34:08.792472Z"
    },
    "papermill": {
     "duration": 0.138375,
     "end_time": "2022-11-18T10:39:22.135496",
     "exception": false,
     "start_time": "2022-11-18T10:39:21.997121",
     "status": "completed"
    },
    "tags": []
   },
   "source": [
    "duplicate = data.duplicated()\n",
    "print(duplicate.sum())"
   ],
   "outputs": [],
   "execution_count": null
  },
  {
   "cell_type": "markdown",
   "id": "fa2f5227",
   "metadata": {
    "papermill": {
     "duration": 0.114461,
     "end_time": "2022-11-18T10:39:22.364383",
     "exception": false,
     "start_time": "2022-11-18T10:39:22.249922",
     "status": "completed"
    },
    "tags": []
   },
   "source": [
    "<a id = '5.0'></a>\n",
    "<p style = \"font-size : 35px; color : #E0FFFF ; font-family : 'Comic Sans MS'; text-align : center; background-color : #4682B4; border-radius: 5px 5px;\"><strong> Extract Numerical & Categorical Features</strong></p> "
   ]
  },
  {
   "cell_type": "code",
   "id": "b626f624",
   "metadata": {
    "execution": {
     "iopub.execute_input": "2022-11-18T10:39:22.603016Z",
     "iopub.status.busy": "2022-11-18T10:39:22.601899Z",
     "iopub.status.idle": "2022-11-18T10:39:22.606479Z",
     "shell.execute_reply": "2022-11-18T10:39:22.605909Z",
     "shell.execute_reply.started": "2022-11-18T10:34:08.815465Z"
    },
    "papermill": {
     "duration": 0.127144,
     "end_time": "2022-11-18T10:39:22.606640",
     "exception": false,
     "start_time": "2022-11-18T10:39:22.479496",
     "status": "completed"
    },
    "tags": []
   },
   "source": [
    "num_features=[col for col in data.columns if data[col].dtype!='O']\n",
    "num_features"
   ],
   "outputs": [],
   "execution_count": null
  },
  {
   "cell_type": "code",
   "id": "81174186",
   "metadata": {
    "execution": {
     "iopub.execute_input": "2022-11-18T10:39:22.853284Z",
     "iopub.status.busy": "2022-11-18T10:39:22.852314Z",
     "iopub.status.idle": "2022-11-18T10:39:22.855906Z",
     "shell.execute_reply": "2022-11-18T10:39:22.856393Z",
     "shell.execute_reply.started": "2022-11-18T10:34:08.825305Z"
    },
    "papermill": {
     "duration": 0.135176,
     "end_time": "2022-11-18T10:39:22.856584",
     "exception": false,
     "start_time": "2022-11-18T10:39:22.721408",
     "status": "completed"
    },
    "tags": []
   },
   "source": [
    "num_data = data[num_features]\n",
    "num_data.head()"
   ],
   "outputs": [],
   "execution_count": null
  },
  {
   "cell_type": "code",
   "id": "f1125d35",
   "metadata": {
    "execution": {
     "iopub.execute_input": "2022-11-18T10:39:23.087837Z",
     "iopub.status.busy": "2022-11-18T10:39:23.086873Z",
     "iopub.status.idle": "2022-11-18T10:39:23.093143Z",
     "shell.execute_reply": "2022-11-18T10:39:23.093671Z",
     "shell.execute_reply.started": "2022-11-18T10:34:08.844974Z"
    },
    "papermill": {
     "duration": 0.123768,
     "end_time": "2022-11-18T10:39:23.093867",
     "exception": false,
     "start_time": "2022-11-18T10:39:22.970099",
     "status": "completed"
    },
    "tags": []
   },
   "source": [
    "cat_features=[col for col in data.columns if data[col].dtype=='O']\n",
    "cat_features"
   ],
   "outputs": [],
   "execution_count": null
  },
  {
   "cell_type": "code",
   "id": "31ca5144",
   "metadata": {
    "execution": {
     "iopub.execute_input": "2022-11-18T10:39:23.328148Z",
     "iopub.status.busy": "2022-11-18T10:39:23.325964Z",
     "iopub.status.idle": "2022-11-18T10:39:23.341944Z",
     "shell.execute_reply": "2022-11-18T10:39:23.341065Z",
     "shell.execute_reply.started": "2022-11-18T10:34:08.857445Z"
    },
    "papermill": {
     "duration": 0.133824,
     "end_time": "2022-11-18T10:39:23.342111",
     "exception": false,
     "start_time": "2022-11-18T10:39:23.208287",
     "status": "completed"
    },
    "tags": []
   },
   "source": [
    "categorical=data[cat_features]\n",
    "categorical.head()"
   ],
   "outputs": [],
   "execution_count": null
  },
  {
   "cell_type": "markdown",
   "id": "19239eda",
   "metadata": {
    "papermill": {
     "duration": 0.117523,
     "end_time": "2022-11-18T10:39:23.578306",
     "exception": false,
     "start_time": "2022-11-18T10:39:23.460783",
     "status": "completed"
    },
    "tags": []
   },
   "source": [
    "<a id = '7.0'></a>\n",
    "<p style = \"font-size : 35px; color : #E0FFFF ; font-family : 'Comic Sans MS'; text-align : center; background-color : #4682B4; border-radius: 5px 5px;\"><strong>Check Qutliers</strong></p>"
   ]
  },
  {
   "cell_type": "markdown",
   "id": "a84b49c4",
   "metadata": {
    "papermill": {
     "duration": 0.116761,
     "end_time": "2022-11-18T10:39:23.812390",
     "exception": false,
     "start_time": "2022-11-18T10:39:23.695629",
     "status": "completed"
    },
    "tags": []
   },
   "source": [
    "![Picture3.jpg](data:image/jpeg;base64,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)"
   ]
  },
  {
   "cell_type": "code",
   "id": "7f696d97",
   "metadata": {
    "execution": {
     "iopub.execute_input": "2022-11-18T10:39:24.047638Z",
     "iopub.status.busy": "2022-11-18T10:39:24.046906Z",
     "iopub.status.idle": "2022-11-18T10:39:24.051538Z",
     "shell.execute_reply": "2022-11-18T10:39:24.052178Z",
     "shell.execute_reply.started": "2022-11-18T10:34:08.883732Z"
    },
    "papermill": {
     "duration": 0.123554,
     "end_time": "2022-11-18T10:39:24.052369",
     "exception": false,
     "start_time": "2022-11-18T10:39:23.928815",
     "status": "completed"
    },
    "tags": []
   },
   "source": [
    "def outlier_thresholds(dataframe, variable):\n",
    "    quartile1 = dataframe[variable].quantile(0.10)\n",
    "    quartile3 = dataframe[variable].quantile(0.90)\n",
    "    interquantile_range = quartile3 - quartile1\n",
    "    up_limit = quartile3 + 1.5 * interquantile_range\n",
    "    low_limit = quartile1 - 1.5 * interquantile_range\n",
    "    return low_limit, up_limit"
   ],
   "outputs": [],
   "execution_count": null
  },
  {
   "cell_type": "code",
   "id": "a70319dc",
   "metadata": {
    "execution": {
     "iopub.execute_input": "2022-11-18T10:39:24.286669Z",
     "iopub.status.busy": "2022-11-18T10:39:24.285952Z",
     "iopub.status.idle": "2022-11-18T10:39:24.290450Z",
     "shell.execute_reply": "2022-11-18T10:39:24.291026Z",
     "shell.execute_reply.started": "2022-11-18T10:34:08.891292Z"
    },
    "papermill": {
     "duration": 0.123558,
     "end_time": "2022-11-18T10:39:24.291220",
     "exception": false,
     "start_time": "2022-11-18T10:39:24.167662",
     "status": "completed"
    },
    "tags": []
   },
   "source": [
    "def has_outliers(dataframe, variable):\n",
    "    low_limit, up_limit = outlier_thresholds(dataframe, variable)\n",
    "    if dataframe[(dataframe[variable] < low_limit) | (dataframe[variable] > up_limit)].any(axis=None):\n",
    "        print(variable, \"yes\")\n",
    "    print(variable, \"no\")"
   ],
   "outputs": [],
   "execution_count": null
  },
  {
   "cell_type": "code",
   "id": "c5a421c2",
   "metadata": {
    "execution": {
     "iopub.execute_input": "2022-11-18T10:39:24.528678Z",
     "iopub.status.busy": "2022-11-18T10:39:24.527998Z",
     "iopub.status.idle": "2022-11-18T10:39:24.569115Z",
     "shell.execute_reply": "2022-11-18T10:39:24.568555Z",
     "shell.execute_reply.started": "2022-11-18T10:34:08.903217Z"
    },
    "papermill": {
     "duration": 0.160154,
     "end_time": "2022-11-18T10:39:24.569269",
     "exception": false,
     "start_time": "2022-11-18T10:39:24.409115",
     "status": "completed"
    },
    "tags": []
   },
   "source": [
    "for col in num_data.columns:\n",
    "    has_outliers(num_data, col)"
   ],
   "outputs": [],
   "execution_count": null
  },
  {
   "cell_type": "code",
   "id": "3f290a0e",
   "metadata": {
    "execution": {
     "iopub.execute_input": "2022-11-18T10:39:24.828588Z",
     "iopub.status.busy": "2022-11-18T10:39:24.827855Z",
     "iopub.status.idle": "2022-11-18T10:39:25.615803Z",
     "shell.execute_reply": "2022-11-18T10:39:25.615247Z",
     "shell.execute_reply.started": "2022-11-18T10:34:08.950616Z"
    },
    "papermill": {
     "duration": 0.929611,
     "end_time": "2022-11-18T10:39:25.615961",
     "exception": false,
     "start_time": "2022-11-18T10:39:24.686350",
     "status": "completed"
    },
    "tags": []
   },
   "source": [
    "plt.figure(figsize=(22,18))\n",
    "for i,col in enumerate(num_data.columns):\n",
    "    plt.subplot(4,9,i+1)\n",
    "    sns.boxplot(num_data[col])"
   ],
   "outputs": [],
   "execution_count": null
  },
  {
   "cell_type": "code",
   "id": "28671a19",
   "metadata": {
    "execution": {
     "iopub.execute_input": "2022-11-18T10:39:25.857270Z",
     "iopub.status.busy": "2022-11-18T10:39:25.856223Z",
     "iopub.status.idle": "2022-11-18T10:39:25.859039Z",
     "shell.execute_reply": "2022-11-18T10:39:25.858487Z",
     "shell.execute_reply.started": "2022-11-18T10:34:09.732567Z"
    },
    "papermill": {
     "duration": 0.127011,
     "end_time": "2022-11-18T10:39:25.859197",
     "exception": false,
     "start_time": "2022-11-18T10:39:25.732186",
     "status": "completed"
    },
    "tags": []
   },
   "source": [
    "## function to get ride of qutliers\n",
    "def replace_with_thresholds(dataframe, numeric_columns):\n",
    "    for variable in numeric_columns:\n",
    "        low_limit, up_limit = outlier_thresholds(dataframe, variable)\n",
    "        dataframe.loc[(dataframe[variable] < low_limit), variable] = low_limit\n",
    "        dataframe.loc[(dataframe[variable] > up_limit), variable] = up_limit"
   ],
   "outputs": [],
   "execution_count": null
  },
  {
   "cell_type": "code",
   "id": "8b3f8e1d",
   "metadata": {
    "execution": {
     "iopub.execute_input": "2022-11-18T10:39:26.100920Z",
     "iopub.status.busy": "2022-11-18T10:39:26.100181Z",
     "iopub.status.idle": "2022-11-18T10:39:26.127704Z",
     "shell.execute_reply": "2022-11-18T10:39:26.128266Z",
     "shell.execute_reply.started": "2022-11-18T10:34:09.740317Z"
    },
    "papermill": {
     "duration": 0.150726,
     "end_time": "2022-11-18T10:39:26.128512",
     "exception": false,
     "start_time": "2022-11-18T10:39:25.977786",
     "status": "completed"
    },
    "tags": []
   },
   "source": [
    "replace_with_thresholds(num_data, num_data.columns)"
   ],
   "outputs": [],
   "execution_count": null
  },
  {
   "cell_type": "code",
   "id": "ac00f801",
   "metadata": {
    "execution": {
     "iopub.execute_input": "2022-11-18T10:39:26.367041Z",
     "iopub.status.busy": "2022-11-18T10:39:26.366360Z",
     "iopub.status.idle": "2022-11-18T10:39:26.401507Z",
     "shell.execute_reply": "2022-11-18T10:39:26.402103Z",
     "shell.execute_reply.started": "2022-11-18T10:34:09.777273Z"
    },
    "papermill": {
     "duration": 0.156853,
     "end_time": "2022-11-18T10:39:26.402302",
     "exception": false,
     "start_time": "2022-11-18T10:39:26.245449",
     "status": "completed"
    },
    "tags": []
   },
   "source": [
    "for col in num_data.columns:\n",
    "    has_outliers(num_data, col)"
   ],
   "outputs": [],
   "execution_count": null
  },
  {
   "cell_type": "code",
   "id": "233c5629",
   "metadata": {
    "execution": {
     "iopub.execute_input": "2022-11-18T10:39:26.668364Z",
     "iopub.status.busy": "2022-11-18T10:39:26.667314Z",
     "iopub.status.idle": "2022-11-18T10:39:27.632119Z",
     "shell.execute_reply": "2022-11-18T10:39:27.632638Z",
     "shell.execute_reply.started": "2022-11-18T10:34:09.816380Z"
    },
    "papermill": {
     "duration": 1.112106,
     "end_time": "2022-11-18T10:39:27.632838",
     "exception": false,
     "start_time": "2022-11-18T10:39:26.520732",
     "status": "completed"
    },
    "tags": []
   },
   "source": [
    "plt.figure(figsize=(22,18))\n",
    "for i,col in enumerate(num_data.columns):\n",
    "    plt.subplot(4,9,i+1)\n",
    "    sns.boxplot(num_data[col])"
   ],
   "outputs": [],
   "execution_count": null
  },
  {
   "cell_type": "markdown",
   "id": "183fdd24",
   "metadata": {
    "papermill": {
     "duration": 0.118212,
     "end_time": "2022-11-18T10:39:27.869275",
     "exception": false,
     "start_time": "2022-11-18T10:39:27.751063",
     "status": "completed"
    },
    "tags": []
   },
   "source": [
    "<a id = '8.0'></a>\n",
    "<p style = \"font-size : 35px; color : #E0FFFF ; font-family : 'Comic Sans MS'; text-align : center; background-color : #4682B4; border-radius: 5px 5px;\"><strong>Exploratory Data Analysis (EDA)</strong></p>"
   ]
  },
  {
   "cell_type": "markdown",
   "id": "305b0791",
   "metadata": {
    "papermill": {
     "duration": 0.116817,
     "end_time": "2022-11-18T10:39:28.104053",
     "exception": false,
     "start_time": "2022-11-18T10:39:27.987236",
     "status": "completed"
    },
    "tags": []
   },
   "source": [
    "###  What is EDA ?\n",
    "is an approach for data analysis that emeploys a variety of technics (mostly graphical) to  \n",
    "*  maximize insight into a dataset\n",
    "*   uncover underlying structure     \n",
    "*   extract important variables      \n",
    "*   answer questions "
   ]
  },
  {
   "cell_type": "markdown",
   "id": "540ec593",
   "metadata": {
    "papermill": {
     "duration": 0.117082,
     "end_time": "2022-11-18T10:39:28.338245",
     "exception": false,
     "start_time": "2022-11-18T10:39:28.221163",
     "status": "completed"
    },
    "tags": []
   },
   "source": [
    "### EDA Checklist\n",
    "1. What question(s) are you trying to solve ? \n",
    "2. What kind of data do you have and how do you treat different types? \n",
    "3. What do you get after visualize your data?\n",
    "4. What is your observation "
   ]
  },
  {
   "cell_type": "markdown",
   "id": "d68d29f4",
   "metadata": {
    "papermill": {
     "duration": 0.117013,
     "end_time": "2022-11-18T10:39:28.572136",
     "exception": false,
     "start_time": "2022-11-18T10:39:28.455123",
     "status": "completed"
    },
    "tags": []
   },
   "source": [
    "![rsz_495857667-doubting-businessman-business-concept-vector-illustration.jpg](data:image/jpeg;base64,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)"
   ]
  },
  {
   "cell_type": "markdown",
   "id": "1cecf9aa",
   "metadata": {
    "papermill": {
     "duration": 0.121562,
     "end_time": "2022-11-18T10:39:28.812790",
     "exception": false,
     "start_time": "2022-11-18T10:39:28.691228",
     "status": "completed"
    },
    "tags": []
   },
   "source": [
    "<a id = '8.0'></a>\n",
    "<p style = \"font-size : 35px; color : #E0FFFF ; font-family : 'Comic Sans MS'; text-align : center; background-color : #008000; border-radius: 5px 5px;\"><strong>Category Column</strong></p>"
   ]
  },
  {
   "cell_type": "code",
   "id": "125c4ef3",
   "metadata": {
    "execution": {
     "iopub.execute_input": "2022-11-18T10:39:29.059163Z",
     "iopub.status.busy": "2022-11-18T10:39:29.058147Z",
     "iopub.status.idle": "2022-11-18T10:39:29.062697Z",
     "shell.execute_reply": "2022-11-18T10:39:29.062041Z",
     "shell.execute_reply.started": "2022-11-18T10:34:10.756440Z"
    },
    "papermill": {
     "duration": 0.132049,
     "end_time": "2022-11-18T10:39:29.062862",
     "exception": false,
     "start_time": "2022-11-18T10:39:28.930813",
     "status": "completed"
    },
    "tags": []
   },
   "source": [
    "categorical['Category'].value_counts()"
   ],
   "outputs": [],
   "execution_count": null
  },
  {
   "cell_type": "code",
   "id": "c68f7e7f",
   "metadata": {
    "execution": {
     "iopub.execute_input": "2022-11-18T10:39:29.305444Z",
     "iopub.status.busy": "2022-11-18T10:39:29.304701Z",
     "iopub.status.idle": "2022-11-18T10:39:29.908757Z",
     "shell.execute_reply": "2022-11-18T10:39:29.909273Z",
     "shell.execute_reply.started": "2022-11-18T10:34:10.767272Z"
    },
    "papermill": {
     "duration": 0.728198,
     "end_time": "2022-11-18T10:39:29.909452",
     "exception": false,
     "start_time": "2022-11-18T10:39:29.181254",
     "status": "completed"
    },
    "tags": []
   },
   "source": [
    "plt.rcParams['figure.figsize'] = (20, 10)\n",
    "sns.countplot(x='Category',data=data)\n",
    "plt.xticks(rotation=70)"
   ],
   "outputs": [],
   "execution_count": null
  },
  {
   "cell_type": "code",
   "id": "4d16417b",
   "metadata": {
    "execution": {
     "iopub.execute_input": "2022-11-18T10:39:30.161960Z",
     "iopub.status.busy": "2022-11-18T10:39:30.160989Z",
     "iopub.status.idle": "2022-11-18T10:39:32.146574Z",
     "shell.execute_reply": "2022-11-18T10:39:32.147114Z",
     "shell.execute_reply.started": "2022-11-18T10:34:11.366950Z"
    },
    "papermill": {
     "duration": 2.113896,
     "end_time": "2022-11-18T10:39:32.147303",
     "exception": false,
     "start_time": "2022-11-18T10:39:30.033407",
     "status": "completed"
    },
    "tags": []
   },
   "source": [
    "plt.subplots(figsize=(25,15))\n",
    "wordcloud = WordCloud(\n",
    "                          background_color='black',\n",
    "                          width=1920,\n",
    "                          height=1080\n",
    "                         ).generate(\" \".join(data.Category))\n",
    "plt.imshow(wordcloud)\n",
    "plt.axis('off')\n",
    "plt.show()"
   ],
   "outputs": [],
   "execution_count": null
  },
  {
   "cell_type": "code",
   "id": "fb5df951",
   "metadata": {
    "execution": {
     "iopub.execute_input": "2022-11-18T10:39:32.441838Z",
     "iopub.status.busy": "2022-11-18T10:39:32.440809Z",
     "iopub.status.idle": "2022-11-18T10:39:32.515384Z",
     "shell.execute_reply": "2022-11-18T10:39:32.515937Z",
     "shell.execute_reply.started": "2022-11-18T10:34:13.281653Z"
    },
    "papermill": {
     "duration": 0.225159,
     "end_time": "2022-11-18T10:39:32.516120",
     "exception": false,
     "start_time": "2022-11-18T10:39:32.290961",
     "status": "completed"
    },
    "tags": []
   },
   "source": [
    "Category1 = data[data.Category==\"GAME\"].Rating\n",
    "Category2 = data[data.Category==\"FAMILY\"].Rating\n",
    "Category3 = data[data.Category==\"MEDICAL\"].Rating\n",
    "\n",
    "fig = go.Figure()\n",
    "fig.add_trace(go.Box(x=Category1, name='GAME'))\n",
    "fig.add_trace(go.Box(x=Category2, name='FAMILY'))\n",
    "fig.add_trace(go.Box(x=Category3, name='MEDICAL'))\n",
    "\n",
    "fig.show()"
   ],
   "outputs": [],
   "execution_count": null
  },
  {
   "cell_type": "markdown",
   "id": "b7a152a4",
   "metadata": {
    "papermill": {
     "duration": 0.155877,
     "end_time": "2022-11-18T10:39:32.830950",
     "exception": false,
     "start_time": "2022-11-18T10:39:32.675073",
     "status": "completed"
    },
    "tags": []
   },
   "source": [
    "### Category vs Rating Analysis"
   ]
  },
  {
   "cell_type": "code",
   "id": "d2e776bd",
   "metadata": {
    "execution": {
     "iopub.execute_input": "2022-11-18T10:39:33.144036Z",
     "iopub.status.busy": "2022-11-18T10:39:33.143028Z",
     "iopub.status.idle": "2022-11-18T10:39:34.127950Z",
     "shell.execute_reply": "2022-11-18T10:39:34.128484Z",
     "shell.execute_reply.started": "2022-11-18T10:34:13.353082Z"
    },
    "papermill": {
     "duration": 1.142478,
     "end_time": "2022-11-18T10:39:34.128664",
     "exception": false,
     "start_time": "2022-11-18T10:39:32.986186",
     "status": "completed"
    },
    "tags": []
   },
   "source": [
    "plt.figure(figsize=(20,15))\n",
    "sns.boxplot(y='Rating',x='Category',data = data.sort_values('Rating',ascending=False))\n",
    "plt.xticks(rotation=80)"
   ],
   "outputs": [],
   "execution_count": null
  },
  {
   "cell_type": "markdown",
   "id": "cebe62d0",
   "metadata": {
    "papermill": {
     "duration": 0.160898,
     "end_time": "2022-11-18T10:39:34.456513",
     "exception": false,
     "start_time": "2022-11-18T10:39:34.295615",
     "status": "completed"
    },
    "tags": []
   },
   "source": [
    "<a id = '8.0'></a>\n",
    "<p style = \"font-size : 35px; color : #E0FFFF ; font-family : 'Comic Sans MS'; text-align : center; background-color : #008000; border-radius: 5px 5px;\"><strong>Type Column</strong></p>"
   ]
  },
  {
   "cell_type": "code",
   "id": "fff3fd00",
   "metadata": {
    "execution": {
     "iopub.execute_input": "2022-11-18T10:39:34.781952Z",
     "iopub.status.busy": "2022-11-18T10:39:34.781202Z",
     "iopub.status.idle": "2022-11-18T10:39:34.788348Z",
     "shell.execute_reply": "2022-11-18T10:39:34.788982Z",
     "shell.execute_reply.started": "2022-11-18T10:34:14.339332Z"
    },
    "papermill": {
     "duration": 0.173044,
     "end_time": "2022-11-18T10:39:34.789171",
     "exception": false,
     "start_time": "2022-11-18T10:39:34.616127",
     "status": "completed"
    },
    "tags": []
   },
   "source": [
    "categorical['Type'].value_counts()"
   ],
   "outputs": [],
   "execution_count": null
  },
  {
   "cell_type": "code",
   "id": "d2babbc2",
   "metadata": {
    "execution": {
     "iopub.execute_input": "2022-11-18T10:39:35.117501Z",
     "iopub.status.busy": "2022-11-18T10:39:35.116817Z",
     "iopub.status.idle": "2022-11-18T10:39:35.324931Z",
     "shell.execute_reply": "2022-11-18T10:39:35.325528Z",
     "shell.execute_reply.started": "2022-11-18T10:34:14.353644Z"
    },
    "papermill": {
     "duration": 0.372931,
     "end_time": "2022-11-18T10:39:35.325754",
     "exception": false,
     "start_time": "2022-11-18T10:39:34.952823",
     "status": "completed"
    },
    "tags": []
   },
   "source": [
    "plt.rcParams['figure.figsize'] = (8,5)\n",
    "sns.countplot(x='Type',data=data)\n",
    "plt.xticks(rotation=70)"
   ],
   "outputs": [],
   "execution_count": null
  },
  {
   "cell_type": "code",
   "id": "709112d1",
   "metadata": {
    "execution": {
     "iopub.execute_input": "2022-11-18T10:39:35.657822Z",
     "iopub.status.busy": "2022-11-18T10:39:35.656989Z",
     "iopub.status.idle": "2022-11-18T10:39:35.792084Z",
     "shell.execute_reply": "2022-11-18T10:39:35.791061Z",
     "shell.execute_reply.started": "2022-11-18T10:34:14.594636Z"
    },
    "papermill": {
     "duration": 0.303078,
     "end_time": "2022-11-18T10:39:35.792257",
     "exception": false,
     "start_time": "2022-11-18T10:39:35.489179",
     "status": "completed"
    },
    "tags": []
   },
   "source": [
    "data[\"Type\"].value_counts().plot.pie(autopct = \"%1.1f%%\")"
   ],
   "outputs": [],
   "execution_count": null
  },
  {
   "cell_type": "markdown",
   "id": "a310d089",
   "metadata": {
    "papermill": {
     "duration": 0.16409,
     "end_time": "2022-11-18T10:39:36.123272",
     "exception": false,
     "start_time": "2022-11-18T10:39:35.959182",
     "status": "completed"
    },
    "tags": []
   },
   "source": [
    "### Type vs Rating Analysis"
   ]
  },
  {
   "cell_type": "code",
   "id": "1b079433",
   "metadata": {
    "execution": {
     "iopub.execute_input": "2022-11-18T10:39:36.455220Z",
     "iopub.status.busy": "2022-11-18T10:39:36.454426Z",
     "iopub.status.idle": "2022-11-18T10:39:36.806418Z",
     "shell.execute_reply": "2022-11-18T10:39:36.805766Z",
     "shell.execute_reply.started": "2022-11-18T10:34:14.725289Z"
    },
    "papermill": {
     "duration": 0.518742,
     "end_time": "2022-11-18T10:39:36.806565",
     "exception": false,
     "start_time": "2022-11-18T10:39:36.287823",
     "status": "completed"
    },
    "tags": []
   },
   "source": [
    "plt.figure(figsize=(15,8))\n",
    "sns.catplot(y='Rating',x='Type',data = data.sort_values('Rating',ascending=False),kind='boxen')"
   ],
   "outputs": [],
   "execution_count": null
  },
  {
   "cell_type": "markdown",
   "id": "69da0367",
   "metadata": {
    "papermill": {
     "duration": 0.164608,
     "end_time": "2022-11-18T10:39:37.136851",
     "exception": false,
     "start_time": "2022-11-18T10:39:36.972243",
     "status": "completed"
    },
    "tags": []
   },
   "source": [
    "<a id = '8.0'></a>\n",
    "<p style = \"font-size : 35px; color : #E0FFFF ; font-family : 'Comic Sans MS'; text-align : center; background-color : #008000; border-radius: 5px 5px;\"><strong>Content Rating Column</strong></p>"
   ]
  },
  {
   "cell_type": "code",
   "id": "d0a0a1a9",
   "metadata": {
    "execution": {
     "iopub.execute_input": "2022-11-18T10:39:37.476050Z",
     "iopub.status.busy": "2022-11-18T10:39:37.475354Z",
     "iopub.status.idle": "2022-11-18T10:39:37.479415Z",
     "shell.execute_reply": "2022-11-18T10:39:37.478900Z",
     "shell.execute_reply.started": "2022-11-18T10:34:15.075027Z"
    },
    "papermill": {
     "duration": 0.178048,
     "end_time": "2022-11-18T10:39:37.479560",
     "exception": false,
     "start_time": "2022-11-18T10:39:37.301512",
     "status": "completed"
    },
    "tags": []
   },
   "source": [
    "categorical['Content Rating'].value_counts()"
   ],
   "outputs": [],
   "execution_count": null
  },
  {
   "cell_type": "code",
   "id": "e0b31801",
   "metadata": {
    "execution": {
     "iopub.execute_input": "2022-11-18T10:39:37.852347Z",
     "iopub.status.busy": "2022-11-18T10:39:37.848830Z",
     "iopub.status.idle": "2022-11-18T10:39:38.161928Z",
     "shell.execute_reply": "2022-11-18T10:39:38.162392Z",
     "shell.execute_reply.started": "2022-11-18T10:34:15.086108Z"
    },
    "papermill": {
     "duration": 0.503508,
     "end_time": "2022-11-18T10:39:38.162577",
     "exception": false,
     "start_time": "2022-11-18T10:39:37.659069",
     "status": "completed"
    },
    "tags": []
   },
   "source": [
    "plt.rcParams['figure.figsize'] = (20, 10)\n",
    "sns.countplot(x='Content Rating',data=data)\n",
    "plt.xticks(rotation=70)"
   ],
   "outputs": [],
   "execution_count": null
  },
  {
   "cell_type": "code",
   "id": "95dc9532",
   "metadata": {
    "execution": {
     "iopub.execute_input": "2022-11-18T10:39:38.532647Z",
     "iopub.status.busy": "2022-11-18T10:39:38.531940Z",
     "iopub.status.idle": "2022-11-18T10:39:38.739767Z",
     "shell.execute_reply": "2022-11-18T10:39:38.740248Z",
     "shell.execute_reply.started": "2022-11-18T10:34:15.419231Z"
    },
    "papermill": {
     "duration": 0.403363,
     "end_time": "2022-11-18T10:39:38.740435",
     "exception": false,
     "start_time": "2022-11-18T10:39:38.337072",
     "status": "completed"
    },
    "tags": []
   },
   "source": [
    "# pie chart\n",
    "values = data['Content Rating'].value_counts()\n",
    "labels = ['Everyone', 'Teen', 'Mature 17+','Everyone 10+','Adults only 18+','Unrated']\n",
    "\n",
    "fig, ax = plt.subplots(figsize = (12, 8), dpi = 100)\n",
    "explode = (0,0,0,0,0,.02)\n",
    "\n",
    "patches, texts, autotexts = ax.pie(values, labels = labels, autopct = '%1.2f%%', shadow = True,\n",
    "                                   startangle = 0, explode = explode)\n",
    "\n",
    "plt.setp(texts, color = 'grey')\n",
    "plt.setp(autotexts, size = 15, color = 'white')\n",
    "autotexts[1].set_color('black')\n",
    "plt.show()"
   ],
   "outputs": [],
   "execution_count": null
  },
  {
   "cell_type": "markdown",
   "id": "0389d886",
   "metadata": {
    "papermill": {
     "duration": 0.171113,
     "end_time": "2022-11-18T10:39:39.086177",
     "exception": false,
     "start_time": "2022-11-18T10:39:38.915064",
     "status": "completed"
    },
    "tags": []
   },
   "source": [
    "### Content Rating vs Rating Analysis"
   ]
  },
  {
   "cell_type": "code",
   "id": "f5a4ba0d",
   "metadata": {
    "execution": {
     "iopub.execute_input": "2022-11-18T10:39:39.443141Z",
     "iopub.status.busy": "2022-11-18T10:39:39.442085Z",
     "iopub.status.idle": "2022-11-18T10:39:39.805690Z",
     "shell.execute_reply": "2022-11-18T10:39:39.805009Z",
     "shell.execute_reply.started": "2022-11-18T10:34:15.647944Z"
    },
    "papermill": {
     "duration": 0.542691,
     "end_time": "2022-11-18T10:39:39.805866",
     "exception": false,
     "start_time": "2022-11-18T10:39:39.263175",
     "status": "completed"
    },
    "tags": []
   },
   "source": [
    "plt.figure(figsize=(12,8))\n",
    "sns.boxplot(y='Rating',x='Content Rating',data = data.sort_values('Rating',ascending=False))\n",
    "plt.xticks(rotation=90)"
   ],
   "outputs": [],
   "execution_count": null
  },
  {
   "cell_type": "code",
   "id": "7723b34c",
   "metadata": {
    "execution": {
     "iopub.execute_input": "2022-11-18T10:39:40.167402Z",
     "iopub.status.busy": "2022-11-18T10:39:40.166643Z",
     "iopub.status.idle": "2022-11-18T10:39:40.824565Z",
     "shell.execute_reply": "2022-11-18T10:39:40.823913Z",
     "shell.execute_reply.started": "2022-11-18T10:34:16.013533Z"
    },
    "papermill": {
     "duration": 0.845273,
     "end_time": "2022-11-18T10:39:40.824741",
     "exception": false,
     "start_time": "2022-11-18T10:39:39.979468",
     "status": "completed"
    },
    "tags": []
   },
   "source": [
    "plt.figure(figsize=(12,8))\n",
    "sns.barplot(x=\"Content Rating\", y=\"Installs\", hue=\"Type\", data=data)"
   ],
   "outputs": [],
   "execution_count": null
  },
  {
   "cell_type": "markdown",
   "id": "e8327ba1",
   "metadata": {
    "papermill": {
     "duration": 0.173878,
     "end_time": "2022-11-18T10:39:41.175804",
     "exception": false,
     "start_time": "2022-11-18T10:39:41.001926",
     "status": "completed"
    },
    "tags": []
   },
   "source": [
    "<a id = '8.0'></a>\n",
    "<p style = \"font-size : 35px; color : #E0FFFF ; font-family : 'Comic Sans MS'; text-align : center; background-color : #008000; border-radius: 5px 5px;\"><strong>Genres Column</strong></p>"
   ]
  },
  {
   "cell_type": "code",
   "id": "025523af",
   "metadata": {
    "execution": {
     "iopub.execute_input": "2022-11-18T10:39:41.531050Z",
     "iopub.status.busy": "2022-11-18T10:39:41.530345Z",
     "iopub.status.idle": "2022-11-18T10:39:41.533022Z",
     "shell.execute_reply": "2022-11-18T10:39:41.533543Z",
     "shell.execute_reply.started": "2022-11-18T10:34:16.675433Z"
    },
    "papermill": {
     "duration": 0.185165,
     "end_time": "2022-11-18T10:39:41.533740",
     "exception": false,
     "start_time": "2022-11-18T10:39:41.348575",
     "status": "completed"
    },
    "tags": []
   },
   "source": [
    "categorical['Genres'].value_counts()"
   ],
   "outputs": [],
   "execution_count": null
  },
  {
   "cell_type": "code",
   "id": "b8e1da36",
   "metadata": {
    "execution": {
     "iopub.execute_input": "2022-11-18T10:39:41.895134Z",
     "iopub.status.busy": "2022-11-18T10:39:41.894399Z",
     "iopub.status.idle": "2022-11-18T10:39:45.043428Z",
     "shell.execute_reply": "2022-11-18T10:39:45.044060Z",
     "shell.execute_reply.started": "2022-11-18T10:34:16.687491Z"
    },
    "papermill": {
     "duration": 3.338419,
     "end_time": "2022-11-18T10:39:45.044284",
     "exception": false,
     "start_time": "2022-11-18T10:39:41.705865",
     "status": "completed"
    },
    "tags": []
   },
   "source": [
    "plt.rcParams['figure.figsize'] = (20, 10)\n",
    "sns.countplot(x='Genres',data=data)\n",
    "plt.xticks(rotation=90)"
   ],
   "outputs": [],
   "execution_count": null
  },
  {
   "cell_type": "markdown",
   "id": "9894dc56",
   "metadata": {
    "papermill": {
     "duration": 0.183457,
     "end_time": "2022-11-18T10:39:45.413366",
     "exception": false,
     "start_time": "2022-11-18T10:39:45.229909",
     "status": "completed"
    },
    "tags": []
   },
   "source": [
    "### Content Rating vs Genres Analysis"
   ]
  },
  {
   "cell_type": "code",
   "id": "5afde94f",
   "metadata": {
    "execution": {
     "iopub.execute_input": "2022-11-18T10:39:45.784570Z",
     "iopub.status.busy": "2022-11-18T10:39:45.783627Z",
     "iopub.status.idle": "2022-11-18T10:39:50.332806Z",
     "shell.execute_reply": "2022-11-18T10:39:50.333437Z",
     "shell.execute_reply.started": "2022-11-18T10:34:19.850875Z"
    },
    "papermill": {
     "duration": 4.738575,
     "end_time": "2022-11-18T10:39:50.333627",
     "exception": false,
     "start_time": "2022-11-18T10:39:45.595052",
     "status": "completed"
    },
    "tags": []
   },
   "source": [
    "plt.figure(figsize=(20,15))\n",
    "sns.boxplot(y='Rating',x='Genres',data = data.sort_values('Rating',ascending=False))\n",
    "plt.xticks(rotation=90)"
   ],
   "outputs": [],
   "execution_count": null
  },
  {
   "cell_type": "markdown",
   "id": "b1468f0b",
   "metadata": {
    "papermill": {
     "duration": 0.190781,
     "end_time": "2022-11-18T10:39:50.716935",
     "exception": false,
     "start_time": "2022-11-18T10:39:50.526154",
     "status": "completed"
    },
    "tags": []
   },
   "source": [
    "<a id = '8.0'></a>\n",
    "<p style = \"font-size : 35px; color : #E0FFFF ; font-family : 'Comic Sans MS'; text-align : center; background-color : #008000; border-radius: 5px 5px;\"><strong>Current Ver Column</strong></p>"
   ]
  },
  {
   "cell_type": "code",
   "id": "0df10af9",
   "metadata": {
    "execution": {
     "iopub.execute_input": "2022-11-18T10:39:51.119187Z",
     "iopub.status.busy": "2022-11-18T10:39:51.118497Z",
     "iopub.status.idle": "2022-11-18T10:39:51.129534Z",
     "shell.execute_reply": "2022-11-18T10:39:51.128978Z",
     "shell.execute_reply.started": "2022-11-18T10:34:24.360585Z"
    },
    "papermill": {
     "duration": 0.212523,
     "end_time": "2022-11-18T10:39:51.129692",
     "exception": false,
     "start_time": "2022-11-18T10:39:50.917169",
     "status": "completed"
    },
    "tags": []
   },
   "source": [
    "categorical['Current Ver'].value_counts()"
   ],
   "outputs": [],
   "execution_count": null
  },
  {
   "cell_type": "markdown",
   "id": "e1683191",
   "metadata": {
    "papermill": {
     "duration": 0.256891,
     "end_time": "2022-11-18T10:39:51.586161",
     "exception": false,
     "start_time": "2022-11-18T10:39:51.329270",
     "status": "completed"
    },
    "tags": []
   },
   "source": [
    "<a id = '8.0'></a>\n",
    "<p style = \"font-size : 35px; color : #E0FFFF ; font-family : 'Comic Sans MS'; text-align : center; background-color : #008000; border-radius: 5px 5px;\"><strong>Android Ver Column</strong></p>"
   ]
  },
  {
   "cell_type": "code",
   "id": "1faef321",
   "metadata": {
    "execution": {
     "iopub.execute_input": "2022-11-18T10:39:51.989732Z",
     "iopub.status.busy": "2022-11-18T10:39:51.989027Z",
     "iopub.status.idle": "2022-11-18T10:39:51.997561Z",
     "shell.execute_reply": "2022-11-18T10:39:51.998171Z",
     "shell.execute_reply.started": "2022-11-18T10:34:24.375875Z"
    },
    "papermill": {
     "duration": 0.214905,
     "end_time": "2022-11-18T10:39:51.998371",
     "exception": false,
     "start_time": "2022-11-18T10:39:51.783466",
     "status": "completed"
    },
    "tags": []
   },
   "source": [
    "categorical['Android Ver'].value_counts()"
   ],
   "outputs": [],
   "execution_count": null
  },
  {
   "cell_type": "code",
   "id": "82f17e58",
   "metadata": {
    "execution": {
     "iopub.execute_input": "2022-11-18T10:39:52.400905Z",
     "iopub.status.busy": "2022-11-18T10:39:52.400202Z",
     "iopub.status.idle": "2022-11-18T10:39:52.914283Z",
     "shell.execute_reply": "2022-11-18T10:39:52.913551Z",
     "shell.execute_reply.started": "2022-11-18T10:34:24.401832Z"
    },
    "papermill": {
     "duration": 0.71415,
     "end_time": "2022-11-18T10:39:52.914436",
     "exception": false,
     "start_time": "2022-11-18T10:39:52.200286",
     "status": "completed"
    },
    "tags": []
   },
   "source": [
    "plt.rcParams['figure.figsize'] = (20, 10)\n",
    "sns.countplot(x='Android Ver',data=data)\n",
    "plt.xticks(rotation=30)"
   ],
   "outputs": [],
   "execution_count": null
  },
  {
   "cell_type": "markdown",
   "id": "b371ffe3",
   "metadata": {
    "papermill": {
     "duration": 0.201176,
     "end_time": "2022-11-18T10:39:53.320213",
     "exception": false,
     "start_time": "2022-11-18T10:39:53.119037",
     "status": "completed"
    },
    "tags": []
   },
   "source": [
    "### Content Rating vs Android Ver Analysis"
   ]
  },
  {
   "cell_type": "code",
   "id": "8bc1c4e5",
   "metadata": {
    "execution": {
     "iopub.execute_input": "2022-11-18T10:39:53.726619Z",
     "iopub.status.busy": "2022-11-18T10:39:53.723175Z",
     "iopub.status.idle": "2022-11-18T10:39:54.672755Z",
     "shell.execute_reply": "2022-11-18T10:39:54.673362Z",
     "shell.execute_reply.started": "2022-11-18T10:34:24.950895Z"
    },
    "papermill": {
     "duration": 1.152519,
     "end_time": "2022-11-18T10:39:54.673550",
     "exception": false,
     "start_time": "2022-11-18T10:39:53.521031",
     "status": "completed"
    },
    "tags": []
   },
   "source": [
    "plt.figure(figsize=(20,15))\n",
    "sns.boxplot(y='Rating',x='Android Ver',data = data.sort_values('Rating',ascending=False))\n",
    "plt.xticks(rotation=90)"
   ],
   "outputs": [],
   "execution_count": null
  },
  {
   "cell_type": "markdown",
   "id": "f1752655",
   "metadata": {
    "papermill": {
     "duration": 0.198554,
     "end_time": "2022-11-18T10:39:55.078945",
     "exception": false,
     "start_time": "2022-11-18T10:39:54.880391",
     "status": "completed"
    },
    "tags": []
   },
   "source": [
    "### Defining violin and scatter plot & kde_plot functions"
   ]
  },
  {
   "cell_type": "code",
   "id": "4e56de88",
   "metadata": {
    "execution": {
     "iopub.execute_input": "2022-11-18T10:39:55.478419Z",
     "iopub.status.busy": "2022-11-18T10:39:55.477312Z",
     "iopub.status.idle": "2022-11-18T10:39:55.480265Z",
     "shell.execute_reply": "2022-11-18T10:39:55.479428Z",
     "shell.execute_reply.started": "2022-11-18T10:34:25.932624Z"
    },
    "papermill": {
     "duration": 0.206742,
     "end_time": "2022-11-18T10:39:55.480590",
     "exception": false,
     "start_time": "2022-11-18T10:39:55.273848",
     "status": "completed"
    },
    "tags": []
   },
   "source": [
    "def violin(col):\n",
    "    fig = px.violin(data, y=col, x=\"Type\", color=\"Type\", box=True , template = 'plotly_dark')\n",
    "    return fig.show()\n",
    "\n",
    "def scatters(col1,col2):\n",
    "    fig = px.scatter(data, x=col1, y=col2, color=\"Type\" ,template = 'plotly_dark')\n",
    "    return fig.show()\n",
    "\n",
    "def kde_plot(feature):\n",
    "    grid = sns.FacetGrid(data, hue=\"Type\",aspect=2)\n",
    "    grid.map(sns.kdeplot, feature)\n",
    "    grid.add_legend()"
   ],
   "outputs": [],
   "execution_count": null
  },
  {
   "cell_type": "markdown",
   "id": "7481196b",
   "metadata": {
    "papermill": {
     "duration": 0.194972,
     "end_time": "2022-11-18T10:39:55.872626",
     "exception": false,
     "start_time": "2022-11-18T10:39:55.677654",
     "status": "completed"
    },
    "tags": []
   },
   "source": [
    "* kde_plot Analysis"
   ]
  },
  {
   "cell_type": "code",
   "id": "88e296a5",
   "metadata": {
    "execution": {
     "iopub.execute_input": "2022-11-18T10:39:56.271734Z",
     "iopub.status.busy": "2022-11-18T10:39:56.270160Z",
     "iopub.status.idle": "2022-11-18T10:39:56.644910Z",
     "shell.execute_reply": "2022-11-18T10:39:56.644193Z",
     "shell.execute_reply.started": "2022-11-18T10:34:25.940317Z"
    },
    "papermill": {
     "duration": 0.576545,
     "end_time": "2022-11-18T10:39:56.645062",
     "exception": false,
     "start_time": "2022-11-18T10:39:56.068517",
     "status": "completed"
    },
    "tags": []
   },
   "source": [
    "kde_plot('Rating')"
   ],
   "outputs": [],
   "execution_count": null
  },
  {
   "cell_type": "code",
   "id": "13ab1ce3",
   "metadata": {
    "execution": {
     "iopub.execute_input": "2022-11-18T10:39:57.043228Z",
     "iopub.status.busy": "2022-11-18T10:39:57.042400Z",
     "iopub.status.idle": "2022-11-18T10:39:57.411638Z",
     "shell.execute_reply": "2022-11-18T10:39:57.412178Z",
     "shell.execute_reply.started": "2022-11-18T10:34:26.412570Z"
    },
    "papermill": {
     "duration": 0.571213,
     "end_time": "2022-11-18T10:39:57.412363",
     "exception": false,
     "start_time": "2022-11-18T10:39:56.841150",
     "status": "completed"
    },
    "tags": []
   },
   "source": [
    "kde_plot('Updated_Day')"
   ],
   "outputs": [],
   "execution_count": null
  },
  {
   "cell_type": "code",
   "id": "38f88c15",
   "metadata": {
    "execution": {
     "iopub.execute_input": "2022-11-18T10:39:57.812334Z",
     "iopub.status.busy": "2022-11-18T10:39:57.811561Z",
     "iopub.status.idle": "2022-11-18T10:39:58.191631Z",
     "shell.execute_reply": "2022-11-18T10:39:58.190741Z",
     "shell.execute_reply.started": "2022-11-18T10:34:26.869069Z"
    },
    "papermill": {
     "duration": 0.581717,
     "end_time": "2022-11-18T10:39:58.191835",
     "exception": false,
     "start_time": "2022-11-18T10:39:57.610118",
     "status": "completed"
    },
    "tags": []
   },
   "source": [
    "kde_plot('Size')"
   ],
   "outputs": [],
   "execution_count": null
  },
  {
   "cell_type": "code",
   "id": "e5306386",
   "metadata": {
    "execution": {
     "iopub.execute_input": "2022-11-18T10:39:58.604185Z",
     "iopub.status.busy": "2022-11-18T10:39:58.603478Z",
     "iopub.status.idle": "2022-11-18T10:39:58.980887Z",
     "shell.execute_reply": "2022-11-18T10:39:58.981430Z",
     "shell.execute_reply.started": "2022-11-18T10:34:27.347330Z"
    },
    "papermill": {
     "duration": 0.585442,
     "end_time": "2022-11-18T10:39:58.981613",
     "exception": false,
     "start_time": "2022-11-18T10:39:58.396171",
     "status": "completed"
    },
    "tags": []
   },
   "source": [
    "kde_plot('Updated_Month')"
   ],
   "outputs": [],
   "execution_count": null
  },
  {
   "cell_type": "code",
   "id": "bb54e9b6",
   "metadata": {
    "execution": {
     "iopub.execute_input": "2022-11-18T10:39:59.387746Z",
     "iopub.status.busy": "2022-11-18T10:39:59.386994Z",
     "iopub.status.idle": "2022-11-18T10:39:59.707374Z",
     "shell.execute_reply": "2022-11-18T10:39:59.708230Z",
     "shell.execute_reply.started": "2022-11-18T10:34:27.824362Z"
    },
    "papermill": {
     "duration": 0.52731,
     "end_time": "2022-11-18T10:39:59.708498",
     "exception": false,
     "start_time": "2022-11-18T10:39:59.181188",
     "status": "completed"
    },
    "tags": []
   },
   "source": [
    "kde_plot('Price')"
   ],
   "outputs": [],
   "execution_count": null
  },
  {
   "cell_type": "code",
   "id": "1d552bf3",
   "metadata": {
    "execution": {
     "iopub.execute_input": "2022-11-18T10:40:00.124986Z",
     "iopub.status.busy": "2022-11-18T10:40:00.124131Z",
     "iopub.status.idle": "2022-11-18T10:40:00.495309Z",
     "shell.execute_reply": "2022-11-18T10:40:00.494297Z",
     "shell.execute_reply.started": "2022-11-18T10:34:28.213733Z"
    },
    "papermill": {
     "duration": 0.575069,
     "end_time": "2022-11-18T10:40:00.495478",
     "exception": false,
     "start_time": "2022-11-18T10:39:59.920409",
     "status": "completed"
    },
    "tags": []
   },
   "source": [
    "kde_plot('Updated_Year')"
   ],
   "outputs": [],
   "execution_count": null
  },
  {
   "cell_type": "markdown",
   "id": "23437395",
   "metadata": {
    "papermill": {
     "duration": 0.205232,
     "end_time": "2022-11-18T10:40:00.908666",
     "exception": false,
     "start_time": "2022-11-18T10:40:00.703434",
     "status": "completed"
    },
    "tags": []
   },
   "source": [
    "* scatter plot Analysis"
   ]
  },
  {
   "cell_type": "code",
   "id": "c4de50f7",
   "metadata": {
    "execution": {
     "iopub.execute_input": "2022-11-18T10:40:01.317021Z",
     "iopub.status.busy": "2022-11-18T10:40:01.316205Z",
     "iopub.status.idle": "2022-11-18T10:40:02.490277Z",
     "shell.execute_reply": "2022-11-18T10:40:02.490958Z",
     "shell.execute_reply.started": "2022-11-18T10:34:28.674808Z"
    },
    "papermill": {
     "duration": 1.379665,
     "end_time": "2022-11-18T10:40:02.491165",
     "exception": false,
     "start_time": "2022-11-18T10:40:01.111500",
     "status": "completed"
    },
    "tags": []
   },
   "source": [
    "scatters('Price', 'Updated_Year')"
   ],
   "outputs": [],
   "execution_count": null
  },
  {
   "cell_type": "code",
   "id": "7f54cd0a",
   "metadata": {
    "execution": {
     "iopub.execute_input": "2022-11-18T10:40:03.014411Z",
     "iopub.status.busy": "2022-11-18T10:40:03.013698Z",
     "iopub.status.idle": "2022-11-18T10:40:03.209129Z",
     "shell.execute_reply": "2022-11-18T10:40:03.209813Z",
     "shell.execute_reply.started": "2022-11-18T10:34:29.769929Z"
    },
    "papermill": {
     "duration": 0.455714,
     "end_time": "2022-11-18T10:40:03.210013",
     "exception": false,
     "start_time": "2022-11-18T10:40:02.754299",
     "status": "completed"
    },
    "tags": []
   },
   "source": [
    "scatters('Size', 'Rating')"
   ],
   "outputs": [],
   "execution_count": null
  },
  {
   "cell_type": "code",
   "id": "d2ff1c1b",
   "metadata": {
    "execution": {
     "iopub.execute_input": "2022-11-18T10:40:03.870078Z",
     "iopub.status.busy": "2022-11-18T10:40:03.862042Z",
     "iopub.status.idle": "2022-11-18T10:40:04.025661Z",
     "shell.execute_reply": "2022-11-18T10:40:04.026315Z",
     "shell.execute_reply.started": "2022-11-18T10:34:29.964349Z"
    },
    "papermill": {
     "duration": 0.496847,
     "end_time": "2022-11-18T10:40:04.026500",
     "exception": false,
     "start_time": "2022-11-18T10:40:03.529653",
     "status": "completed"
    },
    "tags": []
   },
   "source": [
    "scatters('Size', 'Installs')"
   ],
   "outputs": [],
   "execution_count": null
  },
  {
   "cell_type": "code",
   "id": "600b2f3a",
   "metadata": {
    "execution": {
     "iopub.execute_input": "2022-11-18T10:40:04.765679Z",
     "iopub.status.busy": "2022-11-18T10:40:04.765034Z",
     "iopub.status.idle": "2022-11-18T10:40:05.165772Z",
     "shell.execute_reply": "2022-11-18T10:40:05.166363Z",
     "shell.execute_reply.started": "2022-11-18T10:34:30.501479Z"
    },
    "papermill": {
     "duration": 0.769632,
     "end_time": "2022-11-18T10:40:05.166564",
     "exception": false,
     "start_time": "2022-11-18T10:40:04.396932",
     "status": "completed"
    },
    "tags": []
   },
   "source": [
    "scatters('Updated_Month', 'Installs')"
   ],
   "outputs": [],
   "execution_count": null
  },
  {
   "cell_type": "code",
   "id": "356470ce",
   "metadata": {
    "execution": {
     "iopub.execute_input": "2022-11-18T10:40:06.009300Z",
     "iopub.status.busy": "2022-11-18T10:40:06.008564Z",
     "iopub.status.idle": "2022-11-18T10:40:06.189944Z",
     "shell.execute_reply": "2022-11-18T10:40:06.190559Z",
     "shell.execute_reply.started": "2022-11-18T10:34:30.657971Z"
    },
    "papermill": {
     "duration": 0.603884,
     "end_time": "2022-11-18T10:40:06.190777",
     "exception": false,
     "start_time": "2022-11-18T10:40:05.586893",
     "status": "completed"
    },
    "tags": []
   },
   "source": [
    "scatters('Reviews', 'Rating')"
   ],
   "outputs": [],
   "execution_count": null
  },
  {
   "cell_type": "code",
   "id": "f1f062de",
   "metadata": {
    "execution": {
     "iopub.execute_input": "2022-11-18T10:40:07.132230Z",
     "iopub.status.busy": "2022-11-18T10:40:07.131235Z",
     "iopub.status.idle": "2022-11-18T10:40:07.317558Z",
     "shell.execute_reply": "2022-11-18T10:40:07.318207Z",
     "shell.execute_reply.started": "2022-11-18T10:34:30.822365Z"
    },
    "papermill": {
     "duration": 0.653201,
     "end_time": "2022-11-18T10:40:07.318408",
     "exception": false,
     "start_time": "2022-11-18T10:40:06.665207",
     "status": "completed"
    },
    "tags": []
   },
   "source": [
    "scatters('Rating', 'Price')"
   ],
   "outputs": [],
   "execution_count": null
  },
  {
   "cell_type": "markdown",
   "id": "107d0262",
   "metadata": {
    "papermill": {
     "duration": 0.517205,
     "end_time": "2022-11-18T10:40:08.361180",
     "exception": false,
     "start_time": "2022-11-18T10:40:07.843975",
     "status": "completed"
    },
    "tags": []
   },
   "source": [
    " * violin plot Analysis"
   ]
  },
  {
   "cell_type": "code",
   "id": "b6f9ffc4",
   "metadata": {
    "execution": {
     "iopub.execute_input": "2022-11-18T10:40:09.400920Z",
     "iopub.status.busy": "2022-11-18T10:40:09.399968Z",
     "iopub.status.idle": "2022-11-18T10:40:09.644962Z",
     "shell.execute_reply": "2022-11-18T10:40:09.645639Z",
     "shell.execute_reply.started": "2022-11-18T10:34:31.010362Z"
    },
    "papermill": {
     "duration": 0.76926,
     "end_time": "2022-11-18T10:40:09.645865",
     "exception": false,
     "start_time": "2022-11-18T10:40:08.876605",
     "status": "completed"
    },
    "tags": []
   },
   "source": [
    "violin('Rating')"
   ],
   "outputs": [],
   "execution_count": null
  },
  {
   "cell_type": "code",
   "id": "424fa01b",
   "metadata": {
    "execution": {
     "iopub.execute_input": "2022-11-18T10:40:10.820653Z",
     "iopub.status.busy": "2022-11-18T10:40:10.819947Z",
     "iopub.status.idle": "2022-11-18T10:40:11.005654Z",
     "shell.execute_reply": "2022-11-18T10:40:11.006443Z",
     "shell.execute_reply.started": "2022-11-18T10:34:31.236089Z"
    },
    "papermill": {
     "duration": 0.782887,
     "end_time": "2022-11-18T10:40:11.006763",
     "exception": false,
     "start_time": "2022-11-18T10:40:10.223876",
     "status": "completed"
    },
    "tags": []
   },
   "source": [
    "violin('Reviews')"
   ],
   "outputs": [],
   "execution_count": null
  },
  {
   "cell_type": "code",
   "id": "68d43f26",
   "metadata": {
    "execution": {
     "iopub.execute_input": "2022-11-18T10:40:12.268341Z",
     "iopub.status.busy": "2022-11-18T10:40:12.267609Z",
     "iopub.status.idle": "2022-11-18T10:40:12.467097Z",
     "shell.execute_reply": "2022-11-18T10:40:12.467801Z",
     "shell.execute_reply.started": "2022-11-18T10:34:31.411818Z"
    },
    "papermill": {
     "duration": 0.82614,
     "end_time": "2022-11-18T10:40:12.467998",
     "exception": false,
     "start_time": "2022-11-18T10:40:11.641858",
     "status": "completed"
    },
    "tags": []
   },
   "source": [
    "violin('Size')"
   ],
   "outputs": [],
   "execution_count": null
  },
  {
   "cell_type": "code",
   "id": "74eb058d",
   "metadata": {
    "execution": {
     "iopub.execute_input": "2022-11-18T10:40:13.871561Z",
     "iopub.status.busy": "2022-11-18T10:40:13.870527Z",
     "iopub.status.idle": "2022-11-18T10:40:14.055234Z",
     "shell.execute_reply": "2022-11-18T10:40:14.055931Z",
     "shell.execute_reply.started": "2022-11-18T10:34:31.602124Z"
    },
    "papermill": {
     "duration": 0.852871,
     "end_time": "2022-11-18T10:40:14.056126",
     "exception": false,
     "start_time": "2022-11-18T10:40:13.203255",
     "status": "completed"
    },
    "tags": []
   },
   "source": [
    "violin('Installs')"
   ],
   "outputs": [],
   "execution_count": null
  },
  {
   "cell_type": "code",
   "id": "ee3fdb9d",
   "metadata": {
    "execution": {
     "iopub.execute_input": "2022-11-18T10:40:15.508871Z",
     "iopub.status.busy": "2022-11-18T10:40:15.507914Z",
     "iopub.status.idle": "2022-11-18T10:40:15.702159Z",
     "shell.execute_reply": "2022-11-18T10:40:15.702877Z",
     "shell.execute_reply.started": "2022-11-18T10:34:31.775366Z"
    },
    "papermill": {
     "duration": 0.91868,
     "end_time": "2022-11-18T10:40:15.703080",
     "exception": false,
     "start_time": "2022-11-18T10:40:14.784400",
     "status": "completed"
    },
    "tags": []
   },
   "source": [
    "violin('Price')"
   ],
   "outputs": [],
   "execution_count": null
  },
  {
   "cell_type": "code",
   "id": "d0ddb21f",
   "metadata": {
    "execution": {
     "iopub.execute_input": "2022-11-18T10:40:17.313818Z",
     "iopub.status.busy": "2022-11-18T10:40:17.298822Z",
     "iopub.status.idle": "2022-11-18T10:40:17.502867Z",
     "shell.execute_reply": "2022-11-18T10:40:17.503613Z",
     "shell.execute_reply.started": "2022-11-18T10:34:31.957997Z"
    },
    "papermill": {
     "duration": 1.026018,
     "end_time": "2022-11-18T10:40:17.503853",
     "exception": false,
     "start_time": "2022-11-18T10:40:16.477835",
     "status": "completed"
    },
    "tags": []
   },
   "source": [
    "violin('Updated_Month')"
   ],
   "outputs": [],
   "execution_count": null
  },
  {
   "cell_type": "code",
   "id": "a981ec56",
   "metadata": {
    "execution": {
     "iopub.execute_input": "2022-11-18T10:40:19.159733Z",
     "iopub.status.busy": "2022-11-18T10:40:19.158986Z",
     "iopub.status.idle": "2022-11-18T10:40:19.331643Z",
     "shell.execute_reply": "2022-11-18T10:40:19.332341Z",
     "shell.execute_reply.started": "2022-11-18T10:34:32.135682Z"
    },
    "papermill": {
     "duration": 0.996518,
     "end_time": "2022-11-18T10:40:19.332528",
     "exception": false,
     "start_time": "2022-11-18T10:40:18.336010",
     "status": "completed"
    },
    "tags": []
   },
   "source": [
    "violin('Updated_Year')"
   ],
   "outputs": [],
   "execution_count": null
  },
  {
   "cell_type": "code",
   "id": "620268e3",
   "metadata": {
    "execution": {
     "iopub.execute_input": "2022-11-18T10:40:21.078220Z",
     "iopub.status.busy": "2022-11-18T10:40:21.077480Z",
     "iopub.status.idle": "2022-11-18T10:40:21.402674Z",
     "shell.execute_reply": "2022-11-18T10:40:21.403204Z",
     "shell.execute_reply.started": "2022-11-18T10:34:32.313179Z"
    },
    "papermill": {
     "duration": 1.207533,
     "end_time": "2022-11-18T10:40:21.403398",
     "exception": false,
     "start_time": "2022-11-18T10:40:20.195865",
     "status": "completed"
    },
    "tags": []
   },
   "source": [
    "freq= pd.Series()\n",
    "freq=data['Updated_Year'].value_counts()\n",
    "freq.plot()\n",
    "plt.xlabel(\"Dates\")\n",
    "plt.ylabel(\"Number of updates\")\n",
    "plt.title(\"Time series plot of Last Updates\")"
   ],
   "outputs": [],
   "execution_count": null
  },
  {
   "cell_type": "markdown",
   "id": "0b261b64",
   "metadata": {
    "papermill": {
     "duration": 0.907115,
     "end_time": "2022-11-18T10:40:23.197230",
     "exception": false,
     "start_time": "2022-11-18T10:40:22.290115",
     "status": "completed"
    },
    "tags": []
   },
   "source": [
    "<a id = '9.0'></a>\n",
    "<p style = \"font-size : 35px; color : #E0FFFF ; font-family : 'Comic Sans MS'; text-align : center; background-color : #4682B4; border-radius: 5px 5px;\"><strong>Check Co-relation</strong></p>\n"
   ]
  },
  {
   "cell_type": "code",
   "id": "a697c3a6",
   "metadata": {
    "execution": {
     "iopub.execute_input": "2022-11-18T10:40:24.898672Z",
     "iopub.status.busy": "2022-11-18T10:40:24.897991Z",
     "iopub.status.idle": "2022-11-18T10:40:24.909341Z",
     "shell.execute_reply": "2022-11-18T10:40:24.910180Z",
     "shell.execute_reply.started": "2022-11-18T10:34:32.668274Z"
    },
    "papermill": {
     "duration": 0.86945,
     "end_time": "2022-11-18T10:40:24.910394",
     "exception": false,
     "start_time": "2022-11-18T10:40:24.040944",
     "status": "completed"
    },
    "tags": []
   },
   "source": [
    "corelation = pd.DataFrame({'corelation' : data.corr()[\"Rating\"].abs().sort_values(ascending=False)[1:]})\n",
    "corelation"
   ],
   "outputs": [],
   "execution_count": null
  },
  {
   "cell_type": "code",
   "id": "f2cadfab",
   "metadata": {
    "execution": {
     "iopub.execute_input": "2022-11-18T10:40:26.618497Z",
     "iopub.status.busy": "2022-11-18T10:40:26.617781Z",
     "iopub.status.idle": "2022-11-18T10:40:27.300758Z",
     "shell.execute_reply": "2022-11-18T10:40:27.301311Z",
     "shell.execute_reply.started": "2022-11-18T10:34:32.687493Z"
    },
    "papermill": {
     "duration": 1.539953,
     "end_time": "2022-11-18T10:40:27.301496",
     "exception": false,
     "start_time": "2022-11-18T10:40:25.761543",
     "status": "completed"
    },
    "tags": []
   },
   "source": [
    "plt.figure(figsize=(10,8))\n",
    "corelation = data.corr()\n",
    "sns.heatmap(corelation,annot=True ,linewidths=0.5,linecolor=\"black\", fmt= '.1f' ,cmap='gray_r')"
   ],
   "outputs": [],
   "execution_count": null
  },
  {
   "cell_type": "markdown",
   "id": "6f815f09",
   "metadata": {
    "papermill": {
     "duration": 0.855626,
     "end_time": "2022-11-18T10:40:29.022033",
     "exception": false,
     "start_time": "2022-11-18T10:40:28.166407",
     "status": "completed"
    },
    "tags": []
   },
   "source": [
    "<a id = '6.0'></a>\n",
    "<p style = \"font-size : 35px; color : #E0FFFF ; font-family : 'Comic Sans MS'; text-align : center; background-color : #4682B4; border-radius: 5px 5px;\"><strong>Separate dependent & independent features</strong></p>"
   ]
  },
  {
   "cell_type": "code",
   "id": "c5995917",
   "metadata": {
    "execution": {
     "iopub.execute_input": "2022-11-18T10:40:30.730034Z",
     "iopub.status.busy": "2022-11-18T10:40:30.729332Z",
     "iopub.status.idle": "2022-11-18T10:40:30.731921Z",
     "shell.execute_reply": "2022-11-18T10:40:30.732515Z",
     "shell.execute_reply.started": "2022-11-18T10:34:33.375667Z"
    },
    "papermill": {
     "duration": 0.860242,
     "end_time": "2022-11-18T10:40:30.732703",
     "exception": false,
     "start_time": "2022-11-18T10:40:29.872461",
     "status": "completed"
    },
    "tags": []
   },
   "source": [
    "y=data['Rating']\n",
    "X=num_data\n",
    "cols=X.columns\n",
    "cols"
   ],
   "outputs": [],
   "execution_count": null
  },
  {
   "metadata": {},
   "cell_type": "code",
   "source": "X",
   "id": "d72b98a8475e51e6",
   "outputs": [],
   "execution_count": null
  },
  {
   "cell_type": "markdown",
   "id": "34a839f0",
   "metadata": {
    "papermill": {
     "duration": 0.913147,
     "end_time": "2022-11-18T10:40:32.493609",
     "exception": false,
     "start_time": "2022-11-18T10:40:31.580462",
     "status": "completed"
    },
    "tags": []
   },
   "source": [
    "<a id = '7.0'></a>\n",
    "<p style = \"font-size : 35px; color : #E0FFFF ; font-family : 'Comic Sans MS'; text-align : center; background-color : #4682B4; border-radius: 5px 5px;\"><strong>Splitting Dataset</strong></p>\n"
   ]
  },
  {
   "cell_type": "code",
   "id": "f3e42d26",
   "metadata": {
    "execution": {
     "iopub.execute_input": "2022-11-18T10:40:34.222138Z",
     "iopub.status.busy": "2022-11-18T10:40:34.221378Z",
     "iopub.status.idle": "2022-11-18T10:40:34.247053Z",
     "shell.execute_reply": "2022-11-18T10:40:34.246234Z",
     "shell.execute_reply.started": "2022-11-18T10:34:33.382970Z"
    },
    "papermill": {
     "duration": 0.873238,
     "end_time": "2022-11-18T10:40:34.247241",
     "exception": false,
     "start_time": "2022-11-18T10:40:33.374003",
     "status": "completed"
    },
    "tags": []
   },
   "source": [
    "from sklearn.model_selection import train_test_split\n",
    "x_train,x_test,y_train,y_test=train_test_split(X,y,train_size=0.75,random_state=0)"
   ],
   "outputs": [],
   "execution_count": null
  },
  {
   "cell_type": "code",
   "id": "69a564ad",
   "metadata": {
    "execution": {
     "iopub.execute_input": "2022-11-18T10:40:35.959411Z",
     "iopub.status.busy": "2022-11-18T10:40:35.957895Z",
     "iopub.status.idle": "2022-11-18T10:40:35.960146Z",
     "shell.execute_reply": "2022-11-18T10:40:35.960629Z",
     "shell.execute_reply.started": "2022-11-18T10:34:33.410365Z"
    },
    "papermill": {
     "duration": 0.862191,
     "end_time": "2022-11-18T10:40:35.960854",
     "exception": false,
     "start_time": "2022-11-18T10:40:35.098663",
     "status": "completed"
    },
    "tags": []
   },
   "source": [
    "# Import Libraries\n",
    "from sklearn.preprocessing import StandardScaler"
   ],
   "outputs": [],
   "execution_count": null
  },
  {
   "cell_type": "code",
   "id": "ca333ee1",
   "metadata": {
    "execution": {
     "iopub.execute_input": "2022-11-18T10:40:37.690374Z",
     "iopub.status.busy": "2022-11-18T10:40:37.689620Z",
     "iopub.status.idle": "2022-11-18T10:40:37.701575Z",
     "shell.execute_reply": "2022-11-18T10:40:37.700945Z",
     "shell.execute_reply.started": "2022-11-18T10:34:33.417136Z"
    },
    "papermill": {
     "duration": 0.881242,
     "end_time": "2022-11-18T10:40:37.701742",
     "exception": false,
     "start_time": "2022-11-18T10:40:36.820500",
     "status": "completed"
    },
    "tags": []
   },
   "source": [
    "#Creating a StandardScaler object to normalize the X train and test set feature data\n",
    "scaler = StandardScaler()\n",
    "X_train = scaler.fit_transform(x_train)\n",
    "X_test = scaler.transform(x_test)\n"
   ],
   "outputs": [],
   "execution_count": null
  },
  {
   "cell_type": "markdown",
   "id": "693bfb28",
   "metadata": {
    "papermill": {
     "duration": 0.863835,
     "end_time": "2022-11-18T10:40:39.421341",
     "exception": false,
     "start_time": "2022-11-18T10:40:38.557506",
     "status": "completed"
    },
    "tags": []
   },
   "source": [
    "<a id = '13.0'></a>\n",
    "<p style = \"font-size : 35px; color : #E0FFFF ; font-family : 'Comic Sans MS'; text-align : center; background-color : #4682B4; border-radius: 5px 5px;\"><strong>Defining function For ML model</strong></p>"
   ]
  },
  {
   "cell_type": "code",
   "id": "afad2311",
   "metadata": {
    "execution": {
     "iopub.execute_input": "2022-11-18T10:40:41.182569Z",
     "iopub.status.busy": "2022-11-18T10:40:41.181862Z",
     "iopub.status.idle": "2022-11-18T10:40:41.376418Z",
     "shell.execute_reply": "2022-11-18T10:40:41.375144Z",
     "shell.execute_reply.started": "2022-11-18T10:34:33.434875Z"
    },
    "papermill": {
     "duration": 1.101913,
     "end_time": "2022-11-18T10:40:41.376595",
     "exception": false,
     "start_time": "2022-11-18T10:40:40.274682",
     "status": "completed"
    },
    "tags": []
   },
   "source": [
    "from sklearn.ensemble import GradientBoostingRegressor"
   ],
   "outputs": [],
   "execution_count": null
  },
  {
   "cell_type": "code",
   "id": "79f755db",
   "metadata": {
    "execution": {
     "iopub.execute_input": "2022-11-18T10:40:43.109153Z",
     "iopub.status.busy": "2022-11-18T10:40:43.108423Z",
     "iopub.status.idle": "2022-11-18T10:40:43.111146Z",
     "shell.execute_reply": "2022-11-18T10:40:43.110476Z",
     "shell.execute_reply.started": "2022-11-18T10:34:33.607017Z"
    },
    "papermill": {
     "duration": 0.877298,
     "end_time": "2022-11-18T10:40:43.111298",
     "exception": false,
     "start_time": "2022-11-18T10:40:42.234000",
     "status": "completed"
    },
    "tags": []
   },
   "source": [
    "def predict(ml_model):          \n",
    "    model=ml_model.fit(X_train,y_train)\n",
    "    print('Training score : {}'.format(model.score(X_train,y_train)))\n",
    "    print('\\n')\n",
    "    y_prediction=model.predict(X_test)\n",
    "    print('Testing score : {}'.format(model.score(X_test,y_prediction)))\n",
    "    print('\\n')\n",
    "\n",
    "    print('predictions are: \\n {}'.format(y_prediction[:10]))\n",
    "    print('\\n')\n",
    "    r2_score=metrics.r2_score(y_test,y_prediction)\n",
    "    print('r2 score: {}'.format(r2_score))\n",
    "    print('MAE:',metrics.mean_absolute_error(y_test,y_prediction))\n",
    "    print('MSE:',metrics.mean_squared_error(y_test,y_prediction))\n",
    "    print('RMSE:',np.sqrt(metrics.mean_squared_error(y_test,y_prediction)))\n"
   ],
   "outputs": [],
   "execution_count": null
  },
  {
   "cell_type": "markdown",
   "id": "8588706b",
   "metadata": {
    "papermill": {
     "duration": 0.859715,
     "end_time": "2022-11-18T10:40:44.862072",
     "exception": false,
     "start_time": "2022-11-18T10:40:44.002357",
     "status": "completed"
    },
    "tags": []
   },
   "source": [
    "<a id = '12.0'></a>\n",
    "<p style = \"font-size : 35px; color : #E0FFFF ; font-family : 'Comic Sans MS'; text-align : center; background-color : #4682B4; border-radius: 5px 5px;\"><strong>Gradient Boosting</strong></p> \n"
   ]
  },
  {
   "cell_type": "code",
   "id": "fd7ddf50",
   "metadata": {
    "execution": {
     "iopub.execute_input": "2022-11-18T10:40:46.575878Z",
     "iopub.status.busy": "2022-11-18T10:40:46.575155Z",
     "iopub.status.idle": "2022-11-18T10:40:47.417140Z",
     "shell.execute_reply": "2022-11-18T10:40:47.416523Z",
     "shell.execute_reply.started": "2022-11-18T10:34:33.615825Z"
    },
    "papermill": {
     "duration": 1.699076,
     "end_time": "2022-11-18T10:40:47.417355",
     "exception": false,
     "start_time": "2022-11-18T10:40:45.718279",
     "status": "completed"
    },
    "tags": []
   },
   "source": [
    "predict(GradientBoostingRegressor())"
   ],
   "outputs": [],
   "execution_count": null
  },
  {
   "cell_type": "markdown",
   "id": "c33cf90b",
   "metadata": {
    "papermill": {
     "duration": 0.96617,
     "end_time": "2022-11-18T10:40:49.241434",
     "exception": false,
     "start_time": "2022-11-18T10:40:48.275264",
     "status": "completed"
    },
    "tags": []
   },
   "source": [
    "<a id = '9.0'></a>\n",
    "<p style = \"font-size : 35px; color : #E0FFFF ; font-family : 'Comic Sans MS'; text-align : center; background-color : #4682B4; border-radius: 5px 5px;\"><strong>If you found this notebook helpful or you just liked it , some upvotes would be very much appreciated - That will keep me motivated to update it on a regular basis</strong></p>\n"
   ]
  }
 ],
 "metadata": {
  "kernelspec": {
   "display_name": "Python 3",
   "language": "python",
   "name": "python3"
  },
  "language_info": {
   "codemirror_mode": {
    "name": "ipython",
    "version": 3
   },
   "file_extension": ".py",
   "mimetype": "text/x-python",
   "name": "python",
   "nbconvert_exporter": "python",
   "pygments_lexer": "ipython3",
   "version": "3.7.10"
  },
  "papermill": {
   "default_parameters": {},
   "duration": 116.588531,
   "end_time": "2022-11-18T10:40:52.324835",
   "environment_variables": {},
   "exception": null,
   "input_path": "__notebook__.ipynb",
   "output_path": "__notebook__.ipynb",
   "parameters": {},
   "start_time": "2022-11-18T10:38:55.736304",
   "version": "2.3.3"
  }
 },
 "nbformat": 4,
 "nbformat_minor": 5
}
