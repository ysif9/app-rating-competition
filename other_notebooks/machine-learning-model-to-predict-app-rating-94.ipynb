{
 "cells": [
  {
   "cell_type": "markdown",
   "metadata": {
    "_cell_guid": "b1076dfc-b9ad-4769-8c92-a6c4dae69d19",
    "_uuid": "8f2839f25d086af736a60e9eeb907d3b93b6e0e5"
   },
   "source": [
    "In this Python notebook, K-nearest neighbors and random forest algorithms will be applied to predict app ratings on Google play store."
   ]
  },
  {
   "cell_type": "code",
   "metadata": {
    "_cell_guid": "79c7e3d0-c299-4dcb-8224-4455121ee9b0",
    "_uuid": "d629ff2d2480ee46fbb7e2d37f6b5fab8052498a",
    "ExecuteTime": {
     "end_time": "2025-05-09T14:33:17.657346Z",
     "start_time": "2025-05-09T14:33:17.644117Z"
    }
   },
   "source": [
    "import re\n",
    "import sys\n",
    "\n",
    "import time\n",
    "import datetime\n",
    "\n",
    "import numpy as np\n",
    "import pandas as pd\n",
    "\n",
    "import seaborn as sns\n",
    "import matplotlib.pyplot as plt\n",
    "\n",
    "from sklearn import metrics\n",
    "from sklearn import preprocessing\n",
    "from sklearn.neighbors import KNeighborsRegressor\n",
    "from sklearn.ensemble import RandomForestRegressor\n",
    "from sklearn.model_selection import train_test_split\n",
    "\n",
    "# Loading the data\n",
    "df = pd.read_csv(\"../app-rating-competition/train.csv\")"
   ],
   "outputs": [],
   "execution_count": 60
  },
  {
   "cell_type": "code",
   "metadata": {
    "_uuid": "49170f1e1019110b6fa001ae3fc9e02a05dc48de",
    "ExecuteTime": {
     "end_time": "2025-05-09T14:33:18.270470Z",
     "start_time": "2025-05-09T14:33:18.266232Z"
    }
   },
   "source": [
    "%matplotlib inline"
   ],
   "outputs": [],
   "execution_count": 61
  },
  {
   "cell_type": "code",
   "metadata": {
    "_uuid": "2068b367a50157fbefeff3b44046a41a344b9ecc",
    "ExecuteTime": {
     "end_time": "2025-05-09T14:33:19.329944Z",
     "start_time": "2025-05-09T14:33:19.324942Z"
    }
   },
   "source": [
    "sns.set(style='darkgrid')\n",
    "sns.set_palette('PuBuGn_d')"
   ],
   "outputs": [],
   "execution_count": 62
  },
  {
   "cell_type": "markdown",
   "metadata": {
    "_uuid": "349b8414dbdc6f0a41ce89d838b711927ffef552"
   },
   "source": [
    "# Data Exploration and Cleaning"
   ]
  },
  {
   "cell_type": "code",
   "metadata": {
    "_uuid": "3da24a5c41129bf404fb5904b57f1a261b5ba7b0",
    "ExecuteTime": {
     "end_time": "2025-05-09T14:33:19.960818Z",
     "start_time": "2025-05-09T14:33:19.950734Z"
    }
   },
   "source": [
    "def rename_columns(dataframe):\n",
    "    reformated_df = dataframe.rename(\n",
    "        columns={\"X0\": \"App\", \"X1\": \"Category\", \"X2\": \"Reviews\", \"X3\": \"Size\",\n",
    "                 \"X4\": \"Installs\", \"X5\": \"Type\", \"X6\": \"Price\", \"X7\": \"Content Rating\",\n",
    "                 \"X8\": \"Genres\", \"X9\": \"Last Updated\", \"X10\": \"Current Ver\",\n",
    "                 \"X11\": \"Android Ver\", \"Y\": \"Rating\"})\n",
    "    return reformated_df\n",
    "\n",
    "df = rename_columns(df)\n",
    "\n",
    "df.head()\n",
    "# Executing the above script will display the first five rows of the dataset as shown below"
   ],
   "outputs": [
    {
     "data": {
      "text/plain": [
       "                                            App        Category  Reviews  \\\n",
       "0                         Girls hairstyles 2018          BEAUTY       62   \n",
       "1                                   Dairy Queen  FOOD_AND_DRINK      742   \n",
       "2  Remote Control For All AC - Universal Remote    PRODUCTIVITY      166   \n",
       "3                        Ultimate Chest Tracker    PRODUCTIVITY    40328   \n",
       "4                                  Mobilight-BM         FINANCE        6   \n",
       "\n",
       "   Size    Installs  Type Price Content Rating        Genres  \\\n",
       "0  3.1M     10,000+  Free     0       Everyone        Beauty   \n",
       "1   43M    100,000+  Free     0       Everyone  Food & Drink   \n",
       "2  6.1M     10,000+  Free     0       Everyone  Productivity   \n",
       "3   23M  1,000,000+  Free     0       Everyone  Productivity   \n",
       "4  6.2M        500+  Free     0       Everyone       Finance   \n",
       "\n",
       "       Last Updated Current Ver   Android Ver  Rating  \n",
       "0      May 28, 2018       1.9.2  4.0.3 and up     4.2  \n",
       "1     July 25, 2018       2.1.0    4.1 and up     3.6  \n",
       "2     July 28, 2018         1.1  4.0.3 and up     2.4  \n",
       "3  October 17, 2016         1.9    2.3 and up     4.5  \n",
       "4    August 3, 2018      2.0.10  4.0.3 and up     4.8  "
      ],
      "text/html": [
       "<div>\n",
       "<style scoped>\n",
       "    .dataframe tbody tr th:only-of-type {\n",
       "        vertical-align: middle;\n",
       "    }\n",
       "\n",
       "    .dataframe tbody tr th {\n",
       "        vertical-align: top;\n",
       "    }\n",
       "\n",
       "    .dataframe thead th {\n",
       "        text-align: right;\n",
       "    }\n",
       "</style>\n",
       "<table border=\"1\" class=\"dataframe\">\n",
       "  <thead>\n",
       "    <tr style=\"text-align: right;\">\n",
       "      <th></th>\n",
       "      <th>App</th>\n",
       "      <th>Category</th>\n",
       "      <th>Reviews</th>\n",
       "      <th>Size</th>\n",
       "      <th>Installs</th>\n",
       "      <th>Type</th>\n",
       "      <th>Price</th>\n",
       "      <th>Content Rating</th>\n",
       "      <th>Genres</th>\n",
       "      <th>Last Updated</th>\n",
       "      <th>Current Ver</th>\n",
       "      <th>Android Ver</th>\n",
       "      <th>Rating</th>\n",
       "    </tr>\n",
       "  </thead>\n",
       "  <tbody>\n",
       "    <tr>\n",
       "      <th>0</th>\n",
       "      <td>Girls hairstyles 2018</td>\n",
       "      <td>BEAUTY</td>\n",
       "      <td>62</td>\n",
       "      <td>3.1M</td>\n",
       "      <td>10,000+</td>\n",
       "      <td>Free</td>\n",
       "      <td>0</td>\n",
       "      <td>Everyone</td>\n",
       "      <td>Beauty</td>\n",
       "      <td>May 28, 2018</td>\n",
       "      <td>1.9.2</td>\n",
       "      <td>4.0.3 and up</td>\n",
       "      <td>4.2</td>\n",
       "    </tr>\n",
       "    <tr>\n",
       "      <th>1</th>\n",
       "      <td>Dairy Queen</td>\n",
       "      <td>FOOD_AND_DRINK</td>\n",
       "      <td>742</td>\n",
       "      <td>43M</td>\n",
       "      <td>100,000+</td>\n",
       "      <td>Free</td>\n",
       "      <td>0</td>\n",
       "      <td>Everyone</td>\n",
       "      <td>Food &amp; Drink</td>\n",
       "      <td>July 25, 2018</td>\n",
       "      <td>2.1.0</td>\n",
       "      <td>4.1 and up</td>\n",
       "      <td>3.6</td>\n",
       "    </tr>\n",
       "    <tr>\n",
       "      <th>2</th>\n",
       "      <td>Remote Control For All AC - Universal Remote</td>\n",
       "      <td>PRODUCTIVITY</td>\n",
       "      <td>166</td>\n",
       "      <td>6.1M</td>\n",
       "      <td>10,000+</td>\n",
       "      <td>Free</td>\n",
       "      <td>0</td>\n",
       "      <td>Everyone</td>\n",
       "      <td>Productivity</td>\n",
       "      <td>July 28, 2018</td>\n",
       "      <td>1.1</td>\n",
       "      <td>4.0.3 and up</td>\n",
       "      <td>2.4</td>\n",
       "    </tr>\n",
       "    <tr>\n",
       "      <th>3</th>\n",
       "      <td>Ultimate Chest Tracker</td>\n",
       "      <td>PRODUCTIVITY</td>\n",
       "      <td>40328</td>\n",
       "      <td>23M</td>\n",
       "      <td>1,000,000+</td>\n",
       "      <td>Free</td>\n",
       "      <td>0</td>\n",
       "      <td>Everyone</td>\n",
       "      <td>Productivity</td>\n",
       "      <td>October 17, 2016</td>\n",
       "      <td>1.9</td>\n",
       "      <td>2.3 and up</td>\n",
       "      <td>4.5</td>\n",
       "    </tr>\n",
       "    <tr>\n",
       "      <th>4</th>\n",
       "      <td>Mobilight-BM</td>\n",
       "      <td>FINANCE</td>\n",
       "      <td>6</td>\n",
       "      <td>6.2M</td>\n",
       "      <td>500+</td>\n",
       "      <td>Free</td>\n",
       "      <td>0</td>\n",
       "      <td>Everyone</td>\n",
       "      <td>Finance</td>\n",
       "      <td>August 3, 2018</td>\n",
       "      <td>2.0.10</td>\n",
       "      <td>4.0.3 and up</td>\n",
       "      <td>4.8</td>\n",
       "    </tr>\n",
       "  </tbody>\n",
       "</table>\n",
       "</div>"
      ]
     },
     "execution_count": 63,
     "metadata": {},
     "output_type": "execute_result"
    }
   ],
   "execution_count": 63
  },
  {
   "cell_type": "code",
   "metadata": {
    "_uuid": "735b233c0d2ba4a6b85937afbb244001789a581c",
    "ExecuteTime": {
     "end_time": "2025-05-09T14:33:23.660168Z",
     "start_time": "2025-05-09T14:33:23.652111Z"
    }
   },
   "source": [
    "# Checking the data type of the columns\n",
    "df.info()"
   ],
   "outputs": [
    {
     "name": "stdout",
     "output_type": "stream",
     "text": [
      "<class 'pandas.core.frame.DataFrame'>\n",
      "RangeIndex: 1873 entries, 0 to 1872\n",
      "Data columns (total 13 columns):\n",
      " #   Column          Non-Null Count  Dtype  \n",
      "---  ------          --------------  -----  \n",
      " 0   App             1873 non-null   object \n",
      " 1   Category        1873 non-null   object \n",
      " 2   Reviews         1873 non-null   int64  \n",
      " 3   Size            1873 non-null   object \n",
      " 4   Installs        1873 non-null   object \n",
      " 5   Type            1873 non-null   object \n",
      " 6   Price           1873 non-null   object \n",
      " 7   Content Rating  1873 non-null   object \n",
      " 8   Genres          1873 non-null   object \n",
      " 9   Last Updated    1873 non-null   object \n",
      " 10  Current Ver     1872 non-null   object \n",
      " 11  Android Ver     1873 non-null   object \n",
      " 12  Rating          1873 non-null   float64\n",
      "dtypes: float64(1), int64(1), object(11)\n",
      "memory usage: 190.4+ KB\n"
     ]
    }
   ],
   "execution_count": 64
  },
  {
   "cell_type": "markdown",
   "metadata": {
    "_uuid": "1f4ec19425f3dd590aafc8b03a8d0b080997459e"
   },
   "source": [
    "The dataset has 10,841 records and 13 columns, all of them are object types except the target column (Rating) which is float"
   ]
  },
  {
   "cell_type": "code",
   "metadata": {
    "_uuid": "576aa2b905b02dcdf40c3f8ecf34691f003641ed",
    "ExecuteTime": {
     "end_time": "2025-05-09T14:33:26.018773Z",
     "start_time": "2025-05-09T14:33:25.782063Z"
    }
   },
   "source": [
    "# Exploring missing data and checking if any has NaN values\n",
    "plt.figure(figsize=(7, 5))\n",
    "sns.heatmap(df.isnull(), cmap='viridis')\n",
    "df.isnull().any()"
   ],
   "outputs": [
    {
     "data": {
      "text/plain": [
       "App               False\n",
       "Category          False\n",
       "Reviews           False\n",
       "Size              False\n",
       "Installs          False\n",
       "Type              False\n",
       "Price             False\n",
       "Content Rating    False\n",
       "Genres            False\n",
       "Last Updated      False\n",
       "Current Ver        True\n",
       "Android Ver       False\n",
       "Rating            False\n",
       "dtype: bool"
      ]
     },
     "execution_count": 65,
     "metadata": {},
     "output_type": "execute_result"
    },
    {
     "data": {
      "text/plain": [
       "<Figure size 700x500 with 2 Axes>"
      ],
      "image/png": "[encoded data removed]"
     },
     "metadata": {},
     "output_type": "display_data"
    }
   ],
   "execution_count": 65
  },
  {
   "cell_type": "markdown",
   "metadata": {
    "_uuid": "cb7889da4b45ce1de35aba6bebccdf7e54b82581"
   },
   "source": [
    "Looks like there are missing values in \"Rating\", \"Type\", \"Content Rating\" and \" Android Ver\". But most of these missing values in Rating column."
   ]
  },
  {
   "cell_type": "code",
   "metadata": {
    "_uuid": "a1b4306e7e8ba1a972dc4a705cf4456745f3a5e2",
    "ExecuteTime": {
     "end_time": "2025-05-09T14:33:27.626904Z",
     "start_time": "2025-05-09T14:33:27.621294Z"
    }
   },
   "source": [
    "df.isnull().sum()"
   ],
   "outputs": [
    {
     "data": {
      "text/plain": [
       "App               0\n",
       "Category          0\n",
       "Reviews           0\n",
       "Size              0\n",
       "Installs          0\n",
       "Type              0\n",
       "Price             0\n",
       "Content Rating    0\n",
       "Genres            0\n",
       "Last Updated      0\n",
       "Current Ver       1\n",
       "Android Ver       0\n",
       "Rating            0\n",
       "dtype: int64"
      ]
     },
     "execution_count": 66,
     "metadata": {},
     "output_type": "execute_result"
    }
   ],
   "execution_count": 66
  },
  {
   "cell_type": "markdown",
   "metadata": {
    "_uuid": "9ee9d3893b22d1239ebf94af342b085780aa8540"
   },
   "source": [
    "There are two strategies to handle missing data, either removing records with these missing values or replacing missing values with a specific value like (mean, median or mode) value of the column."
   ]
  },
  {
   "cell_type": "code",
   "metadata": {
    "_uuid": "9d79d2a09533f34ba95e2e2d56de72ec4f0327a5",
    "ExecuteTime": {
     "end_time": "2025-05-09T14:33:29.288808Z",
     "start_time": "2025-05-09T14:33:29.273487Z"
    }
   },
   "source": [
    "# The best way to fill missing values might be using the median instead of mean.\n",
    "df['Rating'] = df['Rating'].fillna(df['Rating'].median())\n",
    "\n",
    "# Before filling null values we have to clean all non numerical values & unicode charachters \n",
    "replaces = [u'\\u00AE', u'\\u2013', u'\\u00C3', u'\\u00E3', u'\\u00B3', '[', ']', \"'\"]\n",
    "for i in replaces:\n",
    "\tdf['Current Ver'] = df['Current Ver'].astype(str).apply(lambda x : x.replace(i, ''))\n",
    "\n",
    "regex = [r'[-+|/:/;(_)@]', r'\\s+', r'[A-Za-z]+']\n",
    "for j in regex:\n",
    "\tdf['Current Ver'] = df['Current Ver'].astype(str).apply(lambda x : re.sub(j, '0', x))\n",
    "\n",
    "df['Current Ver'] = df['Current Ver'].astype(str).apply(lambda x : x.replace('.', ',',1).replace('.', '').replace(',', '.',1)).astype(float)\n",
    "df['Current Ver'] = df['Current Ver'].fillna(df['Current Ver'].median())"
   ],
   "outputs": [],
   "execution_count": 67
  },
  {
   "cell_type": "code",
   "metadata": {
    "_uuid": "04a542636ef4c49e467e45368ef5f4e40920210a",
    "ExecuteTime": {
     "end_time": "2025-05-09T14:33:29.681693Z",
     "start_time": "2025-05-09T14:33:29.677639Z"
    }
   },
   "source": [
    "# Count the number of unique values in category column \n",
    "df['Category'].unique()"
   ],
   "outputs": [
    {
     "data": {
      "text/plain": [
       "array(['BEAUTY', 'FOOD_AND_DRINK', 'PRODUCTIVITY', 'FINANCE', 'FAMILY',\n",
       "       'LIFESTYLE', 'VIDEO_PLAYERS', 'SHOPPING', 'GAME', 'TOOLS',\n",
       "       'COMMUNICATION', 'EDUCATION', 'BUSINESS', 'COMICS', 'DATING',\n",
       "       'BOOKS_AND_REFERENCE', 'NEWS_AND_MAGAZINES', 'PARENTING',\n",
       "       'PERSONALIZATION', 'MEDICAL', 'HEALTH_AND_FITNESS',\n",
       "       'TRAVEL_AND_LOCAL', 'PHOTOGRAPHY', 'SPORTS', 'LIBRARIES_AND_DEMO',\n",
       "       'HOUSE_AND_HOME', 'SOCIAL', 'WEATHER', 'EVENTS',\n",
       "       'AUTO_AND_VEHICLES', 'ENTERTAINMENT', 'ART_AND_DESIGN',\n",
       "       'MAPS_AND_NAVIGATION'], dtype=object)"
      ]
     },
     "execution_count": 68,
     "metadata": {},
     "output_type": "execute_result"
    }
   ],
   "execution_count": 68
  },
  {
   "cell_type": "code",
   "metadata": {
    "_uuid": "b5ac20b6e1fa3611ffc1fc2b2e552636729f0324",
    "ExecuteTime": {
     "end_time": "2025-05-09T14:33:31.232654Z",
     "start_time": "2025-05-09T14:33:31.225894Z"
    }
   },
   "source": [
    "# Check the record  of unreasonable value which is 1.9\n",
    "i = df[df['Category'] == '1.9'].index\n",
    "df.loc[i]"
   ],
   "outputs": [
    {
     "data": {
      "text/plain": [
       "Empty DataFrame\n",
       "Columns: [App, Category, Reviews, Size, Installs, Type, Price, Content Rating, Genres, Last Updated, Current Ver, Android Ver, Rating]\n",
       "Index: []"
      ],
      "text/html": [
       "<div>\n",
       "<style scoped>\n",
       "    .dataframe tbody tr th:only-of-type {\n",
       "        vertical-align: middle;\n",
       "    }\n",
       "\n",
       "    .dataframe tbody tr th {\n",
       "        vertical-align: top;\n",
       "    }\n",
       "\n",
       "    .dataframe thead th {\n",
       "        text-align: right;\n",
       "    }\n",
       "</style>\n",
       "<table border=\"1\" class=\"dataframe\">\n",
       "  <thead>\n",
       "    <tr style=\"text-align: right;\">\n",
       "      <th></th>\n",
       "      <th>App</th>\n",
       "      <th>Category</th>\n",
       "      <th>Reviews</th>\n",
       "      <th>Size</th>\n",
       "      <th>Installs</th>\n",
       "      <th>Type</th>\n",
       "      <th>Price</th>\n",
       "      <th>Content Rating</th>\n",
       "      <th>Genres</th>\n",
       "      <th>Last Updated</th>\n",
       "      <th>Current Ver</th>\n",
       "      <th>Android Ver</th>\n",
       "      <th>Rating</th>\n",
       "    </tr>\n",
       "  </thead>\n",
       "  <tbody>\n",
       "  </tbody>\n",
       "</table>\n",
       "</div>"
      ]
     },
     "execution_count": 69,
     "metadata": {},
     "output_type": "execute_result"
    }
   ],
   "execution_count": 69
  },
  {
   "cell_type": "markdown",
   "metadata": {
    "_uuid": "530ef2300216249e4198c80ab688501f1878a1b4"
   },
   "source": [
    "It's obvious that the first value of this record is missing (App name) and all other values are respectively propagated backward starting from \"Category\" towards the \"Current Ver\"; and the last column which is \"Android Ver\" is left null. It's better to drop the entire recored instead of consider these unreasonable values while cleaning each column!\n"
   ]
  },
  {
   "cell_type": "code",
   "metadata": {
    "_uuid": "b809813abfaf4bdd82c80f80a5dafc74aed576f2",
    "ExecuteTime": {
     "end_time": "2025-05-09T14:33:33.500799Z",
     "start_time": "2025-05-09T14:33:33.497273Z"
    }
   },
   "source": [
    "# Drop this bad column\n",
    "df = df.drop(i)"
   ],
   "outputs": [],
   "execution_count": 70
  },
  {
   "cell_type": "code",
   "metadata": {
    "_uuid": "1263c3cebbdc8abe1c3758825153cfc8dfcc6742",
    "ExecuteTime": {
     "end_time": "2025-05-09T14:33:33.950893Z",
     "start_time": "2025-05-09T14:33:33.945592Z"
    }
   },
   "source": [
    "# Removing NaN values\n",
    "df = df[pd.notnull(df['Last Updated'])]\n",
    "df = df[pd.notnull(df['Content Rating'])]"
   ],
   "outputs": [],
   "execution_count": 71
  },
  {
   "cell_type": "markdown",
   "metadata": {
    "_uuid": "701c768737179ec7d949597382bcf35980ff5f32"
   },
   "source": [
    "# Categorical Data Encoding¶"
   ]
  },
  {
   "cell_type": "markdown",
   "metadata": {
    "_uuid": "bea0c8a5d124a8a3c16be3f2104238f9a6a1f6ac"
   },
   "source": [
    "Many machine learning algorithms can support categorical values without further manipulation but there are many more algorithms that do not. We need to make all data ready for the model, so we will convert categorical variables (variables that stored as text values) into numircal variables."
   ]
  },
  {
   "cell_type": "code",
   "metadata": {
    "_uuid": "08b7abb6432474217a035974c70a488fb86bf3c9",
    "ExecuteTime": {
     "end_time": "2025-05-09T14:33:37.074460Z",
     "start_time": "2025-05-09T14:33:37.067664Z"
    }
   },
   "source": [
    "# App values encoding\n",
    "le = preprocessing.LabelEncoder()\n",
    "df['App'] = le.fit_transform(df['App'])\n",
    "# This encoder converts the values into numeric values"
   ],
   "outputs": [],
   "execution_count": 72
  },
  {
   "cell_type": "code",
   "metadata": {
    "_uuid": "e7bb75ccd2b7ee3036bf4ba6e403d80ed0ab60b9",
    "ExecuteTime": {
     "end_time": "2025-05-09T14:33:37.424839Z",
     "start_time": "2025-05-09T14:33:37.419885Z"
    }
   },
   "source": [
    "# Category features encoding\n",
    "category_list = df['Category'].unique().tolist() \n",
    "category_list = ['cat_' + word for word in category_list]\n",
    "df = pd.concat([df, pd.get_dummies(df['Category'], prefix='cat')], axis=1)"
   ],
   "outputs": [],
   "execution_count": 73
  },
  {
   "cell_type": "code",
   "metadata": {
    "_uuid": "f9a6acc1c827d2a68351fa61720c357be6b60d9a",
    "ExecuteTime": {
     "end_time": "2025-05-09T14:33:37.819460Z",
     "start_time": "2025-05-09T14:33:37.815347Z"
    }
   },
   "source": [
    "# Genres features encoding\n",
    "le = preprocessing.LabelEncoder()\n",
    "df['Genres'] = le.fit_transform(df['Genres'])"
   ],
   "outputs": [],
   "execution_count": 74
  },
  {
   "cell_type": "code",
   "metadata": {
    "_uuid": "b6c3c187c5a39f584bf688e04c2380a3e4e0faae",
    "ExecuteTime": {
     "end_time": "2025-05-09T14:33:38.299028Z",
     "start_time": "2025-05-09T14:33:38.294923Z"
    }
   },
   "source": [
    "# Encode Content Rating features\n",
    "le = preprocessing.LabelEncoder()\n",
    "df['Content Rating'] = le.fit_transform(df['Content Rating'])"
   ],
   "outputs": [],
   "execution_count": 75
  },
  {
   "cell_type": "code",
   "metadata": {
    "_uuid": "e6b5d46c088714ed7c36bf6a1ea940855f577df2",
    "ExecuteTime": {
     "end_time": "2025-05-09T14:33:39.670022Z",
     "start_time": "2025-05-09T14:33:39.665648Z"
    }
   },
   "source": [
    "# Price cealning\n",
    "df['Price'] = df['Price'].apply(lambda x : x.strip('$'))"
   ],
   "outputs": [],
   "execution_count": 76
  },
  {
   "cell_type": "code",
   "metadata": {
    "_uuid": "477c75635f893a83e5601e1f42b59d9ab32871ac",
    "ExecuteTime": {
     "end_time": "2025-05-09T14:33:39.871612Z",
     "start_time": "2025-05-09T14:33:39.867129Z"
    }
   },
   "source": [
    "# Installs cealning\n",
    "df['Installs'] = df['Installs'].apply(lambda x : x.strip('+').replace(',', ''))"
   ],
   "outputs": [],
   "execution_count": 77
  },
  {
   "cell_type": "code",
   "metadata": {
    "_uuid": "0a25b9b01bf8b9d30164b37760a88d196ed6f17a",
    "ExecuteTime": {
     "end_time": "2025-05-09T14:33:40.184325Z",
     "start_time": "2025-05-09T14:33:40.179257Z"
    }
   },
   "source": [
    "# Type encoding\n",
    "df['Type'] = pd.get_dummies(df['Type'], drop_first=True)"
   ],
   "outputs": [],
   "execution_count": 78
  },
  {
   "cell_type": "markdown",
   "metadata": {
    "_uuid": "37d8d15b89d3bf8f89228c5268059b809b3472d7"
   },
   "source": [
    "The above line drops the reference column and just keeps only one of the two columns as retaining this extra column does not add any new information for the modeling process, this line is exactly the same as setting drop_first parameter to True."
   ]
  },
  {
   "cell_type": "code",
   "metadata": {
    "_uuid": "9c76efe031c2553674c2151604667873da8879f3",
    "ExecuteTime": {
     "end_time": "2025-05-09T14:33:40.976849Z",
     "start_time": "2025-05-09T14:33:40.959215Z"
    }
   },
   "source": [
    "# Last Updated encoding\n",
    "df['Last Updated'] = df['Last Updated'].apply(lambda x : time.mktime(datetime.datetime.strptime(x, '%B %d, %Y').timetuple()))"
   ],
   "outputs": [],
   "execution_count": 79
  },
  {
   "cell_type": "code",
   "metadata": {
    "ExecuteTime": {
     "end_time": "2025-05-09T14:33:41.261891Z",
     "start_time": "2025-05-09T14:33:41.254957Z"
    }
   },
   "source": [
    "# Convert kbytes to Mbytes \n",
    "k_indices = df['Size'].loc[df['Size'].str.contains('k')].index.tolist()\n",
    "converter = pd.DataFrame(df.loc[k_indices, 'Size'].apply(lambda x: x.strip('k')).astype(float).apply(lambda x: x / 1024).apply(lambda x: round(x, 3)).astype(str))\n",
    "df.loc[k_indices,'Size'] = converter"
   ],
   "outputs": [],
   "execution_count": 80
  },
  {
   "cell_type": "markdown",
   "metadata": {},
   "source": [
    "This can be done by selecting all k values from the \"Size\" column and replace those values by their corresponding M values, and since k indices belong to a list of non-consecutive numbers, a new dataframe (converter) will be created with these k indices to perform the conversion, then the final values will be assigned back to the \"Size\" column."
   ]
  },
  {
   "cell_type": "code",
   "metadata": {
    "ExecuteTime": {
     "end_time": "2025-05-09T14:33:43.613734Z",
     "start_time": "2025-05-09T14:33:43.595724Z"
    }
   },
   "source": [
    "# Size cleaning\n",
    "df['Size'] = df['Size'].apply(lambda x: x.strip('M'))\n",
    "df[df['Size'] == 'Varies with device'] = 0\n",
    "df['Size'] = df['Size'].astype(float)"
   ],
   "outputs": [
    {
     "name": "stderr",
     "output_type": "stream",
     "text": [
      "C:\\Users\\yousi\\AppData\\Local\\Temp\\ipykernel_28384\\2591745682.py:3: FutureWarning: Setting an item of incompatible dtype is deprecated and will raise an error in a future version of pandas. Value '0' has dtype incompatible with bool, please explicitly cast to a compatible dtype first.\n",
      "  df[df['Size'] == 'Varies with device'] = 0\n",
      "C:\\Users\\yousi\\AppData\\Local\\Temp\\ipykernel_28384\\2591745682.py:3: FutureWarning: Setting an item of incompatible dtype is deprecated and will raise an error in a future version of pandas. Value '0' has dtype incompatible with bool, please explicitly cast to a compatible dtype first.\n",
      "  df[df['Size'] == 'Varies with device'] = 0\n",
      "C:\\Users\\yousi\\AppData\\Local\\Temp\\ipykernel_28384\\2591745682.py:3: FutureWarning: Setting an item of incompatible dtype is deprecated and will raise an error in a future version of pandas. Value '0' has dtype incompatible with bool, please explicitly cast to a compatible dtype first.\n",
      "  df[df['Size'] == 'Varies with device'] = 0\n",
      "C:\\Users\\yousi\\AppData\\Local\\Temp\\ipykernel_28384\\2591745682.py:3: FutureWarning: Setting an item of incompatible dtype is deprecated and will raise an error in a future version of pandas. Value '0' has dtype incompatible with bool, please explicitly cast to a compatible dtype first.\n",
      "  df[df['Size'] == 'Varies with device'] = 0\n",
      "C:\\Users\\yousi\\AppData\\Local\\Temp\\ipykernel_28384\\2591745682.py:3: FutureWarning: Setting an item of incompatible dtype is deprecated and will raise an error in a future version of pandas. Value '0' has dtype incompatible with bool, please explicitly cast to a compatible dtype first.\n",
      "  df[df['Size'] == 'Varies with device'] = 0\n",
      "C:\\Users\\yousi\\AppData\\Local\\Temp\\ipykernel_28384\\2591745682.py:3: FutureWarning: Setting an item of incompatible dtype is deprecated and will raise an error in a future version of pandas. Value '0' has dtype incompatible with bool, please explicitly cast to a compatible dtype first.\n",
      "  df[df['Size'] == 'Varies with device'] = 0\n",
      "C:\\Users\\yousi\\AppData\\Local\\Temp\\ipykernel_28384\\2591745682.py:3: FutureWarning: Setting an item of incompatible dtype is deprecated and will raise an error in a future version of pandas. Value '0' has dtype incompatible with bool, please explicitly cast to a compatible dtype first.\n",
      "  df[df['Size'] == 'Varies with device'] = 0\n",
      "C:\\Users\\yousi\\AppData\\Local\\Temp\\ipykernel_28384\\2591745682.py:3: FutureWarning: Setting an item of incompatible dtype is deprecated and will raise an error in a future version of pandas. Value '0' has dtype incompatible with bool, please explicitly cast to a compatible dtype first.\n",
      "  df[df['Size'] == 'Varies with device'] = 0\n",
      "C:\\Users\\yousi\\AppData\\Local\\Temp\\ipykernel_28384\\2591745682.py:3: FutureWarning: Setting an item of incompatible dtype is deprecated and will raise an error in a future version of pandas. Value '0' has dtype incompatible with bool, please explicitly cast to a compatible dtype first.\n",
      "  df[df['Size'] == 'Varies with device'] = 0\n",
      "C:\\Users\\yousi\\AppData\\Local\\Temp\\ipykernel_28384\\2591745682.py:3: FutureWarning: Setting an item of incompatible dtype is deprecated and will raise an error in a future version of pandas. Value '0' has dtype incompatible with bool, please explicitly cast to a compatible dtype first.\n",
      "  df[df['Size'] == 'Varies with device'] = 0\n",
      "C:\\Users\\yousi\\AppData\\Local\\Temp\\ipykernel_28384\\2591745682.py:3: FutureWarning: Setting an item of incompatible dtype is deprecated and will raise an error in a future version of pandas. Value '0' has dtype incompatible with bool, please explicitly cast to a compatible dtype first.\n",
      "  df[df['Size'] == 'Varies with device'] = 0\n",
      "C:\\Users\\yousi\\AppData\\Local\\Temp\\ipykernel_28384\\2591745682.py:3: FutureWarning: Setting an item of incompatible dtype is deprecated and will raise an error in a future version of pandas. Value '0' has dtype incompatible with bool, please explicitly cast to a compatible dtype first.\n",
      "  df[df['Size'] == 'Varies with device'] = 0\n",
      "C:\\Users\\yousi\\AppData\\Local\\Temp\\ipykernel_28384\\2591745682.py:3: FutureWarning: Setting an item of incompatible dtype is deprecated and will raise an error in a future version of pandas. Value '0' has dtype incompatible with bool, please explicitly cast to a compatible dtype first.\n",
      "  df[df['Size'] == 'Varies with device'] = 0\n",
      "C:\\Users\\yousi\\AppData\\Local\\Temp\\ipykernel_28384\\2591745682.py:3: FutureWarning: Setting an item of incompatible dtype is deprecated and will raise an error in a future version of pandas. Value '0' has dtype incompatible with bool, please explicitly cast to a compatible dtype first.\n",
      "  df[df['Size'] == 'Varies with device'] = 0\n",
      "C:\\Users\\yousi\\AppData\\Local\\Temp\\ipykernel_28384\\2591745682.py:3: FutureWarning: Setting an item of incompatible dtype is deprecated and will raise an error in a future version of pandas. Value '0' has dtype incompatible with bool, please explicitly cast to a compatible dtype first.\n",
      "  df[df['Size'] == 'Varies with device'] = 0\n",
      "C:\\Users\\yousi\\AppData\\Local\\Temp\\ipykernel_28384\\2591745682.py:3: FutureWarning: Setting an item of incompatible dtype is deprecated and will raise an error in a future version of pandas. Value '0' has dtype incompatible with bool, please explicitly cast to a compatible dtype first.\n",
      "  df[df['Size'] == 'Varies with device'] = 0\n",
      "C:\\Users\\yousi\\AppData\\Local\\Temp\\ipykernel_28384\\2591745682.py:3: FutureWarning: Setting an item of incompatible dtype is deprecated and will raise an error in a future version of pandas. Value '0' has dtype incompatible with bool, please explicitly cast to a compatible dtype first.\n",
      "  df[df['Size'] == 'Varies with device'] = 0\n",
      "C:\\Users\\yousi\\AppData\\Local\\Temp\\ipykernel_28384\\2591745682.py:3: FutureWarning: Setting an item of incompatible dtype is deprecated and will raise an error in a future version of pandas. Value '0' has dtype incompatible with bool, please explicitly cast to a compatible dtype first.\n",
      "  df[df['Size'] == 'Varies with device'] = 0\n",
      "C:\\Users\\yousi\\AppData\\Local\\Temp\\ipykernel_28384\\2591745682.py:3: FutureWarning: Setting an item of incompatible dtype is deprecated and will raise an error in a future version of pandas. Value '0' has dtype incompatible with bool, please explicitly cast to a compatible dtype first.\n",
      "  df[df['Size'] == 'Varies with device'] = 0\n",
      "C:\\Users\\yousi\\AppData\\Local\\Temp\\ipykernel_28384\\2591745682.py:3: FutureWarning: Setting an item of incompatible dtype is deprecated and will raise an error in a future version of pandas. Value '0' has dtype incompatible with bool, please explicitly cast to a compatible dtype first.\n",
      "  df[df['Size'] == 'Varies with device'] = 0\n",
      "C:\\Users\\yousi\\AppData\\Local\\Temp\\ipykernel_28384\\2591745682.py:3: FutureWarning: Setting an item of incompatible dtype is deprecated and will raise an error in a future version of pandas. Value '0' has dtype incompatible with bool, please explicitly cast to a compatible dtype first.\n",
      "  df[df['Size'] == 'Varies with device'] = 0\n",
      "C:\\Users\\yousi\\AppData\\Local\\Temp\\ipykernel_28384\\2591745682.py:3: FutureWarning: Setting an item of incompatible dtype is deprecated and will raise an error in a future version of pandas. Value '0' has dtype incompatible with bool, please explicitly cast to a compatible dtype first.\n",
      "  df[df['Size'] == 'Varies with device'] = 0\n",
      "C:\\Users\\yousi\\AppData\\Local\\Temp\\ipykernel_28384\\2591745682.py:3: FutureWarning: Setting an item of incompatible dtype is deprecated and will raise an error in a future version of pandas. Value '0' has dtype incompatible with bool, please explicitly cast to a compatible dtype first.\n",
      "  df[df['Size'] == 'Varies with device'] = 0\n",
      "C:\\Users\\yousi\\AppData\\Local\\Temp\\ipykernel_28384\\2591745682.py:3: FutureWarning: Setting an item of incompatible dtype is deprecated and will raise an error in a future version of pandas. Value '0' has dtype incompatible with bool, please explicitly cast to a compatible dtype first.\n",
      "  df[df['Size'] == 'Varies with device'] = 0\n",
      "C:\\Users\\yousi\\AppData\\Local\\Temp\\ipykernel_28384\\2591745682.py:3: FutureWarning: Setting an item of incompatible dtype is deprecated and will raise an error in a future version of pandas. Value '0' has dtype incompatible with bool, please explicitly cast to a compatible dtype first.\n",
      "  df[df['Size'] == 'Varies with device'] = 0\n",
      "C:\\Users\\yousi\\AppData\\Local\\Temp\\ipykernel_28384\\2591745682.py:3: FutureWarning: Setting an item of incompatible dtype is deprecated and will raise an error in a future version of pandas. Value '0' has dtype incompatible with bool, please explicitly cast to a compatible dtype first.\n",
      "  df[df['Size'] == 'Varies with device'] = 0\n",
      "C:\\Users\\yousi\\AppData\\Local\\Temp\\ipykernel_28384\\2591745682.py:3: FutureWarning: Setting an item of incompatible dtype is deprecated and will raise an error in a future version of pandas. Value '0' has dtype incompatible with bool, please explicitly cast to a compatible dtype first.\n",
      "  df[df['Size'] == 'Varies with device'] = 0\n",
      "C:\\Users\\yousi\\AppData\\Local\\Temp\\ipykernel_28384\\2591745682.py:3: FutureWarning: Setting an item of incompatible dtype is deprecated and will raise an error in a future version of pandas. Value '0' has dtype incompatible with bool, please explicitly cast to a compatible dtype first.\n",
      "  df[df['Size'] == 'Varies with device'] = 0\n",
      "C:\\Users\\yousi\\AppData\\Local\\Temp\\ipykernel_28384\\2591745682.py:3: FutureWarning: Setting an item of incompatible dtype is deprecated and will raise an error in a future version of pandas. Value '0' has dtype incompatible with bool, please explicitly cast to a compatible dtype first.\n",
      "  df[df['Size'] == 'Varies with device'] = 0\n",
      "C:\\Users\\yousi\\AppData\\Local\\Temp\\ipykernel_28384\\2591745682.py:3: FutureWarning: Setting an item of incompatible dtype is deprecated and will raise an error in a future version of pandas. Value '0' has dtype incompatible with bool, please explicitly cast to a compatible dtype first.\n",
      "  df[df['Size'] == 'Varies with device'] = 0\n",
      "C:\\Users\\yousi\\AppData\\Local\\Temp\\ipykernel_28384\\2591745682.py:3: FutureWarning: Setting an item of incompatible dtype is deprecated and will raise an error in a future version of pandas. Value '0' has dtype incompatible with bool, please explicitly cast to a compatible dtype first.\n",
      "  df[df['Size'] == 'Varies with device'] = 0\n",
      "C:\\Users\\yousi\\AppData\\Local\\Temp\\ipykernel_28384\\2591745682.py:3: FutureWarning: Setting an item of incompatible dtype is deprecated and will raise an error in a future version of pandas. Value '0' has dtype incompatible with bool, please explicitly cast to a compatible dtype first.\n",
      "  df[df['Size'] == 'Varies with device'] = 0\n",
      "C:\\Users\\yousi\\AppData\\Local\\Temp\\ipykernel_28384\\2591745682.py:3: FutureWarning: Setting an item of incompatible dtype is deprecated and will raise an error in a future version of pandas. Value '0' has dtype incompatible with bool, please explicitly cast to a compatible dtype first.\n",
      "  df[df['Size'] == 'Varies with device'] = 0\n",
      "C:\\Users\\yousi\\AppData\\Local\\Temp\\ipykernel_28384\\2591745682.py:3: FutureWarning: Setting an item of incompatible dtype is deprecated and will raise an error in a future version of pandas. Value '0' has dtype incompatible with bool, please explicitly cast to a compatible dtype first.\n",
      "  df[df['Size'] == 'Varies with device'] = 0\n"
     ]
    }
   ],
   "execution_count": 81
  },
  {
   "cell_type": "markdown",
   "metadata": {
    "_uuid": "560d124e3e54f32ddc96e2673272933868ba41b6"
   },
   "source": [
    "# Evaluation Procedure"
   ]
  },
  {
   "cell_type": "markdown",
   "metadata": {
    "_uuid": "62681ed3dd0dcde4cab9509e2c2bfb03dd806811"
   },
   "source": [
    "In this section shows how k-nearest neighbors and random forests can be used to predict app ratings based on the other matrices. First, the dataset has to separate into dependent and independent variables (or features and labels). Then those variables have to split into a training and test set.\n",
    "\n",
    "During training stage we give the model both the features and the labels so it can learn to classify points based on the features."
   ]
  },
  {
   "cell_type": "code",
   "metadata": {
    "_uuid": "55091ada59112cbb0386555215456155325b4afb",
    "ExecuteTime": {
     "end_time": "2025-05-09T14:34:00.903912Z",
     "start_time": "2025-05-09T14:34:00.898098Z"
    }
   },
   "source": [
    "# Split data into training and testing sets\n",
    "features = ['App', 'Reviews', 'Size', 'Installs', 'Type', 'Price', 'Content Rating', 'Genres', 'Last Updated', 'Current Ver']\n",
    "features.extend(category_list)\n",
    "X = df[features]\n",
    "y = df['Rating']"
   ],
   "outputs": [],
   "execution_count": 82
  },
  {
   "cell_type": "code",
   "metadata": {
    "_uuid": "ac520abc0daca1d026bf1220848ee15aba69e1d1",
    "ExecuteTime": {
     "end_time": "2025-05-09T14:30:23.814809Z",
     "start_time": "2025-05-09T14:30:23.801986Z"
    }
   },
   "source": [
    "X_train, X_test, y_train, y_test = train_test_split(X, y, test_size = 0.25, random_state = 10)"
   ],
   "outputs": [],
   "execution_count": 51
  },
  {
   "cell_type": "markdown",
   "metadata": {
    "_uuid": "93401fd7ad1370c54ad8e993beb7e63fca2c9487"
   },
   "source": [
    "The above script splits the dataset into 85% train data and 25% test data."
   ]
  },
  {
   "cell_type": "markdown",
   "metadata": {
    "_uuid": "42852398ec3dbf5ef105e4e31e3dfd6cd4a6ae77"
   },
   "source": [
    "# K-Nearest Neighbors Model"
   ]
  },
  {
   "cell_type": "markdown",
   "metadata": {
    "_uuid": "f70fba87a697bb770186d56f6af1103e35a06a98"
   },
   "source": [
    "The k-nearest neighbors algorithm is based around the simple idea of predicting unknown values by matching them with the most similar known values. Building the model consists only of storing the training dataset. To make a prediction for a new data point, the algorithm finds the closest data points in the training dataset — its \"*nearest neighbors*\"."
   ]
  },
  {
   "cell_type": "code",
   "metadata": {
    "_uuid": "79858eca0a12127fbd887bbe7024e421eedb29f5",
    "ExecuteTime": {
     "end_time": "2025-05-09T14:30:26.748333Z",
     "start_time": "2025-05-09T14:30:26.743593Z"
    }
   },
   "source": [
    "# Look at the 15 closest neighbors\n",
    "model = KNeighborsRegressor(n_neighbors=15)"
   ],
   "outputs": [],
   "execution_count": 52
  },
  {
   "cell_type": "code",
   "metadata": {
    "_uuid": "5b849526d99ea583b11d0d9685d2dd53835ea858",
    "ExecuteTime": {
     "end_time": "2025-05-09T14:30:27.251834Z",
     "start_time": "2025-05-09T14:30:27.232432Z"
    }
   },
   "source": [
    "# Find the mean accuracy of knn regression using X_test and y_test\n",
    "model.fit(X_train, y_train)"
   ],
   "outputs": [
    {
     "data": {
      "text/plain": [
       "KNeighborsRegressor(n_neighbors=15)"
      ],
      "text/html": [
       "<style>#sk-container-id-1 {\n",
       "  /* Definition of color scheme common for light and dark mode */\n",
       "  --sklearn-color-text: #000;\n",
       "  --sklearn-color-text-muted: #666;\n",
       "  --sklearn-color-line: gray;\n",
       "  /* Definition of color scheme for unfitted estimators */\n",
       "  --sklearn-color-unfitted-level-0: #fff5e6;\n",
       "  --sklearn-color-unfitted-level-1: #f6e4d2;\n",
       "  --sklearn-color-unfitted-level-2: #ffe0b3;\n",
       "  --sklearn-color-unfitted-level-3: chocolate;\n",
       "  /* Definition of color scheme for fitted estimators */\n",
       "  --sklearn-color-fitted-level-0: #f0f8ff;\n",
       "  --sklearn-color-fitted-level-1: #d4ebff;\n",
       "  --sklearn-color-fitted-level-2: #b3dbfd;\n",
       "  --sklearn-color-fitted-level-3: cornflowerblue;\n",
       "\n",
       "  /* Specific color for light theme */\n",
       "  --sklearn-color-text-on-default-background: var(--sg-text-color, var(--theme-code-foreground, var(--jp-content-font-color1, black)));\n",
       "  --sklearn-color-background: var(--sg-background-color, var(--theme-background, var(--jp-layout-color0, white)));\n",
       "  --sklearn-color-border-box: var(--sg-text-color, var(--theme-code-foreground, var(--jp-content-font-color1, black)));\n",
       "  --sklearn-color-icon: #696969;\n",
       "\n",
       "  @media (prefers-color-scheme: dark) {\n",
       "    /* Redefinition of color scheme for dark theme */\n",
       "    --sklearn-color-text-on-default-background: var(--sg-text-color, var(--theme-code-foreground, var(--jp-content-font-color1, white)));\n",
       "    --sklearn-color-background: var(--sg-background-color, var(--theme-background, var(--jp-layout-color0, #111)));\n",
       "    --sklearn-color-border-box: var(--sg-text-color, var(--theme-code-foreground, var(--jp-content-font-color1, white)));\n",
       "    --sklearn-color-icon: #878787;\n",
       "  }\n",
       "}\n",
       "\n",
       "#sk-container-id-1 {\n",
       "  color: var(--sklearn-color-text);\n",
       "}\n",
       "\n",
       "#sk-container-id-1 pre {\n",
       "  padding: 0;\n",
       "}\n",
       "\n",
       "#sk-container-id-1 input.sk-hidden--visually {\n",
       "  border: 0;\n",
       "  clip: rect(1px 1px 1px 1px);\n",
       "  clip: rect(1px, 1px, 1px, 1px);\n",
       "  height: 1px;\n",
       "  margin: -1px;\n",
       "  overflow: hidden;\n",
       "  padding: 0;\n",
       "  position: absolute;\n",
       "  width: 1px;\n",
       "}\n",
       "\n",
       "#sk-container-id-1 div.sk-dashed-wrapped {\n",
       "  border: 1px dashed var(--sklearn-color-line);\n",
       "  margin: 0 0.4em 0.5em 0.4em;\n",
       "  box-sizing: border-box;\n",
       "  padding-bottom: 0.4em;\n",
       "  background-color: var(--sklearn-color-background);\n",
       "}\n",
       "\n",
       "#sk-container-id-1 div.sk-container {\n",
       "  /* jupyter's `normalize.less` sets `[hidden] { display: none; }`\n",
       "     but bootstrap.min.css set `[hidden] { display: none !important; }`\n",
       "     so we also need the `!important` here to be able to override the\n",
       "     default hidden behavior on the sphinx rendered scikit-learn.org.\n",
       "     See: https://github.com/scikit-learn/scikit-learn/issues/21755 */\n",
       "  display: inline-block !important;\n",
       "  position: relative;\n",
       "}\n",
       "\n",
       "#sk-container-id-1 div.sk-text-repr-fallback {\n",
       "  display: none;\n",
       "}\n",
       "\n",
       "div.sk-parallel-item,\n",
       "div.sk-serial,\n",
       "div.sk-item {\n",
       "  /* draw centered vertical line to link estimators */\n",
       "  background-image: linear-gradient(var(--sklearn-color-text-on-default-background), var(--sklearn-color-text-on-default-background));\n",
       "  background-size: 2px 100%;\n",
       "  background-repeat: no-repeat;\n",
       "  background-position: center center;\n",
       "}\n",
       "\n",
       "/* Parallel-specific style estimator block */\n",
       "\n",
       "#sk-container-id-1 div.sk-parallel-item::after {\n",
       "  content: \"\";\n",
       "  width: 100%;\n",
       "  border-bottom: 2px solid var(--sklearn-color-text-on-default-background);\n",
       "  flex-grow: 1;\n",
       "}\n",
       "\n",
       "#sk-container-id-1 div.sk-parallel {\n",
       "  display: flex;\n",
       "  align-items: stretch;\n",
       "  justify-content: center;\n",
       "  background-color: var(--sklearn-color-background);\n",
       "  position: relative;\n",
       "}\n",
       "\n",
       "#sk-container-id-1 div.sk-parallel-item {\n",
       "  display: flex;\n",
       "  flex-direction: column;\n",
       "}\n",
       "\n",
       "#sk-container-id-1 div.sk-parallel-item:first-child::after {\n",
       "  align-self: flex-end;\n",
       "  width: 50%;\n",
       "}\n",
       "\n",
       "#sk-container-id-1 div.sk-parallel-item:last-child::after {\n",
       "  align-self: flex-start;\n",
       "  width: 50%;\n",
       "}\n",
       "\n",
       "#sk-container-id-1 div.sk-parallel-item:only-child::after {\n",
       "  width: 0;\n",
       "}\n",
       "\n",
       "/* Serial-specific style estimator block */\n",
       "\n",
       "#sk-container-id-1 div.sk-serial {\n",
       "  display: flex;\n",
       "  flex-direction: column;\n",
       "  align-items: center;\n",
       "  background-color: var(--sklearn-color-background);\n",
       "  padding-right: 1em;\n",
       "  padding-left: 1em;\n",
       "}\n",
       "\n",
       "\n",
       "/* Toggleable style: style used for estimator/Pipeline/ColumnTransformer box that is\n",
       "clickable and can be expanded/collapsed.\n",
       "- Pipeline and ColumnTransformer use this feature and define the default style\n",
       "- Estimators will overwrite some part of the style using the `sk-estimator` class\n",
       "*/\n",
       "\n",
       "/* Pipeline and ColumnTransformer style (default) */\n",
       "\n",
       "#sk-container-id-1 div.sk-toggleable {\n",
       "  /* Default theme specific background. It is overwritten whether we have a\n",
       "  specific estimator or a Pipeline/ColumnTransformer */\n",
       "  background-color: var(--sklearn-color-background);\n",
       "}\n",
       "\n",
       "/* Toggleable label */\n",
       "#sk-container-id-1 label.sk-toggleable__label {\n",
       "  cursor: pointer;\n",
       "  display: flex;\n",
       "  width: 100%;\n",
       "  margin-bottom: 0;\n",
       "  padding: 0.5em;\n",
       "  box-sizing: border-box;\n",
       "  text-align: center;\n",
       "  align-items: start;\n",
       "  justify-content: space-between;\n",
       "  gap: 0.5em;\n",
       "}\n",
       "\n",
       "#sk-container-id-1 label.sk-toggleable__label .caption {\n",
       "  font-size: 0.6rem;\n",
       "  font-weight: lighter;\n",
       "  color: var(--sklearn-color-text-muted);\n",
       "}\n",
       "\n",
       "#sk-container-id-1 label.sk-toggleable__label-arrow:before {\n",
       "  /* Arrow on the left of the label */\n",
       "  content: \"▸\";\n",
       "  float: left;\n",
       "  margin-right: 0.25em;\n",
       "  color: var(--sklearn-color-icon);\n",
       "}\n",
       "\n",
       "#sk-container-id-1 label.sk-toggleable__label-arrow:hover:before {\n",
       "  color: var(--sklearn-color-text);\n",
       "}\n",
       "\n",
       "/* Toggleable content - dropdown */\n",
       "\n",
       "#sk-container-id-1 div.sk-toggleable__content {\n",
       "  max-height: 0;\n",
       "  max-width: 0;\n",
       "  overflow: hidden;\n",
       "  text-align: left;\n",
       "  /* unfitted */\n",
       "  background-color: var(--sklearn-color-unfitted-level-0);\n",
       "}\n",
       "\n",
       "#sk-container-id-1 div.sk-toggleable__content.fitted {\n",
       "  /* fitted */\n",
       "  background-color: var(--sklearn-color-fitted-level-0);\n",
       "}\n",
       "\n",
       "#sk-container-id-1 div.sk-toggleable__content pre {\n",
       "  margin: 0.2em;\n",
       "  border-radius: 0.25em;\n",
       "  color: var(--sklearn-color-text);\n",
       "  /* unfitted */\n",
       "  background-color: var(--sklearn-color-unfitted-level-0);\n",
       "}\n",
       "\n",
       "#sk-container-id-1 div.sk-toggleable__content.fitted pre {\n",
       "  /* unfitted */\n",
       "  background-color: var(--sklearn-color-fitted-level-0);\n",
       "}\n",
       "\n",
       "#sk-container-id-1 input.sk-toggleable__control:checked~div.sk-toggleable__content {\n",
       "  /* Expand drop-down */\n",
       "  max-height: 200px;\n",
       "  max-width: 100%;\n",
       "  overflow: auto;\n",
       "}\n",
       "\n",
       "#sk-container-id-1 input.sk-toggleable__control:checked~label.sk-toggleable__label-arrow:before {\n",
       "  content: \"▾\";\n",
       "}\n",
       "\n",
       "/* Pipeline/ColumnTransformer-specific style */\n",
       "\n",
       "#sk-container-id-1 div.sk-label input.sk-toggleable__control:checked~label.sk-toggleable__label {\n",
       "  color: var(--sklearn-color-text);\n",
       "  background-color: var(--sklearn-color-unfitted-level-2);\n",
       "}\n",
       "\n",
       "#sk-container-id-1 div.sk-label.fitted input.sk-toggleable__control:checked~label.sk-toggleable__label {\n",
       "  background-color: var(--sklearn-color-fitted-level-2);\n",
       "}\n",
       "\n",
       "/* Estimator-specific style */\n",
       "\n",
       "/* Colorize estimator box */\n",
       "#sk-container-id-1 div.sk-estimator input.sk-toggleable__control:checked~label.sk-toggleable__label {\n",
       "  /* unfitted */\n",
       "  background-color: var(--sklearn-color-unfitted-level-2);\n",
       "}\n",
       "\n",
       "#sk-container-id-1 div.sk-estimator.fitted input.sk-toggleable__control:checked~label.sk-toggleable__label {\n",
       "  /* fitted */\n",
       "  background-color: var(--sklearn-color-fitted-level-2);\n",
       "}\n",
       "\n",
       "#sk-container-id-1 div.sk-label label.sk-toggleable__label,\n",
       "#sk-container-id-1 div.sk-label label {\n",
       "  /* The background is the default theme color */\n",
       "  color: var(--sklearn-color-text-on-default-background);\n",
       "}\n",
       "\n",
       "/* On hover, darken the color of the background */\n",
       "#sk-container-id-1 div.sk-label:hover label.sk-toggleable__label {\n",
       "  color: var(--sklearn-color-text);\n",
       "  background-color: var(--sklearn-color-unfitted-level-2);\n",
       "}\n",
       "\n",
       "/* Label box, darken color on hover, fitted */\n",
       "#sk-container-id-1 div.sk-label.fitted:hover label.sk-toggleable__label.fitted {\n",
       "  color: var(--sklearn-color-text);\n",
       "  background-color: var(--sklearn-color-fitted-level-2);\n",
       "}\n",
       "\n",
       "/* Estimator label */\n",
       "\n",
       "#sk-container-id-1 div.sk-label label {\n",
       "  font-family: monospace;\n",
       "  font-weight: bold;\n",
       "  display: inline-block;\n",
       "  line-height: 1.2em;\n",
       "}\n",
       "\n",
       "#sk-container-id-1 div.sk-label-container {\n",
       "  text-align: center;\n",
       "}\n",
       "\n",
       "/* Estimator-specific */\n",
       "#sk-container-id-1 div.sk-estimator {\n",
       "  font-family: monospace;\n",
       "  border: 1px dotted var(--sklearn-color-border-box);\n",
       "  border-radius: 0.25em;\n",
       "  box-sizing: border-box;\n",
       "  margin-bottom: 0.5em;\n",
       "  /* unfitted */\n",
       "  background-color: var(--sklearn-color-unfitted-level-0);\n",
       "}\n",
       "\n",
       "#sk-container-id-1 div.sk-estimator.fitted {\n",
       "  /* fitted */\n",
       "  background-color: var(--sklearn-color-fitted-level-0);\n",
       "}\n",
       "\n",
       "/* on hover */\n",
       "#sk-container-id-1 div.sk-estimator:hover {\n",
       "  /* unfitted */\n",
       "  background-color: var(--sklearn-color-unfitted-level-2);\n",
       "}\n",
       "\n",
       "#sk-container-id-1 div.sk-estimator.fitted:hover {\n",
       "  /* fitted */\n",
       "  background-color: var(--sklearn-color-fitted-level-2);\n",
       "}\n",
       "\n",
       "/* Specification for estimator info (e.g. \"i\" and \"?\") */\n",
       "\n",
       "/* Common style for \"i\" and \"?\" */\n",
       "\n",
       ".sk-estimator-doc-link,\n",
       "a:link.sk-estimator-doc-link,\n",
       "a:visited.sk-estimator-doc-link {\n",
       "  float: right;\n",
       "  font-size: smaller;\n",
       "  line-height: 1em;\n",
       "  font-family: monospace;\n",
       "  background-color: var(--sklearn-color-background);\n",
       "  border-radius: 1em;\n",
       "  height: 1em;\n",
       "  width: 1em;\n",
       "  text-decoration: none !important;\n",
       "  margin-left: 0.5em;\n",
       "  text-align: center;\n",
       "  /* unfitted */\n",
       "  border: var(--sklearn-color-unfitted-level-1) 1pt solid;\n",
       "  color: var(--sklearn-color-unfitted-level-1);\n",
       "}\n",
       "\n",
       ".sk-estimator-doc-link.fitted,\n",
       "a:link.sk-estimator-doc-link.fitted,\n",
       "a:visited.sk-estimator-doc-link.fitted {\n",
       "  /* fitted */\n",
       "  border: var(--sklearn-color-fitted-level-1) 1pt solid;\n",
       "  color: var(--sklearn-color-fitted-level-1);\n",
       "}\n",
       "\n",
       "/* On hover */\n",
       "div.sk-estimator:hover .sk-estimator-doc-link:hover,\n",
       ".sk-estimator-doc-link:hover,\n",
       "div.sk-label-container:hover .sk-estimator-doc-link:hover,\n",
       ".sk-estimator-doc-link:hover {\n",
       "  /* unfitted */\n",
       "  background-color: var(--sklearn-color-unfitted-level-3);\n",
       "  color: var(--sklearn-color-background);\n",
       "  text-decoration: none;\n",
       "}\n",
       "\n",
       "div.sk-estimator.fitted:hover .sk-estimator-doc-link.fitted:hover,\n",
       ".sk-estimator-doc-link.fitted:hover,\n",
       "div.sk-label-container:hover .sk-estimator-doc-link.fitted:hover,\n",
       ".sk-estimator-doc-link.fitted:hover {\n",
       "  /* fitted */\n",
       "  background-color: var(--sklearn-color-fitted-level-3);\n",
       "  color: var(--sklearn-color-background);\n",
       "  text-decoration: none;\n",
       "}\n",
       "\n",
       "/* Span, style for the box shown on hovering the info icon */\n",
       ".sk-estimator-doc-link span {\n",
       "  display: none;\n",
       "  z-index: 9999;\n",
       "  position: relative;\n",
       "  font-weight: normal;\n",
       "  right: .2ex;\n",
       "  padding: .5ex;\n",
       "  margin: .5ex;\n",
       "  width: min-content;\n",
       "  min-width: 20ex;\n",
       "  max-width: 50ex;\n",
       "  color: var(--sklearn-color-text);\n",
       "  box-shadow: 2pt 2pt 4pt #999;\n",
       "  /* unfitted */\n",
       "  background: var(--sklearn-color-unfitted-level-0);\n",
       "  border: .5pt solid var(--sklearn-color-unfitted-level-3);\n",
       "}\n",
       "\n",
       ".sk-estimator-doc-link.fitted span {\n",
       "  /* fitted */\n",
       "  background: var(--sklearn-color-fitted-level-0);\n",
       "  border: var(--sklearn-color-fitted-level-3);\n",
       "}\n",
       "\n",
       ".sk-estimator-doc-link:hover span {\n",
       "  display: block;\n",
       "}\n",
       "\n",
       "/* \"?\"-specific style due to the `<a>` HTML tag */\n",
       "\n",
       "#sk-container-id-1 a.estimator_doc_link {\n",
       "  float: right;\n",
       "  font-size: 1rem;\n",
       "  line-height: 1em;\n",
       "  font-family: monospace;\n",
       "  background-color: var(--sklearn-color-background);\n",
       "  border-radius: 1rem;\n",
       "  height: 1rem;\n",
       "  width: 1rem;\n",
       "  text-decoration: none;\n",
       "  /* unfitted */\n",
       "  color: var(--sklearn-color-unfitted-level-1);\n",
       "  border: var(--sklearn-color-unfitted-level-1) 1pt solid;\n",
       "}\n",
       "\n",
       "#sk-container-id-1 a.estimator_doc_link.fitted {\n",
       "  /* fitted */\n",
       "  border: var(--sklearn-color-fitted-level-1) 1pt solid;\n",
       "  color: var(--sklearn-color-fitted-level-1);\n",
       "}\n",
       "\n",
       "/* On hover */\n",
       "#sk-container-id-1 a.estimator_doc_link:hover {\n",
       "  /* unfitted */\n",
       "  background-color: var(--sklearn-color-unfitted-level-3);\n",
       "  color: var(--sklearn-color-background);\n",
       "  text-decoration: none;\n",
       "}\n",
       "\n",
       "#sk-container-id-1 a.estimator_doc_link.fitted:hover {\n",
       "  /* fitted */\n",
       "  background-color: var(--sklearn-color-fitted-level-3);\n",
       "}\n",
       "</style><div id=\"sk-container-id-1\" class=\"sk-top-container\"><div class=\"sk-text-repr-fallback\"><pre>KNeighborsRegressor(n_neighbors=15)</pre><b>In a Jupyter environment, please rerun this cell to show the HTML representation or trust the notebook. <br />On GitHub, the HTML representation is unable to render, please try loading this page with nbviewer.org.</b></div><div class=\"sk-container\" hidden><div class=\"sk-item\"><div class=\"sk-estimator fitted sk-toggleable\"><input class=\"sk-toggleable__control sk-hidden--visually\" id=\"sk-estimator-id-1\" type=\"checkbox\" checked><label for=\"sk-estimator-id-1\" class=\"sk-toggleable__label fitted sk-toggleable__label-arrow\"><div><div>KNeighborsRegressor</div></div><div><a class=\"sk-estimator-doc-link fitted\" rel=\"noreferrer\" target=\"_blank\" href=\"https://scikit-learn.org/1.6/modules/generated/sklearn.neighbors.KNeighborsRegressor.html\">?<span>Documentation for KNeighborsRegressor</span></a><span class=\"sk-estimator-doc-link fitted\">i<span>Fitted</span></span></div></label><div class=\"sk-toggleable__content fitted\"><pre>KNeighborsRegressor(n_neighbors=15)</pre></div> </div></div></div></div>"
      ]
     },
     "execution_count": 53,
     "metadata": {},
     "output_type": "execute_result"
    }
   ],
   "execution_count": 53
  },
  {
   "cell_type": "code",
   "metadata": {
    "_uuid": "ce1c300a79e05496e5011e71c2403503c5ba293b",
    "ExecuteTime": {
     "end_time": "2025-05-09T14:30:29.992983Z",
     "start_time": "2025-05-09T14:30:29.774632Z"
    }
   },
   "source": [
    "# Calculate the mean accuracy of the KNN model\n",
    "accuracy = model.score(X_test,y_test)\n",
    "'Accuracy: ' + str(np.round(accuracy*100, 2)) + '%'"
   ],
   "outputs": [
    {
     "data": {
      "text/plain": [
       "'Accuracy: 91.22%'"
      ]
     },
     "execution_count": 54,
     "metadata": {},
     "output_type": "execute_result"
    }
   ],
   "execution_count": 54
  },
  {
   "cell_type": "code",
   "metadata": {
    "_uuid": "146f27fc487cd22460f8205726b7b93b29ad17c9",
    "ExecuteTime": {
     "end_time": "2025-05-09T14:30:32.534831Z",
     "start_time": "2025-05-09T14:30:31.484710Z"
    }
   },
   "source": [
    "# Try different numbers of n_estimators - this will take a minute or so\n",
    "n_neighbors = np.arange(1, 20, 1)\n",
    "scores = []\n",
    "for n in n_neighbors:\n",
    "    model.set_params(n_neighbors=n)\n",
    "    model.fit(X_train, y_train)\n",
    "    scores.append(model.score(X_test, y_test))\n",
    "plt.figure(figsize=(7, 5))\n",
    "plt.title(\"Effect of Estimators\")\n",
    "plt.xlabel(\"Number of Neighbors K\")\n",
    "plt.ylabel(\"Score\")\n",
    "plt.plot(n_neighbors, scores)"
   ],
   "outputs": [
    {
     "data": {
      "text/plain": [
       "[<matplotlib.lines.Line2D at 0x1d7e4af2e40>]"
      ]
     },
     "execution_count": 55,
     "metadata": {},
     "output_type": "execute_result"
    },
    {
     "data": {
      "text/plain": [
       "<Figure size 700x500 with 1 Axes>"
      ],
      "image/png": "[encoded data removed]"
     },
     "metadata": {},
     "output_type": "display_data"
    }
   ],
   "execution_count": 55
  },
  {
   "cell_type": "markdown",
   "metadata": {
    "_uuid": "c65106eb2941720e70f805e5aca543c05498d81c"
   },
   "source": [
    "# Random Forest Model"
   ]
  },
  {
   "cell_type": "markdown",
   "metadata": {
    "_uuid": "82ab0e9798bf34c65b28793d0270618f2ef894a2"
   },
   "source": [
    "The RandomForestRegressor class of the sklearn.ensemble library is used to solve regression problems via random forest. The most important parameter of the RandomForestRegressor class is the n_estimators parameter. This parameter defines the number of trees in the random forest."
   ]
  },
  {
   "cell_type": "code",
   "metadata": {
    "_uuid": "ae3d4a3da829d52e6cc0f7e0c1cf5662f3e6d451",
    "ExecuteTime": {
     "end_time": "2025-05-09T14:30:45.489771Z",
     "start_time": "2025-05-09T14:30:35.962982Z"
    }
   },
   "source": [
    "model = RandomForestRegressor(n_jobs=-1)\n",
    "# Try different numbers of n_estimators - this will take a minute or so\n",
    "estimators = np.arange(10, 200, 10)\n",
    "scores = []\n",
    "for n in estimators:\n",
    "    model.set_params(n_estimators=n)\n",
    "    model.fit(X_train, y_train)\n",
    "    scores.append(model.score(X_test, y_test))\n",
    "plt.figure(figsize=(7, 5))\n",
    "plt.title(\"Effect of Estimators\")\n",
    "plt.xlabel(\"no. estimator\")\n",
    "plt.ylabel(\"score\")\n",
    "plt.plot(estimators, scores)\n",
    "results = list(zip(estimators,scores))\n",
    "results"
   ],
   "outputs": [
    {
     "data": {
      "text/plain": [
       "[(10, 0.9197656952628176),\n",
       " (20, 0.9215071418351013),\n",
       " (30, 0.9206615208665442),\n",
       " (40, 0.9225575903590699),\n",
       " (50, 0.9232691889695921),\n",
       " (60, 0.9224870635209945),\n",
       " (70, 0.9224762263688226),\n",
       " (80, 0.9222828364122613),\n",
       " (90, 0.9229956543363204),\n",
       " (100, 0.9221981828967911),\n",
       " (110, 0.9224687553438623),\n",
       " (120, 0.9222551014884818),\n",
       " (130, 0.9232096478227838),\n",
       " (140, 0.9228634542579324),\n",
       " (150, 0.9227619952486391),\n",
       " (160, 0.922632733928642),\n",
       " (170, 0.9226560683655929),\n",
       " (180, 0.9235902525071799),\n",
       " (190, 0.9233423856922631)]"
      ]
     },
     "execution_count": 56,
     "metadata": {},
     "output_type": "execute_result"
    },
    {
     "data": {
      "text/plain": [
       "<Figure size 700x500 with 1 Axes>"
      ],
      "image/png": "[encoded data removed]"
     },
     "metadata": {},
     "output_type": "display_data"
    }
   ],
   "execution_count": 56
  },
  {
   "cell_type": "code",
   "metadata": {
    "_uuid": "2c55bb7766e15ac104213bc699c92ef7cb69eab3",
    "ExecuteTime": {
     "end_time": "2025-05-09T14:34:24.939676Z",
     "start_time": "2025-05-09T14:34:24.792502Z"
    }
   },
   "source": [
    "predictions = model.predict(X_test)\n",
    "'Mean Absolute Error:', metrics.mean_absolute_error(y_test, predictions)"
   ],
   "outputs": [
    {
     "ename": "ValueError",
     "evalue": "The feature names should match those that were passed during fit.\nFeature names must be in the same order as they were in fit.\n",
     "output_type": "error",
     "traceback": [
      "\u001B[31m---------------------------------------------------------------------------\u001B[39m",
      "\u001B[31mValueError\u001B[39m                                Traceback (most recent call last)",
      "\u001B[36mCell\u001B[39m\u001B[36m \u001B[39m\u001B[32mIn[83]\u001B[39m\u001B[32m, line 1\u001B[39m\n\u001B[32m----> \u001B[39m\u001B[32m1\u001B[39m predictions = \u001B[43mmodel\u001B[49m\u001B[43m.\u001B[49m\u001B[43mpredict\u001B[49m\u001B[43m(\u001B[49m\u001B[43mX_test_set\u001B[49m\u001B[43m)\u001B[49m\n\u001B[32m      2\u001B[39m \u001B[33m'\u001B[39m\u001B[33mMean Absolute Error:\u001B[39m\u001B[33m'\u001B[39m, metrics.mean_absolute_error(y_test_set, predictions)\n",
      "\u001B[36mFile \u001B[39m\u001B[32m~\\PycharmProjects\\AppRating\\.venv\\Lib\\site-packages\\sklearn\\ensemble\\_forest.py:1066\u001B[39m, in \u001B[36mForestRegressor.predict\u001B[39m\u001B[34m(self, X)\u001B[39m\n\u001B[32m   1064\u001B[39m check_is_fitted(\u001B[38;5;28mself\u001B[39m)\n\u001B[32m   1065\u001B[39m \u001B[38;5;66;03m# Check data\u001B[39;00m\n\u001B[32m-> \u001B[39m\u001B[32m1066\u001B[39m X = \u001B[38;5;28;43mself\u001B[39;49m\u001B[43m.\u001B[49m\u001B[43m_validate_X_predict\u001B[49m\u001B[43m(\u001B[49m\u001B[43mX\u001B[49m\u001B[43m)\u001B[49m\n\u001B[32m   1068\u001B[39m \u001B[38;5;66;03m# Assign chunk of trees to jobs\u001B[39;00m\n\u001B[32m   1069\u001B[39m n_jobs, _, _ = _partition_estimators(\u001B[38;5;28mself\u001B[39m.n_estimators, \u001B[38;5;28mself\u001B[39m.n_jobs)\n",
      "\u001B[36mFile \u001B[39m\u001B[32m~\\PycharmProjects\\AppRating\\.venv\\Lib\\site-packages\\sklearn\\ensemble\\_forest.py:638\u001B[39m, in \u001B[36mBaseForest._validate_X_predict\u001B[39m\u001B[34m(self, X)\u001B[39m\n\u001B[32m    635\u001B[39m \u001B[38;5;28;01melse\u001B[39;00m:\n\u001B[32m    636\u001B[39m     ensure_all_finite = \u001B[38;5;28;01mTrue\u001B[39;00m\n\u001B[32m--> \u001B[39m\u001B[32m638\u001B[39m X = \u001B[43mvalidate_data\u001B[49m\u001B[43m(\u001B[49m\n\u001B[32m    639\u001B[39m \u001B[43m    \u001B[49m\u001B[38;5;28;43mself\u001B[39;49m\u001B[43m,\u001B[49m\n\u001B[32m    640\u001B[39m \u001B[43m    \u001B[49m\u001B[43mX\u001B[49m\u001B[43m,\u001B[49m\n\u001B[32m    641\u001B[39m \u001B[43m    \u001B[49m\u001B[43mdtype\u001B[49m\u001B[43m=\u001B[49m\u001B[43mDTYPE\u001B[49m\u001B[43m,\u001B[49m\n\u001B[32m    642\u001B[39m \u001B[43m    \u001B[49m\u001B[43maccept_sparse\u001B[49m\u001B[43m=\u001B[49m\u001B[33;43m\"\u001B[39;49m\u001B[33;43mcsr\u001B[39;49m\u001B[33;43m\"\u001B[39;49m\u001B[43m,\u001B[49m\n\u001B[32m    643\u001B[39m \u001B[43m    \u001B[49m\u001B[43mreset\u001B[49m\u001B[43m=\u001B[49m\u001B[38;5;28;43;01mFalse\u001B[39;49;00m\u001B[43m,\u001B[49m\n\u001B[32m    644\u001B[39m \u001B[43m    \u001B[49m\u001B[43mensure_all_finite\u001B[49m\u001B[43m=\u001B[49m\u001B[43mensure_all_finite\u001B[49m\u001B[43m,\u001B[49m\n\u001B[32m    645\u001B[39m \u001B[43m\u001B[49m\u001B[43m)\u001B[49m\n\u001B[32m    646\u001B[39m \u001B[38;5;28;01mif\u001B[39;00m issparse(X) \u001B[38;5;129;01mand\u001B[39;00m (X.indices.dtype != np.intc \u001B[38;5;129;01mor\u001B[39;00m X.indptr.dtype != np.intc):\n\u001B[32m    647\u001B[39m     \u001B[38;5;28;01mraise\u001B[39;00m \u001B[38;5;167;01mValueError\u001B[39;00m(\u001B[33m\"\u001B[39m\u001B[33mNo support for np.int64 index based sparse matrices\u001B[39m\u001B[33m\"\u001B[39m)\n",
      "\u001B[36mFile \u001B[39m\u001B[32m~\\PycharmProjects\\AppRating\\.venv\\Lib\\site-packages\\sklearn\\utils\\validation.py:2919\u001B[39m, in \u001B[36mvalidate_data\u001B[39m\u001B[34m(_estimator, X, y, reset, validate_separately, skip_check_array, **check_params)\u001B[39m\n\u001B[32m   2835\u001B[39m \u001B[38;5;28;01mdef\u001B[39;00m\u001B[38;5;250m \u001B[39m\u001B[34mvalidate_data\u001B[39m(\n\u001B[32m   2836\u001B[39m     _estimator,\n\u001B[32m   2837\u001B[39m     /,\n\u001B[32m   (...)\u001B[39m\u001B[32m   2843\u001B[39m     **check_params,\n\u001B[32m   2844\u001B[39m ):\n\u001B[32m   2845\u001B[39m \u001B[38;5;250m    \u001B[39m\u001B[33;03m\"\"\"Validate input data and set or check feature names and counts of the input.\u001B[39;00m\n\u001B[32m   2846\u001B[39m \n\u001B[32m   2847\u001B[39m \u001B[33;03m    This helper function should be used in an estimator that requires input\u001B[39;00m\n\u001B[32m   (...)\u001B[39m\u001B[32m   2917\u001B[39m \u001B[33;03m        validated.\u001B[39;00m\n\u001B[32m   2918\u001B[39m \u001B[33;03m    \"\"\"\u001B[39;00m\n\u001B[32m-> \u001B[39m\u001B[32m2919\u001B[39m     \u001B[43m_check_feature_names\u001B[49m\u001B[43m(\u001B[49m\u001B[43m_estimator\u001B[49m\u001B[43m,\u001B[49m\u001B[43m \u001B[49m\u001B[43mX\u001B[49m\u001B[43m,\u001B[49m\u001B[43m \u001B[49m\u001B[43mreset\u001B[49m\u001B[43m=\u001B[49m\u001B[43mreset\u001B[49m\u001B[43m)\u001B[49m\n\u001B[32m   2920\u001B[39m     tags = get_tags(_estimator)\n\u001B[32m   2921\u001B[39m     \u001B[38;5;28;01mif\u001B[39;00m y \u001B[38;5;129;01mis\u001B[39;00m \u001B[38;5;28;01mNone\u001B[39;00m \u001B[38;5;129;01mand\u001B[39;00m tags.target_tags.required:\n",
      "\u001B[36mFile \u001B[39m\u001B[32m~\\PycharmProjects\\AppRating\\.venv\\Lib\\site-packages\\sklearn\\utils\\validation.py:2777\u001B[39m, in \u001B[36m_check_feature_names\u001B[39m\u001B[34m(estimator, X, reset)\u001B[39m\n\u001B[32m   2774\u001B[39m \u001B[38;5;28;01mif\u001B[39;00m \u001B[38;5;129;01mnot\u001B[39;00m missing_names \u001B[38;5;129;01mand\u001B[39;00m \u001B[38;5;129;01mnot\u001B[39;00m unexpected_names:\n\u001B[32m   2775\u001B[39m     message += \u001B[33m\"\u001B[39m\u001B[33mFeature names must be in the same order as they were in fit.\u001B[39m\u001B[38;5;130;01m\\n\u001B[39;00m\u001B[33m\"\u001B[39m\n\u001B[32m-> \u001B[39m\u001B[32m2777\u001B[39m \u001B[38;5;28;01mraise\u001B[39;00m \u001B[38;5;167;01mValueError\u001B[39;00m(message)\n",
      "\u001B[31mValueError\u001B[39m: The feature names should match those that were passed during fit.\nFeature names must be in the same order as they were in fit.\n"
     ]
    }
   ],
   "execution_count": 83
  },
  {
   "cell_type": "code",
   "metadata": {
    "_uuid": "7ac7503554eaebb5015d96072b37e0a5bd92cdc5",
    "ExecuteTime": {
     "end_time": "2025-05-09T14:30:49.362527Z",
     "start_time": "2025-05-09T14:30:49.356925Z"
    }
   },
   "source": "'Mean Squared Error:', metrics.mean_squared_error(y_test, predictions)",
   "outputs": [
    {
     "data": {
      "text/plain": [
       "('Mean Squared Error:', 0.19534832930135082)"
      ]
     },
     "execution_count": 58,
     "metadata": {},
     "output_type": "execute_result"
    }
   ],
   "execution_count": 58
  },
  {
   "cell_type": "code",
   "metadata": {
    "_uuid": "1c7c3918a76f474c4717e9d7dd4b61b0775ea42c",
    "ExecuteTime": {
     "end_time": "2025-05-09T14:30:51.638494Z",
     "start_time": "2025-05-09T14:30:51.633562Z"
    }
   },
   "source": "'Root Mean Squared Error:', np.sqrt(metrics.mean_squared_error(y_test, predictions))",
   "outputs": [
    {
     "data": {
      "text/plain": [
       "('Root Mean Squared Error:', 0.44198227260983086)"
      ]
     },
     "execution_count": 59,
     "metadata": {},
     "output_type": "execute_result"
    }
   ],
   "execution_count": 59
  },
  {
   "metadata": {},
   "cell_type": "code",
   "outputs": [],
   "execution_count": null,
   "source": ""
  }
 ],
 "metadata": {
  "kernelspec": {
   "display_name": "Python 3",
   "language": "python",
   "name": "python3"
  },
  "language_info": {
   "codemirror_mode": {
    "name": "ipython",
    "version": 3
   },
   "file_extension": ".py",
   "mimetype": "text/x-python",
   "name": "python",
   "nbconvert_exporter": "python",
   "pygments_lexer": "ipython3",
   "version": "3.6.6"
  }
 },
 "nbformat": 4,
 "nbformat_minor": 1
}
