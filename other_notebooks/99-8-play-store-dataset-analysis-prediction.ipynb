{
 "cells": [
  {
   "cell_type": "code",
   "execution_count": 1,
   "id": "0975b135",
   "metadata": {
    "_cell_guid": "b1076dfc-b9ad-4769-8c92-a6c4dae69d19",
    "_uuid": "8f2839f25d086af736a60e9eeb907d3b93b6e0e5",
    "execution": {
     "iopub.execute_input": "2024-12-11T21:34:55.938075Z",
     "iopub.status.busy": "2024-12-11T21:34:55.937635Z",
     "iopub.status.idle": "2024-12-11T21:34:59.892326Z",
     "shell.execute_reply": "2024-12-11T21:34:59.891175Z"
    },
    "papermill": {
     "duration": 3.968077,
     "end_time": "2024-12-11T21:34:59.894536",
     "exception": false,
     "start_time": "2024-12-11T21:34:55.926459",
     "status": "completed"
    },
    "tags": []
   },
   "outputs": [
    {
     "data": {
      "text/html": [
       "        <script type=\"text/javascript\">\n",
       "        window.PlotlyConfig = {MathJaxConfig: 'local'};\n",
       "        if (window.MathJax && window.MathJax.Hub && window.MathJax.Hub.Config) {window.MathJax.Hub.Config({SVG: {font: \"STIX-Web\"}});}\n",
       "        if (typeof require !== 'undefined') {\n",
       "        require.undef(\"plotly\");\n",
       "        requirejs.config({\n",
       "            paths: {\n",
       "                'plotly': ['https://cdn.plot.ly/plotly-2.32.0.min']\n",
       "            }\n",
       "        });\n",
       "        require(['plotly'], function(Plotly) {\n",
       "            window._Plotly = Plotly;\n",
       "        });\n",
       "        }\n",
       "        </script>\n",
       "        "
      ]
     },
     "metadata": {},
     "output_type": "display_data"
    },
    {
     "data": {
      "text/html": [
       "        <script type=\"text/javascript\">\n",
       "        window.PlotlyConfig = {MathJaxConfig: 'local'};\n",
       "        if (window.MathJax && window.MathJax.Hub && window.MathJax.Hub.Config) {window.MathJax.Hub.Config({SVG: {font: \"STIX-Web\"}});}\n",
       "        if (typeof require !== 'undefined') {\n",
       "        require.undef(\"plotly\");\n",
       "        requirejs.config({\n",
       "            paths: {\n",
       "                'plotly': ['https://cdn.plot.ly/plotly-2.32.0.min']\n",
       "            }\n",
       "        });\n",
       "        require(['plotly'], function(Plotly) {\n",
       "            window._Plotly = Plotly;\n",
       "        });\n",
       "        }\n",
       "        </script>\n",
       "        "
      ]
     },
     "metadata": {},
     "output_type": "display_data"
    },
    {
     "name": "stdout",
     "output_type": "stream",
     "text": [
      "/kaggle/input/google-play-store-apps/googleplaystore.csv\n",
      "/kaggle/input/google-play-store-apps/license.txt\n",
      "/kaggle/input/google-play-store-apps/googleplaystore_user_reviews.csv\n"
     ]
    }
   ],
   "source": [
    "# # This Python 3 environment comes with many helpful analytics libraries installed\n",
    "# # It is defined by the kaggle/python Docker image: https://github.com/kaggle/docker-python\n",
    "# # For example, here's several helpful packages to load\n",
    "#\n",
    "# import numpy as np # linear algebra\n",
    "# import pandas as pd # data processing, CSV file I/O (e.g. pd.read_csv)\n",
    "# import seaborn as sns\n",
    "# import matplotlib.pyplot as plt\n",
    "# import plotly.express as px\n",
    "# import plotly.graph_objects as go\n",
    "# from plotly.offline import init_notebook_mode, iplot\n",
    "# init_notebook_mode(connected=True)\n",
    "#\n",
    "# import plotly.express as px\n",
    "# import plotly.graph_objects as go\n",
    "# from plotly.offline import init_notebook_mode, iplot\n",
    "# init_notebook_mode(connected=True)\n",
    "# import warnings\n",
    "# warnings.filterwarnings(\"ignore\", category=FutureWarning)\n",
    "#\n",
    "# from sklearn.model_selection import train_test_split\n",
    "# from sklearn.ensemble import RandomForestRegressor\n",
    "# from sklearn.preprocessing import StandardScaler\n",
    "#\n",
    "#\n",
    "# # Input data files are available in the read-only \"../input/\" directory\n",
    "# # For example, running this (by clicking run or pressing Shift+Enter) will list all files under the input directory\n",
    "#\n",
    "# import os\n",
    "# for dirname, _, filenames in os.walk('/kaggle/input'):\n",
    "#     for filename in filenames:\n",
    "#         print(os.path.join(dirname, filename))\n",
    "#\n",
    "# # You can write up to 20GB to the current directory (/kaggle/working/) that gets preserved as output when you create a version using \"Save & Run All\"\n",
    "# # You can also write temporary files to /kaggle/temp/, but they won't be saved outside of the current session"
   ]
  },
  {
   "cell_type": "code",
   "id": "6478aa91",
   "metadata": {
    "execution": {
     "iopub.execute_input": "2024-12-11T21:34:59.915475Z",
     "iopub.status.busy": "2024-12-11T21:34:59.915082Z",
     "iopub.status.idle": "2024-12-11T21:35:00.007586Z",
     "shell.execute_reply": "2024-12-11T21:35:00.006461Z"
    },
    "papermill": {
     "duration": 0.105464,
     "end_time": "2024-12-11T21:35:00.010279",
     "exception": false,
     "start_time": "2024-12-11T21:34:59.904815",
     "status": "completed"
    },
    "tags": [],
    "ExecuteTime": {
     "end_time": "2025-05-09T13:50:46.218258Z",
     "start_time": "2025-05-09T13:50:45.951034Z"
    }
   },
   "source": [
    "import numpy as np # linear algebra\n",
    "import pandas as pd # data processing, CSV file I/O (e.g. pd.read_csv)\n",
    "import seaborn as sns\n",
    "import matplotlib.pyplot as plt\n",
    "import plotly.express as px\n",
    "import plotly.graph_objects as go\n",
    "\n",
    "df = pd.read_csv(\"../app-rating-competition/train.csv\")\n",
    "df.head(3)"
   ],
   "outputs": [
    {
     "data": {
      "text/plain": [
       "                                                  X0              X1     X2  \\\n",
       "0                                Coloring book moana  ART_AND_DESIGN    967   \n",
       "1  U Launcher Lite – FREE Live Cool Themes, Hide ...  ART_AND_DESIGN  87510   \n",
       "2              Pixel Draw - Number Art Coloring Book  ART_AND_DESIGN    967   \n",
       "\n",
       "     X3          X4    X5 X6        X7                         X8  \\\n",
       "0   14M    500,000+  Free  0  Everyone  Art & Design;Pretend Play   \n",
       "1  8.7M  5,000,000+  Free  0  Everyone               Art & Design   \n",
       "2  2.8M    100,000+  Free  0  Everyone    Art & Design;Creativity   \n",
       "\n",
       "                 X9    X10           X11    Y  \n",
       "0  January 15, 2018  2.0.0  4.0.3 and up  3.9  \n",
       "1    August 1, 2018  1.2.4  4.0.3 and up  4.7  \n",
       "2     June 20, 2018    1.1    4.4 and up  4.3  "
      ],
      "text/html": [
       "<div>\n",
       "<style scoped>\n",
       "    .dataframe tbody tr th:only-of-type {\n",
       "        vertical-align: middle;\n",
       "    }\n",
       "\n",
       "    .dataframe tbody tr th {\n",
       "        vertical-align: top;\n",
       "    }\n",
       "\n",
       "    .dataframe thead th {\n",
       "        text-align: right;\n",
       "    }\n",
       "</style>\n",
       "<table border=\"1\" class=\"dataframe\">\n",
       "  <thead>\n",
       "    <tr style=\"text-align: right;\">\n",
       "      <th></th>\n",
       "      <th>X0</th>\n",
       "      <th>X1</th>\n",
       "      <th>X2</th>\n",
       "      <th>X3</th>\n",
       "      <th>X4</th>\n",
       "      <th>X5</th>\n",
       "      <th>X6</th>\n",
       "      <th>X7</th>\n",
       "      <th>X8</th>\n",
       "      <th>X9</th>\n",
       "      <th>X10</th>\n",
       "      <th>X11</th>\n",
       "      <th>Y</th>\n",
       "    </tr>\n",
       "  </thead>\n",
       "  <tbody>\n",
       "    <tr>\n",
       "      <th>0</th>\n",
       "      <td>Coloring book moana</td>\n",
       "      <td>ART_AND_DESIGN</td>\n",
       "      <td>967</td>\n",
       "      <td>14M</td>\n",
       "      <td>500,000+</td>\n",
       "      <td>Free</td>\n",
       "      <td>0</td>\n",
       "      <td>Everyone</td>\n",
       "      <td>Art &amp; Design;Pretend Play</td>\n",
       "      <td>January 15, 2018</td>\n",
       "      <td>2.0.0</td>\n",
       "      <td>4.0.3 and up</td>\n",
       "      <td>3.9</td>\n",
       "    </tr>\n",
       "    <tr>\n",
       "      <th>1</th>\n",
       "      <td>U Launcher Lite – FREE Live Cool Themes, Hide ...</td>\n",
       "      <td>ART_AND_DESIGN</td>\n",
       "      <td>87510</td>\n",
       "      <td>8.7M</td>\n",
       "      <td>5,000,000+</td>\n",
       "      <td>Free</td>\n",
       "      <td>0</td>\n",
       "      <td>Everyone</td>\n",
       "      <td>Art &amp; Design</td>\n",
       "      <td>August 1, 2018</td>\n",
       "      <td>1.2.4</td>\n",
       "      <td>4.0.3 and up</td>\n",
       "      <td>4.7</td>\n",
       "    </tr>\n",
       "    <tr>\n",
       "      <th>2</th>\n",
       "      <td>Pixel Draw - Number Art Coloring Book</td>\n",
       "      <td>ART_AND_DESIGN</td>\n",
       "      <td>967</td>\n",
       "      <td>2.8M</td>\n",
       "      <td>100,000+</td>\n",
       "      <td>Free</td>\n",
       "      <td>0</td>\n",
       "      <td>Everyone</td>\n",
       "      <td>Art &amp; Design;Creativity</td>\n",
       "      <td>June 20, 2018</td>\n",
       "      <td>1.1</td>\n",
       "      <td>4.4 and up</td>\n",
       "      <td>4.3</td>\n",
       "    </tr>\n",
       "  </tbody>\n",
       "</table>\n",
       "</div>"
      ]
     },
     "execution_count": 25,
     "metadata": {},
     "output_type": "execute_result"
    }
   ],
   "execution_count": 25
  },
  {
   "cell_type": "code",
   "id": "28368974",
   "metadata": {
    "execution": {
     "iopub.execute_input": "2024-12-11T21:35:00.030316Z",
     "iopub.status.busy": "2024-12-11T21:35:00.029927Z",
     "iopub.status.idle": "2024-12-11T21:35:00.036526Z",
     "shell.execute_reply": "2024-12-11T21:35:00.035478Z"
    },
    "papermill": {
     "duration": 0.019152,
     "end_time": "2024-12-11T21:35:00.038852",
     "exception": false,
     "start_time": "2024-12-11T21:35:00.019700",
     "status": "completed"
    },
    "tags": [],
    "ExecuteTime": {
     "end_time": "2025-05-09T13:50:47.797975Z",
     "start_time": "2025-05-09T13:50:47.793655Z"
    }
   },
   "source": [
    "df.shape"
   ],
   "outputs": [
    {
     "data": {
      "text/plain": [
       "(8968, 13)"
      ]
     },
     "execution_count": 26,
     "metadata": {},
     "output_type": "execute_result"
    }
   ],
   "execution_count": 26
  },
  {
   "cell_type": "code",
   "id": "33ebfa7f",
   "metadata": {
    "execution": {
     "iopub.execute_input": "2024-12-11T21:35:00.059610Z",
     "iopub.status.busy": "2024-12-11T21:35:00.059220Z",
     "iopub.status.idle": "2024-12-11T21:35:00.095172Z",
     "shell.execute_reply": "2024-12-11T21:35:00.093930Z"
    },
    "papermill": {
     "duration": 0.049144,
     "end_time": "2024-12-11T21:35:00.097604",
     "exception": false,
     "start_time": "2024-12-11T21:35:00.048460",
     "status": "completed"
    },
    "tags": [],
    "ExecuteTime": {
     "end_time": "2025-05-09T13:50:47.973532Z",
     "start_time": "2025-05-09T13:50:47.964574Z"
    }
   },
   "source": [
    "df.info()"
   ],
   "outputs": [
    {
     "name": "stdout",
     "output_type": "stream",
     "text": [
      "<class 'pandas.core.frame.DataFrame'>\n",
      "RangeIndex: 8968 entries, 0 to 8967\n",
      "Data columns (total 13 columns):\n",
      " #   Column  Non-Null Count  Dtype  \n",
      "---  ------  --------------  -----  \n",
      " 0   X0      8968 non-null   object \n",
      " 1   X1      8968 non-null   object \n",
      " 2   X2      8968 non-null   object \n",
      " 3   X3      8968 non-null   object \n",
      " 4   X4      8968 non-null   object \n",
      " 5   X5      8967 non-null   object \n",
      " 6   X6      8968 non-null   object \n",
      " 7   X7      8967 non-null   object \n",
      " 8   X8      8968 non-null   object \n",
      " 9   X9      8968 non-null   object \n",
      " 10  X10     8961 non-null   object \n",
      " 11  X11     8965 non-null   object \n",
      " 12  Y       7494 non-null   float64\n",
      "dtypes: float64(1), object(12)\n",
      "memory usage: 910.9+ KB\n"
     ]
    }
   ],
   "execution_count": 27
  },
  {
   "cell_type": "code",
   "id": "3679a826",
   "metadata": {
    "execution": {
     "iopub.execute_input": "2024-12-11T21:35:00.117577Z",
     "iopub.status.busy": "2024-12-11T21:35:00.117185Z",
     "iopub.status.idle": "2024-12-11T21:35:00.124273Z",
     "shell.execute_reply": "2024-12-11T21:35:00.123275Z"
    },
    "papermill": {
     "duration": 0.019854,
     "end_time": "2024-12-11T21:35:00.126788",
     "exception": false,
     "start_time": "2024-12-11T21:35:00.106934",
     "status": "completed"
    },
    "tags": [],
    "ExecuteTime": {
     "end_time": "2025-05-09T13:50:48.435788Z",
     "start_time": "2025-05-09T13:50:48.432073Z"
    }
   },
   "source": [
    "df.columns"
   ],
   "outputs": [
    {
     "data": {
      "text/plain": [
       "Index(['X0', 'X1', 'X2', 'X3', 'X4', 'X5', 'X6', 'X7', 'X8', 'X9', 'X10',\n",
       "       'X11', 'Y'],\n",
       "      dtype='object')"
      ]
     },
     "execution_count": 28,
     "metadata": {},
     "output_type": "execute_result"
    }
   ],
   "execution_count": 28
  },
  {
   "metadata": {
    "ExecuteTime": {
     "end_time": "2025-05-09T13:50:48.684859Z",
     "start_time": "2025-05-09T13:50:48.681621Z"
    }
   },
   "cell_type": "code",
   "source": [
    "def rename_columns(dataframe):\n",
    "    reformated_df = dataframe.rename(\n",
    "        columns={\"X0\": \"App\", \"X1\": \"Category\", \"X2\": \"Reviews\", \"X3\": \"Size\",\n",
    "                 \"X4\": \"Installs\", \"X5\": \"Type\", \"X6\": \"Price\", \"X7\": \"Content_Rating\",\n",
    "                 \"X8\": \"Genres\", \"X9\": \"Last_Updated\", \"X10\": \"Current_Ver\",\n",
    "                 \"X11\": \"Android_Ver\", \"Y\": \"Rating\"})\n",
    "    return reformated_df"
   ],
   "id": "7010af48752ec1cd",
   "outputs": [],
   "execution_count": 29
  },
  {
   "metadata": {
    "ExecuteTime": {
     "end_time": "2025-05-09T13:50:49.233196Z",
     "start_time": "2025-05-09T13:50:49.228566Z"
    }
   },
   "cell_type": "code",
   "source": "df = rename_columns(df)",
   "id": "f7564a4fde51774b",
   "outputs": [],
   "execution_count": 30
  },
  {
   "cell_type": "code",
   "id": "8592c606",
   "metadata": {
    "execution": {
     "iopub.execute_input": "2024-12-11T21:35:00.147816Z",
     "iopub.status.busy": "2024-12-11T21:35:00.147377Z",
     "iopub.status.idle": "2024-12-11T21:35:00.154926Z",
     "shell.execute_reply": "2024-12-11T21:35:00.153852Z"
    },
    "papermill": {
     "duration": 0.020225,
     "end_time": "2024-12-11T21:35:00.157108",
     "exception": false,
     "start_time": "2024-12-11T21:35:00.136883",
     "status": "completed"
    },
    "tags": [],
    "ExecuteTime": {
     "end_time": "2025-05-09T13:50:49.623356Z",
     "start_time": "2025-05-09T13:50:49.618346Z"
    }
   },
   "source": [
    "df.columns=df.columns.str.replace(\" \",\"_\")\n",
    "df.columns"
   ],
   "outputs": [
    {
     "data": {
      "text/plain": [
       "Index(['App', 'Category', 'Reviews', 'Size', 'Installs', 'Type', 'Price',\n",
       "       'Content_Rating', 'Genres', 'Last_Updated', 'Current_Ver',\n",
       "       'Android_Ver', 'Rating'],\n",
       "      dtype='object')"
      ]
     },
     "execution_count": 31,
     "metadata": {},
     "output_type": "execute_result"
    }
   ],
   "execution_count": 31
  },
  {
   "cell_type": "code",
   "id": "64bc9de8",
   "metadata": {
    "execution": {
     "iopub.execute_input": "2024-12-11T21:35:00.177547Z",
     "iopub.status.busy": "2024-12-11T21:35:00.177128Z",
     "iopub.status.idle": "2024-12-11T21:35:00.192170Z",
     "shell.execute_reply": "2024-12-11T21:35:00.191051Z"
    },
    "papermill": {
     "duration": 0.027837,
     "end_time": "2024-12-11T21:35:00.194369",
     "exception": false,
     "start_time": "2024-12-11T21:35:00.166532",
     "status": "completed"
    },
    "tags": [],
    "ExecuteTime": {
     "end_time": "2025-05-09T13:50:50.186995Z",
     "start_time": "2025-05-09T13:50:50.178859Z"
    }
   },
   "source": [
    "df.isnull().sum()"
   ],
   "outputs": [
    {
     "data": {
      "text/plain": [
       "App                  0\n",
       "Category             0\n",
       "Reviews              0\n",
       "Size                 0\n",
       "Installs             0\n",
       "Type                 1\n",
       "Price                0\n",
       "Content_Rating       1\n",
       "Genres               0\n",
       "Last_Updated         0\n",
       "Current_Ver          7\n",
       "Android_Ver          3\n",
       "Rating            1474\n",
       "dtype: int64"
      ]
     },
     "execution_count": 32,
     "metadata": {},
     "output_type": "execute_result"
    }
   ],
   "execution_count": 32
  },
  {
   "cell_type": "code",
   "id": "c26db931",
   "metadata": {
    "execution": {
     "iopub.execute_input": "2024-12-11T21:35:00.214861Z",
     "iopub.status.busy": "2024-12-11T21:35:00.214454Z",
     "iopub.status.idle": "2024-12-11T21:35:00.807809Z",
     "shell.execute_reply": "2024-12-11T21:35:00.806579Z"
    },
    "papermill": {
     "duration": 0.606502,
     "end_time": "2024-12-11T21:35:00.810396",
     "exception": false,
     "start_time": "2024-12-11T21:35:00.203894",
     "status": "completed"
    },
    "tags": [],
    "ExecuteTime": {
     "end_time": "2025-05-09T13:50:51.871686Z",
     "start_time": "2025-05-09T13:50:51.543220Z"
    }
   },
   "source": [
    "sns.heatmap(df.isnull(), cbar=False)"
   ],
   "outputs": [
    {
     "data": {
      "text/plain": [
       "<Axes: >"
      ]
     },
     "execution_count": 33,
     "metadata": {},
     "output_type": "execute_result"
    },
    {
     "data": {
      "text/plain": [
       "<Figure size 640x480 with 1 Axes>"
      ],
      "image/png": "[encoded data removed]"
     },
     "metadata": {},
     "output_type": "display_data"
    }
   ],
   "execution_count": 33
  },
  {
   "cell_type": "code",
   "id": "535b3d68",
   "metadata": {
    "execution": {
     "iopub.execute_input": "2024-12-11T21:35:00.832644Z",
     "iopub.status.busy": "2024-12-11T21:35:00.832290Z",
     "iopub.status.idle": "2024-12-11T21:35:00.843164Z",
     "shell.execute_reply": "2024-12-11T21:35:00.842166Z"
    },
    "papermill": {
     "duration": 0.024418,
     "end_time": "2024-12-11T21:35:00.845174",
     "exception": false,
     "start_time": "2024-12-11T21:35:00.820756",
     "status": "completed"
    },
    "tags": [],
    "ExecuteTime": {
     "end_time": "2025-05-09T13:50:53.191540Z",
     "start_time": "2025-05-09T13:50:53.184774Z"
    }
   },
   "source": [
    "df[\"Rating\"].fillna(df[\"Rating\"].median())"
   ],
   "outputs": [
    {
     "data": {
      "text/plain": [
       "0       3.9\n",
       "1       4.7\n",
       "2       4.3\n",
       "3       4.4\n",
       "4       3.8\n",
       "       ... \n",
       "8963    4.3\n",
       "8964    4.5\n",
       "8965    5.0\n",
       "8966    4.3\n",
       "8967    4.5\n",
       "Name: Rating, Length: 8968, dtype: float64"
      ]
     },
     "execution_count": 34,
     "metadata": {},
     "output_type": "execute_result"
    }
   ],
   "execution_count": 34
  },
  {
   "cell_type": "code",
   "id": "00d871a0",
   "metadata": {
    "execution": {
     "iopub.execute_input": "2024-12-11T21:35:00.867581Z",
     "iopub.status.busy": "2024-12-11T21:35:00.867241Z",
     "iopub.status.idle": "2024-12-11T21:35:00.904758Z",
     "shell.execute_reply": "2024-12-11T21:35:00.903602Z"
    },
    "papermill": {
     "duration": 0.051548,
     "end_time": "2024-12-11T21:35:00.907045",
     "exception": false,
     "start_time": "2024-12-11T21:35:00.855497",
     "status": "completed"
    },
    "tags": [],
    "ExecuteTime": {
     "end_time": "2025-05-09T13:50:54.961760Z",
     "start_time": "2025-05-09T13:50:54.942904Z"
    }
   },
   "source": [
    "df=df.dropna()\n",
    "df=df.drop_duplicates()\n",
    "df.isnull().sum()"
   ],
   "outputs": [
    {
     "data": {
      "text/plain": [
       "App               0\n",
       "Category          0\n",
       "Reviews           0\n",
       "Size              0\n",
       "Installs          0\n",
       "Type              0\n",
       "Price             0\n",
       "Content_Rating    0\n",
       "Genres            0\n",
       "Last_Updated      0\n",
       "Current_Ver       0\n",
       "Android_Ver       0\n",
       "Rating            0\n",
       "dtype: int64"
      ]
     },
     "execution_count": 35,
     "metadata": {},
     "output_type": "execute_result"
    }
   ],
   "execution_count": 35
  },
  {
   "cell_type": "code",
   "id": "295f3c93",
   "metadata": {
    "execution": {
     "iopub.execute_input": "2024-12-11T21:35:00.930498Z",
     "iopub.status.busy": "2024-12-11T21:35:00.930150Z",
     "iopub.status.idle": "2024-12-11T21:35:00.937558Z",
     "shell.execute_reply": "2024-12-11T21:35:00.936152Z"
    },
    "papermill": {
     "duration": 0.02147,
     "end_time": "2024-12-11T21:35:00.939903",
     "exception": false,
     "start_time": "2024-12-11T21:35:00.918433",
     "status": "completed"
    },
    "tags": [],
    "ExecuteTime": {
     "end_time": "2025-05-09T13:50:56.233787Z",
     "start_time": "2025-05-09T13:50:56.228753Z"
    }
   },
   "source": [
    "df[\"Reviews\"]=df[\"Reviews\"].astype(\"float\")"
   ],
   "outputs": [],
   "execution_count": 36
  },
  {
   "cell_type": "code",
   "id": "8d17f87a",
   "metadata": {
    "execution": {
     "iopub.execute_input": "2024-12-11T21:35:00.963482Z",
     "iopub.status.busy": "2024-12-11T21:35:00.963107Z",
     "iopub.status.idle": "2024-12-11T21:35:00.970805Z",
     "shell.execute_reply": "2024-12-11T21:35:00.969810Z"
    },
    "papermill": {
     "duration": 0.022301,
     "end_time": "2024-12-11T21:35:00.972793",
     "exception": false,
     "start_time": "2024-12-11T21:35:00.950492",
     "status": "completed"
    },
    "tags": [],
    "ExecuteTime": {
     "end_time": "2025-05-09T13:50:56.477572Z",
     "start_time": "2025-05-09T13:50:56.473327Z"
    }
   },
   "source": [
    "df.dtypes"
   ],
   "outputs": [
    {
     "data": {
      "text/plain": [
       "App                object\n",
       "Category           object\n",
       "Reviews           float64\n",
       "Size               object\n",
       "Installs           object\n",
       "Type               object\n",
       "Price              object\n",
       "Content_Rating     object\n",
       "Genres             object\n",
       "Last_Updated       object\n",
       "Current_Ver        object\n",
       "Android_Ver        object\n",
       "Rating            float64\n",
       "dtype: object"
      ]
     },
     "execution_count": 37,
     "metadata": {},
     "output_type": "execute_result"
    }
   ],
   "execution_count": 37
  },
  {
   "cell_type": "code",
   "id": "590b44bd",
   "metadata": {
    "execution": {
     "iopub.execute_input": "2024-12-11T21:35:00.995969Z",
     "iopub.status.busy": "2024-12-11T21:35:00.995184Z",
     "iopub.status.idle": "2024-12-11T21:35:01.018477Z",
     "shell.execute_reply": "2024-12-11T21:35:01.017180Z"
    },
    "papermill": {
     "duration": 0.037668,
     "end_time": "2024-12-11T21:35:01.021132",
     "exception": false,
     "start_time": "2024-12-11T21:35:00.983464",
     "status": "completed"
    },
    "tags": [],
    "ExecuteTime": {
     "end_time": "2025-05-09T13:50:57.869303Z",
     "start_time": "2025-05-09T13:50:57.858604Z"
    }
   },
   "source": [
    "df[\"Size\"]=df[\"Size\"].str.replace(\"M\",\"e6\").str.replace(\"K\",\"e3\").str.replace(\"k\",\"e3\")\n",
    "a=df[df[\"Size\"]!=\"Varies with device\"][\"Size\"].astype(\"float\").median()\n",
    "df[\"Size\"]=df[\"Size\"].replace(\"Varies with device\",a)"
   ],
   "outputs": [],
   "execution_count": 38
  },
  {
   "cell_type": "code",
   "id": "d7607fb2",
   "metadata": {
    "execution": {
     "iopub.execute_input": "2024-12-11T21:35:01.044578Z",
     "iopub.status.busy": "2024-12-11T21:35:01.044161Z",
     "iopub.status.idle": "2024-12-11T21:35:01.055141Z",
     "shell.execute_reply": "2024-12-11T21:35:01.054021Z"
    },
    "papermill": {
     "duration": 0.024962,
     "end_time": "2024-12-11T21:35:01.057292",
     "exception": false,
     "start_time": "2024-12-11T21:35:01.032330",
     "status": "completed"
    },
    "tags": [],
    "ExecuteTime": {
     "end_time": "2025-05-09T13:50:58.398255Z",
     "start_time": "2025-05-09T13:50:58.392225Z"
    }
   },
   "source": [
    "df[\"Size\"].value_counts()"
   ],
   "outputs": [
    {
     "data": {
      "text/plain": [
       "Size\n",
       "14000000.0    1200\n",
       "12e6           130\n",
       "14e6           124\n",
       "15e6           117\n",
       "13e6           116\n",
       "              ... \n",
       "210e3            1\n",
       "609e3            1\n",
       "308e3            1\n",
       "306e3            1\n",
       "619e3            1\n",
       "Name: count, Length: 368, dtype: int64"
      ]
     },
     "execution_count": 39,
     "metadata": {},
     "output_type": "execute_result"
    }
   ],
   "execution_count": 39
  },
  {
   "cell_type": "code",
   "id": "102c971f",
   "metadata": {
    "execution": {
     "iopub.execute_input": "2024-12-11T21:35:01.080910Z",
     "iopub.status.busy": "2024-12-11T21:35:01.080500Z",
     "iopub.status.idle": "2024-12-11T21:35:01.088339Z",
     "shell.execute_reply": "2024-12-11T21:35:01.087208Z"
    },
    "papermill": {
     "duration": 0.021883,
     "end_time": "2024-12-11T21:35:01.090260",
     "exception": false,
     "start_time": "2024-12-11T21:35:01.068377",
     "status": "completed"
    },
    "tags": [],
    "ExecuteTime": {
     "end_time": "2025-05-09T13:51:00.113716Z",
     "start_time": "2025-05-09T13:51:00.108623Z"
    }
   },
   "source": [
    "df.Size=pd.to_numeric(df[\"Size\"])"
   ],
   "outputs": [],
   "execution_count": 40
  },
  {
   "cell_type": "code",
   "id": "33efe372",
   "metadata": {
    "execution": {
     "iopub.execute_input": "2024-12-11T21:35:01.113319Z",
     "iopub.status.busy": "2024-12-11T21:35:01.112939Z",
     "iopub.status.idle": "2024-12-11T21:35:01.120694Z",
     "shell.execute_reply": "2024-12-11T21:35:01.119699Z"
    },
    "papermill": {
     "duration": 0.02174,
     "end_time": "2024-12-11T21:35:01.122863",
     "exception": false,
     "start_time": "2024-12-11T21:35:01.101123",
     "status": "completed"
    },
    "tags": [],
    "ExecuteTime": {
     "end_time": "2025-05-09T13:51:00.309448Z",
     "start_time": "2025-05-09T13:51:00.304727Z"
    }
   },
   "source": [
    "df.Size.head(3)"
   ],
   "outputs": [
    {
     "data": {
      "text/plain": [
       "0    14000000.0\n",
       "1     8700000.0\n",
       "2     2800000.0\n",
       "Name: Size, dtype: float64"
      ]
     },
     "execution_count": 41,
     "metadata": {},
     "output_type": "execute_result"
    }
   ],
   "execution_count": 41
  },
  {
   "cell_type": "code",
   "id": "965fe55c",
   "metadata": {
    "execution": {
     "iopub.execute_input": "2024-12-11T21:35:01.146189Z",
     "iopub.status.busy": "2024-12-11T21:35:01.145779Z",
     "iopub.status.idle": "2024-12-11T21:35:01.153462Z",
     "shell.execute_reply": "2024-12-11T21:35:01.152454Z"
    },
    "papermill": {
     "duration": 0.021885,
     "end_time": "2024-12-11T21:35:01.155693",
     "exception": false,
     "start_time": "2024-12-11T21:35:01.133808",
     "status": "completed"
    },
    "tags": [],
    "ExecuteTime": {
     "end_time": "2025-05-09T13:51:01.509824Z",
     "start_time": "2025-05-09T13:51:01.504929Z"
    }
   },
   "source": [
    "df[\"Installs\"].unique()"
   ],
   "outputs": [
    {
     "data": {
      "text/plain": [
       "array(['500,000+', '5,000,000+', '100,000+', '50,000+', '1,000,000+',\n",
       "       '10,000+', '10,000,000+', '5,000+', '100,000,000+',\n",
       "       '1,000,000,000+', '50,000,000+', '1,000+', '500,000,000+', '100+',\n",
       "       '500+', '10+', '5+', '50+', '1+'], dtype=object)"
      ]
     },
     "execution_count": 42,
     "metadata": {},
     "output_type": "execute_result"
    }
   ],
   "execution_count": 42
  },
  {
   "cell_type": "code",
   "id": "e732f8ef",
   "metadata": {
    "execution": {
     "iopub.execute_input": "2024-12-11T21:35:01.179794Z",
     "iopub.status.busy": "2024-12-11T21:35:01.178951Z",
     "iopub.status.idle": "2024-12-11T21:35:01.197302Z",
     "shell.execute_reply": "2024-12-11T21:35:01.196128Z"
    },
    "papermill": {
     "duration": 0.032782,
     "end_time": "2024-12-11T21:35:01.199518",
     "exception": false,
     "start_time": "2024-12-11T21:35:01.166736",
     "status": "completed"
    },
    "tags": [],
    "ExecuteTime": {
     "end_time": "2025-05-09T13:51:01.699171Z",
     "start_time": "2025-05-09T13:51:01.688843Z"
    }
   },
   "source": [
    "df[\"Installs\"]=df[\"Installs\"].apply(lambda x: x.replace(\"+\",\"\"))\n",
    "df[\"Installs\"]=df[\"Installs\"].apply(lambda x: x.replace(\",\",\"\"))\n",
    "df[\"Installs\"]=df[\"Installs\"].apply(lambda x:int(x))"
   ],
   "outputs": [],
   "execution_count": 43
  },
  {
   "cell_type": "code",
   "id": "5ee3448f",
   "metadata": {
    "execution": {
     "iopub.execute_input": "2024-12-11T21:35:01.223281Z",
     "iopub.status.busy": "2024-12-11T21:35:01.222481Z",
     "iopub.status.idle": "2024-12-11T21:35:01.230471Z",
     "shell.execute_reply": "2024-12-11T21:35:01.229475Z"
    },
    "papermill": {
     "duration": 0.022083,
     "end_time": "2024-12-11T21:35:01.232495",
     "exception": false,
     "start_time": "2024-12-11T21:35:01.210412",
     "status": "completed"
    },
    "tags": [],
    "ExecuteTime": {
     "end_time": "2025-05-09T13:51:02.255975Z",
     "start_time": "2025-05-09T13:51:02.251776Z"
    }
   },
   "source": [
    "df[\"Installs\"]"
   ],
   "outputs": [
    {
     "data": {
      "text/plain": [
       "0         500000\n",
       "1        5000000\n",
       "2         100000\n",
       "3          50000\n",
       "4          50000\n",
       "          ...   \n",
       "8961        1000\n",
       "8962         500\n",
       "8964        5000\n",
       "8965         100\n",
       "8967    10000000\n",
       "Name: Installs, Length: 7187, dtype: int64"
      ]
     },
     "execution_count": 44,
     "metadata": {},
     "output_type": "execute_result"
    }
   ],
   "execution_count": 44
  },
  {
   "cell_type": "code",
   "id": "0609c274",
   "metadata": {
    "execution": {
     "iopub.execute_input": "2024-12-11T21:35:01.256835Z",
     "iopub.status.busy": "2024-12-11T21:35:01.256399Z",
     "iopub.status.idle": "2024-12-11T21:35:01.264817Z",
     "shell.execute_reply": "2024-12-11T21:35:01.263590Z"
    },
    "papermill": {
     "duration": 0.022821,
     "end_time": "2024-12-11T21:35:01.267029",
     "exception": false,
     "start_time": "2024-12-11T21:35:01.244208",
     "status": "completed"
    },
    "tags": [],
    "ExecuteTime": {
     "end_time": "2025-05-09T13:51:03.780013Z",
     "start_time": "2025-05-09T13:51:03.775197Z"
    }
   },
   "source": [
    "df[\"Price\"].unique()"
   ],
   "outputs": [
    {
     "data": {
      "text/plain": [
       "array(['0', '$4.99', '$3.99', '$7.99', '$5.99', '$2.99', '$1.99', '$6.99',\n",
       "       '$9.99', '$7.49', '$0.99', '$9.00', '$5.49', '$24.99', '$11.99',\n",
       "       '$79.99', '$16.99', '$14.99', '$29.99', '$12.99', '$3.49', '$2.49',\n",
       "       '$10.99', '$1.50', '$19.99', '$10.00', '$33.99', '$39.99', '$3.95',\n",
       "       '$4.49', '$1.49', '$1.70', '$3.88', '$17.99', '$399.99', '$400.00',\n",
       "       '$3.02', '$1.76', '$4.84', '$4.77', '$1.61', '$2.50', '$1.59',\n",
       "       '$6.49', '$1.29', '$379.99', '$37.99', '$18.99', '$389.99',\n",
       "       '$8.49', '$1.75', '$14.00', '$2.00', '$2.59', '$19.40', '$3.90',\n",
       "       '$15.46', '$8.99', '$3.04', '$13.99', '$4.29', '$4.60', '$2.95',\n",
       "       '$2.90', '$2.56', '$1.00', '$1.20'], dtype=object)"
      ]
     },
     "execution_count": 45,
     "metadata": {},
     "output_type": "execute_result"
    }
   ],
   "execution_count": 45
  },
  {
   "cell_type": "code",
   "id": "d6a86e5e",
   "metadata": {
    "execution": {
     "iopub.execute_input": "2024-12-11T21:35:01.292507Z",
     "iopub.status.busy": "2024-12-11T21:35:01.291577Z",
     "iopub.status.idle": "2024-12-11T21:35:01.302964Z",
     "shell.execute_reply": "2024-12-11T21:35:01.301823Z"
    },
    "papermill": {
     "duration": 0.027094,
     "end_time": "2024-12-11T21:35:01.305258",
     "exception": false,
     "start_time": "2024-12-11T21:35:01.278164",
     "status": "completed"
    },
    "tags": [],
    "ExecuteTime": {
     "end_time": "2025-05-09T13:51:03.937261Z",
     "start_time": "2025-05-09T13:51:03.931049Z"
    }
   },
   "source": [
    "df[\"Price\"]=df[\"Price\"].apply(lambda x: x.replace(\"$\",\"\"))\n",
    "df[\"Price\"]=df[\"Price\"].apply(lambda x:float(x))"
   ],
   "outputs": [],
   "execution_count": 46
  },
  {
   "cell_type": "code",
   "id": "8a47a85c",
   "metadata": {
    "execution": {
     "iopub.execute_input": "2024-12-11T21:35:01.332751Z",
     "iopub.status.busy": "2024-12-11T21:35:01.332371Z",
     "iopub.status.idle": "2024-12-11T21:35:01.340214Z",
     "shell.execute_reply": "2024-12-11T21:35:01.339196Z"
    },
    "papermill": {
     "duration": 0.023221,
     "end_time": "2024-12-11T21:35:01.342418",
     "exception": false,
     "start_time": "2024-12-11T21:35:01.319197",
     "status": "completed"
    },
    "tags": [],
    "ExecuteTime": {
     "end_time": "2025-05-09T13:51:04.077490Z",
     "start_time": "2025-05-09T13:51:04.071777Z"
    }
   },
   "source": [
    "df[\"Price\"].unique()"
   ],
   "outputs": [
    {
     "data": {
      "text/plain": [
       "array([  0.  ,   4.99,   3.99,   7.99,   5.99,   2.99,   1.99,   6.99,\n",
       "         9.99,   7.49,   0.99,   9.  ,   5.49,  24.99,  11.99,  79.99,\n",
       "        16.99,  14.99,  29.99,  12.99,   3.49,   2.49,  10.99,   1.5 ,\n",
       "        19.99,  10.  ,  33.99,  39.99,   3.95,   4.49,   1.49,   1.7 ,\n",
       "         3.88,  17.99, 399.99, 400.  ,   3.02,   1.76,   4.84,   4.77,\n",
       "         1.61,   2.5 ,   1.59,   6.49,   1.29, 379.99,  37.99,  18.99,\n",
       "       389.99,   8.49,   1.75,  14.  ,   2.  ,   2.59,  19.4 ,   3.9 ,\n",
       "        15.46,   8.99,   3.04,  13.99,   4.29,   4.6 ,   2.95,   2.9 ,\n",
       "         2.56,   1.  ,   1.2 ])"
      ]
     },
     "execution_count": 47,
     "metadata": {},
     "output_type": "execute_result"
    }
   ],
   "execution_count": 47
  },
  {
   "cell_type": "code",
   "id": "e2773534",
   "metadata": {
    "execution": {
     "iopub.execute_input": "2024-12-11T21:35:01.366487Z",
     "iopub.status.busy": "2024-12-11T21:35:01.366147Z",
     "iopub.status.idle": "2024-12-11T21:35:01.374335Z",
     "shell.execute_reply": "2024-12-11T21:35:01.373231Z"
    },
    "papermill": {
     "duration": 0.022683,
     "end_time": "2024-12-11T21:35:01.376403",
     "exception": false,
     "start_time": "2024-12-11T21:35:01.353720",
     "status": "completed"
    },
    "tags": [],
    "ExecuteTime": {
     "end_time": "2025-05-09T13:51:04.558706Z",
     "start_time": "2025-05-09T13:51:04.554139Z"
    }
   },
   "source": [
    "df[\"Genres\"].unique()"
   ],
   "outputs": [
    {
     "data": {
      "text/plain": [
       "array(['Art & Design;Pretend Play', 'Art & Design',\n",
       "       'Art & Design;Creativity', 'Auto & Vehicles', 'Beauty',\n",
       "       'Books & Reference', 'Business', 'Comics', 'Comics;Creativity',\n",
       "       'Communication', 'Dating', 'Education;Education', 'Education',\n",
       "       'Education;Creativity', 'Education;Music & Video',\n",
       "       'Education;Action & Adventure', 'Education;Brain Games',\n",
       "       'Education;Pretend Play', 'Entertainment',\n",
       "       'Entertainment;Music & Video', 'Entertainment;Brain Games',\n",
       "       'Entertainment;Creativity', 'Events', 'Finance', 'Food & Drink',\n",
       "       'Health & Fitness', 'House & Home', 'Libraries & Demo',\n",
       "       'Lifestyle', 'Adventure;Action & Adventure', 'Arcade', 'Casual',\n",
       "       'Card', 'Casual;Pretend Play', 'Action', 'Strategy', 'Puzzle',\n",
       "       'Music', 'Word', 'Racing', 'Casual;Creativity', 'Sports',\n",
       "       'Casual;Action & Adventure', 'Simulation', 'Adventure', 'Board',\n",
       "       'Role Playing', 'Simulation;Education',\n",
       "       'Action;Action & Adventure', 'Trivia', 'Casual;Brain Games',\n",
       "       'Simulation;Action & Adventure', 'Educational;Creativity',\n",
       "       'Educational;Education', 'Card;Brain Games',\n",
       "       'Educational;Brain Games', 'Educational;Pretend Play',\n",
       "       'Puzzle;Brain Games', 'Casual;Education', 'Music;Music & Video',\n",
       "       'Racing;Action & Adventure', 'Arcade;Pretend Play',\n",
       "       'Role Playing;Action & Adventure', 'Simulation;Pretend Play',\n",
       "       'Sports;Action & Adventure', 'Entertainment;Action & Adventure',\n",
       "       'Arcade;Action & Adventure', 'Strategy;Action & Adventure',\n",
       "       'Music & Audio;Music & Video', 'Health & Fitness;Education',\n",
       "       'Adventure;Education', 'Board;Brain Games',\n",
       "       'Board;Action & Adventure', 'Casual;Music & Video',\n",
       "       'Role Playing;Pretend Play', 'Entertainment;Pretend Play',\n",
       "       'Video Players & Editors;Creativity', 'Card;Action & Adventure',\n",
       "       'Medical', 'Social', 'Shopping', 'Photography', 'Travel & Local',\n",
       "       'Travel & Local;Action & Adventure', 'Tools', 'Tools;Education',\n",
       "       'Personalization', 'Productivity', 'Parenting;Music & Video',\n",
       "       'Parenting;Brain Games', 'Parenting;Education', 'Parenting',\n",
       "       'Weather', 'Video Players & Editors',\n",
       "       'Video Players & Editors;Music & Video', 'News & Magazines',\n",
       "       'Maps & Navigation', 'Educational;Action & Adventure',\n",
       "       'Educational', 'Casino', 'Adventure;Brain Games',\n",
       "       'Lifestyle;Education', 'Puzzle;Action & Adventure',\n",
       "       'Books & Reference;Education', 'Puzzle;Education',\n",
       "       'Role Playing;Brain Games', 'Racing;Pretend Play',\n",
       "       'Puzzle;Creativity', 'Communication;Creativity',\n",
       "       'Strategy;Creativity'], dtype=object)"
      ]
     },
     "execution_count": 48,
     "metadata": {},
     "output_type": "execute_result"
    }
   ],
   "execution_count": 48
  },
  {
   "cell_type": "code",
   "id": "20e347ff",
   "metadata": {
    "execution": {
     "iopub.execute_input": "2024-12-11T21:35:01.400521Z",
     "iopub.status.busy": "2024-12-11T21:35:01.400161Z",
     "iopub.status.idle": "2024-12-11T21:35:01.416510Z",
     "shell.execute_reply": "2024-12-11T21:35:01.415368Z"
    },
    "papermill": {
     "duration": 0.030816,
     "end_time": "2024-12-11T21:35:01.418628",
     "exception": false,
     "start_time": "2024-12-11T21:35:01.387812",
     "status": "completed"
    },
    "tags": [],
    "ExecuteTime": {
     "end_time": "2025-05-09T13:51:04.830316Z",
     "start_time": "2025-05-09T13:51:04.822233Z"
    }
   },
   "source": [
    "df[\"Genres\"]=df[\"Genres\"].str.split(\";\").str[0]\n",
    "df[\"Genres\"].unique()"
   ],
   "outputs": [
    {
     "data": {
      "text/plain": [
       "array(['Art & Design', 'Auto & Vehicles', 'Beauty', 'Books & Reference',\n",
       "       'Business', 'Comics', 'Communication', 'Dating', 'Education',\n",
       "       'Entertainment', 'Events', 'Finance', 'Food & Drink',\n",
       "       'Health & Fitness', 'House & Home', 'Libraries & Demo',\n",
       "       'Lifestyle', 'Adventure', 'Arcade', 'Casual', 'Card', 'Action',\n",
       "       'Strategy', 'Puzzle', 'Music', 'Word', 'Racing', 'Sports',\n",
       "       'Simulation', 'Board', 'Role Playing', 'Trivia', 'Educational',\n",
       "       'Music & Audio', 'Video Players & Editors', 'Medical', 'Social',\n",
       "       'Shopping', 'Photography', 'Travel & Local', 'Tools',\n",
       "       'Personalization', 'Productivity', 'Parenting', 'Weather',\n",
       "       'News & Magazines', 'Maps & Navigation', 'Casino'], dtype=object)"
      ]
     },
     "execution_count": 49,
     "metadata": {},
     "output_type": "execute_result"
    }
   ],
   "execution_count": 49
  },
  {
   "cell_type": "code",
   "id": "376227f8",
   "metadata": {
    "execution": {
     "iopub.execute_input": "2024-12-11T21:35:01.443350Z",
     "iopub.status.busy": "2024-12-11T21:35:01.442952Z",
     "iopub.status.idle": "2024-12-11T21:35:01.452361Z",
     "shell.execute_reply": "2024-12-11T21:35:01.451376Z"
    },
    "papermill": {
     "duration": 0.024301,
     "end_time": "2024-12-11T21:35:01.454479",
     "exception": false,
     "start_time": "2024-12-11T21:35:01.430178",
     "status": "completed"
    },
    "tags": [],
    "ExecuteTime": {
     "end_time": "2025-05-09T13:51:05.570075Z",
     "start_time": "2025-05-09T13:51:05.564634Z"
    }
   },
   "source": [
    "df[\"Genres\"].value_counts()"
   ],
   "outputs": [
    {
     "data": {
      "text/plain": [
       "Genres\n",
       "Tools                      596\n",
       "Entertainment              444\n",
       "Education                  417\n",
       "Action                     301\n",
       "Communication              263\n",
       "Productivity               260\n",
       "Photography                255\n",
       "Medical                    252\n",
       "Personalization            251\n",
       "Finance                    251\n",
       "Sports                     246\n",
       "Lifestyle                  243\n",
       "Business                   224\n",
       "Health & Fitness           222\n",
       "Social                     207\n",
       "Casual                     202\n",
       "News & Magazines           187\n",
       "Arcade                     173\n",
       "Shopping                   167\n",
       "Simulation                 166\n",
       "Travel & Local             157\n",
       "Books & Reference          136\n",
       "Video Players & Editors    132\n",
       "Dating                     130\n",
       "Puzzle                     111\n",
       "Maps & Navigation          104\n",
       "Racing                      93\n",
       "Role Playing                90\n",
       "Strategy                    81\n",
       "Food & Drink                81\n",
       "Educational                 80\n",
       "Adventure                   75\n",
       "Weather                     59\n",
       "Auto & Vehicles             59\n",
       "House & Home                54\n",
       "Libraries & Demo            49\n",
       "Art & Design                48\n",
       "Board                       44\n",
       "Card                        42\n",
       "Comics                      41\n",
       "Events                      37\n",
       "Parenting                   34\n",
       "Beauty                      31\n",
       "Casino                      28\n",
       "Trivia                      24\n",
       "Word                        21\n",
       "Music                       18\n",
       "Music & Audio                1\n",
       "Name: count, dtype: int64"
      ]
     },
     "execution_count": 50,
     "metadata": {},
     "output_type": "execute_result"
    }
   ],
   "execution_count": 50
  },
  {
   "cell_type": "code",
   "id": "6a143190",
   "metadata": {
    "execution": {
     "iopub.execute_input": "2024-12-11T21:35:01.479557Z",
     "iopub.status.busy": "2024-12-11T21:35:01.479162Z",
     "iopub.status.idle": "2024-12-11T21:35:01.487481Z",
     "shell.execute_reply": "2024-12-11T21:35:01.486345Z"
    },
    "papermill": {
     "duration": 0.023529,
     "end_time": "2024-12-11T21:35:01.489725",
     "exception": false,
     "start_time": "2024-12-11T21:35:01.466196",
     "status": "completed"
    },
    "tags": [],
    "ExecuteTime": {
     "end_time": "2025-05-09T13:51:06.002982Z",
     "start_time": "2025-05-09T13:51:05.998673Z"
    }
   },
   "source": [
    "df[\"Last_Updated\"].head(3)"
   ],
   "outputs": [
    {
     "data": {
      "text/plain": [
       "0    January 15, 2018\n",
       "1      August 1, 2018\n",
       "2       June 20, 2018\n",
       "Name: Last_Updated, dtype: object"
      ]
     },
     "execution_count": 51,
     "metadata": {},
     "output_type": "execute_result"
    }
   ],
   "execution_count": 51
  },
  {
   "cell_type": "code",
   "id": "d4a8d849",
   "metadata": {
    "execution": {
     "iopub.execute_input": "2024-12-11T21:35:01.514844Z",
     "iopub.status.busy": "2024-12-11T21:35:01.514423Z",
     "iopub.status.idle": "2024-12-11T21:35:01.550337Z",
     "shell.execute_reply": "2024-12-11T21:35:01.549222Z"
    },
    "papermill": {
     "duration": 0.051299,
     "end_time": "2024-12-11T21:35:01.552621",
     "exception": false,
     "start_time": "2024-12-11T21:35:01.501322",
     "status": "completed"
    },
    "tags": [],
    "ExecuteTime": {
     "end_time": "2025-05-09T13:51:06.515590Z",
     "start_time": "2025-05-09T13:51:06.489660Z"
    }
   },
   "source": [
    "df[\"Last_Updated\"]=pd.to_datetime(df[\"Last_Updated\"])\n",
    "df[\"Updated_Day\"]=df[\"Last_Updated\"].dt.day\n",
    "df[\"Updated_Month\"]=df[\"Last_Updated\"].dt.month\n",
    "df[\"Updated_Year\"]=df[\"Last_Updated\"].dt.year\n",
    "df=df.drop(\"Last_Updated\",axis=1)\n",
    "df.head(3)"
   ],
   "outputs": [
    {
     "data": {
      "text/plain": [
       "                                                 App        Category  Reviews  \\\n",
       "0                                Coloring book moana  ART_AND_DESIGN    967.0   \n",
       "1  U Launcher Lite – FREE Live Cool Themes, Hide ...  ART_AND_DESIGN  87510.0   \n",
       "2              Pixel Draw - Number Art Coloring Book  ART_AND_DESIGN    967.0   \n",
       "\n",
       "         Size  Installs  Type  Price Content_Rating        Genres Current_Ver  \\\n",
       "0  14000000.0    500000  Free    0.0       Everyone  Art & Design       2.0.0   \n",
       "1   8700000.0   5000000  Free    0.0       Everyone  Art & Design       1.2.4   \n",
       "2   2800000.0    100000  Free    0.0       Everyone  Art & Design         1.1   \n",
       "\n",
       "    Android_Ver  Rating  Updated_Day  Updated_Month  Updated_Year  \n",
       "0  4.0.3 and up     3.9           15              1          2018  \n",
       "1  4.0.3 and up     4.7            1              8          2018  \n",
       "2    4.4 and up     4.3           20              6          2018  "
      ],
      "text/html": [
       "<div>\n",
       "<style scoped>\n",
       "    .dataframe tbody tr th:only-of-type {\n",
       "        vertical-align: middle;\n",
       "    }\n",
       "\n",
       "    .dataframe tbody tr th {\n",
       "        vertical-align: top;\n",
       "    }\n",
       "\n",
       "    .dataframe thead th {\n",
       "        text-align: right;\n",
       "    }\n",
       "</style>\n",
       "<table border=\"1\" class=\"dataframe\">\n",
       "  <thead>\n",
       "    <tr style=\"text-align: right;\">\n",
       "      <th></th>\n",
       "      <th>App</th>\n",
       "      <th>Category</th>\n",
       "      <th>Reviews</th>\n",
       "      <th>Size</th>\n",
       "      <th>Installs</th>\n",
       "      <th>Type</th>\n",
       "      <th>Price</th>\n",
       "      <th>Content_Rating</th>\n",
       "      <th>Genres</th>\n",
       "      <th>Current_Ver</th>\n",
       "      <th>Android_Ver</th>\n",
       "      <th>Rating</th>\n",
       "      <th>Updated_Day</th>\n",
       "      <th>Updated_Month</th>\n",
       "      <th>Updated_Year</th>\n",
       "    </tr>\n",
       "  </thead>\n",
       "  <tbody>\n",
       "    <tr>\n",
       "      <th>0</th>\n",
       "      <td>Coloring book moana</td>\n",
       "      <td>ART_AND_DESIGN</td>\n",
       "      <td>967.0</td>\n",
       "      <td>14000000.0</td>\n",
       "      <td>500000</td>\n",
       "      <td>Free</td>\n",
       "      <td>0.0</td>\n",
       "      <td>Everyone</td>\n",
       "      <td>Art &amp; Design</td>\n",
       "      <td>2.0.0</td>\n",
       "      <td>4.0.3 and up</td>\n",
       "      <td>3.9</td>\n",
       "      <td>15</td>\n",
       "      <td>1</td>\n",
       "      <td>2018</td>\n",
       "    </tr>\n",
       "    <tr>\n",
       "      <th>1</th>\n",
       "      <td>U Launcher Lite – FREE Live Cool Themes, Hide ...</td>\n",
       "      <td>ART_AND_DESIGN</td>\n",
       "      <td>87510.0</td>\n",
       "      <td>8700000.0</td>\n",
       "      <td>5000000</td>\n",
       "      <td>Free</td>\n",
       "      <td>0.0</td>\n",
       "      <td>Everyone</td>\n",
       "      <td>Art &amp; Design</td>\n",
       "      <td>1.2.4</td>\n",
       "      <td>4.0.3 and up</td>\n",
       "      <td>4.7</td>\n",
       "      <td>1</td>\n",
       "      <td>8</td>\n",
       "      <td>2018</td>\n",
       "    </tr>\n",
       "    <tr>\n",
       "      <th>2</th>\n",
       "      <td>Pixel Draw - Number Art Coloring Book</td>\n",
       "      <td>ART_AND_DESIGN</td>\n",
       "      <td>967.0</td>\n",
       "      <td>2800000.0</td>\n",
       "      <td>100000</td>\n",
       "      <td>Free</td>\n",
       "      <td>0.0</td>\n",
       "      <td>Everyone</td>\n",
       "      <td>Art &amp; Design</td>\n",
       "      <td>1.1</td>\n",
       "      <td>4.4 and up</td>\n",
       "      <td>4.3</td>\n",
       "      <td>20</td>\n",
       "      <td>6</td>\n",
       "      <td>2018</td>\n",
       "    </tr>\n",
       "  </tbody>\n",
       "</table>\n",
       "</div>"
      ]
     },
     "execution_count": 52,
     "metadata": {},
     "output_type": "execute_result"
    }
   ],
   "execution_count": 52
  },
  {
   "cell_type": "code",
   "id": "0cceb532",
   "metadata": {
    "execution": {
     "iopub.execute_input": "2024-12-11T21:35:01.578745Z",
     "iopub.status.busy": "2024-12-11T21:35:01.578045Z",
     "iopub.status.idle": "2024-12-11T21:35:01.738355Z",
     "shell.execute_reply": "2024-12-11T21:35:01.737113Z"
    },
    "papermill": {
     "duration": 0.176793,
     "end_time": "2024-12-11T21:35:01.741516",
     "exception": false,
     "start_time": "2024-12-11T21:35:01.564723",
     "status": "completed"
    },
    "tags": [],
    "ExecuteTime": {
     "end_time": "2025-05-09T13:51:07.411760Z",
     "start_time": "2025-05-09T13:51:07.287641Z"
    }
   },
   "source": [
    "df[\"Type\"].value_counts().plot(kind=\"bar\",color=\"red\")\n",
    "plt.show()"
   ],
   "outputs": [
    {
     "data": {
      "text/plain": [
       "<Figure size 640x480 with 1 Axes>"
      ],
      "image/png": "[encoded data removed]"
     },
     "metadata": {},
     "output_type": "display_data"
    }
   ],
   "execution_count": 53
  },
  {
   "cell_type": "code",
   "id": "2e1537ae",
   "metadata": {
    "execution": {
     "iopub.execute_input": "2024-12-11T21:35:01.767992Z",
     "iopub.status.busy": "2024-12-11T21:35:01.767243Z",
     "iopub.status.idle": "2024-12-11T21:35:01.967269Z",
     "shell.execute_reply": "2024-12-11T21:35:01.966206Z"
    },
    "papermill": {
     "duration": 0.215558,
     "end_time": "2024-12-11T21:35:01.969437",
     "exception": false,
     "start_time": "2024-12-11T21:35:01.753879",
     "status": "completed"
    },
    "tags": [],
    "ExecuteTime": {
     "end_time": "2025-05-09T13:51:08.269986Z",
     "start_time": "2025-05-09T13:51:08.183729Z"
    }
   },
   "source": [
    "sns.boxplot(data=df,x=\"Type\",y=\"Rating\")\n",
    "plt.show()"
   ],
   "outputs": [
    {
     "data": {
      "text/plain": [
       "<Figure size 640x480 with 1 Axes>"
      ],
      "image/png": "[encoded data removed]"
     },
     "metadata": {},
     "output_type": "display_data"
    }
   ],
   "execution_count": 54
  },
  {
   "cell_type": "code",
   "id": "9b506608",
   "metadata": {
    "execution": {
     "iopub.execute_input": "2024-12-11T21:35:01.997418Z",
     "iopub.status.busy": "2024-12-11T21:35:01.996625Z",
     "iopub.status.idle": "2024-12-11T21:35:02.205838Z",
     "shell.execute_reply": "2024-12-11T21:35:02.204676Z"
    },
    "papermill": {
     "duration": 0.22576,
     "end_time": "2024-12-11T21:35:02.208102",
     "exception": false,
     "start_time": "2024-12-11T21:35:01.982342",
     "status": "completed"
    },
    "tags": [],
    "ExecuteTime": {
     "end_time": "2025-05-09T13:51:14.674526Z",
     "start_time": "2025-05-09T13:51:14.594508Z"
    }
   },
   "source": [
    "sns.countplot(data=df,y=\"Content_Rating\")\n",
    "plt.show()"
   ],
   "outputs": [
    {
     "data": {
      "text/plain": [
       "<Figure size 640x480 with 1 Axes>"
      ],
      "image/png": "[encoded data removed]"
     },
     "metadata": {},
     "output_type": "display_data"
    }
   ],
   "execution_count": 55
  },
  {
   "cell_type": "code",
   "id": "854c6f2b",
   "metadata": {
    "execution": {
     "iopub.execute_input": "2024-12-11T21:35:02.235491Z",
     "iopub.status.busy": "2024-12-11T21:35:02.235150Z",
     "iopub.status.idle": "2024-12-11T21:35:02.523097Z",
     "shell.execute_reply": "2024-12-11T21:35:02.522028Z"
    },
    "papermill": {
     "duration": 0.304454,
     "end_time": "2024-12-11T21:35:02.525583",
     "exception": false,
     "start_time": "2024-12-11T21:35:02.221129",
     "status": "completed"
    },
    "tags": [],
    "ExecuteTime": {
     "end_time": "2025-05-09T13:51:16.663171Z",
     "start_time": "2025-05-09T13:51:16.542482Z"
    }
   },
   "source": [
    "sns.boxplot(data=df,x=\"Content_Rating\",y=\"Rating\")\n",
    "plt.title(\"The content rating & rating\", size=20)\n",
    "plt.show()"
   ],
   "outputs": [
    {
     "data": {
      "text/plain": [
       "<Figure size 640x480 with 1 Axes>"
      ],
      "image/png": "[encoded data removed]"
     },
     "metadata": {},
     "output_type": "display_data"
    }
   ],
   "execution_count": 56
  },
  {
   "cell_type": "code",
   "id": "ab2b9889",
   "metadata": {
    "execution": {
     "iopub.execute_input": "2024-12-11T21:35:02.554000Z",
     "iopub.status.busy": "2024-12-11T21:35:02.553584Z",
     "iopub.status.idle": "2024-12-11T21:35:03.006814Z",
     "shell.execute_reply": "2024-12-11T21:35:03.005680Z"
    },
    "papermill": {
     "duration": 0.47011,
     "end_time": "2024-12-11T21:35:03.009091",
     "exception": false,
     "start_time": "2024-12-11T21:35:02.538981",
     "status": "completed"
    },
    "tags": [],
    "ExecuteTime": {
     "end_time": "2025-05-09T13:51:18.818900Z",
     "start_time": "2025-05-09T13:51:18.461535Z"
    }
   },
   "source": [
    "cats=df[\"Category\"].value_counts()\n",
    "sns.barplot(x=cats.values,y=cats.index,data=df)\n",
    "plt.show()"
   ],
   "outputs": [
    {
     "ename": "ValueError",
     "evalue": "Length of ndarray vectors must match length of `data` when both are used, but `data` has length 7187 and the vector passed to `x` has length 33.",
     "output_type": "error",
     "traceback": [
      "\u001B[31m---------------------------------------------------------------------------\u001B[39m",
      "\u001B[31mValueError\u001B[39m                                Traceback (most recent call last)",
      "\u001B[36mCell\u001B[39m\u001B[36m \u001B[39m\u001B[32mIn[57]\u001B[39m\u001B[32m, line 2\u001B[39m\n\u001B[32m      1\u001B[39m cats=df[\u001B[33m\"\u001B[39m\u001B[33mCategory\u001B[39m\u001B[33m\"\u001B[39m].value_counts()\n\u001B[32m----> \u001B[39m\u001B[32m2\u001B[39m \u001B[43msns\u001B[49m\u001B[43m.\u001B[49m\u001B[43mbarplot\u001B[49m\u001B[43m(\u001B[49m\u001B[43mx\u001B[49m\u001B[43m=\u001B[49m\u001B[43mcats\u001B[49m\u001B[43m.\u001B[49m\u001B[43mvalues\u001B[49m\u001B[43m,\u001B[49m\u001B[43my\u001B[49m\u001B[43m=\u001B[49m\u001B[43mcats\u001B[49m\u001B[43m.\u001B[49m\u001B[43mindex\u001B[49m\u001B[43m,\u001B[49m\u001B[43mdata\u001B[49m\u001B[43m=\u001B[49m\u001B[43mdf\u001B[49m\u001B[43m)\u001B[49m\n\u001B[32m      3\u001B[39m plt.show()\n",
      "\u001B[36mFile \u001B[39m\u001B[32m~\\PycharmProjects\\AppRating\\.venv\\Lib\\site-packages\\seaborn\\categorical.py:2341\u001B[39m, in \u001B[36mbarplot\u001B[39m\u001B[34m(data, x, y, hue, order, hue_order, estimator, errorbar, n_boot, seed, units, weights, orient, color, palette, saturation, fill, hue_norm, width, dodge, gap, log_scale, native_scale, formatter, legend, capsize, err_kws, ci, errcolor, errwidth, ax, **kwargs)\u001B[39m\n\u001B[32m   2338\u001B[39m \u001B[38;5;28;01mif\u001B[39;00m estimator \u001B[38;5;129;01mis\u001B[39;00m \u001B[38;5;28mlen\u001B[39m:\n\u001B[32m   2339\u001B[39m     estimator = \u001B[33m\"\u001B[39m\u001B[33msize\u001B[39m\u001B[33m\"\u001B[39m\n\u001B[32m-> \u001B[39m\u001B[32m2341\u001B[39m p = \u001B[43m_CategoricalAggPlotter\u001B[49m\u001B[43m(\u001B[49m\n\u001B[32m   2342\u001B[39m \u001B[43m    \u001B[49m\u001B[43mdata\u001B[49m\u001B[43m=\u001B[49m\u001B[43mdata\u001B[49m\u001B[43m,\u001B[49m\n\u001B[32m   2343\u001B[39m \u001B[43m    \u001B[49m\u001B[43mvariables\u001B[49m\u001B[43m=\u001B[49m\u001B[38;5;28;43mdict\u001B[39;49m\u001B[43m(\u001B[49m\u001B[43mx\u001B[49m\u001B[43m=\u001B[49m\u001B[43mx\u001B[49m\u001B[43m,\u001B[49m\u001B[43m \u001B[49m\u001B[43my\u001B[49m\u001B[43m=\u001B[49m\u001B[43my\u001B[49m\u001B[43m,\u001B[49m\u001B[43m \u001B[49m\u001B[43mhue\u001B[49m\u001B[43m=\u001B[49m\u001B[43mhue\u001B[49m\u001B[43m,\u001B[49m\u001B[43m \u001B[49m\u001B[43munits\u001B[49m\u001B[43m=\u001B[49m\u001B[43munits\u001B[49m\u001B[43m,\u001B[49m\u001B[43m \u001B[49m\u001B[43mweight\u001B[49m\u001B[43m=\u001B[49m\u001B[43mweights\u001B[49m\u001B[43m)\u001B[49m\u001B[43m,\u001B[49m\n\u001B[32m   2344\u001B[39m \u001B[43m    \u001B[49m\u001B[43morder\u001B[49m\u001B[43m=\u001B[49m\u001B[43morder\u001B[49m\u001B[43m,\u001B[49m\n\u001B[32m   2345\u001B[39m \u001B[43m    \u001B[49m\u001B[43morient\u001B[49m\u001B[43m=\u001B[49m\u001B[43morient\u001B[49m\u001B[43m,\u001B[49m\n\u001B[32m   2346\u001B[39m \u001B[43m    \u001B[49m\u001B[43mcolor\u001B[49m\u001B[43m=\u001B[49m\u001B[43mcolor\u001B[49m\u001B[43m,\u001B[49m\n\u001B[32m   2347\u001B[39m \u001B[43m    \u001B[49m\u001B[43mlegend\u001B[49m\u001B[43m=\u001B[49m\u001B[43mlegend\u001B[49m\u001B[43m,\u001B[49m\n\u001B[32m   2348\u001B[39m \u001B[43m\u001B[49m\u001B[43m)\u001B[49m\n\u001B[32m   2350\u001B[39m \u001B[38;5;28;01mif\u001B[39;00m ax \u001B[38;5;129;01mis\u001B[39;00m \u001B[38;5;28;01mNone\u001B[39;00m:\n\u001B[32m   2351\u001B[39m     ax = plt.gca()\n",
      "\u001B[36mFile \u001B[39m\u001B[32m~\\PycharmProjects\\AppRating\\.venv\\Lib\\site-packages\\seaborn\\categorical.py:67\u001B[39m, in \u001B[36m_CategoricalPlotter.__init__\u001B[39m\u001B[34m(self, data, variables, order, orient, require_numeric, color, legend)\u001B[39m\n\u001B[32m     56\u001B[39m \u001B[38;5;28;01mdef\u001B[39;00m\u001B[38;5;250m \u001B[39m\u001B[34m__init__\u001B[39m(\n\u001B[32m     57\u001B[39m     \u001B[38;5;28mself\u001B[39m,\n\u001B[32m     58\u001B[39m     data=\u001B[38;5;28;01mNone\u001B[39;00m,\n\u001B[32m   (...)\u001B[39m\u001B[32m     64\u001B[39m     legend=\u001B[33m\"\u001B[39m\u001B[33mauto\u001B[39m\u001B[33m\"\u001B[39m,\n\u001B[32m     65\u001B[39m ):\n\u001B[32m---> \u001B[39m\u001B[32m67\u001B[39m     \u001B[38;5;28;43msuper\u001B[39;49m\u001B[43m(\u001B[49m\u001B[43m)\u001B[49m\u001B[43m.\u001B[49m\u001B[34;43m__init__\u001B[39;49m\u001B[43m(\u001B[49m\u001B[43mdata\u001B[49m\u001B[43m=\u001B[49m\u001B[43mdata\u001B[49m\u001B[43m,\u001B[49m\u001B[43m \u001B[49m\u001B[43mvariables\u001B[49m\u001B[43m=\u001B[49m\u001B[43mvariables\u001B[49m\u001B[43m)\u001B[49m\n\u001B[32m     69\u001B[39m     \u001B[38;5;66;03m# This method takes care of some bookkeeping that is necessary because the\u001B[39;00m\n\u001B[32m     70\u001B[39m     \u001B[38;5;66;03m# original categorical plots (prior to the 2021 refactor) had some rules that\u001B[39;00m\n\u001B[32m     71\u001B[39m     \u001B[38;5;66;03m# don't fit exactly into VectorPlotter logic. It may be wise to have a second\u001B[39;00m\n\u001B[32m   (...)\u001B[39m\u001B[32m     76\u001B[39m     \u001B[38;5;66;03m# default VectorPlotter rules. If we do decide to make orient part of the\u001B[39;00m\n\u001B[32m     77\u001B[39m     \u001B[38;5;66;03m# _base variable assignment, we'll want to figure out how to express that.\u001B[39;00m\n\u001B[32m     78\u001B[39m     \u001B[38;5;28;01mif\u001B[39;00m \u001B[38;5;28mself\u001B[39m.input_format == \u001B[33m\"\u001B[39m\u001B[33mwide\u001B[39m\u001B[33m\"\u001B[39m \u001B[38;5;129;01mand\u001B[39;00m orient \u001B[38;5;129;01min\u001B[39;00m [\u001B[33m\"\u001B[39m\u001B[33mh\u001B[39m\u001B[33m\"\u001B[39m, \u001B[33m\"\u001B[39m\u001B[33my\u001B[39m\u001B[33m\"\u001B[39m]:\n",
      "\u001B[36mFile \u001B[39m\u001B[32m~\\PycharmProjects\\AppRating\\.venv\\Lib\\site-packages\\seaborn\\_base.py:634\u001B[39m, in \u001B[36mVectorPlotter.__init__\u001B[39m\u001B[34m(self, data, variables)\u001B[39m\n\u001B[32m    629\u001B[39m \u001B[38;5;66;03m# var_ordered is relevant only for categorical axis variables, and may\u001B[39;00m\n\u001B[32m    630\u001B[39m \u001B[38;5;66;03m# be better handled by an internal axis information object that tracks\u001B[39;00m\n\u001B[32m    631\u001B[39m \u001B[38;5;66;03m# such information and is set up by the scale_* methods. The analogous\u001B[39;00m\n\u001B[32m    632\u001B[39m \u001B[38;5;66;03m# information for numeric axes would be information about log scales.\u001B[39;00m\n\u001B[32m    633\u001B[39m \u001B[38;5;28mself\u001B[39m._var_ordered = {\u001B[33m\"\u001B[39m\u001B[33mx\u001B[39m\u001B[33m\"\u001B[39m: \u001B[38;5;28;01mFalse\u001B[39;00m, \u001B[33m\"\u001B[39m\u001B[33my\u001B[39m\u001B[33m\"\u001B[39m: \u001B[38;5;28;01mFalse\u001B[39;00m}  \u001B[38;5;66;03m# alt., used DefaultDict\u001B[39;00m\n\u001B[32m--> \u001B[39m\u001B[32m634\u001B[39m \u001B[38;5;28;43mself\u001B[39;49m\u001B[43m.\u001B[49m\u001B[43massign_variables\u001B[49m\u001B[43m(\u001B[49m\u001B[43mdata\u001B[49m\u001B[43m,\u001B[49m\u001B[43m \u001B[49m\u001B[43mvariables\u001B[49m\u001B[43m)\u001B[49m\n\u001B[32m    636\u001B[39m \u001B[38;5;66;03m# TODO Lots of tests assume that these are called to initialize the\u001B[39;00m\n\u001B[32m    637\u001B[39m \u001B[38;5;66;03m# mappings to default values on class initialization. I'd prefer to\u001B[39;00m\n\u001B[32m    638\u001B[39m \u001B[38;5;66;03m# move away from that and only have a mapping when explicitly called.\u001B[39;00m\n\u001B[32m    639\u001B[39m \u001B[38;5;28;01mfor\u001B[39;00m var \u001B[38;5;129;01min\u001B[39;00m [\u001B[33m\"\u001B[39m\u001B[33mhue\u001B[39m\u001B[33m\"\u001B[39m, \u001B[33m\"\u001B[39m\u001B[33msize\u001B[39m\u001B[33m\"\u001B[39m, \u001B[33m\"\u001B[39m\u001B[33mstyle\u001B[39m\u001B[33m\"\u001B[39m]:\n",
      "\u001B[36mFile \u001B[39m\u001B[32m~\\PycharmProjects\\AppRating\\.venv\\Lib\\site-packages\\seaborn\\_base.py:679\u001B[39m, in \u001B[36mVectorPlotter.assign_variables\u001B[39m\u001B[34m(self, data, variables)\u001B[39m\n\u001B[32m    674\u001B[39m \u001B[38;5;28;01melse\u001B[39;00m:\n\u001B[32m    675\u001B[39m     \u001B[38;5;66;03m# When dealing with long-form input, use the newer PlotData\u001B[39;00m\n\u001B[32m    676\u001B[39m     \u001B[38;5;66;03m# object (internal but introduced for the objects interface)\u001B[39;00m\n\u001B[32m    677\u001B[39m     \u001B[38;5;66;03m# to centralize / standardize data consumption logic.\u001B[39;00m\n\u001B[32m    678\u001B[39m     \u001B[38;5;28mself\u001B[39m.input_format = \u001B[33m\"\u001B[39m\u001B[33mlong\u001B[39m\u001B[33m\"\u001B[39m\n\u001B[32m--> \u001B[39m\u001B[32m679\u001B[39m     plot_data = \u001B[43mPlotData\u001B[49m\u001B[43m(\u001B[49m\u001B[43mdata\u001B[49m\u001B[43m,\u001B[49m\u001B[43m \u001B[49m\u001B[43mvariables\u001B[49m\u001B[43m)\u001B[49m\n\u001B[32m    680\u001B[39m     frame = plot_data.frame\n\u001B[32m    681\u001B[39m     names = plot_data.names\n",
      "\u001B[36mFile \u001B[39m\u001B[32m~\\PycharmProjects\\AppRating\\.venv\\Lib\\site-packages\\seaborn\\_core\\data.py:58\u001B[39m, in \u001B[36mPlotData.__init__\u001B[39m\u001B[34m(self, data, variables)\u001B[39m\n\u001B[32m     51\u001B[39m \u001B[38;5;28;01mdef\u001B[39;00m\u001B[38;5;250m \u001B[39m\u001B[34m__init__\u001B[39m(\n\u001B[32m     52\u001B[39m     \u001B[38;5;28mself\u001B[39m,\n\u001B[32m     53\u001B[39m     data: DataSource,\n\u001B[32m     54\u001B[39m     variables: \u001B[38;5;28mdict\u001B[39m[\u001B[38;5;28mstr\u001B[39m, VariableSpec],\n\u001B[32m     55\u001B[39m ):\n\u001B[32m     57\u001B[39m     data = handle_data_source(data)\n\u001B[32m---> \u001B[39m\u001B[32m58\u001B[39m     frame, names, ids = \u001B[38;5;28;43mself\u001B[39;49m\u001B[43m.\u001B[49m\u001B[43m_assign_variables\u001B[49m\u001B[43m(\u001B[49m\u001B[43mdata\u001B[49m\u001B[43m,\u001B[49m\u001B[43m \u001B[49m\u001B[43mvariables\u001B[49m\u001B[43m)\u001B[49m\n\u001B[32m     60\u001B[39m     \u001B[38;5;28mself\u001B[39m.frame = frame\n\u001B[32m     61\u001B[39m     \u001B[38;5;28mself\u001B[39m.names = names\n",
      "\u001B[36mFile \u001B[39m\u001B[32m~\\PycharmProjects\\AppRating\\.venv\\Lib\\site-packages\\seaborn\\_core\\data.py:251\u001B[39m, in \u001B[36mPlotData._assign_variables\u001B[39m\u001B[34m(self, data, variables)\u001B[39m\n\u001B[32m    245\u001B[39m         val_cls = val.\u001B[34m__class__\u001B[39m.\u001B[34m__name__\u001B[39m\n\u001B[32m    246\u001B[39m         err = (\n\u001B[32m    247\u001B[39m             \u001B[33mf\u001B[39m\u001B[33m\"\u001B[39m\u001B[33mLength of \u001B[39m\u001B[38;5;132;01m{\u001B[39;00mval_cls\u001B[38;5;132;01m}\u001B[39;00m\u001B[33m vectors must match length of `data`\u001B[39m\u001B[33m\"\u001B[39m\n\u001B[32m    248\u001B[39m             \u001B[33mf\u001B[39m\u001B[33m\"\u001B[39m\u001B[33m when both are used, but `data` has length \u001B[39m\u001B[38;5;132;01m{\u001B[39;00m\u001B[38;5;28mlen\u001B[39m(data)\u001B[38;5;132;01m}\u001B[39;00m\u001B[33m\"\u001B[39m\n\u001B[32m    249\u001B[39m             \u001B[33mf\u001B[39m\u001B[33m\"\u001B[39m\u001B[33m and the vector passed to `\u001B[39m\u001B[38;5;132;01m{\u001B[39;00mkey\u001B[38;5;132;01m}\u001B[39;00m\u001B[33m` has length \u001B[39m\u001B[38;5;132;01m{\u001B[39;00m\u001B[38;5;28mlen\u001B[39m(val)\u001B[38;5;132;01m}\u001B[39;00m\u001B[33m.\u001B[39m\u001B[33m\"\u001B[39m\n\u001B[32m    250\u001B[39m         )\n\u001B[32m--> \u001B[39m\u001B[32m251\u001B[39m         \u001B[38;5;28;01mraise\u001B[39;00m \u001B[38;5;167;01mValueError\u001B[39;00m(err)\n\u001B[32m    253\u001B[39m plot_data[key] = val\n\u001B[32m    255\u001B[39m \u001B[38;5;66;03m# Try to infer the original name using pandas-like metadata\u001B[39;00m\n",
      "\u001B[31mValueError\u001B[39m: Length of ndarray vectors must match length of `data` when both are used, but `data` has length 7187 and the vector passed to `x` has length 33."
     ]
    }
   ],
   "execution_count": 57
  },
  {
   "cell_type": "code",
   "id": "e23523fe",
   "metadata": {
    "execution": {
     "iopub.execute_input": "2024-12-11T21:35:03.040310Z",
     "iopub.status.busy": "2024-12-11T21:35:03.039926Z",
     "iopub.status.idle": "2024-12-11T21:35:03.435875Z",
     "shell.execute_reply": "2024-12-11T21:35:03.434840Z"
    },
    "papermill": {
     "duration": 0.414056,
     "end_time": "2024-12-11T21:35:03.437773",
     "exception": false,
     "start_time": "2024-12-11T21:35:03.023717",
     "status": "completed"
    },
    "tags": [],
    "ExecuteTime": {
     "end_time": "2025-05-09T13:51:42.896Z",
     "start_time": "2025-05-09T13:51:42.731666Z"
    }
   },
   "source": [
    "sns.scatterplot(data=df,x=\"Price\",y=\"Category\")\n",
    "plt.show()"
   ],
   "outputs": [
    {
     "data": {
      "text/plain": [
       "<Figure size 640x480 with 1 Axes>"
      ],
      "image/png": "[encoded data removed]"
     },
     "metadata": {},
     "output_type": "display_data"
    }
   ],
   "execution_count": 58
  },
  {
   "cell_type": "code",
   "id": "c8636c5e",
   "metadata": {
    "execution": {
     "iopub.execute_input": "2024-12-11T21:35:03.471056Z",
     "iopub.status.busy": "2024-12-11T21:35:03.470532Z",
     "iopub.status.idle": "2024-12-11T21:35:03.864311Z",
     "shell.execute_reply": "2024-12-11T21:35:03.863203Z"
    },
    "papermill": {
     "duration": 0.413254,
     "end_time": "2024-12-11T21:35:03.866591",
     "exception": false,
     "start_time": "2024-12-11T21:35:03.453337",
     "status": "completed"
    },
    "tags": [],
    "ExecuteTime": {
     "end_time": "2025-05-09T13:51:44.585593Z",
     "start_time": "2025-05-09T13:51:44.420796Z"
    }
   },
   "source": [
    "numeric_df = df.select_dtypes(include=[\"number\"])  # Yalnızca sayısal sütunları seç\n",
    "sns.heatmap(numeric_df.corr(), annot=True, linewidths=0.5, fmt=\".2f\")\n",
    "plt.show()"
   ],
   "outputs": [
    {
     "data": {
      "text/plain": [
       "<Figure size 640x480 with 2 Axes>"
      ],
      "image/png": "[encoded data removed]"
     },
     "metadata": {},
     "output_type": "display_data"
    }
   ],
   "execution_count": 59
  },
  {
   "cell_type": "code",
   "id": "2e75eabe",
   "metadata": {
    "execution": {
     "iopub.execute_input": "2024-12-11T21:35:03.902589Z",
     "iopub.status.busy": "2024-12-11T21:35:03.902226Z",
     "iopub.status.idle": "2024-12-11T21:35:04.392401Z",
     "shell.execute_reply": "2024-12-11T21:35:04.391271Z"
    },
    "papermill": {
     "duration": 0.511021,
     "end_time": "2024-12-11T21:35:04.394716",
     "exception": false,
     "start_time": "2024-12-11T21:35:03.883695",
     "status": "completed"
    },
    "tags": [],
    "ExecuteTime": {
     "end_time": "2025-05-09T13:51:46.026056Z",
     "start_time": "2025-05-09T13:51:45.837592Z"
    }
   },
   "source": [
    "sns.histplot(df[\"Rating\"],kde=True)\n",
    "plt.show()"
   ],
   "outputs": [
    {
     "data": {
      "text/plain": [
       "<Figure size 640x480 with 1 Axes>"
      ],
      "image/png": "[encoded data removed]"
     },
     "metadata": {},
     "output_type": "display_data"
    }
   ],
   "execution_count": 60
  },
  {
   "cell_type": "code",
   "id": "ae05e9fc",
   "metadata": {
    "execution": {
     "iopub.execute_input": "2024-12-11T21:35:04.432363Z",
     "iopub.status.busy": "2024-12-11T21:35:04.431456Z",
     "iopub.status.idle": "2024-12-11T21:35:04.439071Z",
     "shell.execute_reply": "2024-12-11T21:35:04.437929Z"
    },
    "papermill": {
     "duration": 0.029147,
     "end_time": "2024-12-11T21:35:04.441522",
     "exception": false,
     "start_time": "2024-12-11T21:35:04.412375",
     "status": "completed"
    },
    "tags": [],
    "ExecuteTime": {
     "end_time": "2025-05-09T13:51:47.107471Z",
     "start_time": "2025-05-09T13:51:47.103032Z"
    }
   },
   "source": [
    "datanum=[col for col in df.columns if df[col].dtype!='O']\n",
    "datanum"
   ],
   "outputs": [
    {
     "data": {
      "text/plain": [
       "['Reviews',\n",
       " 'Size',\n",
       " 'Installs',\n",
       " 'Price',\n",
       " 'Rating',\n",
       " 'Updated_Day',\n",
       " 'Updated_Month',\n",
       " 'Updated_Year']"
      ]
     },
     "execution_count": 61,
     "metadata": {},
     "output_type": "execute_result"
    }
   ],
   "execution_count": 61
  },
  {
   "cell_type": "code",
   "id": "4a77cce1",
   "metadata": {
    "execution": {
     "iopub.execute_input": "2024-12-11T21:35:04.479548Z",
     "iopub.status.busy": "2024-12-11T21:35:04.478585Z",
     "iopub.status.idle": "2024-12-11T21:35:04.493800Z",
     "shell.execute_reply": "2024-12-11T21:35:04.492699Z"
    },
    "papermill": {
     "duration": 0.03667,
     "end_time": "2024-12-11T21:35:04.496092",
     "exception": false,
     "start_time": "2024-12-11T21:35:04.459422",
     "status": "completed"
    },
    "tags": [],
    "ExecuteTime": {
     "end_time": "2025-05-09T13:51:47.872094Z",
     "start_time": "2025-05-09T13:51:47.863998Z"
    }
   },
   "source": [
    "dfnum=df[datanum]\n",
    "dfnum.head(3)"
   ],
   "outputs": [
    {
     "data": {
      "text/plain": [
       "   Reviews        Size  Installs  Price  Rating  Updated_Day  Updated_Month  \\\n",
       "0    967.0  14000000.0    500000    0.0     3.9           15              1   \n",
       "1  87510.0   8700000.0   5000000    0.0     4.7            1              8   \n",
       "2    967.0   2800000.0    100000    0.0     4.3           20              6   \n",
       "\n",
       "   Updated_Year  \n",
       "0          2018  \n",
       "1          2018  \n",
       "2          2018  "
      ],
      "text/html": [
       "<div>\n",
       "<style scoped>\n",
       "    .dataframe tbody tr th:only-of-type {\n",
       "        vertical-align: middle;\n",
       "    }\n",
       "\n",
       "    .dataframe tbody tr th {\n",
       "        vertical-align: top;\n",
       "    }\n",
       "\n",
       "    .dataframe thead th {\n",
       "        text-align: right;\n",
       "    }\n",
       "</style>\n",
       "<table border=\"1\" class=\"dataframe\">\n",
       "  <thead>\n",
       "    <tr style=\"text-align: right;\">\n",
       "      <th></th>\n",
       "      <th>Reviews</th>\n",
       "      <th>Size</th>\n",
       "      <th>Installs</th>\n",
       "      <th>Price</th>\n",
       "      <th>Rating</th>\n",
       "      <th>Updated_Day</th>\n",
       "      <th>Updated_Month</th>\n",
       "      <th>Updated_Year</th>\n",
       "    </tr>\n",
       "  </thead>\n",
       "  <tbody>\n",
       "    <tr>\n",
       "      <th>0</th>\n",
       "      <td>967.0</td>\n",
       "      <td>14000000.0</td>\n",
       "      <td>500000</td>\n",
       "      <td>0.0</td>\n",
       "      <td>3.9</td>\n",
       "      <td>15</td>\n",
       "      <td>1</td>\n",
       "      <td>2018</td>\n",
       "    </tr>\n",
       "    <tr>\n",
       "      <th>1</th>\n",
       "      <td>87510.0</td>\n",
       "      <td>8700000.0</td>\n",
       "      <td>5000000</td>\n",
       "      <td>0.0</td>\n",
       "      <td>4.7</td>\n",
       "      <td>1</td>\n",
       "      <td>8</td>\n",
       "      <td>2018</td>\n",
       "    </tr>\n",
       "    <tr>\n",
       "      <th>2</th>\n",
       "      <td>967.0</td>\n",
       "      <td>2800000.0</td>\n",
       "      <td>100000</td>\n",
       "      <td>0.0</td>\n",
       "      <td>4.3</td>\n",
       "      <td>20</td>\n",
       "      <td>6</td>\n",
       "      <td>2018</td>\n",
       "    </tr>\n",
       "  </tbody>\n",
       "</table>\n",
       "</div>"
      ]
     },
     "execution_count": 62,
     "metadata": {},
     "output_type": "execute_result"
    }
   ],
   "execution_count": 62
  },
  {
   "cell_type": "code",
   "id": "ac070f55",
   "metadata": {
    "execution": {
     "iopub.execute_input": "2024-12-11T21:35:04.534309Z",
     "iopub.status.busy": "2024-12-11T21:35:04.533923Z",
     "iopub.status.idle": "2024-12-11T21:35:04.539974Z",
     "shell.execute_reply": "2024-12-11T21:35:04.538709Z"
    },
    "papermill": {
     "duration": 0.028136,
     "end_time": "2024-12-11T21:35:04.542252",
     "exception": false,
     "start_time": "2024-12-11T21:35:04.514116",
     "status": "completed"
    },
    "tags": [],
    "ExecuteTime": {
     "end_time": "2025-05-09T13:51:54.428370Z",
     "start_time": "2025-05-09T13:51:54.423372Z"
    }
   },
   "source": [
    "def outlier_thresholds(dataframe, variable):\n",
    "    quartile1 = dataframe[variable].quantile(0.10)\n",
    "    quartile3 = dataframe[variable].quantile(0.90)\n",
    "    interquantile_range = quartile3 - quartile1\n",
    "    up_limit = quartile3 + 1.5 * interquantile_range\n",
    "    low_limit = quartile1 - 1.5 * interquantile_range\n",
    "    return low_limit, up_limit"
   ],
   "outputs": [],
   "execution_count": 63
  },
  {
   "cell_type": "code",
   "id": "7d36326e",
   "metadata": {
    "execution": {
     "iopub.execute_input": "2024-12-11T21:35:04.580240Z",
     "iopub.status.busy": "2024-12-11T21:35:04.579855Z",
     "iopub.status.idle": "2024-12-11T21:35:04.585691Z",
     "shell.execute_reply": "2024-12-11T21:35:04.584696Z"
    },
    "papermill": {
     "duration": 0.027546,
     "end_time": "2024-12-11T21:35:04.587951",
     "exception": false,
     "start_time": "2024-12-11T21:35:04.560405",
     "status": "completed"
    },
    "tags": [],
    "ExecuteTime": {
     "end_time": "2025-05-09T13:51:54.436297Z",
     "start_time": "2025-05-09T13:51:54.429482Z"
    }
   },
   "source": [
    "def has_outliers(dataframe, variable):\n",
    "    low_limit, up_limit = outlier_thresholds(dataframe, variable)\n",
    "    if dataframe[(dataframe[variable] < low_limit) | (dataframe[variable] > up_limit)].any(axis=None):\n",
    "        print(variable, \"yes\")\n",
    "    print(variable, \"no\")"
   ],
   "outputs": [],
   "execution_count": 64
  },
  {
   "cell_type": "code",
   "id": "2f2f075a",
   "metadata": {
    "execution": {
     "iopub.execute_input": "2024-12-11T21:35:04.626068Z",
     "iopub.status.busy": "2024-12-11T21:35:04.625680Z",
     "iopub.status.idle": "2024-12-11T21:35:04.656265Z",
     "shell.execute_reply": "2024-12-11T21:35:04.655254Z"
    },
    "papermill": {
     "duration": 0.052768,
     "end_time": "2024-12-11T21:35:04.658551",
     "exception": false,
     "start_time": "2024-12-11T21:35:04.605783",
     "status": "completed"
    },
    "tags": [],
    "ExecuteTime": {
     "end_time": "2025-05-09T13:51:54.482269Z",
     "start_time": "2025-05-09T13:51:54.465046Z"
    }
   },
   "source": [
    "for col in dfnum.columns:\n",
    "    has_outliers(dfnum, col)"
   ],
   "outputs": [
    {
     "name": "stdout",
     "output_type": "stream",
     "text": [
      "Reviews yes\n",
      "Reviews no\n",
      "Size no\n",
      "Installs yes\n",
      "Installs no\n",
      "Price yes\n",
      "Price no\n",
      "Rating yes\n",
      "Rating no\n",
      "Updated_Day no\n",
      "Updated_Month no\n",
      "Updated_Year yes\n",
      "Updated_Year no\n"
     ]
    }
   ],
   "execution_count": 65
  },
  {
   "cell_type": "code",
   "id": "560bb4e3",
   "metadata": {
    "execution": {
     "iopub.execute_input": "2024-12-11T21:35:04.697774Z",
     "iopub.status.busy": "2024-12-11T21:35:04.696424Z",
     "iopub.status.idle": "2024-12-11T21:35:04.702391Z",
     "shell.execute_reply": "2024-12-11T21:35:04.701400Z"
    },
    "papermill": {
     "duration": 0.027771,
     "end_time": "2024-12-11T21:35:04.704499",
     "exception": false,
     "start_time": "2024-12-11T21:35:04.676728",
     "status": "completed"
    },
    "tags": [],
    "ExecuteTime": {
     "end_time": "2025-05-09T13:51:54.487099Z",
     "start_time": "2025-05-09T13:51:54.482269Z"
    }
   },
   "source": [
    "def replace_with_thresholds(df, numeric_columns):\n",
    "    for variable in numeric_columns:\n",
    "        low_limit, up_limit = outlier_thresholds(df, variable)\n",
    "        df.loc[(df[variable] < low_limit), variable] = low_limit\n",
    "        df.loc[(df[variable] > up_limit), variable] = up_limit"
   ],
   "outputs": [],
   "execution_count": 66
  },
  {
   "cell_type": "code",
   "id": "1c83448f",
   "metadata": {
    "execution": {
     "iopub.execute_input": "2024-12-11T21:35:04.743268Z",
     "iopub.status.busy": "2024-12-11T21:35:04.742899Z",
     "iopub.status.idle": "2024-12-11T21:35:04.768705Z",
     "shell.execute_reply": "2024-12-11T21:35:04.767593Z"
    },
    "papermill": {
     "duration": 0.048271,
     "end_time": "2024-12-11T21:35:04.771187",
     "exception": false,
     "start_time": "2024-12-11T21:35:04.722916",
     "status": "completed"
    },
    "tags": [],
    "ExecuteTime": {
     "end_time": "2025-05-09T13:51:56.359709Z",
     "start_time": "2025-05-09T13:51:56.346374Z"
    }
   },
   "source": [
    "replace_with_thresholds(dfnum, dfnum.columns)"
   ],
   "outputs": [
    {
     "name": "stderr",
     "output_type": "stream",
     "text": [
      "C:\\Users\\yousi\\AppData\\Local\\Temp\\ipykernel_30824\\3429160474.py:4: FutureWarning: Setting an item of incompatible dtype is deprecated and will raise an error in a future version of pandas. Value '-7.5' has dtype incompatible with int32, please explicitly cast to a compatible dtype first.\n",
      "  df.loc[(df[variable] < low_limit), variable] = low_limit\n"
     ]
    }
   ],
   "execution_count": 67
  },
  {
   "cell_type": "code",
   "id": "0248da8b",
   "metadata": {
    "execution": {
     "iopub.execute_input": "2024-12-11T21:35:04.810044Z",
     "iopub.status.busy": "2024-12-11T21:35:04.809271Z",
     "iopub.status.idle": "2024-12-11T21:35:04.835446Z",
     "shell.execute_reply": "2024-12-11T21:35:04.834418Z"
    },
    "papermill": {
     "duration": 0.047355,
     "end_time": "2024-12-11T21:35:04.837572",
     "exception": false,
     "start_time": "2024-12-11T21:35:04.790217",
     "status": "completed"
    },
    "tags": [],
    "ExecuteTime": {
     "end_time": "2025-05-09T13:51:59.155603Z",
     "start_time": "2025-05-09T13:51:59.139218Z"
    }
   },
   "source": [
    "for col in dfnum.columns:\n",
    "    has_outliers(dfnum, col)"
   ],
   "outputs": [
    {
     "name": "stdout",
     "output_type": "stream",
     "text": [
      "Reviews no\n",
      "Size no\n",
      "Installs no\n",
      "Price no\n",
      "Rating no\n",
      "Updated_Day no\n",
      "Updated_Month no\n",
      "Updated_Year no\n"
     ]
    }
   ],
   "execution_count": 68
  },
  {
   "cell_type": "code",
   "id": "b2ada887",
   "metadata": {
    "execution": {
     "iopub.execute_input": "2024-12-11T21:35:04.875272Z",
     "iopub.status.busy": "2024-12-11T21:35:04.874881Z",
     "iopub.status.idle": "2024-12-11T21:35:04.879454Z",
     "shell.execute_reply": "2024-12-11T21:35:04.878331Z"
    },
    "papermill": {
     "duration": 0.025862,
     "end_time": "2024-12-11T21:35:04.881443",
     "exception": false,
     "start_time": "2024-12-11T21:35:04.855581",
     "status": "completed"
    },
    "tags": [],
    "ExecuteTime": {
     "end_time": "2025-05-09T13:54:54.112760Z",
     "start_time": "2025-05-09T13:54:54.108687Z"
    }
   },
   "source": [
    "y=df[\"Rating\"]\n",
    "x=dfnum.drop(columns=['Rating'])"
   ],
   "outputs": [],
   "execution_count": 78
  },
  {
   "cell_type": "code",
   "id": "64a78c41",
   "metadata": {
    "execution": {
     "iopub.execute_input": "2024-12-11T21:35:04.920302Z",
     "iopub.status.busy": "2024-12-11T21:35:04.919918Z",
     "iopub.status.idle": "2024-12-11T21:35:04.929979Z",
     "shell.execute_reply": "2024-12-11T21:35:04.928936Z"
    },
    "papermill": {
     "duration": 0.032607,
     "end_time": "2024-12-11T21:35:04.932296",
     "exception": false,
     "start_time": "2024-12-11T21:35:04.899689",
     "status": "completed"
    },
    "tags": [],
    "ExecuteTime": {
     "end_time": "2025-05-09T13:54:55.870513Z",
     "start_time": "2025-05-09T13:54:55.865642Z"
    }
   },
   "source": [
    "from sklearn.model_selection import train_test_split\n",
    "\n",
    "x_train,x_test,y_train,y_test=train_test_split(x,y,train_size=0.81,random_state=81)"
   ],
   "outputs": [],
   "execution_count": 79
  },
  {
   "cell_type": "code",
   "id": "713b7966",
   "metadata": {
    "execution": {
     "iopub.execute_input": "2024-12-11T21:35:04.971816Z",
     "iopub.status.busy": "2024-12-11T21:35:04.971361Z",
     "iopub.status.idle": "2024-12-11T21:35:05.917595Z",
     "shell.execute_reply": "2024-12-11T21:35:05.916488Z"
    },
    "papermill": {
     "duration": 0.968872,
     "end_time": "2024-12-11T21:35:05.919899",
     "exception": false,
     "start_time": "2024-12-11T21:35:04.951027",
     "status": "completed"
    },
    "tags": [],
    "ExecuteTime": {
     "end_time": "2025-05-09T13:54:57.759145Z",
     "start_time": "2025-05-09T13:54:56.303373Z"
    }
   },
   "source": [
    "from sklearn.ensemble import RandomForestRegressor\n",
    "\n",
    "rf=RandomForestRegressor()\n",
    "model=rf.fit(x_train,y_train)\n",
    "model.score(x_test,y_test)"
   ],
   "outputs": [
    {
     "data": {
      "text/plain": [
       "0.07671472296388038"
      ]
     },
     "execution_count": 80,
     "metadata": {},
     "output_type": "execute_result"
    }
   ],
   "execution_count": 80
  },
  {
   "cell_type": "code",
   "id": "060e48b9",
   "metadata": {
    "papermill": {
     "duration": 0.018215,
     "end_time": "2024-12-11T21:35:05.956498",
     "exception": false,
     "start_time": "2024-12-11T21:35:05.938283",
     "status": "completed"
    },
    "tags": [],
    "ExecuteTime": {
     "end_time": "2025-05-09T13:54:01.637080Z",
     "start_time": "2025-05-09T13:54:01.625604Z"
    }
   },
   "source": [
    "actual_test_csv = pd.read_csv(\"../extracted_test_rows_with_Y.csv\")\n",
    "actual_test_csv = rename_columns(actual_test_csv)\n",
    "X_test_set = actual_test_csv.drop(columns=['Rating'])\n",
    "y_test_set = actual_test_csv['Rating']"
   ],
   "outputs": [],
   "execution_count": 76
  },
  {
   "metadata": {
    "ExecuteTime": {
     "end_time": "2025-05-09T13:54:02.608236Z",
     "start_time": "2025-05-09T13:54:02.544150Z"
    }
   },
   "cell_type": "code",
   "source": [
    "from sklearn.metrics import mean_absolute_error, r2_score, mean_squared_error\n",
    "\n",
    "# Predict on test set\n",
    "y_pred = model.predict(X_test_set)\n",
    "\n",
    "mse = mean_squared_error(y_test_set, y_pred)\n",
    "mae = mean_absolute_error(y_test_set, y_pred)\n",
    "r2 = r2_score(y_test_set, y_pred)\n",
    "\n",
    "# Output\n",
    "print(f\"Test MSE: {mse:.4f}\")\n",
    "print(f\"Test MAE: {mae:.4f}\")\n",
    "print(f\"Test R²: {r2:.4f}\")\n",
    "# print(f\"Test RMSE: {rmse(y_test_set, y_pred):.4f}\")\n",
    "#"
   ],
   "id": "61bd964356b65db2",
   "outputs": [
    {
     "ename": "ValueError",
     "evalue": "The feature names should match those that were passed during fit.\nFeature names unseen at fit time:\n- Android_Ver\n- App\n- Category\n- Content_Rating\n- Current_Ver\n- ...\nFeature names seen at fit time, yet now missing:\n- Rating\n- Updated_Day\n- Updated_Month\n- Updated_Year\n",
     "output_type": "error",
     "traceback": [
      "\u001B[31m---------------------------------------------------------------------------\u001B[39m",
      "\u001B[31mValueError\u001B[39m                                Traceback (most recent call last)",
      "\u001B[36mCell\u001B[39m\u001B[36m \u001B[39m\u001B[32mIn[77]\u001B[39m\u001B[32m, line 4\u001B[39m\n\u001B[32m      1\u001B[39m \u001B[38;5;28;01mfrom\u001B[39;00m\u001B[38;5;250m \u001B[39m\u001B[34;01msklearn\u001B[39;00m\u001B[34;01m.\u001B[39;00m\u001B[34;01mmetrics\u001B[39;00m\u001B[38;5;250m \u001B[39m\u001B[38;5;28;01mimport\u001B[39;00m mean_absolute_error, r2_score, mean_squared_error\n\u001B[32m      3\u001B[39m \u001B[38;5;66;03m# Predict on test set\u001B[39;00m\n\u001B[32m----> \u001B[39m\u001B[32m4\u001B[39m y_pred = \u001B[43mmodel\u001B[49m\u001B[43m.\u001B[49m\u001B[43mpredict\u001B[49m\u001B[43m(\u001B[49m\u001B[43mX_test_set\u001B[49m\u001B[43m)\u001B[49m\n\u001B[32m      6\u001B[39m mse = mean_squared_error(y_test_set, y_pred)\n\u001B[32m      7\u001B[39m mae = mean_absolute_error(y_test_set, y_pred)\n",
      "\u001B[36mFile \u001B[39m\u001B[32m~\\PycharmProjects\\AppRating\\.venv\\Lib\\site-packages\\sklearn\\ensemble\\_forest.py:1066\u001B[39m, in \u001B[36mForestRegressor.predict\u001B[39m\u001B[34m(self, X)\u001B[39m\n\u001B[32m   1064\u001B[39m check_is_fitted(\u001B[38;5;28mself\u001B[39m)\n\u001B[32m   1065\u001B[39m \u001B[38;5;66;03m# Check data\u001B[39;00m\n\u001B[32m-> \u001B[39m\u001B[32m1066\u001B[39m X = \u001B[38;5;28;43mself\u001B[39;49m\u001B[43m.\u001B[49m\u001B[43m_validate_X_predict\u001B[49m\u001B[43m(\u001B[49m\u001B[43mX\u001B[49m\u001B[43m)\u001B[49m\n\u001B[32m   1068\u001B[39m \u001B[38;5;66;03m# Assign chunk of trees to jobs\u001B[39;00m\n\u001B[32m   1069\u001B[39m n_jobs, _, _ = _partition_estimators(\u001B[38;5;28mself\u001B[39m.n_estimators, \u001B[38;5;28mself\u001B[39m.n_jobs)\n",
      "\u001B[36mFile \u001B[39m\u001B[32m~\\PycharmProjects\\AppRating\\.venv\\Lib\\site-packages\\sklearn\\ensemble\\_forest.py:638\u001B[39m, in \u001B[36mBaseForest._validate_X_predict\u001B[39m\u001B[34m(self, X)\u001B[39m\n\u001B[32m    635\u001B[39m \u001B[38;5;28;01melse\u001B[39;00m:\n\u001B[32m    636\u001B[39m     ensure_all_finite = \u001B[38;5;28;01mTrue\u001B[39;00m\n\u001B[32m--> \u001B[39m\u001B[32m638\u001B[39m X = \u001B[43mvalidate_data\u001B[49m\u001B[43m(\u001B[49m\n\u001B[32m    639\u001B[39m \u001B[43m    \u001B[49m\u001B[38;5;28;43mself\u001B[39;49m\u001B[43m,\u001B[49m\n\u001B[32m    640\u001B[39m \u001B[43m    \u001B[49m\u001B[43mX\u001B[49m\u001B[43m,\u001B[49m\n\u001B[32m    641\u001B[39m \u001B[43m    \u001B[49m\u001B[43mdtype\u001B[49m\u001B[43m=\u001B[49m\u001B[43mDTYPE\u001B[49m\u001B[43m,\u001B[49m\n\u001B[32m    642\u001B[39m \u001B[43m    \u001B[49m\u001B[43maccept_sparse\u001B[49m\u001B[43m=\u001B[49m\u001B[33;43m\"\u001B[39;49m\u001B[33;43mcsr\u001B[39;49m\u001B[33;43m\"\u001B[39;49m\u001B[43m,\u001B[49m\n\u001B[32m    643\u001B[39m \u001B[43m    \u001B[49m\u001B[43mreset\u001B[49m\u001B[43m=\u001B[49m\u001B[38;5;28;43;01mFalse\u001B[39;49;00m\u001B[43m,\u001B[49m\n\u001B[32m    644\u001B[39m \u001B[43m    \u001B[49m\u001B[43mensure_all_finite\u001B[49m\u001B[43m=\u001B[49m\u001B[43mensure_all_finite\u001B[49m\u001B[43m,\u001B[49m\n\u001B[32m    645\u001B[39m \u001B[43m\u001B[49m\u001B[43m)\u001B[49m\n\u001B[32m    646\u001B[39m \u001B[38;5;28;01mif\u001B[39;00m issparse(X) \u001B[38;5;129;01mand\u001B[39;00m (X.indices.dtype != np.intc \u001B[38;5;129;01mor\u001B[39;00m X.indptr.dtype != np.intc):\n\u001B[32m    647\u001B[39m     \u001B[38;5;28;01mraise\u001B[39;00m \u001B[38;5;167;01mValueError\u001B[39;00m(\u001B[33m\"\u001B[39m\u001B[33mNo support for np.int64 index based sparse matrices\u001B[39m\u001B[33m\"\u001B[39m)\n",
      "\u001B[36mFile \u001B[39m\u001B[32m~\\PycharmProjects\\AppRating\\.venv\\Lib\\site-packages\\sklearn\\utils\\validation.py:2919\u001B[39m, in \u001B[36mvalidate_data\u001B[39m\u001B[34m(_estimator, X, y, reset, validate_separately, skip_check_array, **check_params)\u001B[39m\n\u001B[32m   2835\u001B[39m \u001B[38;5;28;01mdef\u001B[39;00m\u001B[38;5;250m \u001B[39m\u001B[34mvalidate_data\u001B[39m(\n\u001B[32m   2836\u001B[39m     _estimator,\n\u001B[32m   2837\u001B[39m     /,\n\u001B[32m   (...)\u001B[39m\u001B[32m   2843\u001B[39m     **check_params,\n\u001B[32m   2844\u001B[39m ):\n\u001B[32m   2845\u001B[39m \u001B[38;5;250m    \u001B[39m\u001B[33;03m\"\"\"Validate input data and set or check feature names and counts of the input.\u001B[39;00m\n\u001B[32m   2846\u001B[39m \n\u001B[32m   2847\u001B[39m \u001B[33;03m    This helper function should be used in an estimator that requires input\u001B[39;00m\n\u001B[32m   (...)\u001B[39m\u001B[32m   2917\u001B[39m \u001B[33;03m        validated.\u001B[39;00m\n\u001B[32m   2918\u001B[39m \u001B[33;03m    \"\"\"\u001B[39;00m\n\u001B[32m-> \u001B[39m\u001B[32m2919\u001B[39m     \u001B[43m_check_feature_names\u001B[49m\u001B[43m(\u001B[49m\u001B[43m_estimator\u001B[49m\u001B[43m,\u001B[49m\u001B[43m \u001B[49m\u001B[43mX\u001B[49m\u001B[43m,\u001B[49m\u001B[43m \u001B[49m\u001B[43mreset\u001B[49m\u001B[43m=\u001B[49m\u001B[43mreset\u001B[49m\u001B[43m)\u001B[49m\n\u001B[32m   2920\u001B[39m     tags = get_tags(_estimator)\n\u001B[32m   2921\u001B[39m     \u001B[38;5;28;01mif\u001B[39;00m y \u001B[38;5;129;01mis\u001B[39;00m \u001B[38;5;28;01mNone\u001B[39;00m \u001B[38;5;129;01mand\u001B[39;00m tags.target_tags.required:\n",
      "\u001B[36mFile \u001B[39m\u001B[32m~\\PycharmProjects\\AppRating\\.venv\\Lib\\site-packages\\sklearn\\utils\\validation.py:2777\u001B[39m, in \u001B[36m_check_feature_names\u001B[39m\u001B[34m(estimator, X, reset)\u001B[39m\n\u001B[32m   2774\u001B[39m \u001B[38;5;28;01mif\u001B[39;00m \u001B[38;5;129;01mnot\u001B[39;00m missing_names \u001B[38;5;129;01mand\u001B[39;00m \u001B[38;5;129;01mnot\u001B[39;00m unexpected_names:\n\u001B[32m   2775\u001B[39m     message += \u001B[33m\"\u001B[39m\u001B[33mFeature names must be in the same order as they were in fit.\u001B[39m\u001B[38;5;130;01m\\n\u001B[39;00m\u001B[33m\"\u001B[39m\n\u001B[32m-> \u001B[39m\u001B[32m2777\u001B[39m \u001B[38;5;28;01mraise\u001B[39;00m \u001B[38;5;167;01mValueError\u001B[39;00m(message)\n",
      "\u001B[31mValueError\u001B[39m: The feature names should match those that were passed during fit.\nFeature names unseen at fit time:\n- Android_Ver\n- App\n- Category\n- Content_Rating\n- Current_Ver\n- ...\nFeature names seen at fit time, yet now missing:\n- Rating\n- Updated_Day\n- Updated_Month\n- Updated_Year\n"
     ]
    }
   ],
   "execution_count": 77
  },
  {
   "metadata": {},
   "cell_type": "code",
   "outputs": [],
   "execution_count": null,
   "source": "",
   "id": "8c4df0b54fa0b02d"
  }
 ],
 "metadata": {
  "kaggle": {
   "accelerator": "none",
   "dataSources": [
    {
     "datasetId": 49864,
     "sourceId": 274957,
     "sourceType": "datasetVersion"
    }
   ],
   "dockerImageVersionId": 30804,
   "isGpuEnabled": false,
   "isInternetEnabled": true,
   "language": "python",
   "sourceType": "notebook"
  },
  "kernelspec": {
   "display_name": "Python 3",
   "language": "python",
   "name": "python3"
  },
  "language_info": {
   "codemirror_mode": {
    "name": "ipython",
    "version": 3
   },
   "file_extension": ".py",
   "mimetype": "text/x-python",
   "name": "python",
   "nbconvert_exporter": "python",
   "pygments_lexer": "ipython3",
   "version": "3.10.14"
  },
  "papermill": {
   "default_parameters": {},
   "duration": 13.471159,
   "end_time": "2024-12-11T21:35:06.697749",
   "environment_variables": {},
   "exception": null,
   "input_path": "__notebook__.ipynb",
   "output_path": "__notebook__.ipynb",
   "parameters": {},
   "start_time": "2024-12-11T21:34:53.226590",
   "version": "2.6.0"
  }
 },
 "nbformat": 4,
 "nbformat_minor": 5
}
